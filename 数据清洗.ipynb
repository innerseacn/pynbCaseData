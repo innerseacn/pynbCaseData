{
 "cells": [
  {
   "cell_type": "markdown",
   "id": "9bb29211-2b71-4cf9-bccd-71d98c7742d1",
   "metadata": {
    "extensions": {
     "jupyter_dashboards": {
      "activeView": "grid_default",
      "views": {
       "grid_default": {
        "col": null,
        "height": 2,
        "hidden": true,
        "row": null,
        "width": 2
       }
      }
     }
    }
   },
   "source": [
    "# 加载库函数及导入文件"
   ]
  },
  {
   "cell_type": "code",
   "execution_count": 18,
   "id": "5cb9a494-4ef8-4cbc-949d-d68bf0e617c6",
   "metadata": {},
   "outputs": [
    {
     "name": "stdout",
     "output_type": "stream",
     "text": [
      "The autoreload extension is already loaded. To reload it, use:\n",
      "  %reload_ext autoreload\n"
     ]
    },
    {
     "data": {
      "text/plain": [
       "PosixPath('D:\\\\gitcodes\\\\testdata\\\\银行分析结果test')"
      ]
     },
     "execution_count": 18,
     "metadata": {},
     "output_type": "execute_result"
    }
   ],
   "source": [
    "%load_ext autoreload\n",
    "%autoreload 2\n",
    "import warnings\n",
    "import pathlib\n",
    "from corelibs.config import *\n",
    "warnings.filterwarnings('ignore', message=\"Workbook contains no default style, apply openpyxl's default\", category=UserWarning)\n",
    "conf_data = load_conf()\n",
    "OUTPUT_DIR_PATH = pathlib.Path(r\"J:\\银行分析结果\")\n",
    "OUTPUT_DIR_PATH = pathlib.Path(r\"D:\\gitcodes\\testdata\\银行分析结果test\")\n",
    "OUTPUT_DIR_PATH"
   ]
  },
  {
   "cell_type": "code",
   "execution_count": null,
   "id": "7a6cdfd9-9732-46b5-b012-57a5aba1f0cc",
   "metadata": {},
   "outputs": [],
   "source": [
    "conf_data"
   ]
  },
  {
   "cell_type": "markdown",
   "id": "47285952-2261-43d5-b3c1-3e8e32808517",
   "metadata": {
    "extensions": {
     "jupyter_dashboards": {
      "activeView": "grid_default",
      "views": {
       "grid_default": {
        "col": null,
        "height": 2,
        "hidden": true,
        "row": null,
        "width": 2
       }
      }
     }
    }
   },
   "source": [
    "# 测试"
   ]
  },
  {
   "cell_type": "markdown",
   "id": "227befc1-bd9e-4c60-9e0d-8de882c00379",
   "metadata": {
    "extensions": {
     "jupyter_dashboards": {
      "activeView": "grid_default",
      "views": {
       "grid_default": {
        "col": null,
        "height": 2,
        "hidden": true,
        "row": null,
        "width": 2
       }
      }
     }
    }
   },
   "source": [
    "## 提取excel表头和md5值"
   ]
  },
  {
   "cell_type": "code",
   "execution_count": 5,
   "id": "f7943cff-43d2-40ff-ad14-1449a1ebde2e",
   "metadata": {
    "extensions": {
     "jupyter_dashboards": {
      "activeView": "grid_default",
      "views": {
       "grid_default": {
        "col": null,
        "height": 2,
        "hidden": true,
        "row": null,
        "width": 2
       }
      }
     }
    },
    "tags": []
   },
   "outputs": [
    {
     "name": "stdout",
     "output_type": "stream",
     "text": [
      "['账号', '币种', '卡号', '交易时间戳', '工作日期', '借贷标志', '发生额', '余额', '注释', '对方帐户', '对方客户编号', '交易地区号', '交易地区号(原始)', '交易网点号', '交易网点号(原始)', '帐户物理网点号', '柜员号', '授权柜员号', '交易代码', '服务界面', '交易日期', '记帐时间', '零售存取款摘要', '钞汇标志', '终端号', '交易场所简称', '对方户名', '对方开户行名\\t']\n"
     ]
    },
    {
     "data": {
      "text/plain": [
       "'0b02a413bd3c59d74a82e3fd3909c759'"
      ]
     },
     "execution_count": 5,
     "metadata": {},
     "output_type": "execute_result"
    }
   ],
   "source": [
    "from hashlib import md5\n",
    "acc_file = pathlib.Path(r\"J:\\杨孟军\\银行\\工商银行\\1\\陶瑞兰120221196603113061\\1.xls\")\n",
    "acc_file = pathlib.Path(r\"J:\\杨孟军\\银行\\工商银行\\1\\陶瑞兰120221196603113061\\2.xls\")\n",
    "print(a := read_header(acc_file, header=0))\n",
    "md5(a.encode()).hexdigest()"
   ]
  },
  {
   "cell_type": "markdown",
   "id": "e80b0e3f-d4da-484c-9a45-a88320f80c56",
   "metadata": {
    "extensions": {
     "jupyter_dashboards": {
      "activeView": "grid_default",
      "views": {
       "grid_default": {
        "col": null,
        "height": 2,
        "hidden": true,
        "row": null,
        "width": 2
       }
      }
     }
    }
   },
   "source": [
    "## 测试yaml配置文件语法，及内部操作指令对象转换"
   ]
  },
  {
   "cell_type": "code",
   "execution_count": 33,
   "id": "021523f0-2304-454b-b40a-500312aec5a3",
   "metadata": {
    "extensions": {
     "jupyter_dashboards": {
      "activeView": "grid_default",
      "views": {
       "grid_default": {
        "col": null,
        "height": 2,
        "hidden": true,
        "row": null,
        "width": 2
       }
      }
     }
    },
    "tags": []
   },
   "outputs": [
    {
     "name": "stdout",
     "output_type": "stream",
     "text": [
      "excel\n",
      "('6d3d0d1e252f43a000010e19d8b2dd57', ['天津银行', '账户'])\n",
      "('7509cd85808831c7004c8c78e9267d7c', ['天津银行', '流水'])\n",
      "('5ff3970075646f3a7fffdef5430539d7', ['建设银行网点', '账户'])\n",
      "('8fa9c0776b857793f91335192398aeba', ['建设银行网点', '流水'])\n",
      "('5b70f468037b3cfe76bace72751f4e3e', ['工商银行网点', '账户'])\n",
      "('0b02a413bd3c59d74a82e3fd3909c759', ['工商银行网点', '流水'])\n",
      "6\n"
     ]
    }
   ],
   "source": [
    "load_conf()\n",
    "print(get_output_format())\n",
    "print(len([print(x) for x in get_header_hash().items()]))"
   ]
  },
  {
   "cell_type": "code",
   "execution_count": null,
   "id": "21b9ebb6-9730-4446-aae1-d3e9a1c96bab",
   "metadata": {
    "extensions": {
     "jupyter_dashboards": {
      "activeView": "grid_default",
      "views": {
       "grid_default": {
        "col": null,
        "height": 2,
        "hidden": true,
        "row": null,
        "width": 2
       }
      }
     }
    },
    "tags": []
   },
   "outputs": [],
   "source": [
    "print(len([print(x) for x in get_conf_cache().items()]))"
   ]
  },
  {
   "cell_type": "code",
   "execution_count": 11,
   "id": "8f73d156-b696-4628-98ae-e90102d921d5",
   "metadata": {
    "extensions": {
     "jupyter_dashboards": {
      "activeView": "grid_default",
      "views": {
       "grid_default": {
        "col": null,
        "height": 2,
        "hidden": true,
        "row": null,
        "width": 2
       }
      }
     }
    },
    "tags": []
   },
   "outputs": [
    {
     "name": "stdout",
     "output_type": "stream",
     "text": [
      "None\n",
      "{'银行': '工商银行'}\n",
      "{'账号': True, '余额': True, '借贷标志': True, '发生额': True, '交易日期': True}\n",
      "{'服务界面': '备注', '注释': '摘要', '对方帐户': '对方账号', '对方开户行名': '对方开户行'}\n",
      "{'交易机构': ['交易地区号', '交易网点号']}\n",
      "{'日期': ['交易日期', ' %Y-%m-%d']}\n",
      "{'时间': ['记帐时间', ' %H.%M.%S']}\n",
      "{'余额': True, '发生额': True}\n",
      "{'C': '借', 'CD_col': '借贷标志', 'C_col': '出账金额', 'trans_col': '发生额', 'D': '贷', 'D_col': '入账金额'}\n",
      "{}\n",
      "['银行', '日期', '时间', '姓名', '账号', '卡号', '备注', '摘要', '币种', '出账金额', '入账金额', '余额', '交易机构', '对方户名', '对方账号', '对方开户行', '借贷标志', '发生额', '交易日期', '交易时间戳', '交易日期', '工作日期', '记帐时间', '借贷标志', '发生额', '交易地区号', '交易地区号(原始)', '交易网点号', '交易网点号(原始)', '对方客户编号', '帐户物理网点号', '柜员号', '授权柜员号', '交易代码', '零售存取款摘要', '钞汇标志', '终端号', '交易场所简称']\n",
      "{'姓名': ['账号', '姓名', '账号', '姓名']}\n"
     ]
    },
    {
     "data": {
      "text/plain": [
       "[None, None, None, None, None, None, None, None, None, None, None, None]"
      ]
     },
     "execution_count": 11,
     "metadata": {},
     "output_type": "execute_result"
    }
   ],
   "source": [
    "load_conf()\n",
    "conf_obj = get_conf_obj('工商银行网点','流水')\n",
    "[print(x) for x in conf_obj]"
   ]
  },
  {
   "cell_type": "markdown",
   "id": "cc1c51f7-05f4-4f18-a59e-7e75057a0e12",
   "metadata": {
    "extensions": {
     "jupyter_dashboards": {
      "activeView": "grid_default",
      "views": {
       "grid_default": {
        "col": null,
        "height": 2,
        "hidden": true,
        "row": null,
        "width": 2
       }
      }
     }
    }
   },
   "source": [
    "##  测试单个账户文件读取及储存"
   ]
  },
  {
   "cell_type": "code",
   "execution_count": null,
   "id": "8b93da33-e815-4547-93a2-490566f2aa31",
   "metadata": {
    "extensions": {
     "jupyter_dashboards": {
      "activeView": "grid_default",
      "views": {
       "grid_default": {
        "col": null,
        "height": 2,
        "hidden": true,
        "row": null,
        "width": 2
       }
      }
     }
    },
    "scrolled": true,
    "tags": []
   },
   "outputs": [],
   "source": [
    "from corelibs.process import process_account_file_general\n",
    "acc_file = pathlib.Path(r\"D:\\gitcodes\\testdata\\建行(于东林、刘德阳等)【已分析】\\1080860401675667712130255_5_1_watermark.xlsx\")\n",
    "acc_file = pathlib.Path(r\"/mnt/d/gitcodes/testdata/建行(于东林、刘德阳等)【已分析】/1080860401675667712130255_5_1_watermark.xlsx\")\n",
    "df_acc = process_account_file_general(acc_file, OUTPUT_DIR_PATH,'建设银行网点', '账户')\n",
    "df_acc"
   ]
  },
  {
   "cell_type": "code",
   "execution_count": 3,
   "id": "46965849-422f-47e0-9234-8195111a4e4c",
   "metadata": {
    "extensions": {
     "jupyter_dashboards": {
      "activeView": "grid_default",
      "views": {
       "grid_default": {
        "col": null,
        "height": 2,
        "hidden": true,
        "row": null,
        "width": 2
       }
      }
     }
    },
    "tags": []
   },
   "outputs": [],
   "source": [
    "import dtale"
   ]
  },
  {
   "cell_type": "code",
   "execution_count": 4,
   "id": "538eec3c-99bd-4437-8016-7172cf3145e7",
   "metadata": {
    "extensions": {
     "jupyter_dashboards": {
      "activeView": "grid_default",
      "views": {
       "grid_default": {
        "col": null,
        "height": 2,
        "hidden": true,
        "row": null,
        "width": 2
       }
      }
     }
    },
    "tags": []
   },
   "outputs": [
    {
     "data": {
      "text/plain": []
     },
     "execution_count": 4,
     "metadata": {},
     "output_type": "execute_result"
    }
   ],
   "source": [
    "dtale.show(df, open_browser=True)"
   ]
  },
  {
   "cell_type": "markdown",
   "id": "e04e09e8-f459-4ef1-8e78-21129befdfc8",
   "metadata": {
    "extensions": {
     "jupyter_dashboards": {
      "activeView": "grid_default",
      "views": {
       "grid_default": {
        "col": null,
        "height": 2,
        "hidden": true,
        "row": null,
        "width": 2
       }
      }
     }
    }
   },
   "source": [
    "## 测试单个流水文件的读取与储存"
   ]
  },
  {
   "cell_type": "code",
   "execution_count": null,
   "id": "2e69131f-f611-4d93-858c-1cd5cd890949",
   "metadata": {
    "extensions": {
     "jupyter_dashboards": {
      "activeView": "grid_default",
      "views": {
       "grid_default": {
        "col": null,
        "height": 2,
        "hidden": true,
        "row": null,
        "width": 2
       }
      }
     }
    },
    "tags": []
   },
   "outputs": [],
   "source": [
    "from corelibs.process import process_statment_file_general\n",
    "acc_file = pathlib.Path(r\"D:\\gitcodes\\testdata\\建行(于东林、刘德阳等)【已分析】\\1080860401675667712130255_6_1_watermark.xlsx\")\n",
    "acc_file = pathlib.Path(r\"/mnt/d/gitcodes/testdata/建行(于东林、刘德阳等)【已分析】/1080860401675667712130255_6_1_watermark.xlsx\")\n",
    "process_statment_file_general(acc_file, OUTPUT_DIR_PATH,'建设银行网点', '流水','a', df_acc)"
   ]
  },
  {
   "cell_type": "code",
   "execution_count": 15,
   "id": "b78014d0-1161-454a-ac69-917690c8beb4",
   "metadata": {
    "execution": {
     "iopub.execute_input": "2024-02-01T11:02:04.877867Z",
     "iopub.status.busy": "2024-02-01T11:02:04.876867Z",
     "iopub.status.idle": "2024-02-01T11:02:19.852724Z",
     "shell.execute_reply": "2024-02-01T11:02:19.849723Z",
     "shell.execute_reply.started": "2024-02-01T11:02:04.877867Z"
    },
    "extensions": {
     "jupyter_dashboards": {
      "activeView": "grid_default",
      "views": {
       "grid_default": {
        "col": null,
        "height": 2,
        "hidden": true,
        "row": null,
        "width": 2
       }
      }
     }
    },
    "tags": []
   },
   "outputs": [],
   "source": [
    "import dtale"
   ]
  },
  {
   "cell_type": "code",
   "execution_count": 28,
   "id": "46487239-8adb-4a9e-b586-31f941ee8d4b",
   "metadata": {
    "extensions": {
     "jupyter_dashboards": {
      "activeView": "grid_default",
      "views": {
       "grid_default": {
        "col": null,
        "height": 2,
        "hidden": true,
        "row": null,
        "width": 2
       }
      }
     }
    },
    "tags": []
   },
   "outputs": [
    {
     "data": {
      "text/plain": []
     },
     "execution_count": 28,
     "metadata": {},
     "output_type": "execute_result"
    }
   ],
   "source": [
    "dtale.show(df, open_browser=True)"
   ]
  },
  {
   "cell_type": "markdown",
   "id": "fe32dbaf",
   "metadata": {},
   "source": [
    "## 测试识别文件列表中的文件类型"
   ]
  },
  {
   "cell_type": "code",
   "execution_count": null,
   "id": "16a1dc0c",
   "metadata": {
    "scrolled": true
   },
   "outputs": [],
   "source": [
    "from collections import Counter\n",
    "from corelibs.process import classify_files_by_category\n",
    "\n",
    "base_dir = pathlib.Path(r\"D:\\gitcodes\\testdata\\建行(于东林、刘德阳等)【已分析】\")\n",
    "_file_names = list(base_dir.glob('[!~]*.xlsx')) # 找到目录中所有的excel文件（不含子目录）\n",
    "f,e = classify_files_by_category(_file_names)\n",
    "\n",
    "print(f)\n",
    "len([print(k.name + v) for k, v in e.items()])"
   ]
  },
  {
   "cell_type": "code",
   "execution_count": 9,
   "id": "6b3173db",
   "metadata": {},
   "outputs": [
    {
     "data": {
      "text/plain": [
       "[]"
      ]
     },
     "execution_count": 9,
     "metadata": {},
     "output_type": "execute_result"
    }
   ],
   "source": [
    "base_dir = pathlib.Path(r'D:\\gitcodes\\testdata\\建行(于东林、刘德阳等)【已分析】')\n",
    "list(base_dir.glob('[!~]*.xlsx')) \n"
   ]
  },
  {
   "cell_type": "markdown",
   "id": "4cf4ae13",
   "metadata": {},
   "source": [
    "## 测试从账户信息中充实流水数据\n",
    "（文件夹分析，先分析账户，再分析流水）"
   ]
  },
  {
   "cell_type": "code",
   "execution_count": null,
   "id": "e62a82c6",
   "metadata": {},
   "outputs": [],
   "source": [
    "base_dir = pathlib.Path(r'D:\\gitcodes\\testdata\\建行(于东林、刘德阳等)【已分析】')\n"
   ]
  },
  {
   "cell_type": "markdown",
   "id": "51ead8d4-2236-46b4-9bd4-1091354ddaf2",
   "metadata": {},
   "source": [
    "## 测试分析银行目录"
   ]
  },
  {
   "cell_type": "code",
   "execution_count": 30,
   "id": "ef5dded9-ddf5-45b4-b3c3-27ab71948226",
   "metadata": {},
   "outputs": [
    {
     "data": {
      "application/vnd.jupyter.widget-view+json": {
       "model_id": "0fe7100a67b144b58db77ee1eff4c8df",
       "version_major": 2,
       "version_minor": 0
      },
      "text/plain": [
       "识别文件类型:   0%|          | 0/8 [00:00<?, ?it/s]"
      ]
     },
     "metadata": {},
     "output_type": "display_data"
    },
    {
     "name": "stdout",
     "output_type": "stream",
     "text": [
      "1080860401675667712130255_1_1_watermark.xlsx => 建设银行网点账户\n",
      "1080860401675667712130255_2_1_watermark.xlsx => 建设银行网点流水\n",
      "1080860401675667712130255_3_1_watermark.xlsx => 建设银行网点账户\n",
      "1080860401675667712130255_4_1_watermark.xlsx => 建设银行网点流水\n",
      "1080860401675667712130255_5_1_watermark.xlsx => 建设银行网点账户\n",
      "1080860401675667712130255_6_1_watermark.xlsx => 建设银行网点流水\n",
      "1080860401675667712130255_7_1_watermark.xlsx => 建设银行网点账户\n",
      "1080860401675667712130255_8_1_watermark.xlsx => 建设银行网点流水\n"
     ]
    },
    {
     "data": {
      "application/vnd.jupyter.widget-view+json": {
       "model_id": "709ae968da164cb38cd161c227babcf6",
       "version_major": 2,
       "version_minor": 0
      },
      "text/plain": [
       "建设银行网点账户:   0%|          | 0/4 [00:00<?, ?it/s]"
      ]
     },
     "metadata": {},
     "output_type": "display_data"
    },
    {
     "name": "stdout",
     "output_type": "stream",
     "text": [
      "1080860401675667712130255_1_1_watermark.xlsx……done\n",
      "1080860401675667712130255_3_1_watermark.xlsx……done\n",
      "1080860401675667712130255_5_1_watermark.xlsx……done\n",
      "1080860401675667712130255_7_1_watermark.xlsx……done\n"
     ]
    },
    {
     "data": {
      "application/vnd.jupyter.widget-view+json": {
       "model_id": "e82258ed10764dfd910b85f8a65bdddb",
       "version_major": 2,
       "version_minor": 0
      },
      "text/plain": [
       "建设银行网点流水:   0%|          | 0/4 [00:00<?, ?it/s]"
      ]
     },
     "metadata": {},
     "output_type": "display_data"
    },
    {
     "name": "stdout",
     "output_type": "stream",
     "text": [
      "1080860401675667712130255_2_1_watermark.xlsx……完成\n",
      "1080860401675667712130255_4_1_watermark.xlsx……完成\n",
      "1080860401675667712130255_6_1_watermark.xlsx……完成\n",
      "1080860401675667712130255_8_1_watermark.xlsx……完成\n",
      "共0个文件出错：\n"
     ]
    },
    {
     "data": {
      "text/plain": [
       "{}"
      ]
     },
     "execution_count": 30,
     "metadata": {},
     "output_type": "execute_result"
    }
   ],
   "source": [
    "from banks.ccb import process_dir_ccb_branch_v2\n",
    "# OUTPUT_DIR_PATH = pathlib.Path(r\"/mnt/d/gitcodes/testdata/银行分析结果test/\")\n",
    "base_dir = pathlib.Path(r\"D:\\gitcodes\\testdata\\建行(于东林、刘德阳等)【已分析】\")\n",
    "base_dir = pathlib.Path(r\"/mnt/d/gitcodes/testdata/建行(于东林、刘德阳等)【已分析】/\")\n",
    "process_dir_ccb_branch_v2(base_dir, OUTPUT_DIR_PATH, 's')"
   ]
  },
  {
   "cell_type": "markdown",
   "id": "f4a6a4e7-1a20-4a80-9188-a175e4e8ff01",
   "metadata": {
    "extensions": {
     "jupyter_dashboards": {
      "activeView": "grid_default",
      "views": {
       "grid_default": {
        "col": null,
        "height": 2,
        "hidden": true,
        "row": null,
        "width": 2
       }
      }
     }
    }
   },
   "source": [
    "# 执行"
   ]
  },
  {
   "cell_type": "markdown",
   "id": "eae19d1b-bb5b-4ad4-b469-2b980ec2f73e",
   "metadata": {
    "extensions": {
     "jupyter_dashboards": {
      "activeView": "grid_default",
      "views": {
       "grid_default": {
        "col": null,
        "height": 2,
        "hidden": true,
        "row": null,
        "width": 2
       }
      }
     }
    }
   },
   "source": [
    "## 分析建设银行网点数据目录\n",
    "（如：开发区金融街建行查询数据）"
   ]
  },
  {
   "cell_type": "code",
   "execution_count": 19,
   "id": "cab897d0-05a2-4e14-a3f4-b9639c5baf18",
   "metadata": {
    "extensions": {
     "jupyter_dashboards": {
      "activeView": "grid_default",
      "views": {
       "grid_default": {
        "col": null,
        "height": 2,
        "hidden": true,
        "row": null,
        "width": 2
       }
      }
     }
    },
    "tags": []
   },
   "outputs": [
    {
     "data": {
      "application/vnd.jupyter.widget-view+json": {
       "model_id": "dde4b66d78f64f2abe412847d582ebc0",
       "version_major": 2,
       "version_minor": 0
      },
      "text/plain": [
       "分析目录文件:   0%|          | 0/8 [00:00<?, ?it/s]"
      ]
     },
     "metadata": {},
     "output_type": "display_data"
    },
    {
     "name": "stdout",
     "output_type": "stream",
     "text": [
      "1080860401675667712130255_1_1_watermark.xlsx……建设银行网点账户完成\n",
      "1080860401675667712130255_2_1_watermark.xlsx……建设银行网点流水完成\n",
      "1080860401675667712130255_3_1_watermark.xlsx……建设银行网点账户完成\n",
      "1080860401675667712130255_4_1_watermark.xlsx……建设银行网点流水完成\n",
      "1080860401675667712130255_5_1_watermark.xlsx……建设银行网点账户完成\n",
      "1080860401675667712130255_6_1_watermark.xlsx……建设银行网点流水完成\n",
      "1080860401675667712130255_7_1_watermark.xlsx……建设银行网点账户完成\n",
      "1080860401675667712130255_8_1_watermark.xlsx……建设银行网点流水完成\n",
      "0个文件出错：\n"
     ]
    }
   ],
   "source": [
    "from banks.ccb import process_dir_ccb_branch_v1\n",
    "# OUTPUT_DIR_PATH = pathlib.Path(r\"/mnt/d/gitcodes/testdata/银行分析结果test1/\")\n",
    "base_dir = pathlib.Path(r\"D:\\gitcodes\\testdata\\建行(于东林、刘德阳等)【已分析】\")\n",
    "base_dir = pathlib.Path(r\"/mnt/d/gitcodes/testdata/建行(于东林、刘德阳等)【已分析】/\")\n",
    "err_files = process_dir_ccb_branch_v2(base_dir, OUTPUT_DIR_PATH, 'a')"
   ]
  },
  {
   "cell_type": "code",
   "execution_count": 17,
   "id": "53b38c28-f565-4856-9aeb-80fcda7166df",
   "metadata": {},
   "outputs": [
    {
     "data": {
      "text/plain": [
       "'D:\\\\gitcodes\\\\testdata\\\\建行(于东林、刘德阳等)【已分析】'"
      ]
     },
     "execution_count": 17,
     "metadata": {},
     "output_type": "execute_result"
    }
   ],
   "source": [
    "base_dir.__str__()"
   ]
  },
  {
   "cell_type": "markdown",
   "id": "e38f6e5b-adc8-499c-95f2-56bf2086b07e",
   "metadata": {
    "extensions": {
     "jupyter_dashboards": {
      "activeView": "grid_default",
      "views": {
       "grid_default": {
        "col": null,
        "height": 2,
        "hidden": true,
        "row": null,
        "width": 2
       }
      }
     }
    }
   },
   "source": [
    "# 杂项"
   ]
  },
  {
   "cell_type": "code",
   "execution_count": 28,
   "id": "e875a81d",
   "metadata": {},
   "outputs": [
    {
     "name": "stdout",
     "output_type": "stream",
     "text": [
      "   a  b   d\n",
      "0  1  1  13\n",
      "1  2  2  14\n",
      "2  1  1  15\n",
      "3  5  5  16\n",
      "   a  b   c\n",
      "0  1  5   9\n",
      "1  2  6  10\n",
      "2  3  7  11\n",
      "3  4  8  12\n"
     ]
    },
    {
     "data": {
      "text/html": [
       "<div>\n",
       "<style scoped>\n",
       "    .dataframe tbody tr th:only-of-type {\n",
       "        vertical-align: middle;\n",
       "    }\n",
       "\n",
       "    .dataframe tbody tr th {\n",
       "        vertical-align: top;\n",
       "    }\n",
       "\n",
       "    .dataframe thead th {\n",
       "        text-align: right;\n",
       "    }\n",
       "</style>\n",
       "<table border=\"1\" class=\"dataframe\">\n",
       "  <thead>\n",
       "    <tr style=\"text-align: right;\">\n",
       "      <th></th>\n",
       "      <th>a</th>\n",
       "      <th>b_x</th>\n",
       "      <th>d</th>\n",
       "      <th>b_y</th>\n",
       "      <th>c</th>\n",
       "    </tr>\n",
       "  </thead>\n",
       "  <tbody>\n",
       "    <tr>\n",
       "      <th>0</th>\n",
       "      <td>1</td>\n",
       "      <td>1</td>\n",
       "      <td>13</td>\n",
       "      <td>5.0</td>\n",
       "      <td>9.0</td>\n",
       "    </tr>\n",
       "    <tr>\n",
       "      <th>1</th>\n",
       "      <td>2</td>\n",
       "      <td>2</td>\n",
       "      <td>14</td>\n",
       "      <td>6.0</td>\n",
       "      <td>10.0</td>\n",
       "    </tr>\n",
       "    <tr>\n",
       "      <th>2</th>\n",
       "      <td>1</td>\n",
       "      <td>1</td>\n",
       "      <td>15</td>\n",
       "      <td>5.0</td>\n",
       "      <td>9.0</td>\n",
       "    </tr>\n",
       "    <tr>\n",
       "      <th>3</th>\n",
       "      <td>5</td>\n",
       "      <td>5</td>\n",
       "      <td>16</td>\n",
       "      <td>NaN</td>\n",
       "      <td>16.0</td>\n",
       "    </tr>\n",
       "  </tbody>\n",
       "</table>\n",
       "</div>"
      ],
      "text/plain": [
       "   a  b_x   d  b_y     c\n",
       "0  1    1  13  5.0   9.0\n",
       "1  2    2  14  6.0  10.0\n",
       "2  1    1  15  5.0   9.0\n",
       "3  5    5  16  NaN  16.0"
      ]
     },
     "execution_count": 28,
     "metadata": {},
     "output_type": "execute_result"
    }
   ],
   "source": [
    "import pandas as pd\n",
    "df2 = pd.DataFrame({'a':[1,2,3,4],'b':[5,6,7,8],'c':[9,10,11,12]})\n",
    "df1 = pd.DataFrame({'a':[1,2,1,5],'b':[1,2,1,5],'d':[13,14,15,16]})\n",
    "print(df1)\n",
    "print(df2)\n",
    "a = pd.merge(df1,df2,left_on='a',right_on='a', how='left', validate='m:1', copy=False)\n",
    "a['c'].where(a['c'].notnull(), a['d'], inplace=True)\n",
    "a"
   ]
  }
 ],
 "metadata": {
  "extensions": {
   "jupyter_dashboards": {
    "activeView": "grid_default",
    "version": 1,
    "views": {
     "grid_default": {
      "cellMargin": 2,
      "defaultCellHeight": 60,
      "maxColumns": 12,
      "name": "grid",
      "type": "grid"
     }
    }
   }
  },
  "kernelspec": {
   "display_name": "Python 3 (ipykernel)",
   "language": "python",
   "name": "python3"
  },
  "language_info": {
   "codemirror_mode": {
    "name": "ipython",
    "version": 3
   },
   "file_extension": ".py",
   "mimetype": "text/x-python",
   "name": "python",
   "nbconvert_exporter": "python",
   "pygments_lexer": "ipython3",
   "version": "3.11.7"
  },
  "toc-autonumbering": true,
  "toc-showcode": false,
  "toc-showmarkdowntxt": false,
  "toc-showtags": false,
  "widgets": {
   "application/vnd.jupyter.widget-state+json": {
    "state": {},
    "version_major": 2,
    "version_minor": 0
   }
  }
 },
 "nbformat": 4,
 "nbformat_minor": 5
}
