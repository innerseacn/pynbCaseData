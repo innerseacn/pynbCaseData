{
 "cells": [
  {
   "cell_type": "markdown",
   "id": "9bb29211-2b71-4cf9-bccd-71d98c7742d1",
   "metadata": {
    "extensions": {
     "jupyter_dashboards": {
      "activeView": "grid_default",
      "views": {
       "grid_default": {
        "col": null,
        "height": 2,
        "hidden": true,
        "row": null,
        "width": 2
       }
      }
     }
    }
   },
   "source": [
    "# 加载库函数及导入文件"
   ]
  },
  {
   "cell_type": "code",
   "execution_count": 11,
   "id": "5cb9a494-4ef8-4cbc-949d-d68bf0e617c6",
   "metadata": {},
   "outputs": [
    {
     "name": "stdout",
     "output_type": "stream",
     "text": [
      "The autoreload extension is already loaded. To reload it, use:\n",
      "  %reload_ext autoreload\n"
     ]
    },
    {
     "data": {
      "text/plain": [
       "WindowsPath('/mnt/d/gitcodes/testdata/银行分析结果test')"
      ]
     },
     "execution_count": 11,
     "metadata": {},
     "output_type": "execute_result"
    }
   ],
   "source": [
    "%load_ext autoreload\n",
    "%autoreload 2\n",
    "import warnings\n",
    "import pathlib\n",
    "from corelibs.config import *\n",
    "warnings.filterwarnings('ignore', message=\"Workbook contains no default style, apply openpyxl's default\", category=UserWarning)\n",
    "conf_data = load_conf()\n",
    "OUTPUT_DIR_PATH = pathlib.Path(r\"J:\\银行分析结果\")\n",
    "OUTPUT_DIR_PATH = pathlib.Path(r\"D:\\gitcodes\\testdata\\银行分析结果test\")\n",
    "OUTPUT_DIR_PATH = pathlib.Path(r\"/mnt/d/gitcodes/testdata/银行分析结果test/\")\n",
    "OUTPUT_DIR_PATH"
   ]
  },
  {
   "cell_type": "code",
   "execution_count": null,
   "id": "7a6cdfd9-9732-46b5-b012-57a5aba1f0cc",
   "metadata": {},
   "outputs": [],
   "source": [
    "conf_data"
   ]
  },
  {
   "cell_type": "markdown",
   "id": "f4a6a4e7-1a20-4a80-9188-a175e4e8ff01",
   "metadata": {
    "extensions": {
     "jupyter_dashboards": {
      "activeView": "grid_default",
      "views": {
       "grid_default": {
        "col": null,
        "height": 2,
        "hidden": true,
        "row": null,
        "width": 2
       }
      }
     }
    }
   },
   "source": [
    "# 执行"
   ]
  },
  {
   "cell_type": "markdown",
   "id": "eae19d1b-bb5b-4ad4-b469-2b980ec2f73e",
   "metadata": {
    "extensions": {
     "jupyter_dashboards": {
      "activeView": "grid_default",
      "views": {
       "grid_default": {
        "col": null,
        "height": 2,
        "hidden": true,
        "row": null,
        "width": 2
       }
      }
     }
    }
   },
   "source": [
    "## 分析建设银行网点数据目录\n",
    "（如：开发区金融街建行查询数据）"
   ]
  },
  {
   "cell_type": "markdown",
   "id": "88ac835f",
   "metadata": {},
   "source": [
    "新版分析，可以根据账户信息更新账号数据："
   ]
  },
  {
   "cell_type": "code",
   "execution_count": 21,
   "id": "cab897d0-05a2-4e14-a3f4-b9639c5baf18",
   "metadata": {
    "extensions": {
     "jupyter_dashboards": {
      "activeView": "grid_default",
      "views": {
       "grid_default": {
        "col": null,
        "height": 2,
        "hidden": true,
        "row": null,
        "width": 2
       }
      }
     }
    },
    "tags": []
   },
   "outputs": [
    {
     "data": {
      "application/vnd.jupyter.widget-view+json": {
       "model_id": "f5f902dc4ff943838373ceff8b60bf5a",
       "version_major": 2,
       "version_minor": 0
      },
      "text/plain": [
       "识别文件类型:   0%|          | 0/8 [00:00<?, ?it/s]"
      ]
     },
     "metadata": {},
     "output_type": "display_data"
    },
    {
     "name": "stdout",
     "output_type": "stream",
     "text": [
      "1080860401675667712130255_1_1_watermark.xlsx => 建设银行网点:账户\n",
      "1080860401675667712130255_2_1_watermark.xlsx => 建设银行网点:流水:交易\n",
      "1080860401675667712130255_3_1_watermark.xlsx => 建设银行网点:账户\n",
      "1080860401675667712130255_4_1_watermark.xlsx => 建设银行网点:流水:交易\n",
      "1080860401675667712130255_5_1_watermark.xlsx => 建设银行网点:账户\n",
      "1080860401675667712130255_6_1_watermark.xlsx => 建设银行网点:流水:交易\n",
      "1080860401675667712130255_7_1_watermark.xlsx => 建设银行网点:账户\n",
      "1080860401675667712130255_8_1_watermark.xlsx => 建设银行网点:流水:交易\n"
     ]
    },
    {
     "data": {
      "application/vnd.jupyter.widget-view+json": {
       "model_id": "4571c43715b14ae4882e2e891733ccbe",
       "version_major": 2,
       "version_minor": 0
      },
      "text/plain": [
       "建设银行网点:账户:   0%|          | 0/4 [00:00<?, ?it/s]"
      ]
     },
     "metadata": {},
     "output_type": "display_data"
    },
    {
     "name": "stdout",
     "output_type": "stream",
     "text": [
      "1080860401675667712130255_1_1_watermark.xlsx……完成\n",
      "1080860401675667712130255_3_1_watermark.xlsx……完成\n",
      "1080860401675667712130255_5_1_watermark.xlsx……完成\n",
      "1080860401675667712130255_7_1_watermark.xlsx……完成\n"
     ]
    },
    {
     "data": {
      "application/vnd.jupyter.widget-view+json": {
       "model_id": "7a48c9b78dca47cb8ae8afa232994ee9",
       "version_major": 2,
       "version_minor": 0
      },
      "text/plain": [
       "建设银行网点:流水:   0%|          | 0/4 [00:00<?, ?it/s]"
      ]
     },
     "metadata": {},
     "output_type": "display_data"
    },
    {
     "name": "stdout",
     "output_type": "stream",
     "text": [
      "1080860401675667712130255_2_1_watermark.xlsx……完成\n",
      "1080860401675667712130255_4_1_watermark.xlsx……完成\n",
      "1080860401675667712130255_6_1_watermark.xlsx……完成\n",
      "1080860401675667712130255_8_1_watermark.xlsx……完成\n",
      "配置建设银行网点:['交易']暂不支持\n",
      "共0个文件出错：\n"
     ]
    }
   ],
   "source": [
    "from banks.ccb import process_dir_ccb_branch_v2\n",
    "# OUTPUT_DIR_PATH = pathlib.Path(r\"/mnt/d/gitcodes/testdata/银行分析结果test1/\")\n",
    "base_dir = pathlib.Path(r\"D:\\gitcodes\\testdata\\建行\")\n",
    "base_dir = pathlib.Path(r\"/mnt/d/gitcodes/testdata/建行\")\n",
    "err_files = process_dir_ccb_branch_v2(base_dir, OUTPUT_DIR_PATH, 'a')"
   ]
  },
  {
   "cell_type": "markdown",
   "id": "eab0b5ff",
   "metadata": {},
   "source": [
    "老版分析，不能根据账户信息更新账号数据："
   ]
  },
  {
   "cell_type": "code",
   "execution_count": 16,
   "id": "aae19a10",
   "metadata": {},
   "outputs": [
    {
     "data": {
      "application/vnd.jupyter.widget-view+json": {
       "model_id": "fdb93b46a6444cd38361c7875b9a5238",
       "version_major": 2,
       "version_minor": 0
      },
      "text/plain": [
       "分析目录文件:   0%|          | 0/8 [00:00<?, ?it/s]"
      ]
     },
     "metadata": {},
     "output_type": "display_data"
    },
    {
     "name": "stdout",
     "output_type": "stream",
     "text": [
      "1080860401675667712130255_1_1_watermark.xlsx……建设银行网点:账户完成:\n",
      "1080860401675667712130255_2_1_watermark.xlsx……建设银行网点:流水完成:交易暂不支持:\n",
      "1080860401675667712130255_3_1_watermark.xlsx……建设银行网点:账户完成:\n",
      "1080860401675667712130255_4_1_watermark.xlsx……建设银行网点:流水完成:交易暂不支持:\n",
      "1080860401675667712130255_5_1_watermark.xlsx……建设银行网点:账户完成:\n",
      "1080860401675667712130255_6_1_watermark.xlsx……建设银行网点:流水完成:交易暂不支持:\n",
      "1080860401675667712130255_7_1_watermark.xlsx……建设银行网点:账户完成:\n",
      "1080860401675667712130255_8_1_watermark.xlsx……建设银行网点:流水完成:交易暂不支持:\n",
      "4个文件出错：\n",
      "1080860401675667712130255_2_1_watermark.xlsx => 建设银行网点交易暂不支持\n",
      "1080860401675667712130255_4_1_watermark.xlsx => 建设银行网点交易暂不支持\n",
      "1080860401675667712130255_6_1_watermark.xlsx => 建设银行网点交易暂不支持\n",
      "1080860401675667712130255_8_1_watermark.xlsx => 建设银行网点交易暂不支持\n"
     ]
    }
   ],
   "source": [
    "from banks.ccb import process_dir_ccb_branch_v1\n",
    "# OUTPUT_DIR_PATH = pathlib.Path(r\"/mnt/d/gitcodes/testdata/银行分析结果test1/\")\n",
    "base_dir = pathlib.Path(r\"D:\\gitcodes\\testdata\\建行\")\n",
    "base_dir = pathlib.Path(r\"/mnt/d/gitcodes/testdata/建行\")\n",
    "err_files = process_dir_ccb_branch_v1(base_dir, OUTPUT_DIR_PATH, 'a')"
   ]
  },
  {
   "cell_type": "markdown",
   "id": "2f0685eb",
   "metadata": {},
   "source": [
    "# 测试"
   ]
  },
  {
   "cell_type": "markdown",
   "id": "39522372",
   "metadata": {},
   "source": [
    "## 提取excel表头和md5值"
   ]
  },
  {
   "cell_type": "code",
   "execution_count": 8,
   "id": "42e6a562",
   "metadata": {},
   "outputs": [
    {
     "name": "stdout",
     "output_type": "stream",
     "text": [
      "('联系手机', '单位地址', '客户名称', '地税纳税号', '客户工商执照号码', '代办人姓名', '法人代表证件号码', '邮箱地址', '法人代表证件类型', '代办人证件类型', '工作单位', '账单地址', '法人代表', '住宅电话', '证照号码', '联系电话', '单位电话', '国税纳税号', '证照类型代码', '代办人证件号码', '住宅地址')\n"
     ]
    },
    {
     "data": {
      "text/plain": [
       "'5a4e032332e1e4fe1cb3f0843c893966'"
      ]
     },
     "execution_count": 8,
     "metadata": {},
     "output_type": "execute_result"
    }
   ],
   "source": [
    "from hashlib import md5\n",
    "from corelibs.header import read_header\n",
    "acc_file = pathlib.Path(r\"J:\\杨孟军\\银行\\工商银行\\1\\陶瑞兰120221196603113061\\1.xls\")\n",
    "acc_file = pathlib.Path(r\"/mnt/d/gitcodes/testdata/000615/王瑞霞_410527198607032042/工商银行-账户信息-客户基本信息.xlsx\")\n",
    "base_dir = pathlib.Path(r\"/mnt/d/gitcodes/testdata/天津/1.xls\")\n",
    "print(a := read_header(acc_file, header=0))\n",
    "md5(a.encode()).hexdigest()"
   ]
  },
  {
   "cell_type": "markdown",
   "id": "250cce44",
   "metadata": {},
   "source": [
    "## 测试yaml配置文件语法，及内部操作指令对象转换"
   ]
  },
  {
   "cell_type": "code",
   "execution_count": 7,
   "id": "d8e140d8",
   "metadata": {},
   "outputs": [
    {
     "name": "stdout",
     "output_type": "stream",
     "text": [
      "excel\n",
      "('6d3d0d1e252f43a000010e19d8b2dd57', ['天津银行', '账户'])\n",
      "('7509cd85808831c7004c8c78e9267d7c', ['天津银行', '流水'])\n",
      "('5b70f468037b3cfe76bace72751f4e3e', ['工商银行网点', '账户'])\n",
      "('0b02a413bd3c59d74a82e3fd3909c759', ['工商银行网点', '流水'])\n",
      "('5ff3970075646f3a7fffdef5430539d7', ['建设银行网点', '账户'])\n",
      "('8fa9c0776b857793f91335192398aeba', ['建设银行网点', '流水', '交易'])\n",
      "6\n"
     ]
    }
   ],
   "source": [
    "load_conf()\n",
    "print(get_output_format())\n",
    "print(len([print(x) for x in get_header_hash().items()]))"
   ]
  },
  {
   "cell_type": "code",
   "execution_count": null,
   "id": "8363c63d",
   "metadata": {},
   "outputs": [],
   "source": [
    "print(len([print(x) for x in get_conf_cache().items()]))"
   ]
  },
  {
   "cell_type": "code",
   "execution_count": 39,
   "id": "8919f300",
   "metadata": {},
   "outputs": [
    {
     "name": "stdout",
     "output_type": "stream",
     "text": [
      "None\n",
      "{'银行': '天津银行'}\n",
      "{'我方中文名称': True, '我行账号（卡号）': True, '余额': True, '借贷标志': True, '交易金额': True, '交易日期': True}\n",
      "{'我方中文名称': '姓名', '我行账号（卡号）': '账号', '用途（摘要）': '摘要', '对方中文名称': '对方户名', '对方账号（卡号）': '对方账号', '对方银行名称': '对方开户行', '网银IP地址': 'IP/MAC地址'}\n",
      "{'交易机构': ['受理机构名称', '我方银行名称']}\n",
      "{'日期': ['交易日期']}\n",
      "{'时间': ['交易日期']}\n",
      "{'余额': True, '交易金额': True}\n",
      "{'C': '借', 'CD_col': '借贷标志', 'C_col': '出账金额', 'trans_col': '交易金额', 'D': '贷', 'D_col': '入账金额'}\n",
      "{}\n",
      "['银行', '日期', '时间', '姓名', '账号', '卡号', '摘要', '币种', '出账金额', '入账金额', '余额', '交易机构', '对方户名', '对方账号', '对方开户行', 'IP/MAC地址', '借贷标志', '交易金额', '交易日期', '受理机构名称', '我方银行名称', '对方银行机构代码', '受理机构代码', '交易日期', '借贷标志', '交易金额', '身份证号', '流水号', '交易代码（交易渠道）', '代码描述', '交易是否成功']\n",
      "{'卡号': ['账号', '卡号', '账号']}\n"
     ]
    },
    {
     "data": {
      "text/plain": [
       "[None, None, None, None, None, None, None, None, None, None, None, None]"
      ]
     },
     "execution_count": 39,
     "metadata": {},
     "output_type": "execute_result"
    }
   ],
   "source": [
    "load_conf()\n",
    "conf_obj = get_conf_obj('天津银行','流水')\n",
    "[print(x) for x in conf_obj]"
   ]
  },
  {
   "cell_type": "markdown",
   "id": "281ecc37",
   "metadata": {},
   "source": [
    "##  测试单个账户文件读取及储存"
   ]
  },
  {
   "cell_type": "code",
   "execution_count": 33,
   "id": "5e001ec1",
   "metadata": {},
   "outputs": [],
   "source": [
    "from corelibs.process import process_account_file_general\n",
    "acc_file = pathlib.Path(r\"E:\\张楠\\2023赵益华927\\银行\\建行\\第一批 赵益华等9人\\1080861461690963794022777_1_1赵益华.xlsx\")\n",
    "# acc_file = pathlib.Path(r\"E:\\张楠\\2023赵益华927\\银行\\天津银行\\滨监查询（2023）05217号.xls\")\n",
    "# acc_file = pathlib.Path(r\"/mnt/d/gitcodes/testdata/建行(于东林、刘德阳等)【已分析】/1080860401675667712130255_5_1_watermark.xlsx\")\n",
    "df_acc = process_account_file_general(acc_file, OUTPUT_DIR_PATH,'建设银行网点', '账户')\n",
    "# df_acc"
   ]
  },
  {
   "cell_type": "code",
   "execution_count": 31,
   "id": "1a877679",
   "metadata": {},
   "outputs": [],
   "source": [
    "import dtale"
   ]
  },
  {
   "cell_type": "code",
   "execution_count": 35,
   "id": "90e5fe60",
   "metadata": {},
   "outputs": [
    {
     "data": {
      "text/plain": []
     },
     "execution_count": 35,
     "metadata": {},
     "output_type": "execute_result"
    }
   ],
   "source": [
    "dtale.show(df_acc, open_browser=True)"
   ]
  },
  {
   "cell_type": "markdown",
   "id": "5f2b3496",
   "metadata": {},
   "source": [
    "## 测试单个流水文件的读取与储存"
   ]
  },
  {
   "cell_type": "code",
   "execution_count": 43,
   "id": "a7945594",
   "metadata": {},
   "outputs": [],
   "source": [
    "from corelibs.process import process_statment_file_general\n",
    "acc_file = pathlib.Path(r\"E:\\张楠\\2023赵益华927\\银行\\建行\\第一批 赵益华等9人\\1080861461690963794022777_2_1_watermark.xlsx\")\n",
    "# acc_file = pathlib.Path(r\"E:\\张楠\\2023赵益华927\\银行\\天津银行\\滨监查询（2023）05217号.xls\")\n",
    "# acc_file = pathlib.Path(r\"/mnt/d/gitcodes/testdata/建行(于东林、刘德阳等)【已分析】/1080860401675667712130255_6_1_watermark.xlsx\")\n",
    "df = process_statment_file_general(acc_file, OUTPUT_DIR_PATH,'建设银行网点', '流水','a', df_acc)"
   ]
  },
  {
   "cell_type": "code",
   "execution_count": null,
   "id": "26cdcaf1",
   "metadata": {},
   "outputs": [],
   "source": [
    "import dtale"
   ]
  },
  {
   "cell_type": "code",
   "execution_count": 44,
   "id": "5c03c2ae",
   "metadata": {},
   "outputs": [
    {
     "data": {
      "text/plain": []
     },
     "execution_count": 44,
     "metadata": {},
     "output_type": "execute_result"
    }
   ],
   "source": [
    "dtale.show(df, open_browser=True)"
   ]
  },
  {
   "cell_type": "markdown",
   "id": "c79c4f7a",
   "metadata": {},
   "source": [
    "## 测试识别文件列表中的文件类型"
   ]
  },
  {
   "cell_type": "code",
   "execution_count": 18,
   "id": "abf211de",
   "metadata": {},
   "outputs": [
    {
     "data": {
      "application/vnd.jupyter.widget-view+json": {
       "model_id": "89f7aa402a0b42ce91b5c42d5b3376e1",
       "version_major": 2,
       "version_minor": 0
      },
      "text/plain": [
       "识别文件类型:   0%|          | 0/8 [00:00<?, ?it/s]"
      ]
     },
     "metadata": {},
     "output_type": "display_data"
    },
    {
     "name": "stdout",
     "output_type": "stream",
     "text": [
      "1080860401675667712130255_1_1_watermark.xlsx => 建设银行网点:账户\n",
      "1080860401675667712130255_2_1_watermark.xlsx => 建设银行网点:流水:交易\n",
      "1080860401675667712130255_3_1_watermark.xlsx => 建设银行网点:账户\n",
      "1080860401675667712130255_4_1_watermark.xlsx => 建设银行网点:流水:交易\n",
      "1080860401675667712130255_5_1_watermark.xlsx => 建设银行网点:账户\n",
      "1080860401675667712130255_6_1_watermark.xlsx => 建设银行网点:流水:交易\n",
      "1080860401675667712130255_7_1_watermark.xlsx => 建设银行网点:账户\n",
      "1080860401675667712130255_8_1_watermark.xlsx => 建设银行网点:流水:交易\n",
      "{'建设银行网点': {'账户': [PosixPath('/mnt/d/gitcodes/testdata/建行/1080860401675667712130255_1_1_watermark.xlsx'), PosixPath('/mnt/d/gitcodes/testdata/建行/1080860401675667712130255_3_1_watermark.xlsx'), PosixPath('/mnt/d/gitcodes/testdata/建行/1080860401675667712130255_5_1_watermark.xlsx'), PosixPath('/mnt/d/gitcodes/testdata/建行/1080860401675667712130255_7_1_watermark.xlsx')], '流水': [PosixPath('/mnt/d/gitcodes/testdata/建行/1080860401675667712130255_2_1_watermark.xlsx'), PosixPath('/mnt/d/gitcodes/testdata/建行/1080860401675667712130255_4_1_watermark.xlsx'), PosixPath('/mnt/d/gitcodes/testdata/建行/1080860401675667712130255_6_1_watermark.xlsx'), PosixPath('/mnt/d/gitcodes/testdata/建行/1080860401675667712130255_8_1_watermark.xlsx')], '交易': [PosixPath('/mnt/d/gitcodes/testdata/建行/1080860401675667712130255_2_1_watermark.xlsx'), PosixPath('/mnt/d/gitcodes/testdata/建行/1080860401675667712130255_4_1_watermark.xlsx'), PosixPath('/mnt/d/gitcodes/testdata/建行/1080860401675667712130255_6_1_watermark.xlsx'), PosixPath('/mnt/d/gitcodes/testdata/建行/1080860401675667712130255_8_1_watermark.xlsx')]}}\n"
     ]
    },
    {
     "data": {
      "text/plain": [
       "0"
      ]
     },
     "execution_count": 18,
     "metadata": {},
     "output_type": "execute_result"
    }
   ],
   "source": [
    "from collections import Counter\n",
    "from corelibs.process import classify_files_by_category\n",
    "\n",
    "base_dir = pathlib.Path(r\"D:\\gitcodes\\testdata\\建行\")\n",
    "base_dir = pathlib.Path(r\"/mnt/d/gitcodes/testdata/建行/\")\n",
    "_file_names = list(base_dir.glob('[!~]*.xlsx')) # 找到目录中所有的excel文件（不含子目录）\n",
    "f,e = classify_files_by_category(_file_names)\n",
    "\n",
    "print(f)\n",
    "len([print(k.name + v) for k, v in e.items()])"
   ]
  },
  {
   "cell_type": "code",
   "execution_count": null,
   "id": "8c7bdbef",
   "metadata": {},
   "outputs": [
    {
     "data": {
      "text/plain": [
       "[]"
      ]
     },
     "metadata": {},
     "output_type": "display_data"
    }
   ],
   "source": [
    "base_dir = pathlib.Path(r'D:\\gitcodes\\testdata\\建行')\n",
    "list(base_dir.glob('[!~]*.xlsx')) \n"
   ]
  },
  {
   "cell_type": "markdown",
   "id": "e38f6e5b-adc8-499c-95f2-56bf2086b07e",
   "metadata": {
    "extensions": {
     "jupyter_dashboards": {
      "activeView": "grid_default",
      "views": {
       "grid_default": {
        "col": null,
        "height": 2,
        "hidden": true,
        "row": null,
        "width": 2
       }
      }
     }
    }
   },
   "source": [
    "# 杂项"
   ]
  },
  {
   "cell_type": "code",
   "execution_count": 28,
   "id": "e875a81d",
   "metadata": {},
   "outputs": [
    {
     "name": "stdout",
     "output_type": "stream",
     "text": [
      "   a  b   d\n",
      "0  1  1  13\n",
      "1  2  2  14\n",
      "2  1  1  15\n",
      "3  5  5  16\n",
      "   a  b   c\n",
      "0  1  5   9\n",
      "1  2  6  10\n",
      "2  3  7  11\n",
      "3  4  8  12\n"
     ]
    },
    {
     "data": {
      "text/html": [
       "<div>\n",
       "<style scoped>\n",
       "    .dataframe tbody tr th:only-of-type {\n",
       "        vertical-align: middle;\n",
       "    }\n",
       "\n",
       "    .dataframe tbody tr th {\n",
       "        vertical-align: top;\n",
       "    }\n",
       "\n",
       "    .dataframe thead th {\n",
       "        text-align: right;\n",
       "    }\n",
       "</style>\n",
       "<table border=\"1\" class=\"dataframe\">\n",
       "  <thead>\n",
       "    <tr style=\"text-align: right;\">\n",
       "      <th></th>\n",
       "      <th>a</th>\n",
       "      <th>b_x</th>\n",
       "      <th>d</th>\n",
       "      <th>b_y</th>\n",
       "      <th>c</th>\n",
       "    </tr>\n",
       "  </thead>\n",
       "  <tbody>\n",
       "    <tr>\n",
       "      <th>0</th>\n",
       "      <td>1</td>\n",
       "      <td>1</td>\n",
       "      <td>13</td>\n",
       "      <td>5.0</td>\n",
       "      <td>9.0</td>\n",
       "    </tr>\n",
       "    <tr>\n",
       "      <th>1</th>\n",
       "      <td>2</td>\n",
       "      <td>2</td>\n",
       "      <td>14</td>\n",
       "      <td>6.0</td>\n",
       "      <td>10.0</td>\n",
       "    </tr>\n",
       "    <tr>\n",
       "      <th>2</th>\n",
       "      <td>1</td>\n",
       "      <td>1</td>\n",
       "      <td>15</td>\n",
       "      <td>5.0</td>\n",
       "      <td>9.0</td>\n",
       "    </tr>\n",
       "    <tr>\n",
       "      <th>3</th>\n",
       "      <td>5</td>\n",
       "      <td>5</td>\n",
       "      <td>16</td>\n",
       "      <td>NaN</td>\n",
       "      <td>16.0</td>\n",
       "    </tr>\n",
       "  </tbody>\n",
       "</table>\n",
       "</div>"
      ],
      "text/plain": [
       "   a  b_x   d  b_y     c\n",
       "0  1    1  13  5.0   9.0\n",
       "1  2    2  14  6.0  10.0\n",
       "2  1    1  15  5.0   9.0\n",
       "3  5    5  16  NaN  16.0"
      ]
     },
     "execution_count": 28,
     "metadata": {},
     "output_type": "execute_result"
    }
   ],
   "source": [
    "import pandas as pd\n",
    "df2 = pd.DataFrame({'a':[1,2,3,4],'b':[5,6,7,8],'c':[9,10,11,12]})\n",
    "df1 = pd.DataFrame({'a':[1,2,1,5],'b':[1,2,1,5],'d':[13,14,15,16]})\n",
    "print(df1)\n",
    "print(df2)\n",
    "a = pd.merge(df1,df2,left_on='a',right_on='a', how='left', validate='m:1', copy=False)\n",
    "a['c'].where(a['c'].notnull(), a['d'], inplace=True)\n",
    "a"
   ]
  }
 ],
 "metadata": {
  "extensions": {
   "jupyter_dashboards": {
    "activeView": "grid_default",
    "version": 1,
    "views": {
     "grid_default": {
      "cellMargin": 2,
      "defaultCellHeight": 60,
      "maxColumns": 12,
      "name": "grid",
      "type": "grid"
     }
    }
   }
  },
  "kernelspec": {
   "display_name": "Python 3 (ipykernel)",
   "language": "python",
   "name": "python3"
  },
  "language_info": {
   "codemirror_mode": {
    "name": "ipython",
    "version": 3
   },
   "file_extension": ".py",
   "mimetype": "text/x-python",
   "name": "python",
   "nbconvert_exporter": "python",
   "pygments_lexer": "ipython3",
   "version": "3.11.6"
  },
  "toc-autonumbering": true,
  "toc-showcode": false,
  "toc-showmarkdowntxt": false,
  "toc-showtags": false,
  "widgets": {
   "application/vnd.jupyter.widget-state+json": {
    "state": {},
    "version_major": 2,
    "version_minor": 0
   }
  }
 },
 "nbformat": 4,
 "nbformat_minor": 5
}
