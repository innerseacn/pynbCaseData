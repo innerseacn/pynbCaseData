{
 "cells": [
  {
   "cell_type": "markdown",
   "id": "9bb29211-2b71-4cf9-bccd-71d98c7742d1",
   "metadata": {
    "extensions": {
     "jupyter_dashboards": {
      "activeView": "grid_default",
      "views": {
       "grid_default": {
        "col": null,
        "height": 2,
        "hidden": true,
        "row": null,
        "width": 2
       }
      }
     }
    }
   },
   "source": [
    "# 准备\n",
    "## 加载库函数及导入文件"
   ]
  },
  {
   "cell_type": "code",
   "execution_count": 1,
   "id": "5cb9a494-4ef8-4cbc-949d-d68bf0e617c6",
   "metadata": {},
   "outputs": [
    {
     "data": {
      "text/plain": [
       "PosixPath('/mnt/d/gitcodes/testdata/银行分析结果test')"
      ]
     },
     "execution_count": 1,
     "metadata": {},
     "output_type": "execute_result"
    }
   ],
   "source": [
    "%load_ext autoreload\n",
    "%autoreload 2\n",
    "import warnings\n",
    "import pathlib\n",
    "from corelibs.config import *\n",
    "warnings.filterwarnings('ignore', message=\"Workbook contains no default style, apply openpyxl's default\", category=UserWarning)\n",
    "conf_data = load_conf()\n",
    "OUTPUT_DIR_PATH = pathlib.Path(r\"J:\\银行分析结果\")\n",
    "OUTPUT_DIR_PATH = pathlib.Path(r\"D:\\gitcodes\\testdata\\银行分析结果test\")\n",
    "OUTPUT_DIR_PATH = pathlib.Path(r\"/mnt/d/gitcodes/testdata/银行分析结果test/\")\n",
    "OUTPUT_DIR_PATH"
   ]
  },
  {
   "cell_type": "code",
   "execution_count": null,
   "id": "0a7aa3ea",
   "metadata": {},
   "outputs": [],
   "source": [
    "load_conf()\n",
    "conf_obj = get_conf_obj('天津银行','流水')\n",
    "[print(x) for x in conf_obj]"
   ]
  },
  {
   "cell_type": "markdown",
   "metadata": {},
   "source": [
    "## 提取excel表头和md5值"
   ]
  },
  {
   "cell_type": "code",
   "execution_count": 18,
   "metadata": {},
   "outputs": [
    {
     "name": "stdout",
     "output_type": "stream",
     "text": [
      "('日志号', '交易时间', '交易对方名称', '交易余额', '查询卡号', '商户名称', '交易流水号', '商户号', '交易发生地', '交易是否成功', '币种', '凭证种类', '交易柜员号', '终端号', '交易对方卡号', '现金标志', '交易对手余额', 'IP地址', '交易网点名称', '交易对方证件号码', '备注', '交易摘要', '本方账号', '交易对方账号开户行', 'MAC地址', '借贷标志', '交易网点代码', '交易对方账号', '交易类型', '传票号', '交易金额', '查询账号', '本方卡号', '凭证号')\n"
     ]
    },
    {
     "data": {
      "text/plain": [
       "'69285347f3af24531fbca71e25743fb2'"
      ]
     },
     "execution_count": 18,
     "metadata": {},
     "output_type": "execute_result"
    }
   ],
   "source": [
    "from hashlib import md5\n",
    "from corelibs.header import read_header\n",
    "acc_file = pathlib.Path(r\"/mnt/d/gitcodes/testdata/000615/王瑞霞_410527198607032042/王瑞霞]招商银行-交易流水-交易流水记录.xlsx\")\n",
    "print(a := read_header(acc_file, header=0))\n",
    "md5(a.encode()).hexdigest()"
   ]
  },
  {
   "cell_type": "code",
   "execution_count": null,
   "id": "7a6cdfd9-9732-46b5-b012-57a5aba1f0cc",
   "metadata": {},
   "outputs": [],
   "source": [
    "conf_data"
   ]
  },
  {
   "cell_type": "markdown",
   "id": "36c0d59e",
   "metadata": {},
   "source": [
    "## 识别文件列表中的文件类型并进行数据验证"
   ]
  },
  {
   "cell_type": "code",
   "execution_count": 9,
   "id": "3ec76ed8",
   "metadata": {},
   "outputs": [
    {
     "data": {
      "application/vnd.jupyter.widget-view+json": {
       "model_id": "daab02847965477b85b783424ae479b4",
       "version_major": 2,
       "version_minor": 0
      },
      "text/plain": [
       "识别文件类型:   0%|          | 0/3 [00:00<?, ?it/s]"
      ]
     },
     "metadata": {},
     "output_type": "display_data"
    },
    {
     "name": "stdout",
     "output_type": "stream",
     "text": [
      "光大银行-账户信息-客户基本信息.xlsx => 央地协查:客户\n",
      "光大银行-账户信息-账户基本信息.xlsx => 央地协查:账户\n",
      "王瑞霞]光大银行-交易流水-交易流水记录.xlsx => 央地协查:流水\n",
      "以下是识别错误文件：\n"
     ]
    },
    {
     "data": {
      "text/plain": [
       "0"
      ]
     },
     "execution_count": 9,
     "metadata": {},
     "output_type": "execute_result"
    }
   ],
   "source": [
    "from collections import Counter\n",
    "from corelibs.process import classify_files_by_category\n",
    "base_dir = pathlib.Path(r\"/mnt/d/gitcodes/testdata/000615/王瑞霞_410527198607032042/\")\n",
    "_file_names = list(filter(lambda f: not f.stem.endswith('关联子账户信息'), base_dir.glob('*光大*.xlsx')))\n",
    "f, e = classify_files_by_category(_file_names)\n",
    "print(f'以下是识别错误文件：')\n",
    "len([print(k.name + v) for k, v in e.items()])"
   ]
  },
  {
   "cell_type": "markdown",
   "id": "f4a6a4e7-1a20-4a80-9188-a175e4e8ff01",
   "metadata": {
    "extensions": {
     "jupyter_dashboards": {
      "activeView": "grid_default",
      "views": {
       "grid_default": {
        "col": null,
        "height": 2,
        "hidden": true,
        "row": null,
        "width": 2
       }
      }
     }
    }
   },
   "source": [
    "# 执行\n",
    "## 分析建设银行网点数据目录\n",
    "（如：开发区金融街建行查询数据）\n",
    "\n",
    "### 新版分析，可以根据账户信息更新账号数据："
   ]
  },
  {
   "cell_type": "code",
   "execution_count": null,
   "id": "cab897d0-05a2-4e14-a3f4-b9639c5baf18",
   "metadata": {
    "extensions": {
     "jupyter_dashboards": {
      "activeView": "grid_default",
      "views": {
       "grid_default": {
        "col": null,
        "height": 2,
        "hidden": true,
        "row": null,
        "width": 2
       }
      }
     }
    },
    "tags": []
   },
   "outputs": [],
   "source": [
    "from banks.ccb import process_dir_ccb_branch_v2\n",
    "base_dir = pathlib.Path(r\"/mnt/d/gitcodes/testdata/建行\")\n",
    "doc_No = 'aaa'\n",
    "err_files = process_dir_ccb_branch_v2(base_dir, OUTPUT_DIR_PATH, doc_No)"
   ]
  },
  {
   "cell_type": "markdown",
   "id": "eab0b5ff",
   "metadata": {},
   "source": [
    "### 老版分析，不能根据账户信息更新账号数据："
   ]
  },
  {
   "cell_type": "code",
   "execution_count": null,
   "id": "aae19a10",
   "metadata": {},
   "outputs": [],
   "source": [
    "# from banks.ccb import process_dir_ccb_branch_v1\n",
    "# base_dir = pathlib.Path(r\"/mnt/d/gitcodes/testdata/建行\")\n",
    "# doc_No = 'aaa'\n",
    "# err_files = process_dir_ccb_branch_v1(base_dir, OUTPUT_DIR_PATH, doc_No)"
   ]
  },
  {
   "cell_type": "markdown",
   "id": "c4ac81b7",
   "metadata": {},
   "source": [
    "## 分析央地协查数据目录"
   ]
  },
  {
   "cell_type": "code",
   "execution_count": 5,
   "id": "5b0480c6",
   "metadata": {},
   "outputs": [
    {
     "data": {
      "application/vnd.jupyter.widget-view+json": {
       "model_id": "cdb1bd63cb8f49efbbadf2640fa2731e",
       "version_major": 2,
       "version_minor": 0
      },
      "text/plain": [
       "识别文件类型:   0%|          | 0/3 [00:00<?, ?it/s]"
      ]
     },
     "metadata": {},
     "output_type": "display_data"
    },
    {
     "name": "stdout",
     "output_type": "stream",
     "text": [
      "光大银行-账户信息-客户基本信息.xlsx => 央地协查:客户\n",
      "光大银行-账户信息-账户基本信息.xlsx => 央地协查:账户\n",
      "王瑞霞]光大银行-交易流水-交易流水记录.xlsx => 央地协查:流水\n"
     ]
    },
    {
     "data": {
      "application/vnd.jupyter.widget-view+json": {
       "model_id": "434860e324554022ab17daf86a09f845",
       "version_major": 2,
       "version_minor": 0
      },
      "text/plain": [
       "央地协查:账户:   0%|          | 0/1 [00:00<?, ?it/s]"
      ]
     },
     "metadata": {},
     "output_type": "display_data"
    },
    {
     "name": "stdout",
     "output_type": "stream",
     "text": [
      "光大银行-账户信息-账户基本信息.xlsx……完成\n"
     ]
    },
    {
     "data": {
      "application/vnd.jupyter.widget-view+json": {
       "model_id": "072536465a344667b313664a9536a971",
       "version_major": 2,
       "version_minor": 0
      },
      "text/plain": [
       "央地协查:流水:   0%|          | 0/1 [00:00<?, ?it/s]"
      ]
     },
     "metadata": {},
     "output_type": "display_data"
    },
    {
     "name": "stdout",
     "output_type": "stream",
     "text": [
      "王瑞霞]光大银行-交易流水-交易流水记录.xlsx……验证未通过，需清洗数据列：查询账号\n"
     ]
    },
    {
     "data": {
      "application/vnd.jupyter.widget-view+json": {
       "model_id": "edd5673cfbef4915949c4f0825347bac",
       "version_major": 2,
       "version_minor": 0
      },
      "text/plain": [
       "央地协查:客户:   0%|          | 0/1 [00:00<?, ?it/s]"
      ]
     },
     "metadata": {},
     "output_type": "display_data"
    },
    {
     "name": "stdout",
     "output_type": "stream",
     "text": [
      "光大银行-账户信息-客户基本信息.xlsx……完成\n",
      "共1个文件出错：\n",
      "王瑞霞]光大银行-交易流水-交易流水记录.xlsx => 验证未通过，需清洗数据列：查询账号\n"
     ]
    }
   ],
   "source": [
    "from banks.yangdi import process_dir_yangdi\n",
    "base_dir = pathlib.Path(r\"/mnt/d/gitcodes/testdata/000615/王瑞霞_410527198607032042/\")\n",
    "doc_No = 'aaa'\n",
    "err_files = process_dir_yangdi(base_dir, OUTPUT_DIR_PATH, doc_No)"
   ]
  },
  {
   "cell_type": "markdown",
   "id": "2f0685eb",
   "metadata": {},
   "source": [
    "# 测试"
   ]
  },
  {
   "cell_type": "markdown",
   "id": "250cce44",
   "metadata": {},
   "source": [
    "## 测试yaml配置文件语法，及内部操作指令对象转换"
   ]
  },
  {
   "cell_type": "code",
   "execution_count": 7,
   "id": "d8e140d8",
   "metadata": {},
   "outputs": [
    {
     "name": "stdout",
     "output_type": "stream",
     "text": [
      "excel\n",
      "('6d3d0d1e252f43a000010e19d8b2dd57', ['天津银行', '账户'])\n",
      "('7509cd85808831c7004c8c78e9267d7c', ['天津银行', '流水'])\n",
      "('5b70f468037b3cfe76bace72751f4e3e', ['工商银行网点', '账户'])\n",
      "('0b02a413bd3c59d74a82e3fd3909c759', ['工商银行网点', '流水'])\n",
      "('5ff3970075646f3a7fffdef5430539d7', ['建设银行网点', '账户'])\n",
      "('8fa9c0776b857793f91335192398aeba', ['建设银行网点', '流水', '交易'])\n",
      "6\n"
     ]
    }
   ],
   "source": [
    "load_conf()\n",
    "print(get_output_format())\n",
    "print(len([print(x) for x in get_header_hash().items()]))"
   ]
  },
  {
   "cell_type": "code",
   "execution_count": null,
   "id": "8363c63d",
   "metadata": {},
   "outputs": [],
   "source": [
    "print(len([print(x) for x in get_conf_cache().items()]))"
   ]
  },
  {
   "cell_type": "markdown",
   "id": "281ecc37",
   "metadata": {},
   "source": [
    "##  测试单个非流水文件读取及储存"
   ]
  },
  {
   "cell_type": "code",
   "execution_count": 2,
   "id": "5e001ec1",
   "metadata": {},
   "outputs": [
    {
     "name": "stdout",
     "output_type": "stream",
     "text": [
      "['建设银行网点', '账户', '客户']\n"
     ]
    }
   ],
   "source": [
    "from corelibs.process import *\n",
    "acc_file = pathlib.Path(r\"/mnt/d/gitcodes/testdata/建行/1080860401675667712130255_5_1_watermark.xlsx\")\n",
    "# acc_file = pathlib.Path(r\"/mnt/d/gitcodes/testdata/000615/王瑞霞_410527198607032042/光大银行-账户信息-客户基本信息.xlsx\")\n",
    "print(b := get_file_type(acc_file))\n",
    "df_acc = process_general_file(acc_file, OUTPUT_DIR_PATH, b[0], '客户', '')"
   ]
  },
  {
   "cell_type": "code",
   "execution_count": null,
   "id": "11d408b3",
   "metadata": {},
   "outputs": [],
   "source": [
    "df_acc"
   ]
  },
  {
   "cell_type": "code",
   "execution_count": null,
   "id": "9c0482af",
   "metadata": {},
   "outputs": [],
   "source": [
    "df_acc.drop_duplicates()"
   ]
  },
  {
   "cell_type": "code",
   "execution_count": null,
   "id": "1a877679",
   "metadata": {},
   "outputs": [],
   "source": [
    "import dtale\n",
    "dtale.show(df_acc, open_browser=True)"
   ]
  },
  {
   "cell_type": "markdown",
   "id": "5f2b3496",
   "metadata": {},
   "source": [
    "## 测试单个流水文件的读取与储存"
   ]
  },
  {
   "cell_type": "code",
   "execution_count": 43,
   "id": "a7945594",
   "metadata": {},
   "outputs": [],
   "source": [
    "from corelibs.process import process_statment_file_general\n",
    "acc_file = pathlib.Path(r\"E:\\张楠\\2023赵益华927\\银行\\建行\\第一批 赵益华等9人\\1080861461690963794022777_2_1_watermark.xlsx\")\n",
    "# acc_file = pathlib.Path(r\"E:\\张楠\\2023赵益华927\\银行\\天津银行\\滨监查询（2023）05217号.xls\")\n",
    "# acc_file = pathlib.Path(r\"/mnt/d/gitcodes/testdata/建行(于东林、刘德阳等)【已分析】/1080860401675667712130255_6_1_watermark.xlsx\")\n",
    "df = process_statment_file_general(acc_file, OUTPUT_DIR_PATH,'建设银行网点', '流水','a', df_acc)"
   ]
  },
  {
   "cell_type": "code",
   "execution_count": null,
   "id": "26cdcaf1",
   "metadata": {},
   "outputs": [],
   "source": [
    "import dtale\n",
    "dtale.show(df, open_browser=True)"
   ]
  },
  {
   "cell_type": "markdown",
   "id": "4ca66037",
   "metadata": {},
   "source": [
    "## 测试文件夹中部分文件"
   ]
  },
  {
   "cell_type": "code",
   "execution_count": null,
   "id": "8c7bdbef",
   "metadata": {},
   "outputs": [
    {
     "data": {
      "text/plain": [
       "[]"
      ]
     },
     "metadata": {},
     "output_type": "display_data"
    }
   ],
   "source": [
    "base_dir = pathlib.Path(r'D:\\gitcodes\\testdata\\建行')\n",
    "list(base_dir.glob('[!~]*.xlsx')) \n"
   ]
  },
  {
   "cell_type": "code",
   "execution_count": 45,
   "id": "6dd597ce",
   "metadata": {},
   "outputs": [
    {
     "data": {
      "application/vnd.jupyter.widget-view+json": {
       "model_id": "d2cddc4e2cf047ccb1268f40013c4bdb",
       "version_major": 2,
       "version_minor": 0
      },
      "text/plain": [
       "识别文件类型:   0%|          | 0/4 [00:00<?, ?it/s]"
      ]
     },
     "metadata": {},
     "output_type": "display_data"
    },
    {
     "name": "stdout",
     "output_type": "stream",
     "text": [
      "光大银行-账户信息-关联子账户信息.xlsx => 未找到对应配置，跳过\n",
      "光大银行-账户信息-客户基本信息.xlsx => 央地协查:客户\n",
      "光大银行-账户信息-账户基本信息.xlsx => 央地协查:账户\n",
      "王瑞霞]光大银行-交易流水-交易流水记录.xlsx => 央地协查:流水\n",
      "以下为发生错误文件：\n",
      "光大银行-账户信息-关联子账户信息.xlsx => 未找到对应配置，跳过\n"
     ]
    }
   ],
   "source": [
    "from corelibs.process import process_files_accs_then_stats\n",
    "base_dir = pathlib.Path(r\"/mnt/d/gitcodes/testdata/000615/王瑞霞_410527198607032042/\")\n",
    "doc_No = 'aaa'\n",
    "_file_names = list(base_dir.glob('*光大*.xlsx')) # 找到目录中所有的excel文件（不含子目录）\n",
    "process_files_accs_then_stats(_file_names, OUTPUT_DIR_PATH, doc_No)"
   ]
  },
  {
   "cell_type": "markdown",
   "id": "e38f6e5b-adc8-499c-95f2-56bf2086b07e",
   "metadata": {
    "extensions": {
     "jupyter_dashboards": {
      "activeView": "grid_default",
      "views": {
       "grid_default": {
        "col": null,
        "height": 2,
        "hidden": true,
        "row": null,
        "width": 2
       }
      }
     }
    }
   },
   "source": [
    "# 杂项"
   ]
  },
  {
   "cell_type": "code",
   "execution_count": 5,
   "id": "e875a81d",
   "metadata": {},
   "outputs": [
    {
     "name": "stdout",
     "output_type": "stream",
     "text": [
      "   a  b   d\n",
      "0  1  1  13\n",
      "1  2  2  14\n",
      "2  1  1  15\n",
      "3  5  5  16\n",
      "   a  b   c\n",
      "0  1  5   9\n",
      "1  2  6  10\n",
      "2  3  7  11\n",
      "3  4  8  12\n"
     ]
    },
    {
     "data": {
      "text/html": [
       "<div>\n",
       "<style scoped>\n",
       "    .dataframe tbody tr th:only-of-type {\n",
       "        vertical-align: middle;\n",
       "    }\n",
       "\n",
       "    .dataframe tbody tr th {\n",
       "        vertical-align: top;\n",
       "    }\n",
       "\n",
       "    .dataframe thead th {\n",
       "        text-align: right;\n",
       "    }\n",
       "</style>\n",
       "<table border=\"1\" class=\"dataframe\">\n",
       "  <thead>\n",
       "    <tr style=\"text-align: right;\">\n",
       "      <th></th>\n",
       "      <th>a</th>\n",
       "      <th>b_x</th>\n",
       "      <th>d</th>\n",
       "      <th>b_y</th>\n",
       "      <th>c</th>\n",
       "    </tr>\n",
       "  </thead>\n",
       "  <tbody>\n",
       "    <tr>\n",
       "      <th>0</th>\n",
       "      <td>1</td>\n",
       "      <td>1</td>\n",
       "      <td>13</td>\n",
       "      <td>5.0</td>\n",
       "      <td>9.0</td>\n",
       "    </tr>\n",
       "    <tr>\n",
       "      <th>1</th>\n",
       "      <td>2</td>\n",
       "      <td>2</td>\n",
       "      <td>14</td>\n",
       "      <td>6.0</td>\n",
       "      <td>10.0</td>\n",
       "    </tr>\n",
       "    <tr>\n",
       "      <th>2</th>\n",
       "      <td>1</td>\n",
       "      <td>1</td>\n",
       "      <td>15</td>\n",
       "      <td>5.0</td>\n",
       "      <td>9.0</td>\n",
       "    </tr>\n",
       "    <tr>\n",
       "      <th>3</th>\n",
       "      <td>5</td>\n",
       "      <td>5</td>\n",
       "      <td>16</td>\n",
       "      <td>NaN</td>\n",
       "      <td>16.0</td>\n",
       "    </tr>\n",
       "  </tbody>\n",
       "</table>\n",
       "</div>"
      ],
      "text/plain": [
       "   a  b_x   d  b_y     c\n",
       "0  1    1  13  5.0   9.0\n",
       "1  2    2  14  6.0  10.0\n",
       "2  1    1  15  5.0   9.0\n",
       "3  5    5  16  NaN  16.0"
      ]
     },
     "execution_count": 5,
     "metadata": {},
     "output_type": "execute_result"
    }
   ],
   "source": [
    "import pandas as pd\n",
    "df2 = pd.DataFrame({'a':[1,2,3,4],'b':[5,6,7,8],'c':[9,10,11,12]})\n",
    "df1 = pd.DataFrame({'a':[1,2,1,5],'b':[1,2,1,5],'d':[13,14,15,16]})\n",
    "print(df1)\n",
    "print(df2)\n",
    "a = pd.merge(df1,df2,left_on='a',right_on='a', how='left', validate='m:1', copy=False)\n",
    "a['c'].where(a['c'].notnull(), a['d'], inplace=True)\n",
    "a"
   ]
  },
  {
   "cell_type": "code",
   "execution_count": 19,
   "id": "ab04683f",
   "metadata": {},
   "outputs": [
    {
     "data": {
      "text/plain": [
       "[2, 3, 4, 5, 6, 7]"
      ]
     },
     "execution_count": 19,
     "metadata": {},
     "output_type": "execute_result"
    }
   ],
   "source": [
    "[1,2,3,4,5,6,7][1:]"
   ]
  }
 ],
 "metadata": {
  "extensions": {
   "jupyter_dashboards": {
    "activeView": "grid_default",
    "version": 1,
    "views": {
     "grid_default": {
      "cellMargin": 2,
      "defaultCellHeight": 60,
      "maxColumns": 12,
      "name": "grid",
      "type": "grid"
     }
    }
   }
  },
  "kernelspec": {
   "display_name": "Python 3 (ipykernel)",
   "language": "python",
   "name": "python3"
  },
  "language_info": {
   "codemirror_mode": {
    "name": "ipython",
    "version": 3
   },
   "file_extension": ".py",
   "mimetype": "text/x-python",
   "name": "python",
   "nbconvert_exporter": "python",
   "pygments_lexer": "ipython3",
   "version": "3.11.7"
  },
  "toc-autonumbering": true,
  "toc-showcode": false,
  "toc-showmarkdowntxt": false,
  "toc-showtags": false,
  "widgets": {
   "application/vnd.jupyter.widget-state+json": {
    "state": {},
    "version_major": 2,
    "version_minor": 0
   }
  }
 },
 "nbformat": 4,
 "nbformat_minor": 5
}
