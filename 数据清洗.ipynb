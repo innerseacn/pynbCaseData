{
 "cells": [
  {
   "cell_type": "markdown",
   "id": "9bb29211-2b71-4cf9-bccd-71d98c7742d1",
   "metadata": {},
   "source": [
    "# 导入文件"
   ]
  },
  {
   "cell_type": "code",
   "execution_count": 1,
   "id": "1ecad92f-2217-45d9-8ca5-dd04379f772a",
   "metadata": {
    "execution": {
     "iopub.execute_input": "2023-12-13T06:20:46.198186Z",
     "iopub.status.busy": "2023-12-13T06:20:46.197186Z",
     "iopub.status.idle": "2023-12-13T06:20:46.680214Z",
     "shell.execute_reply": "2023-12-13T06:20:46.680214Z",
     "shell.execute_reply.started": "2023-12-13T06:20:46.197186Z"
    },
    "tags": []
   },
   "outputs": [
    {
     "data": {
      "text/plain": [
       "['Sheet1', 'Sheet2', 'Sheet3']"
      ]
     },
     "execution_count": 1,
     "metadata": {},
     "output_type": "execute_result"
    }
   ],
   "source": [
    "import pandas as pd\n",
    "import pathlib\n",
    "base_path = pathlib.Path(r\"E:\\张楠\\2023赵益华927\\银行\\天津银行\\滨监查询（2023）05217.xls\")\n",
    "output_dir_path = pathlib.Path(r\"E:\\张楠\\测试\\output\")\n",
    "excel_file = pd.ExcelFile(base_path)\n",
    "excel_file.sheet_names"
   ]
  },
  {
   "cell_type": "code",
   "execution_count": null,
   "id": "0ce60144-d74f-4928-95a0-6b638e7c7c16",
   "metadata": {
    "tags": []
   },
   "outputs": [],
   "source": [
    "import json\n",
    "with open('config.json', 'r', encoding='utf-8') as f:\n",
    "    CONF_DATA = json.load(f)\n",
    "    BANK_CONF = CONF_DATA['bank_conf']"
   ]
  },
  {
   "cell_type": "markdown",
   "id": "47285952-2261-43d5-b3c1-3e8e32808517",
   "metadata": {},
   "source": [
    "# 自定义函数及测试"
   ]
  },
  {
   "cell_type": "code",
   "execution_count": 5,
   "id": "1f5d2a53-336a-49f2-9be6-280dffaef912",
   "metadata": {
    "execution": {
     "iopub.execute_input": "2023-12-13T06:34:47.191288Z",
     "iopub.status.busy": "2023-12-13T06:34:47.190288Z",
     "iopub.status.idle": "2023-12-13T06:34:47.204289Z",
     "shell.execute_reply": "2023-12-13T06:34:47.203289Z",
     "shell.execute_reply.started": "2023-12-13T06:34:47.191288Z"
    },
    "tags": []
   },
   "outputs": [],
   "source": [
    "%run corelibs.py"
   ]
  },
  {
   "cell_type": "code",
   "execution_count": null,
   "id": "452dd77a-1ebb-44de-b9f4-02389530269e",
   "metadata": {
    "tags": []
   },
   "outputs": [],
   "source": [
    "df = parse_account_bot(excel_file)\n",
    "df"
   ]
  },
  {
   "cell_type": "code",
   "execution_count": 10,
   "id": "4d4dd3c3-1970-422c-be93-c65745a940ac",
   "metadata": {
    "execution": {
     "iopub.execute_input": "2023-12-13T06:37:12.410594Z",
     "iopub.status.busy": "2023-12-13T06:37:12.409594Z",
     "iopub.status.idle": "2023-12-13T06:37:12.422595Z",
     "shell.execute_reply": "2023-12-13T06:37:12.421595Z",
     "shell.execute_reply.started": "2023-12-13T06:37:12.410594Z"
    },
    "tags": []
   },
   "outputs": [],
   "source": [
    "save_accounts(df, output_dir_path, '天津银行')"
   ]
  },
  {
   "cell_type": "markdown",
   "id": "f4a6a4e7-1a20-4a80-9188-a175e4e8ff01",
   "metadata": {},
   "source": [
    "# 执行"
   ]
  },
  {
   "cell_type": "code",
   "execution_count": 58,
   "id": "6ceebcde-eae2-4acf-9975-54eeeeeb537a",
   "metadata": {
    "execution": {
     "iopub.execute_input": "2023-12-13T06:18:52.318673Z",
     "iopub.status.busy": "2023-12-13T06:18:52.317672Z",
     "iopub.status.idle": "2023-12-13T06:18:52.340674Z",
     "shell.execute_reply": "2023-12-13T06:18:52.339674Z",
     "shell.execute_reply.started": "2023-12-13T06:18:52.318673Z"
    },
    "tags": []
   },
   "outputs": [],
   "source": []
  },
  {
   "cell_type": "markdown",
   "id": "e38f6e5b-adc8-499c-95f2-56bf2086b07e",
   "metadata": {},
   "source": [
    "# 杂项"
   ]
  },
  {
   "cell_type": "code",
   "execution_count": null,
   "id": "da578217-4a5d-4575-890e-370bfd803e7c",
   "metadata": {
    "scrolled": true,
    "tags": []
   },
   "outputs": [],
   "source": [
    "_file_path"
   ]
  },
  {
   "cell_type": "code",
   "execution_count": 44,
   "id": "da2a30e3-28b2-4628-b598-7906f80155a8",
   "metadata": {
    "execution": {
     "iopub.execute_input": "2023-12-13T05:47:40.239596Z",
     "iopub.status.busy": "2023-12-13T05:47:40.238596Z",
     "iopub.status.idle": "2023-12-13T05:47:40.254597Z",
     "shell.execute_reply": "2023-12-13T05:47:40.253597Z",
     "shell.execute_reply.started": "2023-12-13T05:47:40.239596Z"
    },
    "tags": []
   },
   "outputs": [],
   "source": [
    "_file_path.mkdir(parents=True, exist_ok=True)"
   ]
  },
  {
   "cell_type": "code",
   "execution_count": null,
   "id": "84a24fc9-8a76-4140-96d3-b86b13c805cd",
   "metadata": {
    "tags": []
   },
   "outputs": [],
   "source": [
    "import dtale as dt\n",
    "dt.show(dd, open_browser=True)"
   ]
  },
  {
   "cell_type": "code",
   "execution_count": null,
   "id": "784fd900-16fa-435b-81ef-d60149e21e2a",
   "metadata": {
    "tags": []
   },
   "outputs": [],
   "source": [
    "df.dtypes"
   ]
  }
 ],
 "metadata": {
  "kernelspec": {
   "display_name": "Python 3",
   "language": "python",
   "name": "python3"
  },
  "language_info": {
   "codemirror_mode": {
    "name": "ipython",
    "version": 3
   },
   "file_extension": ".py",
   "mimetype": "text/x-python",
   "name": "python",
   "nbconvert_exporter": "python",
   "pygments_lexer": "ipython3",
   "version": "3.8.9"
  },
  "toc-autonumbering": true,
  "toc-showcode": false,
  "toc-showmarkdowntxt": false,
  "toc-showtags": false,
  "widgets": {
   "application/vnd.jupyter.widget-state+json": {
    "state": {},
    "version_major": 2,
    "version_minor": 0
   }
  }
 },
 "nbformat": 4,
 "nbformat_minor": 5
}
