{
 "cells": [
  {
   "cell_type": "markdown",
   "id": "9bb29211-2b71-4cf9-bccd-71d98c7742d1",
   "metadata": {},
   "source": [
    "# 导入文件"
   ]
  },
  {
   "cell_type": "code",
   "execution_count": 1,
   "id": "1ecad92f-2217-45d9-8ca5-dd04379f772a",
   "metadata": {
    "execution": {
     "iopub.execute_input": "2023-12-28T13:18:16.959671Z",
     "iopub.status.busy": "2023-12-28T13:18:16.958671Z",
     "iopub.status.idle": "2023-12-28T13:18:22.599994Z",
     "shell.execute_reply": "2023-12-28T13:18:22.599994Z",
     "shell.execute_reply.started": "2023-12-28T13:18:16.959671Z"
    },
    "tags": []
   },
   "outputs": [
    {
     "data": {
      "text/plain": [
       "['Sheet1', 'Sheet2', 'Sheet3']"
      ]
     },
     "execution_count": 1,
     "metadata": {},
     "output_type": "execute_result"
    }
   ],
   "source": [
    "import pandas as pd\n",
    "import pathlib\n",
    "base_path = pathlib.Path(r\"E:\\张楠\\2023赵益华927\\银行\\天津银行\\滨监查询（2023）05217号.xls\")\n",
    "output_dir_path = pathlib.Path(r\"E:\\张楠\\测试\\output\")\n",
    "excel_file = pd.ExcelFile(base_path)\n",
    "excel_file.sheet_names"
   ]
  },
  {
   "cell_type": "code",
   "execution_count": 83,
   "id": "d1e7c85c-fe8e-4cb9-9e9d-4580ad99f335",
   "metadata": {
    "execution": {
     "iopub.execute_input": "2023-12-28T15:59:46.252867Z",
     "iopub.status.busy": "2023-12-28T15:59:46.251867Z",
     "iopub.status.idle": "2023-12-28T15:59:46.295869Z",
     "shell.execute_reply": "2023-12-28T15:59:46.288869Z",
     "shell.execute_reply.started": "2023-12-28T15:59:46.252867Z"
    },
    "tags": []
   },
   "outputs": [],
   "source": [
    "import yaml\n",
    "with open('config.yaml', 'r', encoding='utf-8') as f:\n",
    "    CONF_DATA = yaml.load(f, Loader=yaml.SafeLoader)"
   ]
  },
  {
   "cell_type": "code",
   "execution_count": null,
   "id": "a31875e9-4cde-4828-a56c-d9e678ce5099",
   "metadata": {
    "tags": []
   },
   "outputs": [],
   "source": [
    "CONF_DATA"
   ]
  },
  {
   "cell_type": "markdown",
   "id": "47285952-2261-43d5-b3c1-3e8e32808517",
   "metadata": {},
   "source": [
    "# 自定义函数及测试"
   ]
  },
  {
   "cell_type": "code",
   "execution_count": 114,
   "id": "1f5d2a53-336a-49f2-9be6-280dffaef912",
   "metadata": {
    "execution": {
     "iopub.execute_input": "2023-12-28T16:27:36.486399Z",
     "iopub.status.busy": "2023-12-28T16:27:36.485399Z",
     "iopub.status.idle": "2023-12-28T16:27:36.519401Z",
     "shell.execute_reply": "2023-12-28T16:27:36.518401Z",
     "shell.execute_reply.started": "2023-12-28T16:27:36.486399Z"
    },
    "tags": []
   },
   "outputs": [],
   "source": [
    "%run corelibs.py"
   ]
  },
  {
   "cell_type": "code",
   "execution_count": null,
   "id": "452dd77a-1ebb-44de-b9f4-02389530269e",
   "metadata": {
    "scrolled": true,
    "tags": []
   },
   "outputs": [],
   "source": [
    "df = parse_sheet_general(excel_file,0,CONF_DATA['天津银行']['流水'])\n",
    "df.info()"
   ]
  },
  {
   "cell_type": "code",
   "execution_count": 43,
   "id": "4d4dd3c3-1970-422c-be93-c65745a940ac",
   "metadata": {
    "execution": {
     "iopub.execute_input": "2023-12-17T06:35:32.295987Z",
     "iopub.status.busy": "2023-12-17T06:35:32.295987Z",
     "iopub.status.idle": "2023-12-17T06:35:32.374991Z",
     "shell.execute_reply": "2023-12-17T06:35:32.374991Z",
     "shell.execute_reply.started": "2023-12-17T06:35:32.295987Z"
    },
    "scrolled": true,
    "tags": []
   },
   "outputs": [],
   "source": [
    "save_accounts(df, output_dir_path, '天津银行')"
   ]
  },
  {
   "cell_type": "code",
   "execution_count": 116,
   "id": "92fda6d4-086f-4e9e-9de4-67f0f6237807",
   "metadata": {
    "execution": {
     "iopub.execute_input": "2023-12-28T16:28:32.403597Z",
     "iopub.status.busy": "2023-12-28T16:28:32.402597Z",
     "iopub.status.idle": "2023-12-28T16:28:49.341566Z",
     "shell.execute_reply": "2023-12-28T16:28:49.340566Z",
     "shell.execute_reply.started": "2023-12-28T16:28:32.403597Z"
    },
    "tags": []
   },
   "outputs": [
    {
     "name": "stderr",
     "output_type": "stream",
     "text": [
      "100%|██████████████████████████████████████████████████████████████████████████████████| 33/33 [00:16<00:00,  1.95it/s]\n"
     ]
    },
    {
     "data": {
      "text/plain": [
       "26324"
      ]
     },
     "execution_count": 116,
     "metadata": {},
     "output_type": "execute_result"
    }
   ],
   "source": [
    "grouped = df.groupby('账号')\n",
    "df_list = [x.reset_index(drop=True) for _ , x in grouped]\n",
    "save_statements(df_list, output_dir_path, '天津银行')"
   ]
  },
  {
   "cell_type": "code",
   "execution_count": 20,
   "id": "f5b55f3a-9ee9-4a63-823d-fffe61b5483b",
   "metadata": {
    "execution": {
     "iopub.execute_input": "2023-12-17T01:52:30.121310Z",
     "iopub.status.busy": "2023-12-17T01:52:30.119310Z",
     "iopub.status.idle": "2023-12-17T01:52:30.135311Z",
     "shell.execute_reply": "2023-12-17T01:52:30.133311Z",
     "shell.execute_reply.started": "2023-12-17T01:52:30.121310Z"
    }
   },
   "outputs": [
    {
     "data": {
      "text/plain": [
       "False"
      ]
     },
     "execution_count": 20,
     "metadata": {},
     "output_type": "execute_result"
    }
   ],
   "source": [
    "verify_data(df, CONF_DATA['天津银行']['账户']['verify_cols'])"
   ]
  },
  {
   "cell_type": "code",
   "execution_count": null,
   "id": "5f4d6637-4957-47b4-b37b-8b2269912197",
   "metadata": {
    "tags": []
   },
   "outputs": [],
   "source": [
    "df_list"
   ]
  },
  {
   "cell_type": "code",
   "execution_count": 99,
   "id": "4cdf988e-d1b8-4060-b022-7f260a68449f",
   "metadata": {
    "execution": {
     "iopub.execute_input": "2023-12-28T16:12:08.741335Z",
     "iopub.status.busy": "2023-12-28T16:12:08.740335Z",
     "iopub.status.idle": "2023-12-28T16:12:08.753335Z",
     "shell.execute_reply": "2023-12-28T16:12:08.749335Z",
     "shell.execute_reply.started": "2023-12-28T16:12:08.741335Z"
    },
    "tags": []
   },
   "outputs": [
    {
     "data": {
      "text/plain": [
       "177.0"
      ]
     },
     "execution_count": 99,
     "metadata": {},
     "output_type": "execute_result"
    }
   ],
   "source": [
    "int(df[['出账金额','入账金额','余额']].max().max() // 10000 +1)"
   ]
  },
  {
   "cell_type": "code",
   "execution_count": 102,
   "id": "32a8b198-dfa2-4979-a5fb-421802f649c5",
   "metadata": {
    "execution": {
     "iopub.execute_input": "2023-12-28T16:13:13.682049Z",
     "iopub.status.busy": "2023-12-28T16:13:13.681049Z",
     "iopub.status.idle": "2023-12-28T16:13:13.695050Z",
     "shell.execute_reply": "2023-12-28T16:13:13.694050Z",
     "shell.execute_reply.started": "2023-12-28T16:13:13.682049Z"
    },
    "tags": []
   },
   "outputs": [
    {
     "data": {
      "text/plain": [
       "1"
      ]
     },
     "execution_count": 102,
     "metadata": {},
     "output_type": "execute_result"
    }
   ],
   "source": [
    "int(0.33 // 10000 +1)\n"
   ]
  },
  {
   "cell_type": "markdown",
   "id": "f4a6a4e7-1a20-4a80-9188-a175e4e8ff01",
   "metadata": {},
   "source": [
    "# 执行"
   ]
  },
  {
   "cell_type": "code",
   "execution_count": null,
   "id": "f0868541-8560-4f0c-9ba9-d6c2ff5e43ae",
   "metadata": {
    "tags": []
   },
   "outputs": [],
   "source": [
    "cdid = CONF_DATA['天津银行']['流水']['CDid']\n",
    "_C_crit = df[cdid['CD_col']] == cdid['C']\n",
    "df[cdid['C_col']] = df[cdid['trans_col']][_C_crit]\n",
    "df[cdid['D_col']] = df[cdid['trans_col']][~_C_crit]\n",
    "df"
   ]
  },
  {
   "cell_type": "code",
   "execution_count": 79,
   "id": "6ceebcde-eae2-4acf-9975-54eeeeeb537a",
   "metadata": {
    "execution": {
     "iopub.execute_input": "2023-12-28T15:57:38.296548Z",
     "iopub.status.busy": "2023-12-28T15:57:38.295548Z",
     "iopub.status.idle": "2023-12-28T15:57:38.428556Z",
     "shell.execute_reply": "2023-12-28T15:57:38.428556Z",
     "shell.execute_reply.started": "2023-12-28T15:57:38.296548Z"
    },
    "scrolled": true,
    "tags": []
   },
   "outputs": [
    {
     "name": "stdout",
     "output_type": "stream",
     "text": [
      "<class 'pandas.core.frame.DataFrame'>\n",
      "RangeIndex: 5 entries, 0 to 4\n",
      "Data columns (total 21 columns):\n",
      " #   Column      Non-Null Count  Dtype  \n",
      "---  ------      --------------  -----  \n",
      " 0   我行账号（卡号）    5 non-null      object \n",
      " 1   我方银行名称      5 non-null      object \n",
      " 2   我方中文名称      5 non-null      object \n",
      " 3   身份证号        5 non-null      object \n",
      " 4   交易日期        5 non-null      object \n",
      " 5   对方账号（卡号）    0 non-null      object \n",
      " 6   对方中文名称      0 non-null      object \n",
      " 7   对方银行名称      0 non-null      object \n",
      " 8   对方银行机构代码    0 non-null      object \n",
      " 9   流水号         5 non-null      object \n",
      " 10  借贷标志        5 non-null      object \n",
      " 11  交易金额        5 non-null      float64\n",
      " 12  币种          5 non-null      object \n",
      " 13  余额          5 non-null      object \n",
      " 14  网银IP地址      0 non-null      object \n",
      " 15  交易代码（交易渠道）  0 non-null      object \n",
      " 16  代码描述        0 non-null      object \n",
      " 17  用途（摘要）      5 non-null      object \n",
      " 18  受理机构代码      0 non-null      object \n",
      " 19  受理机构名称      0 non-null      object \n",
      " 20  交易是否成功      5 non-null      object \n",
      "dtypes: float64(1), object(20)\n",
      "memory usage: 968.0+ bytes\n"
     ]
    },
    {
     "name": "stderr",
     "output_type": "stream",
     "text": [
      "<ipython-input-79-087af9062ae1>:1: ParserWarning: Both a converter and dtype were specified for column 交易金额 - only the converter will be used\n",
      "  df = excel_file.parse(sheet_name=0, header=0, skiprows=0, nrows=5, dtype=str, converters={'交易金额':float})\n"
     ]
    }
   ],
   "source": [
    "df = excel_file.parse(sheet_name=0, header=0, skiprows=0, nrows=5, dtype=str, converters={'交易金额':float})\n",
    "df.info()"
   ]
  },
  {
   "cell_type": "code",
   "execution_count": null,
   "id": "7ce7fdd4-0a10-45d6-931a-c18c8f015271",
   "metadata": {
    "tags": []
   },
   "outputs": [],
   "source": [
    "df.info()"
   ]
  },
  {
   "cell_type": "code",
   "execution_count": 85,
   "id": "5b7c4f3a-3806-48ce-b6a6-d3ab6fe9c761",
   "metadata": {
    "execution": {
     "iopub.execute_input": "2023-12-28T16:00:02.177778Z",
     "iopub.status.busy": "2023-12-28T16:00:02.176778Z",
     "iopub.status.idle": "2023-12-28T16:00:02.200779Z",
     "shell.execute_reply": "2023-12-28T16:00:02.190778Z",
     "shell.execute_reply.started": "2023-12-28T16:00:02.177778Z"
    },
    "tags": []
   },
   "outputs": [
    {
     "data": {
      "text/plain": [
       "{'交易金额': float, '余额': float}"
      ]
     },
     "execution_count": 85,
     "metadata": {},
     "output_type": "execute_result"
    }
   ],
   "source": [
    "converters = {_col:float for _col in CONF_DATA['天津银行']['流水']['amount_cols']}\n",
    "converters"
   ]
  },
  {
   "cell_type": "markdown",
   "id": "e38f6e5b-adc8-499c-95f2-56bf2086b07e",
   "metadata": {},
   "source": [
    "# 杂项"
   ]
  },
  {
   "cell_type": "code",
   "execution_count": 18,
   "id": "da578217-4a5d-4575-890e-370bfd803e7c",
   "metadata": {
    "execution": {
     "iopub.execute_input": "2023-12-17T06:31:37.828576Z",
     "iopub.status.busy": "2023-12-17T06:31:37.827576Z",
     "iopub.status.idle": "2023-12-17T06:31:37.865578Z",
     "shell.execute_reply": "2023-12-17T06:31:37.859578Z",
     "shell.execute_reply.started": "2023-12-17T06:31:37.828576Z"
    },
    "scrolled": true,
    "tags": []
   },
   "outputs": [
    {
     "data": {
      "text/plain": [
       "WindowsPath('E:/张楠/2023赵益华927/银行/天津银行/滨监查询（2023）05217.xls')"
      ]
     },
     "execution_count": 18,
     "metadata": {},
     "output_type": "execute_result"
    }
   ],
   "source": [
    "base_path"
   ]
  },
  {
   "cell_type": "code",
   "execution_count": 19,
   "id": "da2a30e3-28b2-4628-b598-7906f80155a8",
   "metadata": {
    "execution": {
     "iopub.execute_input": "2023-12-17T06:32:15.454728Z",
     "iopub.status.busy": "2023-12-17T06:32:15.454728Z",
     "iopub.status.idle": "2023-12-17T06:32:15.459728Z",
     "shell.execute_reply": "2023-12-17T06:32:15.459728Z",
     "shell.execute_reply.started": "2023-12-17T06:32:15.454728Z"
    },
    "tags": []
   },
   "outputs": [
    {
     "data": {
      "text/plain": [
       "True"
      ]
     },
     "execution_count": 19,
     "metadata": {},
     "output_type": "execute_result"
    }
   ],
   "source": [
    "base_path.exists()"
   ]
  },
  {
   "cell_type": "code",
   "execution_count": 51,
   "id": "dd21d350-1d2c-4fb6-b96b-b2211fdea038",
   "metadata": {
    "execution": {
     "iopub.execute_input": "2023-12-28T15:03:46.875721Z",
     "iopub.status.busy": "2023-12-28T15:03:46.875721Z",
     "iopub.status.idle": "2023-12-28T15:03:47.141737Z",
     "shell.execute_reply": "2023-12-28T15:03:47.140737Z",
     "shell.execute_reply.started": "2023-12-28T15:03:46.875721Z"
    },
    "tags": []
   },
   "outputs": [],
   "source": [
    "import tqdm"
   ]
  }
 ],
 "metadata": {
  "kernelspec": {
   "display_name": "Python 3",
   "language": "python",
   "name": "python3"
  },
  "language_info": {
   "codemirror_mode": {
    "name": "ipython",
    "version": 3
   },
   "file_extension": ".py",
   "mimetype": "text/x-python",
   "name": "python",
   "nbconvert_exporter": "python",
   "pygments_lexer": "ipython3",
   "version": "3.8.9"
  },
  "toc-autonumbering": true,
  "toc-showcode": false,
  "toc-showmarkdowntxt": false,
  "toc-showtags": false,
  "widgets": {
   "application/vnd.jupyter.widget-state+json": {
    "state": {},
    "version_major": 2,
    "version_minor": 0
   }
  }
 },
 "nbformat": 4,
 "nbformat_minor": 5
}
