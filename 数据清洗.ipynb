{
 "cells": [
  {
   "cell_type": "markdown",
   "id": "9bb29211-2b71-4cf9-bccd-71d98c7742d1",
   "metadata": {},
   "source": [
    "# 加载库函数及导入文件"
   ]
  },
  {
   "cell_type": "code",
   "execution_count": 15,
   "id": "91c9702d-7a03-4cd0-aa54-51ec596c95d2",
   "metadata": {
    "execution": {
     "iopub.execute_input": "2024-01-20T10:15:44.393355Z",
     "iopub.status.busy": "2024-01-20T10:15:44.392355Z",
     "iopub.status.idle": "2024-01-20T10:15:44.441358Z",
     "shell.execute_reply": "2024-01-20T10:15:44.439358Z",
     "shell.execute_reply.started": "2024-01-20T10:15:44.393355Z"
    },
    "tags": []
   },
   "outputs": [
    {
     "name": "stdout",
     "output_type": "stream",
     "text": [
      "E:\\张楠\\2023赵益华927\\银行\\建行\\第一批 赵益华等9人\n",
      "E:\\张楠\\测试\\output\n"
     ]
    }
   ],
   "source": [
    "base_path = pathlib.Path(r\"E:\\张楠\\2023赵益华927\\银行\\建行\\第一批 赵益华等9人\")\n",
    "output_dir_path = pathlib.Path(r\"E:\\张楠\\测试\\output\")\n",
    "print(base_path)\n",
    "print(output_dir_path)"
   ]
  },
  {
   "cell_type": "markdown",
   "id": "47285952-2261-43d5-b3c1-3e8e32808517",
   "metadata": {},
   "source": [
    "# 测试"
   ]
  },
  {
   "cell_type": "code",
   "execution_count": null,
   "id": "e62e0853-b739-4859-8f5f-7616f410f657",
   "metadata": {},
   "outputs": [],
   "source": [
    "if base_path.is_dir():\n",
    "    for  _p in base_path.rglob('*.xlsx'):\n",
    "        print(_p)"
   ]
  },
  {
   "cell_type": "markdown",
   "id": "227befc1-bd9e-4c60-9e0d-8de882c00379",
   "metadata": {},
   "source": [
    "## 提取excel表头"
   ]
  },
  {
   "cell_type": "code",
   "execution_count": 109,
   "id": "739c375b-093b-4a53-a0df-d9ba93db21dd",
   "metadata": {
    "execution": {
     "iopub.execute_input": "2024-01-20T12:38:07.658002Z",
     "iopub.status.busy": "2024-01-20T12:38:07.658002Z",
     "iopub.status.idle": "2024-01-20T12:38:13.418331Z",
     "shell.execute_reply": "2024-01-20T12:38:13.418331Z",
     "shell.execute_reply.started": "2024-01-20T12:38:07.658002Z"
    },
    "tags": []
   },
   "outputs": [
    {
     "name": "stderr",
     "output_type": "stream",
     "text": [
      "D:\\soft\\WPy64-3890\\python-3.8.9.amd64\\lib\\site-packages\\openpyxl\\styles\\stylesheet.py:221: UserWarning:\n",
      "\n",
      "Workbook contains no default style, apply openpyxl's default\n",
      "\n"
     ]
    },
    {
     "data": {
      "text/plain": [
       "Index(['序号', '客户名称', '账号', '币种', '钞汇', '册号', '笔号', '交易日期', '交易时间', '活期存款账户明细号',\n",
       "       '交易卡号', '摘要', '借贷方向', '交易金额', '账户余额', '柜员号', '交易机构号', '交易机构名称', '对方账号',\n",
       "       '对方户名', '对方行名', '交易流水号', '交易渠道', '自助设备编号', '扩充备注', 'IP地址', 'MAC地址',\n",
       "       '第三方订单号', '商户号', '商户名称'],\n",
       "      dtype='object')"
      ]
     },
     "execution_count": 109,
     "metadata": {},
     "output_type": "execute_result"
    }
   ],
   "source": [
    "acc_file = pathlib.Path(r\"E:\\张楠\\2023赵益华927\\银行\\建行\\第一批 赵益华等9人\\1080861461690963794022777_1_1赵益华.xlsx\")\n",
    "acc_file = pathlib.Path(r\"E:\\张楠\\2023赵益华927\\银行\\建行\\第一批 赵益华等9人\\1080861461690963794022777_16_1_watermark.xlsx\")\n",
    "pd.read_excel(acc_file, sheet_name=0, header=0, nrows=0).columns"
   ]
  },
  {
   "cell_type": "markdown",
   "id": "e80b0e3f-d4da-484c-9a45-a88320f80c56",
   "metadata": {},
   "source": [
    "## 测试yaml配置文件语法"
   ]
  },
  {
   "cell_type": "code",
   "execution_count": 101,
   "id": "64d600ca-579b-4f44-9e8f-585c5722395e",
   "metadata": {
    "execution": {
     "iopub.execute_input": "2024-01-20T12:35:05.011555Z",
     "iopub.status.busy": "2024-01-20T12:35:05.010555Z",
     "iopub.status.idle": "2024-01-20T12:35:05.050557Z",
     "shell.execute_reply": "2024-01-20T12:35:05.049557Z",
     "shell.execute_reply.started": "2024-01-20T12:35:05.011555Z"
    },
    "tags": []
   },
   "outputs": [],
   "source": [
    "import yaml\n",
    "with open('config.yaml', 'r', encoding='utf-8') as f:\n",
    "    CONF_DATA = yaml.safe_load(f)"
   ]
  },
  {
   "cell_type": "code",
   "execution_count": null,
   "id": "5e3570bd-0ecb-4ac5-a8de-ae180700eb0d",
   "metadata": {
    "tags": []
   },
   "outputs": [],
   "source": [
    "CONF_DATA"
   ]
  },
  {
   "cell_type": "markdown",
   "id": "d8fc250a-994c-400c-9257-4df57d019f8d",
   "metadata": {},
   "source": [
    "## 测试配置转换内部操作表示功能"
   ]
  },
  {
   "cell_type": "code",
   "execution_count": 104,
   "id": "476a9b63-954b-4a42-b068-50965cad2370",
   "metadata": {
    "execution": {
     "iopub.execute_input": "2024-01-20T12:35:51.590219Z",
     "iopub.status.busy": "2024-01-20T12:35:51.590219Z",
     "iopub.status.idle": "2024-01-20T12:35:51.629221Z",
     "shell.execute_reply": "2024-01-20T12:35:51.628221Z",
     "shell.execute_reply.started": "2024-01-20T12:35:51.590219Z"
    },
    "tags": []
   },
   "outputs": [],
   "source": [
    "%run corelibs.py\n",
    "conf_obj = creat_conf_obj(CONF_DATA['建设银行网点']['账户'])"
   ]
  },
  {
   "cell_type": "code",
   "execution_count": 105,
   "id": "aba05c44-03cc-4d51-a5c4-70d6fff6cd7d",
   "metadata": {
    "execution": {
     "iopub.execute_input": "2024-01-20T12:35:52.553274Z",
     "iopub.status.busy": "2024-01-20T12:35:52.552274Z",
     "iopub.status.idle": "2024-01-20T12:35:52.569275Z",
     "shell.execute_reply": "2024-01-20T12:35:52.567275Z",
     "shell.execute_reply.started": "2024-01-20T12:35:52.553274Z"
    },
    "tags": []
   },
   "outputs": [
    {
     "data": {
      "text/plain": [
       "Conf_tpl(new_cols={'银行': '建设银行'}, verify_cols={'账户名称': True, '证件号码': True, '账号': True}, col_name_map={'账户名称': '姓名', '移动电话': '电话', '借记卡主账户账号': '账号', '账号': '卡号', '开户机构名称': '开户机构', '销户机构名称': '销户机构'}, merge_2cols={'地址': ['居住地址', '户籍地址']}, date_cols={}, time_cols={}, digi_cols={}, cdid={}, fill_cols={'借记卡主账户账号': ['借记卡主账户账号', None, '账号']}, cols_new_order=['银行', '姓名', '证件号码', '电话', '地址', '工作单位', '账号', '卡号', '币种', '余额', '开户日期', '开户机构', '上次交易日', '账户状态', '销户日期', '销户机构', '可用余额', '可冻结金额', '账户性质', '资金用途', '账户类型', '钞汇', '存款种类', '借记卡介质状态', '借记卡挂失状态', '固定电话', '居住地址', '单位地址', '户籍地址', '法人名称', '法人证件类型', '法人证件号码', '结算账户分类代码', '可售产品编号', '可售产品名称', '证件类型', '客户编号', '册号', '笔号', '开户机构号', '开户柜员号', '销户机构号'])"
      ]
     },
     "execution_count": 105,
     "metadata": {},
     "output_type": "execute_result"
    }
   ],
   "source": [
    "conf_obj"
   ]
  },
  {
   "cell_type": "markdown",
   "id": "cc1c51f7-05f4-4f18-a59e-7e75057a0e12",
   "metadata": {},
   "source": [
    "##  测试单个账户文件读取及储存"
   ]
  },
  {
   "cell_type": "code",
   "execution_count": 106,
   "id": "b728cc67-8dd6-4f6f-86ca-85b5d4c5915f",
   "metadata": {
    "execution": {
     "iopub.execute_input": "2024-01-20T12:36:17.929726Z",
     "iopub.status.busy": "2024-01-20T12:36:17.928726Z",
     "iopub.status.idle": "2024-01-20T12:36:18.010730Z",
     "shell.execute_reply": "2024-01-20T12:36:18.009730Z",
     "shell.execute_reply.started": "2024-01-20T12:36:17.929726Z"
    },
    "scrolled": true,
    "tags": []
   },
   "outputs": [
    {
     "name": "stderr",
     "output_type": "stream",
     "text": [
      "D:\\soft\\WPy64-3890\\python-3.8.9.amd64\\lib\\site-packages\\openpyxl\\styles\\stylesheet.py:221: UserWarning:\n",
      "\n",
      "Workbook contains no default style, apply openpyxl's default\n",
      "\n"
     ]
    }
   ],
   "source": [
    "%run corelibs.py\n",
    "acc_file = pathlib.Path(r\"E:\\张楠\\2023赵益华927\\银行\\建行\\第一批 赵益华等9人\\1080861461690963794022777_1_1赵益华.xlsx\")\n",
    "conf_data = CONF_DATA['建设银行网点']['账户']\n",
    "conf_obj = creat_conf_obj(conf_data)\n",
    "df = parse_sheet_general(acc_file,0,conf_obj)"
   ]
  },
  {
   "cell_type": "code",
   "execution_count": null,
   "id": "06bc365d-25d7-45cb-9b75-f7061edc4e99",
   "metadata": {
    "scrolled": true,
    "tags": []
   },
   "outputs": [],
   "source": [
    "df.info()"
   ]
  },
  {
   "cell_type": "code",
   "execution_count": null,
   "id": "b5c32d9b-1e73-4ca4-b90f-c09398bdc156",
   "metadata": {
    "tags": []
   },
   "outputs": [],
   "source": [
    "df.head()"
   ]
  },
  {
   "cell_type": "code",
   "execution_count": 45,
   "id": "4c6a8531-22dc-431d-9de6-faaf1aaa2e59",
   "metadata": {
    "execution": {
     "iopub.execute_input": "2024-01-20T11:09:03.306322Z",
     "iopub.status.busy": "2024-01-20T11:09:03.304322Z",
     "iopub.status.idle": "2024-01-20T11:09:05.461446Z",
     "shell.execute_reply": "2024-01-20T11:09:05.457445Z",
     "shell.execute_reply.started": "2024-01-20T11:09:03.306322Z"
    },
    "tags": []
   },
   "outputs": [],
   "source": [
    "import dtale"
   ]
  },
  {
   "cell_type": "code",
   "execution_count": 108,
   "id": "7a55edcf-8ee2-49d4-b20b-43fcf01fb203",
   "metadata": {
    "execution": {
     "iopub.execute_input": "2024-01-20T12:36:38.056877Z",
     "iopub.status.busy": "2024-01-20T12:36:38.056877Z",
     "iopub.status.idle": "2024-01-20T12:36:39.216943Z",
     "shell.execute_reply": "2024-01-20T12:36:39.215943Z",
     "shell.execute_reply.started": "2024-01-20T12:36:38.056877Z"
    },
    "tags": []
   },
   "outputs": [
    {
     "data": {
      "text/plain": []
     },
     "execution_count": 108,
     "metadata": {},
     "output_type": "execute_result"
    }
   ],
   "source": [
    "dtale.show(df, open_browser=True)"
   ]
  },
  {
   "cell_type": "code",
   "execution_count": 54,
   "id": "4d4dd3c3-1970-422c-be93-c65745a940ac",
   "metadata": {
    "execution": {
     "iopub.execute_input": "2024-01-20T11:21:25.235758Z",
     "iopub.status.busy": "2024-01-20T11:21:25.234758Z",
     "iopub.status.idle": "2024-01-20T11:21:25.806791Z",
     "shell.execute_reply": "2024-01-20T11:21:25.805791Z",
     "shell.execute_reply.started": "2024-01-20T11:21:25.235758Z"
    },
    "scrolled": true,
    "tags": []
   },
   "outputs": [
    {
     "data": {
      "text/plain": [
       "8"
      ]
     },
     "execution_count": 54,
     "metadata": {},
     "output_type": "execute_result"
    }
   ],
   "source": [
    "save_accounts(df, output_dir_path, conf_data['银行'])"
   ]
  },
  {
   "cell_type": "markdown",
   "id": "e04e09e8-f459-4ef1-8e78-21129befdfc8",
   "metadata": {},
   "source": [
    "## 测试单个流水文件的读取与储存"
   ]
  },
  {
   "cell_type": "code",
   "execution_count": 74,
   "id": "2e69131f-f611-4d93-858c-1cd5cd890949",
   "metadata": {
    "execution": {
     "iopub.execute_input": "2024-01-20T12:09:52.902067Z",
     "iopub.status.busy": "2024-01-20T12:09:52.901067Z",
     "iopub.status.idle": "2024-01-20T12:09:53.901124Z",
     "shell.execute_reply": "2024-01-20T12:09:53.900124Z",
     "shell.execute_reply.started": "2024-01-20T12:09:52.902067Z"
    },
    "tags": []
   },
   "outputs": [],
   "source": [
    "%run corelibs.py\n",
    "acc_file = pathlib.Path(r\"E:\\张楠\\2023赵益华927\\银行\\建行\\第一批 赵益华等9人\\1080861461690963794022777_1_1赵益华.xlsx\")\n",
    "conf_data = CONF_DATA['建设银行网点']['流水']\n",
    "# acc_file = pathlib.Path(r\"E:\\张楠\\2023赵益华927\\银行\\天津银行\\滨监查询（2023）05217号.xls\")\n",
    "# conf_data = CONF_DATA['天津银行']['流水']\n",
    "conf_obj = creat_conf_obj(conf_data)\n",
    "df = parse_sheet_general(acc_file,0,conf_obj)"
   ]
  },
  {
   "cell_type": "code",
   "execution_count": null,
   "id": "100173f7-827a-4e5f-962b-be86b6a92e2c",
   "metadata": {
    "execution": {
     "iopub.status.busy": "2024-01-20T10:46:16.972172Z",
     "iopub.status.idle": "2024-01-20T10:46:16.973173Z",
     "shell.execute_reply": "2024-01-20T10:46:16.973173Z"
    },
    "scrolled": true,
    "tags": []
   },
   "outputs": [],
   "source": [
    "df.info()"
   ]
  },
  {
   "cell_type": "code",
   "execution_count": null,
   "id": "f3cb352f-dc5a-42c4-98ff-67a51d376385",
   "metadata": {
    "tags": []
   },
   "outputs": [],
   "source": [
    "df"
   ]
  },
  {
   "cell_type": "code",
   "execution_count": null,
   "id": "ce9d7bf8-3c8a-4224-92ba-c1e540cc8210",
   "metadata": {
    "tags": []
   },
   "outputs": [],
   "source": [
    "grouped = df.groupby('账号')\n",
    "df_list = [x.reset_index(drop=True) for _ , x in grouped]\n",
    "save_statements(df_list, output_dir_path, conf_data['银行'],\"津滨查询(2023)138号\")"
   ]
  },
  {
   "cell_type": "markdown",
   "id": "f4a6a4e7-1a20-4a80-9188-a175e4e8ff01",
   "metadata": {},
   "source": [
    "# 执行"
   ]
  },
  {
   "cell_type": "code",
   "execution_count": null,
   "id": "6ceebcde-eae2-4acf-9975-54eeeeeb537a",
   "metadata": {
    "scrolled": true,
    "tags": []
   },
   "outputs": [],
   "source": [
    "df = excel_file.parse(sheet_name=0, header=0, skiprows=0, nrows=5, dtype=str, converters={'交易金额':float})\n",
    "df.info()"
   ]
  },
  {
   "cell_type": "code",
   "execution_count": null,
   "id": "7ce7fdd4-0a10-45d6-931a-c18c8f015271",
   "metadata": {
    "tags": []
   },
   "outputs": [],
   "source": [
    "pd.to_datetime(df['交易日期']).dt.time"
   ]
  },
  {
   "cell_type": "code",
   "execution_count": 85,
   "id": "5b7c4f3a-3806-48ce-b6a6-d3ab6fe9c761",
   "metadata": {
    "execution": {
     "iopub.execute_input": "2023-12-28T16:00:02.177778Z",
     "iopub.status.busy": "2023-12-28T16:00:02.176778Z",
     "iopub.status.idle": "2023-12-28T16:00:02.200779Z",
     "shell.execute_reply": "2023-12-28T16:00:02.190778Z",
     "shell.execute_reply.started": "2023-12-28T16:00:02.177778Z"
    },
    "tags": []
   },
   "outputs": [
    {
     "data": {
      "text/plain": [
       "{'交易金额': float, '余额': float}"
      ]
     },
     "execution_count": 85,
     "metadata": {},
     "output_type": "execute_result"
    }
   ],
   "source": [
    "converters = {_col:float for _col in CONF_DATA['天津银行']['流水']['amount_cols']}\n",
    "converters"
   ]
  },
  {
   "cell_type": "markdown",
   "id": "e38f6e5b-adc8-499c-95f2-56bf2086b07e",
   "metadata": {},
   "source": [
    "# 杂项"
   ]
  },
  {
   "cell_type": "code",
   "execution_count": 45,
   "id": "da578217-4a5d-4575-890e-370bfd803e7c",
   "metadata": {
    "execution": {
     "iopub.execute_input": "2023-12-30T07:33:57.546990Z",
     "iopub.status.busy": "2023-12-30T07:33:57.545990Z",
     "iopub.status.idle": "2023-12-30T07:33:57.561991Z",
     "shell.execute_reply": "2023-12-30T07:33:57.560991Z",
     "shell.execute_reply.started": "2023-12-30T07:33:57.546990Z"
    },
    "scrolled": true,
    "tags": []
   },
   "outputs": [
    {
     "data": {
      "text/plain": [
       "WindowsPath('E:/张楠/2023赵益华927/银行/天津银行/滨监查询（2023）05217.xls')"
      ]
     },
     "execution_count": 45,
     "metadata": {},
     "output_type": "execute_result"
    }
   ],
   "source": [
    "base_path"
   ]
  },
  {
   "cell_type": "code",
   "execution_count": 86,
   "id": "da2a30e3-28b2-4628-b598-7906f80155a8",
   "metadata": {
    "execution": {
     "iopub.execute_input": "2024-01-20T12:27:09.557361Z",
     "iopub.status.busy": "2024-01-20T12:27:09.556360Z",
     "iopub.status.idle": "2024-01-20T12:27:09.601363Z",
     "shell.execute_reply": "2024-01-20T12:27:09.600363Z",
     "shell.execute_reply.started": "2024-01-20T12:27:09.557361Z"
    },
    "tags": []
   },
   "outputs": [
    {
     "data": {
      "text/html": [
       "<div>\n",
       "<style scoped>\n",
       "    .dataframe tbody tr th:only-of-type {\n",
       "        vertical-align: middle;\n",
       "    }\n",
       "\n",
       "    .dataframe tbody tr th {\n",
       "        vertical-align: top;\n",
       "    }\n",
       "\n",
       "    .dataframe thead th {\n",
       "        text-align: right;\n",
       "    }\n",
       "</style>\n",
       "<table border=\"1\" class=\"dataframe\">\n",
       "  <thead>\n",
       "    <tr style=\"text-align: right;\">\n",
       "      <th></th>\n",
       "      <th>银行</th>\n",
       "      <th>姓名</th>\n",
       "      <th>证件号码</th>\n",
       "      <th>电话</th>\n",
       "      <th>地址</th>\n",
       "      <th>工作单位</th>\n",
       "      <th>账号</th>\n",
       "      <th>卡号</th>\n",
       "      <th>币种</th>\n",
       "      <th>余额</th>\n",
       "      <th>...</th>\n",
       "      <th>结算账户分类代码</th>\n",
       "      <th>可售产品编号</th>\n",
       "      <th>可售产品名称</th>\n",
       "      <th>证件类型</th>\n",
       "      <th>客户编号</th>\n",
       "      <th>册号</th>\n",
       "      <th>笔号</th>\n",
       "      <th>开户机构号</th>\n",
       "      <th>开户柜员号</th>\n",
       "      <th>销户机构号</th>\n",
       "    </tr>\n",
       "  </thead>\n",
       "  <tbody>\n",
       "    <tr>\n",
       "      <th>0</th>\n",
       "      <td>False</td>\n",
       "      <td>False</td>\n",
       "      <td>False</td>\n",
       "      <td>False</td>\n",
       "      <td>False</td>\n",
       "      <td>False</td>\n",
       "      <td>True</td>\n",
       "      <td>False</td>\n",
       "      <td>False</td>\n",
       "      <td>False</td>\n",
       "      <td>...</td>\n",
       "      <td>False</td>\n",
       "      <td>False</td>\n",
       "      <td>False</td>\n",
       "      <td>False</td>\n",
       "      <td>False</td>\n",
       "      <td>False</td>\n",
       "      <td>True</td>\n",
       "      <td>False</td>\n",
       "      <td>False</td>\n",
       "      <td>True</td>\n",
       "    </tr>\n",
       "    <tr>\n",
       "      <th>1</th>\n",
       "      <td>False</td>\n",
       "      <td>False</td>\n",
       "      <td>False</td>\n",
       "      <td>False</td>\n",
       "      <td>False</td>\n",
       "      <td>False</td>\n",
       "      <td>True</td>\n",
       "      <td>False</td>\n",
       "      <td>False</td>\n",
       "      <td>False</td>\n",
       "      <td>...</td>\n",
       "      <td>False</td>\n",
       "      <td>False</td>\n",
       "      <td>False</td>\n",
       "      <td>False</td>\n",
       "      <td>False</td>\n",
       "      <td>False</td>\n",
       "      <td>True</td>\n",
       "      <td>False</td>\n",
       "      <td>False</td>\n",
       "      <td>True</td>\n",
       "    </tr>\n",
       "    <tr>\n",
       "      <th>2</th>\n",
       "      <td>False</td>\n",
       "      <td>False</td>\n",
       "      <td>False</td>\n",
       "      <td>False</td>\n",
       "      <td>False</td>\n",
       "      <td>False</td>\n",
       "      <td>False</td>\n",
       "      <td>False</td>\n",
       "      <td>False</td>\n",
       "      <td>False</td>\n",
       "      <td>...</td>\n",
       "      <td>False</td>\n",
       "      <td>False</td>\n",
       "      <td>False</td>\n",
       "      <td>False</td>\n",
       "      <td>False</td>\n",
       "      <td>True</td>\n",
       "      <td>True</td>\n",
       "      <td>False</td>\n",
       "      <td>True</td>\n",
       "      <td>True</td>\n",
       "    </tr>\n",
       "    <tr>\n",
       "      <th>3</th>\n",
       "      <td>False</td>\n",
       "      <td>False</td>\n",
       "      <td>False</td>\n",
       "      <td>False</td>\n",
       "      <td>False</td>\n",
       "      <td>False</td>\n",
       "      <td>False</td>\n",
       "      <td>False</td>\n",
       "      <td>False</td>\n",
       "      <td>False</td>\n",
       "      <td>...</td>\n",
       "      <td>False</td>\n",
       "      <td>False</td>\n",
       "      <td>False</td>\n",
       "      <td>False</td>\n",
       "      <td>False</td>\n",
       "      <td>True</td>\n",
       "      <td>True</td>\n",
       "      <td>False</td>\n",
       "      <td>True</td>\n",
       "      <td>True</td>\n",
       "    </tr>\n",
       "    <tr>\n",
       "      <th>4</th>\n",
       "      <td>False</td>\n",
       "      <td>False</td>\n",
       "      <td>False</td>\n",
       "      <td>False</td>\n",
       "      <td>False</td>\n",
       "      <td>False</td>\n",
       "      <td>False</td>\n",
       "      <td>False</td>\n",
       "      <td>False</td>\n",
       "      <td>False</td>\n",
       "      <td>...</td>\n",
       "      <td>False</td>\n",
       "      <td>False</td>\n",
       "      <td>False</td>\n",
       "      <td>False</td>\n",
       "      <td>False</td>\n",
       "      <td>True</td>\n",
       "      <td>True</td>\n",
       "      <td>False</td>\n",
       "      <td>True</td>\n",
       "      <td>True</td>\n",
       "    </tr>\n",
       "    <tr>\n",
       "      <th>5</th>\n",
       "      <td>False</td>\n",
       "      <td>False</td>\n",
       "      <td>False</td>\n",
       "      <td>False</td>\n",
       "      <td>False</td>\n",
       "      <td>False</td>\n",
       "      <td>False</td>\n",
       "      <td>False</td>\n",
       "      <td>False</td>\n",
       "      <td>False</td>\n",
       "      <td>...</td>\n",
       "      <td>False</td>\n",
       "      <td>False</td>\n",
       "      <td>False</td>\n",
       "      <td>False</td>\n",
       "      <td>False</td>\n",
       "      <td>True</td>\n",
       "      <td>True</td>\n",
       "      <td>False</td>\n",
       "      <td>True</td>\n",
       "      <td>True</td>\n",
       "    </tr>\n",
       "    <tr>\n",
       "      <th>6</th>\n",
       "      <td>False</td>\n",
       "      <td>False</td>\n",
       "      <td>False</td>\n",
       "      <td>False</td>\n",
       "      <td>False</td>\n",
       "      <td>False</td>\n",
       "      <td>True</td>\n",
       "      <td>False</td>\n",
       "      <td>False</td>\n",
       "      <td>False</td>\n",
       "      <td>...</td>\n",
       "      <td>False</td>\n",
       "      <td>False</td>\n",
       "      <td>False</td>\n",
       "      <td>False</td>\n",
       "      <td>False</td>\n",
       "      <td>False</td>\n",
       "      <td>True</td>\n",
       "      <td>False</td>\n",
       "      <td>True</td>\n",
       "      <td>False</td>\n",
       "    </tr>\n",
       "    <tr>\n",
       "      <th>7</th>\n",
       "      <td>False</td>\n",
       "      <td>False</td>\n",
       "      <td>False</td>\n",
       "      <td>False</td>\n",
       "      <td>False</td>\n",
       "      <td>False</td>\n",
       "      <td>True</td>\n",
       "      <td>False</td>\n",
       "      <td>False</td>\n",
       "      <td>False</td>\n",
       "      <td>...</td>\n",
       "      <td>False</td>\n",
       "      <td>False</td>\n",
       "      <td>False</td>\n",
       "      <td>False</td>\n",
       "      <td>False</td>\n",
       "      <td>False</td>\n",
       "      <td>True</td>\n",
       "      <td>False</td>\n",
       "      <td>False</td>\n",
       "      <td>False</td>\n",
       "    </tr>\n",
       "  </tbody>\n",
       "</table>\n",
       "<p>8 rows × 42 columns</p>\n",
       "</div>"
      ],
      "text/plain": [
       "      银行     姓名   证件号码     电话     地址   工作单位     账号     卡号     币种     余额  ...  \\\n",
       "0  False  False  False  False  False  False   True  False  False  False  ...   \n",
       "1  False  False  False  False  False  False   True  False  False  False  ...   \n",
       "2  False  False  False  False  False  False  False  False  False  False  ...   \n",
       "3  False  False  False  False  False  False  False  False  False  False  ...   \n",
       "4  False  False  False  False  False  False  False  False  False  False  ...   \n",
       "5  False  False  False  False  False  False  False  False  False  False  ...   \n",
       "6  False  False  False  False  False  False   True  False  False  False  ...   \n",
       "7  False  False  False  False  False  False   True  False  False  False  ...   \n",
       "\n",
       "   结算账户分类代码  可售产品编号  可售产品名称   证件类型   客户编号     册号    笔号  开户机构号  开户柜员号  销户机构号  \n",
       "0     False   False   False  False  False  False  True  False  False   True  \n",
       "1     False   False   False  False  False  False  True  False  False   True  \n",
       "2     False   False   False  False  False   True  True  False   True   True  \n",
       "3     False   False   False  False  False   True  True  False   True   True  \n",
       "4     False   False   False  False  False   True  True  False   True   True  \n",
       "5     False   False   False  False  False   True  True  False   True   True  \n",
       "6     False   False   False  False  False  False  True  False   True  False  \n",
       "7     False   False   False  False  False  False  True  False  False  False  \n",
       "\n",
       "[8 rows x 42 columns]"
      ]
     },
     "execution_count": 86,
     "metadata": {},
     "output_type": "execute_result"
    }
   ],
   "source": [
    "df.isnull()"
   ]
  },
  {
   "cell_type": "code",
   "execution_count": 124,
   "id": "886af4c6-a159-4cc1-9e22-f0c889232c20",
   "metadata": {
    "execution": {
     "iopub.execute_input": "2024-01-13T15:01:59.735713Z",
     "iopub.status.busy": "2024-01-13T15:01:59.733713Z",
     "iopub.status.idle": "2024-01-13T15:01:59.747714Z",
     "shell.execute_reply": "2024-01-13T15:01:59.742714Z",
     "shell.execute_reply.started": "2024-01-13T15:01:59.734713Z"
    },
    "tags": []
   },
   "outputs": [
    {
     "data": {
      "text/plain": [
       "int"
      ]
     },
     "execution_count": 124,
     "metadata": {},
     "output_type": "execute_result"
    }
   ],
   "source": [
    "type(CONF_DATA['天津银行']['流水']['时间']['交易日期'])"
   ]
  },
  {
   "cell_type": "code",
   "execution_count": null,
   "id": "b38848be-9216-478c-94ba-6a32439c898f",
   "metadata": {
    "tags": []
   },
   "outputs": [],
   "source": [
    "CONF_DATA['天津银行']['流水']"
   ]
  },
  {
   "cell_type": "code",
   "execution_count": 27,
   "id": "e5f72865-bcd7-467a-953b-1c794bb2b966",
   "metadata": {
    "execution": {
     "iopub.execute_input": "2024-01-17T09:18:33.882740Z",
     "iopub.status.busy": "2024-01-17T09:18:33.881740Z",
     "iopub.status.idle": "2024-01-17T09:18:33.895741Z",
     "shell.execute_reply": "2024-01-17T09:18:33.893741Z",
     "shell.execute_reply.started": "2024-01-17T09:18:33.882740Z"
    },
    "tags": []
   },
   "outputs": [
    {
     "name": "stdout",
     "output_type": "stream",
     "text": [
      "None\n"
     ]
    }
   ],
   "source": [
    "print(CONF_DATA.get('哈哈'))"
   ]
  }
 ],
 "metadata": {
  "kernelspec": {
   "display_name": "Python 3",
   "language": "python",
   "name": "python3"
  },
  "language_info": {
   "codemirror_mode": {
    "name": "ipython",
    "version": 3
   },
   "file_extension": ".py",
   "mimetype": "text/x-python",
   "name": "python",
   "nbconvert_exporter": "python",
   "pygments_lexer": "ipython3",
   "version": "3.8.9"
  },
  "toc-autonumbering": true,
  "toc-showcode": false,
  "toc-showmarkdowntxt": false,
  "toc-showtags": false,
  "widgets": {
   "application/vnd.jupyter.widget-state+json": {
    "state": {},
    "version_major": 2,
    "version_minor": 0
   }
  }
 },
 "nbformat": 4,
 "nbformat_minor": 5
}
