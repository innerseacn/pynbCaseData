{
 "cells": [
  {
   "cell_type": "markdown",
   "id": "9bb29211-2b71-4cf9-bccd-71d98c7742d1",
   "metadata": {},
   "source": [
    "# 加载库函数及导入文件"
   ]
  },
  {
   "cell_type": "code",
   "execution_count": 7,
   "id": "91c9702d-7a03-4cd0-aa54-51ec596c95d2",
   "metadata": {
    "execution": {
     "iopub.execute_input": "2024-01-27T04:06:58.469289Z",
     "iopub.status.busy": "2024-01-27T04:06:58.469289Z",
     "iopub.status.idle": "2024-01-27T04:07:00.967431Z",
     "shell.execute_reply": "2024-01-27T04:07:00.964431Z",
     "shell.execute_reply.started": "2024-01-27T04:06:58.469289Z"
    },
    "tags": []
   },
   "outputs": [
    {
     "name": "stdout",
     "output_type": "stream",
     "text": [
      "E:\\张楠\\测试\\output\n"
     ]
    }
   ],
   "source": [
    "import pathlib\n",
    "import pandas as pd\n",
    "output_dir_path = pathlib.Path(r\"E:\\张楠\\测试\\output\")\n",
    "print(output_dir_path)"
   ]
  },
  {
   "cell_type": "code",
   "execution_count": 202,
   "id": "cc8fa392-b9e6-4c1b-9bbe-701a7867bb3d",
   "metadata": {
    "execution": {
     "iopub.execute_input": "2024-01-27T14:02:07.013700Z",
     "iopub.status.busy": "2024-01-27T14:02:07.012700Z",
     "iopub.status.idle": "2024-01-27T14:02:07.065703Z",
     "shell.execute_reply": "2024-01-27T14:02:07.062703Z",
     "shell.execute_reply.started": "2024-01-27T14:02:07.013700Z"
    },
    "tags": []
   },
   "outputs": [],
   "source": [
    "%run corelibs.py"
   ]
  },
  {
   "cell_type": "markdown",
   "id": "47285952-2261-43d5-b3c1-3e8e32808517",
   "metadata": {},
   "source": [
    "# 测试"
   ]
  },
  {
   "cell_type": "markdown",
   "id": "227befc1-bd9e-4c60-9e0d-8de882c00379",
   "metadata": {},
   "source": [
    "## 提取excel表头"
   ]
  },
  {
   "cell_type": "code",
   "execution_count": 206,
   "id": "f7943cff-43d2-40ff-ad14-1449a1ebde2e",
   "metadata": {
    "execution": {
     "iopub.execute_input": "2024-01-27T14:06:57.611322Z",
     "iopub.status.busy": "2024-01-27T14:06:57.610322Z",
     "iopub.status.idle": "2024-01-27T14:06:57.688326Z",
     "shell.execute_reply": "2024-01-27T14:06:57.688326Z",
     "shell.execute_reply.started": "2024-01-27T14:06:57.611322Z"
    },
    "tags": []
   },
   "outputs": [
    {
     "name": "stdout",
     "output_type": "stream",
     "text": [
      "('所属银行', '证件号码', '开户名称', '客户账号', '卡号', '余额', '开户日期', '开户机构名称', '是否开通网易', 'U盾号', '短信捆绑电话', '网银电话', '地址', '邮编', '销户日期', '销户机构号', '销户机构名称', '账户状态')\n",
      "Wall time: 69 ms\n"
     ]
    },
    {
     "data": {
      "text/plain": [
       "-7657799188243513271"
      ]
     },
     "execution_count": 206,
     "metadata": {},
     "output_type": "execute_result"
    }
   ],
   "source": [
    "%%time\n",
    "acc_file = pathlib.Path(r\"E:\\张楠\\2023赵益华927\\银行\\建行\\第一批 赵益华等9人\\1080861461690963794022777_16_1_watermark.xlsx\")\n",
    "acc_file = pathlib.Path(r\"E:\\张楠\\2023赵益华927\\银行\\建行\\建行第二次查询7.13\\1080861701689234045070165_1_1田桂芬.xlsx\")\n",
    "acc_file = pathlib.Path(r\"E:\\张楠\\2023赵益华927\\银行\\天津银行\\滨监查询（2023）05217号.xls\")\n",
    "acc_file = pathlib.Path(r\"E:\\张楠\\2023赵益华927\\银行\\天津银行\\滨监查询（2023）05217.xls\")\n",
    "print(a := read_header(acc_file))\n",
    "hash(a)"
   ]
  },
  {
   "cell_type": "markdown",
   "id": "e80b0e3f-d4da-484c-9a45-a88320f80c56",
   "metadata": {},
   "source": [
    "## 测试yaml配置文件语法"
   ]
  },
  {
   "cell_type": "code",
   "execution_count": 101,
   "id": "64d600ca-579b-4f44-9e8f-585c5722395e",
   "metadata": {
    "execution": {
     "iopub.execute_input": "2024-01-20T12:35:05.011555Z",
     "iopub.status.busy": "2024-01-20T12:35:05.010555Z",
     "iopub.status.idle": "2024-01-20T12:35:05.050557Z",
     "shell.execute_reply": "2024-01-20T12:35:05.049557Z",
     "shell.execute_reply.started": "2024-01-20T12:35:05.011555Z"
    },
    "tags": []
   },
   "outputs": [],
   "source": [
    "import yaml\n",
    "with open('config.yaml', 'r', encoding='utf-8') as f:\n",
    "    CONF_DATA = yaml.safe_load(f)"
   ]
  },
  {
   "cell_type": "code",
   "execution_count": null,
   "id": "5e3570bd-0ecb-4ac5-a8de-ae180700eb0d",
   "metadata": {
    "tags": []
   },
   "outputs": [],
   "source": [
    "CONF_DATA"
   ]
  },
  {
   "cell_type": "markdown",
   "id": "d8fc250a-994c-400c-9257-4df57d019f8d",
   "metadata": {},
   "source": [
    "## 测试配置转换内部操作表示功能"
   ]
  },
  {
   "cell_type": "code",
   "execution_count": 116,
   "id": "476a9b63-954b-4a42-b068-50965cad2370",
   "metadata": {
    "execution": {
     "iopub.execute_input": "2024-01-27T12:03:23.035232Z",
     "iopub.status.busy": "2024-01-27T12:03:23.034232Z",
     "iopub.status.idle": "2024-01-27T12:03:23.113237Z",
     "shell.execute_reply": "2024-01-27T12:03:23.113237Z",
     "shell.execute_reply.started": "2024-01-27T12:03:23.035232Z"
    },
    "tags": []
   },
   "outputs": [
    {
     "ename": "NameError",
     "evalue": "name 'Any' is not defined",
     "output_type": "error",
     "traceback": [
      "\u001b[1;31m---------------------------------------------------------------------------\u001b[0m",
      "\u001b[1;31mNameError\u001b[0m                                 Traceback (most recent call last)",
      "\u001b[1;32mD:\\soft\\WPy64-3890\\notebooks\\pynbCaseData\\corelibs.py\u001b[0m in \u001b[0;36m<module>\u001b[1;34m\u001b[0m\n\u001b[0;32m     13\u001b[0m \u001b[0mConf_tpl\u001b[0m \u001b[1;33m=\u001b[0m \u001b[0mnamedtuple\u001b[0m\u001b[1;33m(\u001b[0m\u001b[1;34m'Conf_tpl'\u001b[0m\u001b[1;33m,\u001b[0m \u001b[1;34m'new_cols verify_cols col_name_map merge_2cols date_cols time_cols digi_cols cdid fill_cols cols_new_order'\u001b[0m\u001b[1;33m)\u001b[0m\u001b[1;33m\u001b[0m\u001b[1;33m\u001b[0m\u001b[0m\n\u001b[0;32m     14\u001b[0m \u001b[1;33m\u001b[0m\u001b[0m\n\u001b[1;32m---> 15\u001b[1;33m \u001b[1;32mdef\u001b[0m \u001b[0mcreat_conf_obj\u001b[0m\u001b[1;33m(\u001b[0m\u001b[0mconf_data\u001b[0m\u001b[1;33m:\u001b[0m \u001b[0mdict\u001b[0m\u001b[1;33m[\u001b[0m\u001b[0mstr\u001b[0m\u001b[1;33m,\u001b[0m \u001b[0mAny\u001b[0m\u001b[1;33m]\u001b[0m\u001b[1;33m)\u001b[0m \u001b[1;33m->\u001b[0m \u001b[0mConf_tpl\u001b[0m\u001b[1;33m:\u001b[0m\u001b[1;33m\u001b[0m\u001b[1;33m\u001b[0m\u001b[0m\n\u001b[0m\u001b[0;32m     16\u001b[0m     \u001b[1;34m\"\"\"将银行配置转换成操作配置\"\"\"\u001b[0m\u001b[1;33m\u001b[0m\u001b[1;33m\u001b[0m\u001b[0m\n\u001b[0;32m     17\u001b[0m     \u001b[0m_new_cols\u001b[0m \u001b[1;33m=\u001b[0m \u001b[1;33m{\u001b[0m\u001b[1;33m}\u001b[0m \u001b[1;31m# 构造需要填充统一内容的列字典，通常是新列\u001b[0m\u001b[1;33m\u001b[0m\u001b[1;33m\u001b[0m\u001b[0m\n",
      "\u001b[1;31mNameError\u001b[0m: name 'Any' is not defined"
     ]
    }
   ],
   "source": [
    "%run corelibs.py\n",
    "conf_obj = creat_conf_obj(CONF_DATA['建设银行网点']['流水'])"
   ]
  },
  {
   "cell_type": "code",
   "execution_count": 24,
   "id": "aba05c44-03cc-4d51-a5c4-70d6fff6cd7d",
   "metadata": {
    "execution": {
     "iopub.execute_input": "2024-01-22T04:16:07.193791Z",
     "iopub.status.busy": "2024-01-22T04:16:07.192791Z",
     "iopub.status.idle": "2024-01-22T04:16:07.210792Z",
     "shell.execute_reply": "2024-01-22T04:16:07.210792Z",
     "shell.execute_reply.started": "2024-01-22T04:16:07.193791Z"
    },
    "tags": []
   },
   "outputs": [
    {
     "data": {
      "text/plain": [
       "Conf_tpl(new_cols={'银行': '建设银行'}, verify_cols={'客户名称': True, '交易卡号': True, '账户余额': True, '借贷方向': True, '交易金额': True, '交易日期': True, '交易时间': True}, col_name_map={'客户名称': '姓名', '交易卡号': '卡号', '扩充备注': '备注', '账户余额': '余额', '交易机构名称': '交易机构', '对方行名': '对方开户行'}, merge_2cols={}, date_cols={'日期': '交易日期'}, time_cols={'时间': '交易时间'}, digi_cols={'账户余额': True, '交易金额': True}, cdid={'C': '借', 'CD_col': '借贷方向', 'C_col': '出账金额', 'trans_col': '交易金额', 'D': '贷', 'D_col': '入账金额'}, fill_cols={}, cols_new_order=['银行', '日期', '时间', '姓名', '卡号', '备注', '摘要', '币种', '出账金额', '入账金额', '余额', '交易机构', '对方户名', '对方账号', '对方开户行', 'IP地址', 'MAC地址', '商户名称', '商户号', '交易流水号', '交易渠道', '自助设备编号', '第三方订单号', '账号', '钞汇', '册号', '笔号', '活期存款账户明细号', '借贷方向', '交易金额', '柜员号', '交易机构号'])"
      ]
     },
     "execution_count": 24,
     "metadata": {},
     "output_type": "execute_result"
    }
   ],
   "source": [
    "conf_obj"
   ]
  },
  {
   "cell_type": "markdown",
   "id": "cc1c51f7-05f4-4f18-a59e-7e75057a0e12",
   "metadata": {},
   "source": [
    "##  测试单个账户文件读取及储存"
   ]
  },
  {
   "cell_type": "code",
   "execution_count": 106,
   "id": "b728cc67-8dd6-4f6f-86ca-85b5d4c5915f",
   "metadata": {
    "execution": {
     "iopub.execute_input": "2024-01-20T12:36:17.929726Z",
     "iopub.status.busy": "2024-01-20T12:36:17.928726Z",
     "iopub.status.idle": "2024-01-20T12:36:18.010730Z",
     "shell.execute_reply": "2024-01-20T12:36:18.009730Z",
     "shell.execute_reply.started": "2024-01-20T12:36:17.929726Z"
    },
    "scrolled": true,
    "tags": []
   },
   "outputs": [
    {
     "name": "stderr",
     "output_type": "stream",
     "text": [
      "D:\\soft\\WPy64-3890\\python-3.8.9.amd64\\lib\\site-packages\\openpyxl\\styles\\stylesheet.py:221: UserWarning:\n",
      "\n",
      "Workbook contains no default style, apply openpyxl's default\n",
      "\n"
     ]
    }
   ],
   "source": [
    "%run corelibs.py\n",
    "acc_file = pathlib.Path(r\"E:\\张楠\\2023赵益华927\\银行\\建行\\第一批 赵益华等9人\\1080861461690963794022777_1_1赵益华.xlsx\")\n",
    "conf_data = CONF_DATA['建设银行网点']['账户']\n",
    "conf_obj = creat_conf_obj(conf_data)\n",
    "df = parse_sheet_general(acc_file, conf_obj)"
   ]
  },
  {
   "cell_type": "code",
   "execution_count": 54,
   "id": "4d4dd3c3-1970-422c-be93-c65745a940ac",
   "metadata": {
    "execution": {
     "iopub.execute_input": "2024-01-20T11:21:25.235758Z",
     "iopub.status.busy": "2024-01-20T11:21:25.234758Z",
     "iopub.status.idle": "2024-01-20T11:21:25.806791Z",
     "shell.execute_reply": "2024-01-20T11:21:25.805791Z",
     "shell.execute_reply.started": "2024-01-20T11:21:25.235758Z"
    },
    "scrolled": true,
    "tags": []
   },
   "outputs": [
    {
     "data": {
      "text/plain": [
       "8"
      ]
     },
     "execution_count": 54,
     "metadata": {},
     "output_type": "execute_result"
    }
   ],
   "source": [
    "save_accounts(df, output_dir_path, conf_data['银行'])"
   ]
  },
  {
   "cell_type": "code",
   "execution_count": null,
   "id": "46965849-422f-47e0-9234-8195111a4e4c",
   "metadata": {
    "execution": {
     "iopub.execute_input": "2024-01-22T04:16:56.998640Z",
     "iopub.status.busy": "2024-01-22T04:16:56.997640Z"
    },
    "tags": []
   },
   "outputs": [],
   "source": [
    "import dtale"
   ]
  },
  {
   "cell_type": "code",
   "execution_count": 108,
   "id": "538eec3c-99bd-4437-8016-7172cf3145e7",
   "metadata": {
    "execution": {
     "iopub.execute_input": "2024-01-20T12:36:38.056877Z",
     "iopub.status.busy": "2024-01-20T12:36:38.056877Z",
     "iopub.status.idle": "2024-01-20T12:36:39.216943Z",
     "shell.execute_reply": "2024-01-20T12:36:39.215943Z",
     "shell.execute_reply.started": "2024-01-20T12:36:38.056877Z"
    },
    "tags": []
   },
   "outputs": [
    {
     "data": {
      "text/plain": []
     },
     "execution_count": 108,
     "metadata": {},
     "output_type": "execute_result"
    }
   ],
   "source": [
    "dtale.show(df, open_browser=True)"
   ]
  },
  {
   "cell_type": "markdown",
   "id": "e04e09e8-f459-4ef1-8e78-21129befdfc8",
   "metadata": {},
   "source": [
    "## 测试单个流水文件的读取与储存"
   ]
  },
  {
   "cell_type": "code",
   "execution_count": 25,
   "id": "2e69131f-f611-4d93-858c-1cd5cd890949",
   "metadata": {
    "execution": {
     "iopub.execute_input": "2024-01-22T04:16:37.412519Z",
     "iopub.status.busy": "2024-01-22T04:16:37.411519Z",
     "iopub.status.idle": "2024-01-22T04:16:43.528869Z",
     "shell.execute_reply": "2024-01-22T04:16:43.528869Z",
     "shell.execute_reply.started": "2024-01-22T04:16:37.412519Z"
    },
    "tags": []
   },
   "outputs": [],
   "source": [
    "%run corelibs.py\n",
    "acc_file = pathlib.Path(r\"E:\\张楠\\2023赵益华927\\银行\\建行\\第一批 赵益华等9人\\1080861461690963794022777_16_1_watermark.xlsx\")\n",
    "conf_data = CONF_DATA['建设银行网点']['流水']\n",
    "# acc_file = pathlib.Path(r\"E:\\张楠\\2023赵益华927\\银行\\天津银行\\滨监查询（2023）05217号.xls\")\n",
    "# conf_data = CONF_DATA['天津银行']['流水']\n",
    "conf_obj = creat_conf_obj(conf_data)\n",
    "df = parse_sheet_general(acc_file, conf_obj)"
   ]
  },
  {
   "cell_type": "code",
   "execution_count": 28,
   "id": "ce9d7bf8-3c8a-4224-92ba-c1e540cc8210",
   "metadata": {
    "execution": {
     "iopub.execute_input": "2024-01-22T04:23:17.144383Z",
     "iopub.status.busy": "2024-01-22T04:23:17.144383Z",
     "iopub.status.idle": "2024-01-22T04:23:23.951772Z",
     "shell.execute_reply": "2024-01-22T04:23:23.950772Z",
     "shell.execute_reply.started": "2024-01-22T04:23:17.144383Z"
    },
    "tags": []
   },
   "outputs": [
    {
     "name": "stderr",
     "output_type": "stream",
     "text": [
      "100%|████████████████████████████████████████████████████████████████████████████████████| 1/1 [00:06<00:00,  6.47s/it]\n"
     ]
    },
    {
     "data": {
      "text/plain": [
       "9999"
      ]
     },
     "execution_count": 28,
     "metadata": {},
     "output_type": "execute_result"
    }
   ],
   "source": [
    "grouped = df.groupby('账号')\n",
    "df_list = [x.reset_index(drop=True) for _ , x in grouped]\n",
    "save_statements(df_list, output_dir_path, conf_data['银行'],\"津滨查询(2023)139号\")"
   ]
  },
  {
   "cell_type": "code",
   "execution_count": null,
   "id": "b78014d0-1161-454a-ac69-917690c8beb4",
   "metadata": {
    "execution": {
     "iopub.execute_input": "2024-01-22T04:16:56.998640Z",
     "iopub.status.busy": "2024-01-22T04:16:56.997640Z"
    },
    "tags": []
   },
   "outputs": [],
   "source": [
    "import dtale"
   ]
  },
  {
   "cell_type": "code",
   "execution_count": 27,
   "id": "46487239-8adb-4a9e-b586-31f941ee8d4b",
   "metadata": {
    "execution": {
     "iopub.execute_input": "2024-01-22T04:17:49.486642Z",
     "iopub.status.busy": "2024-01-22T04:17:49.486642Z",
     "iopub.status.idle": "2024-01-22T04:17:52.317804Z",
     "shell.execute_reply": "2024-01-22T04:17:52.315804Z",
     "shell.execute_reply.started": "2024-01-22T04:17:49.486642Z"
    },
    "tags": []
   },
   "outputs": [
    {
     "name": "stderr",
     "output_type": "stream",
     "text": [
      "2024-01-22 12:17:50,098 - INFO     - NumExpr defaulting to 4 threads.\n"
     ]
    },
    {
     "data": {
      "text/plain": []
     },
     "execution_count": 27,
     "metadata": {},
     "output_type": "execute_result"
    }
   ],
   "source": [
    "dtale.show(df, open_browser=True)"
   ]
  },
  {
   "cell_type": "markdown",
   "id": "f4a6a4e7-1a20-4a80-9188-a175e4e8ff01",
   "metadata": {},
   "source": [
    "# 执行"
   ]
  },
  {
   "cell_type": "markdown",
   "id": "eae19d1b-bb5b-4ad4-b469-2b980ec2f73e",
   "metadata": {},
   "source": [
    "## 分析建设银行网点数据目录\n",
    "（如：开发区金融街建行查询数据）"
   ]
  },
  {
   "cell_type": "code",
   "execution_count": 2,
   "id": "cab897d0-05a2-4e14-a3f4-b9639c5baf18",
   "metadata": {
    "execution": {
     "iopub.execute_input": "2024-01-22T11:30:53.499631Z",
     "iopub.status.busy": "2024-01-22T11:30:53.498631Z",
     "iopub.status.idle": "2024-01-22T11:30:54.130667Z",
     "shell.execute_reply": "2024-01-22T11:30:54.129667Z",
     "shell.execute_reply.started": "2024-01-22T11:30:53.498631Z"
    },
    "tags": []
   },
   "outputs": [
    {
     "ename": "Exception",
     "evalue": "目录中包含超过9999条的数据文件，需要手动合并，文件名第二字段为16",
     "output_type": "error",
     "traceback": [
      "\u001b[1;31m---------------------------------------------------------------------------\u001b[0m",
      "\u001b[1;31mException\u001b[0m                                 Traceback (most recent call last)",
      "\u001b[1;32m<ipython-input-2-2aa53db639ff>\u001b[0m in \u001b[0;36m<module>\u001b[1;34m\u001b[0m\n\u001b[0;32m      7\u001b[0m      \u001b[1;31m# 检查是否存在超过9999条的数据（文件名第二段的数字一样）\u001b[0m\u001b[1;33m\u001b[0m\u001b[1;33m\u001b[0m\u001b[1;33m\u001b[0m\u001b[0m\n\u001b[0;32m      8\u001b[0m     \u001b[0m_d\u001b[0m\u001b[1;33m,\u001b[0m \u001b[0m_c\u001b[0m \u001b[1;33m=\u001b[0m \u001b[0mCounter\u001b[0m\u001b[1;33m(\u001b[0m\u001b[0mmap\u001b[0m\u001b[1;33m(\u001b[0m\u001b[1;32mlambda\u001b[0m \u001b[0mx\u001b[0m\u001b[1;33m:\u001b[0m \u001b[0mx\u001b[0m\u001b[1;33m.\u001b[0m\u001b[0mname\u001b[0m\u001b[1;33m.\u001b[0m\u001b[0msplit\u001b[0m\u001b[1;33m(\u001b[0m\u001b[1;34m'_'\u001b[0m\u001b[1;33m)\u001b[0m\u001b[1;33m[\u001b[0m\u001b[1;36m1\u001b[0m\u001b[1;33m]\u001b[0m\u001b[1;33m,\u001b[0m \u001b[0m_file_names\u001b[0m\u001b[1;33m)\u001b[0m\u001b[1;33m)\u001b[0m\u001b[1;33m.\u001b[0m\u001b[0mmost_common\u001b[0m\u001b[1;33m(\u001b[0m\u001b[1;36m1\u001b[0m\u001b[1;33m)\u001b[0m\u001b[1;33m[\u001b[0m\u001b[1;36m0\u001b[0m\u001b[1;33m]\u001b[0m\u001b[1;33m\u001b[0m\u001b[1;33m\u001b[0m\u001b[0m\n\u001b[1;32m----> 9\u001b[1;33m     \u001b[1;32mif\u001b[0m \u001b[0m_c\u001b[0m \u001b[1;33m>\u001b[0m \u001b[1;36m1\u001b[0m\u001b[1;33m:\u001b[0m \u001b[1;32mraise\u001b[0m \u001b[0mException\u001b[0m\u001b[1;33m(\u001b[0m\u001b[1;34mf'目录中包含超过9999条的数据文件，需要手动合并，文件名第二字段为{_d}'\u001b[0m\u001b[1;33m)\u001b[0m\u001b[1;33m\u001b[0m\u001b[1;33m\u001b[0m\u001b[0m\n\u001b[0m\u001b[0;32m     10\u001b[0m \u001b[1;32melse\u001b[0m\u001b[1;33m:\u001b[0m\u001b[1;33m\u001b[0m\u001b[1;33m\u001b[0m\u001b[0m\n\u001b[0;32m     11\u001b[0m     \u001b[1;32mraise\u001b[0m \u001b[0mException\u001b[0m\u001b[1;33m(\u001b[0m\u001b[1;34m\"传入的路径不是目录，请传入目录路径，或使用单文件分析\"\u001b[0m\u001b[1;33m)\u001b[0m\u001b[1;33m\u001b[0m\u001b[1;33m\u001b[0m\u001b[0m\n",
      "\u001b[1;31mException\u001b[0m: 目录中包含超过9999条的数据文件，需要手动合并，文件名第二字段为16"
     ]
    }
   ],
   "source": [
    "from collections import Counter\n",
    "\n",
    "base_dir = pathlib.Path(r\"E:\\张楠\\2023赵益华927\\银行\\建行\\第一批 赵益华等9人\")\n",
    "\n",
    "if base_dir.is_dir():\n",
    "    _file_names = base_dir.rglob('[!~]*.xlsx') # 找到目录中所有的excel文件\n",
    "     # 检查是否存在超过9999条的数据（文件名第二段的数字一样）\n",
    "    _d, _c = Counter(map(lambda x: x.name.split('_')[1], _file_names)).most_common(1)[0]\n",
    "    if _c > 1: raise Exception(f'目录中包含超过9999条的数据文件，需要手动合并，文件名第二字段为{_d}')\n",
    "else:\n",
    "    raise Exception(\"传入的路径不是目录，请传入目录路径，或使用单文件分析\") \n",
    "_d, _c"
   ]
  },
  {
   "cell_type": "markdown",
   "id": "e38f6e5b-adc8-499c-95f2-56bf2086b07e",
   "metadata": {},
   "source": [
    "# 杂项"
   ]
  },
  {
   "cell_type": "code",
   "execution_count": 48,
   "id": "da578217-4a5d-4575-890e-370bfd803e7c",
   "metadata": {
    "execution": {
     "iopub.execute_input": "2024-01-22T05:27:42.140448Z",
     "iopub.status.busy": "2024-01-22T05:27:42.139448Z",
     "iopub.status.idle": "2024-01-22T05:27:42.163449Z",
     "shell.execute_reply": "2024-01-22T05:27:42.162449Z",
     "shell.execute_reply.started": "2024-01-22T05:27:42.140448Z"
    },
    "scrolled": true,
    "tags": []
   },
   "outputs": [
    {
     "data": {
      "text/plain": [
       "'7'"
      ]
     },
     "execution_count": 48,
     "metadata": {},
     "output_type": "execute_result"
    }
   ],
   "source": [
    "pd.read_excel"
   ]
  },
  {
   "cell_type": "code",
   "execution_count": 6,
   "id": "da2a30e3-28b2-4628-b598-7906f80155a8",
   "metadata": {
    "execution": {
     "iopub.execute_input": "2024-01-22T11:39:09.944026Z",
     "iopub.status.busy": "2024-01-22T11:39:09.943026Z",
     "iopub.status.idle": "2024-01-22T11:39:09.968027Z",
     "shell.execute_reply": "2024-01-22T11:39:09.965027Z",
     "shell.execute_reply.started": "2024-01-22T11:39:09.944026Z"
    },
    "tags": []
   },
   "outputs": [
    {
     "data": {
      "text/plain": [
       "9091559758436992767"
      ]
     },
     "execution_count": 6,
     "metadata": {},
     "output_type": "execute_result"
    }
   ],
   "source": [
    "hash(str(['所属银行','证件号码','开户名称','客户账号','卡号','余额','开户日期','开户机构名称','是否开通网易','U盾号','短信捆绑电话','网银电话','地址','邮编','销户日期','销户机构号','销户机构名称','账户状态','我行账号（卡号）','我方银行名称','我方中文名称','身份证号','交易日期','对方账号（卡号）','对方中文名称','对方银行名称','对方银行机构代码','流水号','借贷标志','交易金额','币种','余额','网银IP地址','交易代码（交易渠道）','代码描述','用途（摘要）','受理机构代码','受理机构名称','交易是否成功']))"
   ]
  },
  {
   "cell_type": "code",
   "execution_count": 124,
   "id": "886af4c6-a159-4cc1-9e22-f0c889232c20",
   "metadata": {
    "execution": {
     "iopub.execute_input": "2024-01-13T15:01:59.735713Z",
     "iopub.status.busy": "2024-01-13T15:01:59.733713Z",
     "iopub.status.idle": "2024-01-13T15:01:59.747714Z",
     "shell.execute_reply": "2024-01-13T15:01:59.742714Z",
     "shell.execute_reply.started": "2024-01-13T15:01:59.734713Z"
    },
    "tags": []
   },
   "outputs": [
    {
     "data": {
      "text/plain": [
       "int"
      ]
     },
     "execution_count": 124,
     "metadata": {},
     "output_type": "execute_result"
    }
   ],
   "source": [
    "type(CONF_DATA['天津银行']['流水']['时间']['交易日期'])"
   ]
  },
  {
   "cell_type": "code",
   "execution_count": null,
   "id": "b38848be-9216-478c-94ba-6a32439c898f",
   "metadata": {
    "tags": []
   },
   "outputs": [],
   "source": [
    "CONF_DATA['天津银行']['流水']"
   ]
  },
  {
   "cell_type": "code",
   "execution_count": 27,
   "id": "e5f72865-bcd7-467a-953b-1c794bb2b966",
   "metadata": {
    "execution": {
     "iopub.execute_input": "2024-01-17T09:18:33.882740Z",
     "iopub.status.busy": "2024-01-17T09:18:33.881740Z",
     "iopub.status.idle": "2024-01-17T09:18:33.895741Z",
     "shell.execute_reply": "2024-01-17T09:18:33.893741Z",
     "shell.execute_reply.started": "2024-01-17T09:18:33.882740Z"
    },
    "tags": []
   },
   "outputs": [
    {
     "name": "stdout",
     "output_type": "stream",
     "text": [
      "None\n"
     ]
    }
   ],
   "source": [
    "print(CONF_DATA.get('哈哈'))"
   ]
  },
  {
   "cell_type": "code",
   "execution_count": 37,
   "id": "3b4f41eb-15a8-4562-a9c5-b2349ae09c22",
   "metadata": {
    "execution": {
     "iopub.execute_input": "2024-01-26T06:09:09.076748Z",
     "iopub.status.busy": "2024-01-26T06:09:09.075748Z",
     "iopub.status.idle": "2024-01-26T06:09:09.085749Z",
     "shell.execute_reply": "2024-01-26T06:09:09.084749Z",
     "shell.execute_reply.started": "2024-01-26T06:09:09.076748Z"
    },
    "tags": []
   },
   "outputs": [
    {
     "data": {
      "text/plain": [
       "7"
      ]
     },
     "execution_count": 37,
     "metadata": {},
     "output_type": "execute_result"
    }
   ],
   "source": [
    "from itertools import islice\n",
    "a = [3,4,5,6,7,8]\n",
    "b = islice(a,4,5)\n",
    "next(b)"
   ]
  },
  {
   "cell_type": "code",
   "execution_count": null,
   "id": "adf79b1b-33b3-4612-8093-f483e0912567",
   "metadata": {
    "tags": []
   },
   "outputs": [],
   "source": []
  }
 ],
 "metadata": {
  "kernelspec": {
   "display_name": "Python 3",
   "language": "python",
   "name": "python3"
  },
  "language_info": {
   "codemirror_mode": {
    "name": "ipython",
    "version": 3
   },
   "file_extension": ".py",
   "mimetype": "text/x-python",
   "name": "python",
   "nbconvert_exporter": "python",
   "pygments_lexer": "ipython3",
   "version": "3.8.9"
  },
  "toc-autonumbering": true,
  "toc-showcode": false,
  "toc-showmarkdowntxt": false,
  "toc-showtags": false,
  "widgets": {
   "application/vnd.jupyter.widget-state+json": {
    "state": {},
    "version_major": 2,
    "version_minor": 0
   }
  }
 },
 "nbformat": 4,
 "nbformat_minor": 5
}
