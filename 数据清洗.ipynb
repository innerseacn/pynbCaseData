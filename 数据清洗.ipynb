{
 "cells": [
  {
   "cell_type": "markdown",
   "id": "9bb29211-2b71-4cf9-bccd-71d98c7742d1",
   "metadata": {
    "extensions": {
     "jupyter_dashboards": {
      "activeView": "grid_default",
      "views": {
       "grid_default": {
        "col": null,
        "height": 2,
        "hidden": true,
        "row": null,
        "width": 2
       }
      }
     }
    }
   },
   "source": [
    "# 加载库函数及导入文件"
   ]
  },
  {
   "cell_type": "code",
   "execution_count": 2,
   "id": "5cb9a494-4ef8-4cbc-949d-d68bf0e617c6",
   "metadata": {},
   "outputs": [
    {
     "data": {
      "text/plain": [
       "WindowsPath('D:/gitcodes/testdata/银行分析结果test')"
      ]
     },
     "execution_count": 2,
     "metadata": {},
     "output_type": "execute_result"
    }
   ],
   "source": [
    "%load_ext autoreload\n",
    "%autoreload 2\n",
    "import warnings\n",
    "import pathlib\n",
    "from corelibs.config import *\n",
    "warnings.filterwarnings('ignore', message=\"Workbook contains no default style, apply openpyxl's default\", category=UserWarning)\n",
    "conf_data = load_conf()\n",
    "OUTPUT_DIR_PATH = pathlib.Path(r\"J:\\银行分析结果\")\n",
    "OUTPUT_DIR_PATH = pathlib.Path(r\"D:\\gitcodes\\testdata\\银行分析结果test\")\n",
    "OUTPUT_DIR_PATH"
   ]
  },
  {
   "cell_type": "code",
   "execution_count": null,
   "id": "7a6cdfd9-9732-46b5-b012-57a5aba1f0cc",
   "metadata": {},
   "outputs": [],
   "source": [
    "conf_data"
   ]
  },
  {
   "cell_type": "markdown",
   "id": "47285952-2261-43d5-b3c1-3e8e32808517",
   "metadata": {
    "extensions": {
     "jupyter_dashboards": {
      "activeView": "grid_default",
      "views": {
       "grid_default": {
        "col": null,
        "height": 2,
        "hidden": true,
        "row": null,
        "width": 2
       }
      }
     }
    }
   },
   "source": [
    "# 测试"
   ]
  },
  {
   "cell_type": "markdown",
   "id": "227befc1-bd9e-4c60-9e0d-8de882c00379",
   "metadata": {
    "extensions": {
     "jupyter_dashboards": {
      "activeView": "grid_default",
      "views": {
       "grid_default": {
        "col": null,
        "height": 2,
        "hidden": true,
        "row": null,
        "width": 2
       }
      }
     }
    }
   },
   "source": [
    "## 提取excel表头和md5值"
   ]
  },
  {
   "cell_type": "code",
   "execution_count": 5,
   "id": "f7943cff-43d2-40ff-ad14-1449a1ebde2e",
   "metadata": {
    "extensions": {
     "jupyter_dashboards": {
      "activeView": "grid_default",
      "views": {
       "grid_default": {
        "col": null,
        "height": 2,
        "hidden": true,
        "row": null,
        "width": 2
       }
      }
     }
    },
    "tags": []
   },
   "outputs": [
    {
     "name": "stdout",
     "output_type": "stream",
     "text": [
      "['账号', '币种', '卡号', '交易时间戳', '工作日期', '借贷标志', '发生额', '余额', '注释', '对方帐户', '对方客户编号', '交易地区号', '交易地区号(原始)', '交易网点号', '交易网点号(原始)', '帐户物理网点号', '柜员号', '授权柜员号', '交易代码', '服务界面', '交易日期', '记帐时间', '零售存取款摘要', '钞汇标志', '终端号', '交易场所简称', '对方户名', '对方开户行名\\t']\n"
     ]
    },
    {
     "data": {
      "text/plain": [
       "'0b02a413bd3c59d74a82e3fd3909c759'"
      ]
     },
     "execution_count": 5,
     "metadata": {},
     "output_type": "execute_result"
    }
   ],
   "source": [
    "from hashlib import md5\n",
    "acc_file = pathlib.Path(r\"J:\\杨孟军\\银行\\工商银行\\1\\陶瑞兰120221196603113061\\1.xls\")\n",
    "acc_file = pathlib.Path(r\"J:\\杨孟军\\银行\\工商银行\\1\\陶瑞兰120221196603113061\\2.xls\")\n",
    "print(a := read_header(acc_file, header=0))\n",
    "md5(a.encode()).hexdigest()"
   ]
  },
  {
   "cell_type": "markdown",
   "id": "e80b0e3f-d4da-484c-9a45-a88320f80c56",
   "metadata": {
    "extensions": {
     "jupyter_dashboards": {
      "activeView": "grid_default",
      "views": {
       "grid_default": {
        "col": null,
        "height": 2,
        "hidden": true,
        "row": null,
        "width": 2
       }
      }
     }
    }
   },
   "source": [
    "## 测试yaml配置文件语法，及内部操作指令对象转换"
   ]
  },
  {
   "cell_type": "code",
   "execution_count": 33,
   "id": "021523f0-2304-454b-b40a-500312aec5a3",
   "metadata": {
    "extensions": {
     "jupyter_dashboards": {
      "activeView": "grid_default",
      "views": {
       "grid_default": {
        "col": null,
        "height": 2,
        "hidden": true,
        "row": null,
        "width": 2
       }
      }
     }
    },
    "tags": []
   },
   "outputs": [
    {
     "name": "stdout",
     "output_type": "stream",
     "text": [
      "excel\n",
      "('6d3d0d1e252f43a000010e19d8b2dd57', ['天津银行', '账户'])\n",
      "('7509cd85808831c7004c8c78e9267d7c', ['天津银行', '流水'])\n",
      "('5ff3970075646f3a7fffdef5430539d7', ['建设银行网点', '账户'])\n",
      "('8fa9c0776b857793f91335192398aeba', ['建设银行网点', '流水'])\n",
      "('5b70f468037b3cfe76bace72751f4e3e', ['工商银行网点', '账户'])\n",
      "('0b02a413bd3c59d74a82e3fd3909c759', ['工商银行网点', '流水'])\n",
      "6\n"
     ]
    }
   ],
   "source": [
    "load_conf()\n",
    "print(get_output_format())\n",
    "print(len([print(x) for x in get_header_hash().items()]))"
   ]
  },
  {
   "cell_type": "code",
   "execution_count": null,
   "id": "21b9ebb6-9730-4446-aae1-d3e9a1c96bab",
   "metadata": {
    "extensions": {
     "jupyter_dashboards": {
      "activeView": "grid_default",
      "views": {
       "grid_default": {
        "col": null,
        "height": 2,
        "hidden": true,
        "row": null,
        "width": 2
       }
      }
     }
    },
    "tags": []
   },
   "outputs": [],
   "source": [
    "print(len([print(x) for x in get_conf_cache().items()]))"
   ]
  },
  {
   "cell_type": "code",
   "execution_count": 11,
   "id": "8f73d156-b696-4628-98ae-e90102d921d5",
   "metadata": {
    "extensions": {
     "jupyter_dashboards": {
      "activeView": "grid_default",
      "views": {
       "grid_default": {
        "col": null,
        "height": 2,
        "hidden": true,
        "row": null,
        "width": 2
       }
      }
     }
    },
    "tags": []
   },
   "outputs": [
    {
     "name": "stdout",
     "output_type": "stream",
     "text": [
      "None\n",
      "{'银行': '工商银行'}\n",
      "{'账号': True, '余额': True, '借贷标志': True, '发生额': True, '交易日期': True}\n",
      "{'服务界面': '备注', '注释': '摘要', '对方帐户': '对方账号', '对方开户行名': '对方开户行'}\n",
      "{'交易机构': ['交易地区号', '交易网点号']}\n",
      "{'日期': ['交易日期', ' %Y-%m-%d']}\n",
      "{'时间': ['记帐时间', ' %H.%M.%S']}\n",
      "{'余额': True, '发生额': True}\n",
      "{'C': '借', 'CD_col': '借贷标志', 'C_col': '出账金额', 'trans_col': '发生额', 'D': '贷', 'D_col': '入账金额'}\n",
      "{}\n",
      "['银行', '日期', '时间', '姓名', '账号', '卡号', '备注', '摘要', '币种', '出账金额', '入账金额', '余额', '交易机构', '对方户名', '对方账号', '对方开户行', '借贷标志', '发生额', '交易日期', '交易时间戳', '交易日期', '工作日期', '记帐时间', '借贷标志', '发生额', '交易地区号', '交易地区号(原始)', '交易网点号', '交易网点号(原始)', '对方客户编号', '帐户物理网点号', '柜员号', '授权柜员号', '交易代码', '零售存取款摘要', '钞汇标志', '终端号', '交易场所简称']\n",
      "{'姓名': ['账号', '姓名', '账号', '姓名']}\n"
     ]
    },
    {
     "data": {
      "text/plain": [
       "[None, None, None, None, None, None, None, None, None, None, None, None]"
      ]
     },
     "execution_count": 11,
     "metadata": {},
     "output_type": "execute_result"
    }
   ],
   "source": [
    "load_conf()\n",
    "conf_obj = get_conf_obj('工商银行网点','流水')\n",
    "[print(x) for x in conf_obj]"
   ]
  },
  {
   "cell_type": "markdown",
   "id": "cc1c51f7-05f4-4f18-a59e-7e75057a0e12",
   "metadata": {
    "extensions": {
     "jupyter_dashboards": {
      "activeView": "grid_default",
      "views": {
       "grid_default": {
        "col": null,
        "height": 2,
        "hidden": true,
        "row": null,
        "width": 2
       }
      }
     }
    }
   },
   "source": [
    "##  测试单个账户文件读取及储存"
   ]
  },
  {
   "cell_type": "code",
   "execution_count": 26,
   "id": "8b93da33-e815-4547-93a2-490566f2aa31",
   "metadata": {
    "extensions": {
     "jupyter_dashboards": {
      "activeView": "grid_default",
      "views": {
       "grid_default": {
        "col": null,
        "height": 2,
        "hidden": true,
        "row": null,
        "width": 2
       }
      }
     }
    },
    "scrolled": true,
    "tags": []
   },
   "outputs": [
    {
     "data": {
      "text/html": [
       "<div>\n",
       "<style scoped>\n",
       "    .dataframe tbody tr th:only-of-type {\n",
       "        vertical-align: middle;\n",
       "    }\n",
       "\n",
       "    .dataframe tbody tr th {\n",
       "        vertical-align: top;\n",
       "    }\n",
       "\n",
       "    .dataframe thead th {\n",
       "        text-align: right;\n",
       "    }\n",
       "</style>\n",
       "<table border=\"1\" class=\"dataframe\">\n",
       "  <thead>\n",
       "    <tr style=\"text-align: right;\">\n",
       "      <th></th>\n",
       "      <th>银行</th>\n",
       "      <th>姓名</th>\n",
       "      <th>证件号码</th>\n",
       "      <th>电话</th>\n",
       "      <th>地址</th>\n",
       "      <th>工作单位</th>\n",
       "      <th>账号</th>\n",
       "      <th>卡号</th>\n",
       "      <th>币种</th>\n",
       "      <th>余额</th>\n",
       "      <th>...</th>\n",
       "      <th>结算账户分类代码</th>\n",
       "      <th>可售产品编号</th>\n",
       "      <th>可售产品名称</th>\n",
       "      <th>证件类型</th>\n",
       "      <th>客户编号</th>\n",
       "      <th>册号</th>\n",
       "      <th>笔号</th>\n",
       "      <th>开户机构号</th>\n",
       "      <th>开户柜员号</th>\n",
       "      <th>销户机构号</th>\n",
       "    </tr>\n",
       "  </thead>\n",
       "  <tbody>\n",
       "    <tr>\n",
       "      <th>0</th>\n",
       "      <td>建设银行</td>\n",
       "      <td>夏澜晏</td>\n",
       "      <td>230405198805250326</td>\n",
       "      <td>18602621089</td>\n",
       "      <td>梅江街道卡梅尔天淳园18-5 天津生态城中天大道美林园11号楼1门502号</td>\n",
       "      <td>天津人力</td>\n",
       "      <td>0061759980130631946</td>\n",
       "      <td>4367420061750483920</td>\n",
       "      <td>人民币元</td>\n",
       "      <td>0.00</td>\n",
       "      <td>...</td>\n",
       "      <td>一类账户</td>\n",
       "      <td>00000012</td>\n",
       "      <td>维萨磁条储蓄卡</td>\n",
       "      <td>居民身份证</td>\n",
       "      <td>479190000103765349</td>\n",
       "      <td>NaN</td>\n",
       "      <td>NaN</td>\n",
       "      <td>120675900</td>\n",
       "      <td>NaN</td>\n",
       "      <td>NaN</td>\n",
       "    </tr>\n",
       "    <tr>\n",
       "      <th>1</th>\n",
       "      <td>建设银行</td>\n",
       "      <td>夏澜晏</td>\n",
       "      <td>230405198805250326</td>\n",
       "      <td>18602621089</td>\n",
       "      <td>梅江街道卡梅尔天淳园18-5 天津生态城中天大道美林园11号楼1门502号</td>\n",
       "      <td>天津人力</td>\n",
       "      <td>0064659980130231346</td>\n",
       "      <td>4367420064650105775</td>\n",
       "      <td>人民币元</td>\n",
       "      <td>0.00</td>\n",
       "      <td>...</td>\n",
       "      <td>一类账户</td>\n",
       "      <td>00000012</td>\n",
       "      <td>维萨磁条储蓄卡</td>\n",
       "      <td>居民身份证</td>\n",
       "      <td>479190000103765349</td>\n",
       "      <td>NaN</td>\n",
       "      <td>NaN</td>\n",
       "      <td>120678901</td>\n",
       "      <td>NaN</td>\n",
       "      <td>NaN</td>\n",
       "    </tr>\n",
       "    <tr>\n",
       "      <th>2</th>\n",
       "      <td>建设银行</td>\n",
       "      <td>夏澜晏</td>\n",
       "      <td>230405198805250326</td>\n",
       "      <td>18602621089</td>\n",
       "      <td>梅江街道卡梅尔天淳园18-5 天津生态城中天大道美林园11号楼1门502号</td>\n",
       "      <td>天津人力</td>\n",
       "      <td>0065089980130243116</td>\n",
       "      <td>6214990060119881</td>\n",
       "      <td>人民币元</td>\n",
       "      <td>14491.56</td>\n",
       "      <td>...</td>\n",
       "      <td>一类账户</td>\n",
       "      <td>00000012</td>\n",
       "      <td>银联复合理财金卡</td>\n",
       "      <td>居民身份证</td>\n",
       "      <td>479190000103765349</td>\n",
       "      <td>NaN</td>\n",
       "      <td>NaN</td>\n",
       "      <td>120835100</td>\n",
       "      <td>NaN</td>\n",
       "      <td>NaN</td>\n",
       "    </tr>\n",
       "    <tr>\n",
       "      <th>3</th>\n",
       "      <td>建设银行</td>\n",
       "      <td>夏澜晏</td>\n",
       "      <td>230405198805250326</td>\n",
       "      <td>18602621089</td>\n",
       "      <td>梅江街道卡梅尔天淳园18-5 天津生态城中天大道美林园11号楼1门502号</td>\n",
       "      <td>天津人力</td>\n",
       "      <td>0065089980130243116</td>\n",
       "      <td>6214990060119881</td>\n",
       "      <td>人民币元</td>\n",
       "      <td>9000.00</td>\n",
       "      <td>...</td>\n",
       "      <td>其他账户</td>\n",
       "      <td>00000005</td>\n",
       "      <td>整存整取储蓄存款</td>\n",
       "      <td>居民身份证</td>\n",
       "      <td>479190000103765349</td>\n",
       "      <td>NaN</td>\n",
       "      <td>1</td>\n",
       "      <td>120835100</td>\n",
       "      <td>0</td>\n",
       "      <td>NaN</td>\n",
       "    </tr>\n",
       "    <tr>\n",
       "      <th>4</th>\n",
       "      <td>建设银行</td>\n",
       "      <td>夏澜晏</td>\n",
       "      <td>230405198805250326</td>\n",
       "      <td>18602621089</td>\n",
       "      <td>梅江街道卡梅尔天淳园18-5 天津生态城中天大道美林园11号楼1门502号</td>\n",
       "      <td>天津人力</td>\n",
       "      <td>0065089980130243116</td>\n",
       "      <td>6214990060119881</td>\n",
       "      <td>人民币元</td>\n",
       "      <td>9000.00</td>\n",
       "      <td>...</td>\n",
       "      <td>其他账户</td>\n",
       "      <td>00000005</td>\n",
       "      <td>整存整取储蓄存款</td>\n",
       "      <td>居民身份证</td>\n",
       "      <td>479190000103765349</td>\n",
       "      <td>NaN</td>\n",
       "      <td>2</td>\n",
       "      <td>120835100</td>\n",
       "      <td>0</td>\n",
       "      <td>NaN</td>\n",
       "    </tr>\n",
       "    <tr>\n",
       "      <th>5</th>\n",
       "      <td>建设银行</td>\n",
       "      <td>夏澜晏</td>\n",
       "      <td>230405198805250326</td>\n",
       "      <td>18602621089</td>\n",
       "      <td>梅江街道卡梅尔天淳园18-5 天津生态城中天大道美林园11号楼1门502号</td>\n",
       "      <td>天津人力</td>\n",
       "      <td>0065089980130243116</td>\n",
       "      <td>6214990060119881</td>\n",
       "      <td>人民币元</td>\n",
       "      <td>13969.93</td>\n",
       "      <td>...</td>\n",
       "      <td>其他账户</td>\n",
       "      <td>00000005</td>\n",
       "      <td>整存整取储蓄存款</td>\n",
       "      <td>居民身份证</td>\n",
       "      <td>479190000103765349</td>\n",
       "      <td>NaN</td>\n",
       "      <td>3</td>\n",
       "      <td>120835100</td>\n",
       "      <td>0</td>\n",
       "      <td>NaN</td>\n",
       "    </tr>\n",
       "    <tr>\n",
       "      <th>6</th>\n",
       "      <td>建设银行</td>\n",
       "      <td>夏澜晏</td>\n",
       "      <td>230405198805250326</td>\n",
       "      <td>18602621089</td>\n",
       "      <td>梅江街道卡梅尔天淳园18-5 天津生态城中天大道美林园11号楼1门502号</td>\n",
       "      <td>天津人力</td>\n",
       "      <td>0065089980130243116</td>\n",
       "      <td>6214990060119881</td>\n",
       "      <td>人民币元</td>\n",
       "      <td>20000.00</td>\n",
       "      <td>...</td>\n",
       "      <td>其他账户</td>\n",
       "      <td>00000005</td>\n",
       "      <td>整存整取储蓄存款</td>\n",
       "      <td>居民身份证</td>\n",
       "      <td>479190000103765349</td>\n",
       "      <td>NaN</td>\n",
       "      <td>4</td>\n",
       "      <td>120835100</td>\n",
       "      <td>Z1990006</td>\n",
       "      <td>NaN</td>\n",
       "    </tr>\n",
       "    <tr>\n",
       "      <th>7</th>\n",
       "      <td>建设银行</td>\n",
       "      <td>夏澜晏</td>\n",
       "      <td>230405198805250326</td>\n",
       "      <td>18602621089</td>\n",
       "      <td>梅江街道卡梅尔天淳园18-5 天津生态城中天大道美林园11号楼1门502号</td>\n",
       "      <td>天津人力</td>\n",
       "      <td>0065089980130243116</td>\n",
       "      <td>6214990060119881</td>\n",
       "      <td>人民币元</td>\n",
       "      <td>0.00</td>\n",
       "      <td>...</td>\n",
       "      <td>其他账户</td>\n",
       "      <td>00000002</td>\n",
       "      <td>零存整取储蓄存款</td>\n",
       "      <td>居民身份证</td>\n",
       "      <td>479190000103765349</td>\n",
       "      <td>NaN</td>\n",
       "      <td>1</td>\n",
       "      <td>120835100</td>\n",
       "      <td>0</td>\n",
       "      <td>NaN</td>\n",
       "    </tr>\n",
       "    <tr>\n",
       "      <th>8</th>\n",
       "      <td>建设银行</td>\n",
       "      <td>夏澜晏</td>\n",
       "      <td>230405198805250326</td>\n",
       "      <td>18602621089</td>\n",
       "      <td>梅江街道卡梅尔天淳园18-5 天津生态城中天大道美林园11号楼1门502号</td>\n",
       "      <td>天津人力</td>\n",
       "      <td>0060019980131146165</td>\n",
       "      <td>6227000060010578489</td>\n",
       "      <td>人民币元</td>\n",
       "      <td>0.00</td>\n",
       "      <td>...</td>\n",
       "      <td>一类账户</td>\n",
       "      <td>00000012</td>\n",
       "      <td>银联磁条公积金龙卡天津</td>\n",
       "      <td>居民身份证</td>\n",
       "      <td>479190000103765349</td>\n",
       "      <td>NaN</td>\n",
       "      <td>NaN</td>\n",
       "      <td>120615300</td>\n",
       "      <td>NaN</td>\n",
       "      <td>NaN</td>\n",
       "    </tr>\n",
       "    <tr>\n",
       "      <th>9</th>\n",
       "      <td>建设银行</td>\n",
       "      <td>夏澜晏</td>\n",
       "      <td>230405198805250326</td>\n",
       "      <td>18602621089</td>\n",
       "      <td>梅江街道卡梅尔天淳园18-5 天津生态城中天大道美林园11号楼1门502号</td>\n",
       "      <td>天津人力</td>\n",
       "      <td>1050819980130348640</td>\n",
       "      <td>6227001050819041200</td>\n",
       "      <td>人民币元</td>\n",
       "      <td>0.00</td>\n",
       "      <td>...</td>\n",
       "      <td>一类账户</td>\n",
       "      <td>00000012</td>\n",
       "      <td>银联磁条储蓄卡</td>\n",
       "      <td>居民身份证</td>\n",
       "      <td>479190000103765349</td>\n",
       "      <td>NaN</td>\n",
       "      <td>NaN</td>\n",
       "      <td>230645651</td>\n",
       "      <td>NaN</td>\n",
       "      <td>NaN</td>\n",
       "    </tr>\n",
       "    <tr>\n",
       "      <th>10</th>\n",
       "      <td>建设银行</td>\n",
       "      <td>夏澜晏</td>\n",
       "      <td>230405198805250326</td>\n",
       "      <td>18602621089</td>\n",
       "      <td>梅江街道卡梅尔天淳园18-5 天津生态城中天大道美林园11号楼1门502号</td>\n",
       "      <td>天津人力</td>\n",
       "      <td>3090439980120237054</td>\n",
       "      <td>6227003090430107012</td>\n",
       "      <td>人民币元</td>\n",
       "      <td>0.00</td>\n",
       "      <td>...</td>\n",
       "      <td>一类账户</td>\n",
       "      <td>00000012</td>\n",
       "      <td>银联磁条生肖牛卡</td>\n",
       "      <td>居民身份证</td>\n",
       "      <td>479190000103765349</td>\n",
       "      <td>NaN</td>\n",
       "      <td>NaN</td>\n",
       "      <td>440646345</td>\n",
       "      <td>NaN</td>\n",
       "      <td>NaN</td>\n",
       "    </tr>\n",
       "  </tbody>\n",
       "</table>\n",
       "<p>11 rows × 43 columns</p>\n",
       "</div>"
      ],
      "text/plain": [
       "      银行   姓名                证件号码           电话  \\\n",
       "0   建设银行  夏澜晏  230405198805250326  18602621089   \n",
       "1   建设银行  夏澜晏  230405198805250326  18602621089   \n",
       "2   建设银行  夏澜晏  230405198805250326  18602621089   \n",
       "3   建设银行  夏澜晏  230405198805250326  18602621089   \n",
       "4   建设银行  夏澜晏  230405198805250326  18602621089   \n",
       "5   建设银行  夏澜晏  230405198805250326  18602621089   \n",
       "6   建设银行  夏澜晏  230405198805250326  18602621089   \n",
       "7   建设银行  夏澜晏  230405198805250326  18602621089   \n",
       "8   建设银行  夏澜晏  230405198805250326  18602621089   \n",
       "9   建设银行  夏澜晏  230405198805250326  18602621089   \n",
       "10  建设银行  夏澜晏  230405198805250326  18602621089   \n",
       "\n",
       "                                       地址  工作单位                   账号  \\\n",
       "0   梅江街道卡梅尔天淳园18-5 天津生态城中天大道美林园11号楼1门502号  天津人力  0061759980130631946   \n",
       "1   梅江街道卡梅尔天淳园18-5 天津生态城中天大道美林园11号楼1门502号  天津人力  0064659980130231346   \n",
       "2   梅江街道卡梅尔天淳园18-5 天津生态城中天大道美林园11号楼1门502号  天津人力  0065089980130243116   \n",
       "3   梅江街道卡梅尔天淳园18-5 天津生态城中天大道美林园11号楼1门502号  天津人力  0065089980130243116   \n",
       "4   梅江街道卡梅尔天淳园18-5 天津生态城中天大道美林园11号楼1门502号  天津人力  0065089980130243116   \n",
       "5   梅江街道卡梅尔天淳园18-5 天津生态城中天大道美林园11号楼1门502号  天津人力  0065089980130243116   \n",
       "6   梅江街道卡梅尔天淳园18-5 天津生态城中天大道美林园11号楼1门502号  天津人力  0065089980130243116   \n",
       "7   梅江街道卡梅尔天淳园18-5 天津生态城中天大道美林园11号楼1门502号  天津人力  0065089980130243116   \n",
       "8   梅江街道卡梅尔天淳园18-5 天津生态城中天大道美林园11号楼1门502号  天津人力  0060019980131146165   \n",
       "9   梅江街道卡梅尔天淳园18-5 天津生态城中天大道美林园11号楼1门502号  天津人力  1050819980130348640   \n",
       "10  梅江街道卡梅尔天淳园18-5 天津生态城中天大道美林园11号楼1门502号  天津人力  3090439980120237054   \n",
       "\n",
       "                     卡号    币种        余额  ... 结算账户分类代码    可售产品编号       可售产品名称  \\\n",
       "0   4367420061750483920  人民币元      0.00  ...     一类账户  00000012      维萨磁条储蓄卡   \n",
       "1   4367420064650105775  人民币元      0.00  ...     一类账户  00000012      维萨磁条储蓄卡   \n",
       "2      6214990060119881  人民币元  14491.56  ...     一类账户  00000012     银联复合理财金卡   \n",
       "3      6214990060119881  人民币元   9000.00  ...     其他账户  00000005     整存整取储蓄存款   \n",
       "4      6214990060119881  人民币元   9000.00  ...     其他账户  00000005     整存整取储蓄存款   \n",
       "5      6214990060119881  人民币元  13969.93  ...     其他账户  00000005     整存整取储蓄存款   \n",
       "6      6214990060119881  人民币元  20000.00  ...     其他账户  00000005     整存整取储蓄存款   \n",
       "7      6214990060119881  人民币元      0.00  ...     其他账户  00000002     零存整取储蓄存款   \n",
       "8   6227000060010578489  人民币元      0.00  ...     一类账户  00000012  银联磁条公积金龙卡天津   \n",
       "9   6227001050819041200  人民币元      0.00  ...     一类账户  00000012      银联磁条储蓄卡   \n",
       "10  6227003090430107012  人民币元      0.00  ...     一类账户  00000012     银联磁条生肖牛卡   \n",
       "\n",
       "     证件类型                客户编号   册号   笔号      开户机构号     开户柜员号 销户机构号  \n",
       "0   居民身份证  479190000103765349  NaN  NaN  120675900       NaN   NaN  \n",
       "1   居民身份证  479190000103765349  NaN  NaN  120678901       NaN   NaN  \n",
       "2   居民身份证  479190000103765349  NaN  NaN  120835100       NaN   NaN  \n",
       "3   居民身份证  479190000103765349  NaN    1  120835100         0   NaN  \n",
       "4   居民身份证  479190000103765349  NaN    2  120835100         0   NaN  \n",
       "5   居民身份证  479190000103765349  NaN    3  120835100         0   NaN  \n",
       "6   居民身份证  479190000103765349  NaN    4  120835100  Z1990006   NaN  \n",
       "7   居民身份证  479190000103765349  NaN    1  120835100         0   NaN  \n",
       "8   居民身份证  479190000103765349  NaN  NaN  120615300       NaN   NaN  \n",
       "9   居民身份证  479190000103765349  NaN  NaN  230645651       NaN   NaN  \n",
       "10  居民身份证  479190000103765349  NaN  NaN  440646345       NaN   NaN  \n",
       "\n",
       "[11 rows x 43 columns]"
      ]
     },
     "execution_count": 26,
     "metadata": {},
     "output_type": "execute_result"
    }
   ],
   "source": [
    "from corelibs.process import process_account_file_general\n",
    "acc_file = pathlib.Path(r\"D:\\gitcodes\\testdata\\建行(于东林、刘德阳等)【已分析】\\1080860401675667712130255_3_1_watermark.xlsx\")\n",
    "df_acc = process_account_file_general(acc_file, OUTPUT_DIR_PATH,'建设银行网点', '账户')\n",
    "df_acc"
   ]
  },
  {
   "cell_type": "code",
   "execution_count": 3,
   "id": "46965849-422f-47e0-9234-8195111a4e4c",
   "metadata": {
    "extensions": {
     "jupyter_dashboards": {
      "activeView": "grid_default",
      "views": {
       "grid_default": {
        "col": null,
        "height": 2,
        "hidden": true,
        "row": null,
        "width": 2
       }
      }
     }
    },
    "tags": []
   },
   "outputs": [],
   "source": [
    "import dtale"
   ]
  },
  {
   "cell_type": "code",
   "execution_count": 4,
   "id": "538eec3c-99bd-4437-8016-7172cf3145e7",
   "metadata": {
    "extensions": {
     "jupyter_dashboards": {
      "activeView": "grid_default",
      "views": {
       "grid_default": {
        "col": null,
        "height": 2,
        "hidden": true,
        "row": null,
        "width": 2
       }
      }
     }
    },
    "tags": []
   },
   "outputs": [
    {
     "data": {
      "text/plain": []
     },
     "execution_count": 4,
     "metadata": {},
     "output_type": "execute_result"
    }
   ],
   "source": [
    "dtale.show(df, open_browser=True)"
   ]
  },
  {
   "cell_type": "markdown",
   "id": "e04e09e8-f459-4ef1-8e78-21129befdfc8",
   "metadata": {
    "extensions": {
     "jupyter_dashboards": {
      "activeView": "grid_default",
      "views": {
       "grid_default": {
        "col": null,
        "height": 2,
        "hidden": true,
        "row": null,
        "width": 2
       }
      }
     }
    }
   },
   "source": [
    "## 测试单个流水文件的读取与储存"
   ]
  },
  {
   "cell_type": "code",
   "execution_count": 36,
   "id": "2e69131f-f611-4d93-858c-1cd5cd890949",
   "metadata": {
    "extensions": {
     "jupyter_dashboards": {
      "activeView": "grid_default",
      "views": {
       "grid_default": {
        "col": null,
        "height": 2,
        "hidden": true,
        "row": null,
        "width": 2
       }
      }
     }
    },
    "tags": []
   },
   "outputs": [
    {
     "data": {
      "text/html": [
       "<div>\n",
       "<style scoped>\n",
       "    .dataframe tbody tr th:only-of-type {\n",
       "        vertical-align: middle;\n",
       "    }\n",
       "\n",
       "    .dataframe tbody tr th {\n",
       "        vertical-align: top;\n",
       "    }\n",
       "\n",
       "    .dataframe thead th {\n",
       "        text-align: right;\n",
       "    }\n",
       "</style>\n",
       "<table border=\"1\" class=\"dataframe\">\n",
       "  <thead>\n",
       "    <tr style=\"text-align: right;\">\n",
       "      <th></th>\n",
       "      <th>银行</th>\n",
       "      <th>日期</th>\n",
       "      <th>时间</th>\n",
       "      <th>姓名</th>\n",
       "      <th>账号</th>\n",
       "      <th>卡号</th>\n",
       "      <th>备注</th>\n",
       "      <th>摘要</th>\n",
       "      <th>币种</th>\n",
       "      <th>出账金额</th>\n",
       "      <th>...</th>\n",
       "      <th>交易流水号</th>\n",
       "      <th>第三方订单号</th>\n",
       "      <th>交易渠道</th>\n",
       "      <th>自助设备编号</th>\n",
       "      <th>钞汇</th>\n",
       "      <th>册号</th>\n",
       "      <th>笔号</th>\n",
       "      <th>活期存款账户明细号</th>\n",
       "      <th>柜员号</th>\n",
       "      <th>交易机构号</th>\n",
       "    </tr>\n",
       "  </thead>\n",
       "  <tbody>\n",
       "    <tr>\n",
       "      <th>0</th>\n",
       "      <td>建设银行</td>\n",
       "      <td>2012-07-11</td>\n",
       "      <td>09:57:04</td>\n",
       "      <td>夏澜晏</td>\n",
       "      <td>0061759980130631946</td>\n",
       "      <td>4367420061750483920</td>\n",
       "      <td>建行天津塘沽分行储</td>\n",
       "      <td>现金存入</td>\n",
       "      <td>人民币元</td>\n",
       "      <td>NaN</td>\n",
       "      <td>...</td>\n",
       "      <td>1206704460070000017</td>\n",
       "      <td>NaN</td>\n",
       "      <td>120670240092</td>\n",
       "      <td>NaN</td>\n",
       "      <td>钞</td>\n",
       "      <td>NaN</td>\n",
       "      <td>NaN</td>\n",
       "      <td>1</td>\n",
       "      <td>120670240092</td>\n",
       "      <td>120670446</td>\n",
       "    </tr>\n",
       "    <tr>\n",
       "      <th>1</th>\n",
       "      <td>建设银行</td>\n",
       "      <td>2012-07-12</td>\n",
       "      <td>17:44:03</td>\n",
       "      <td>夏澜晏</td>\n",
       "      <td>0061759980130631946</td>\n",
       "      <td>4367420061750483920</td>\n",
       "      <td>工资2012-7</td>\n",
       "      <td>自定义</td>\n",
       "      <td>人民币元</td>\n",
       "      <td>NaN</td>\n",
       "      <td>...</td>\n",
       "      <td>120080200D380001753</td>\n",
       "      <td>NaN</td>\n",
       "      <td>120080200D38</td>\n",
       "      <td>NaN</td>\n",
       "      <td>钞</td>\n",
       "      <td>NaN</td>\n",
       "      <td>NaN</td>\n",
       "      <td>2</td>\n",
       "      <td>120080200D38</td>\n",
       "      <td>120080200</td>\n",
       "    </tr>\n",
       "    <tr>\n",
       "      <th>2</th>\n",
       "      <td>建设银行</td>\n",
       "      <td>2012-07-12</td>\n",
       "      <td>17:45:06</td>\n",
       "      <td>夏澜晏</td>\n",
       "      <td>0061759980130631946</td>\n",
       "      <td>4367420061750483920</td>\n",
       "      <td>个人短信代扣</td>\n",
       "      <td>自定义</td>\n",
       "      <td>人民币元</td>\n",
       "      <td>24.00</td>\n",
       "      <td>...</td>\n",
       "      <td>120080200D380002131</td>\n",
       "      <td>NaN</td>\n",
       "      <td>120080200D38</td>\n",
       "      <td>NaN</td>\n",
       "      <td>钞</td>\n",
       "      <td>NaN</td>\n",
       "      <td>NaN</td>\n",
       "      <td>3</td>\n",
       "      <td>120080200D38</td>\n",
       "      <td>120080200</td>\n",
       "    </tr>\n",
       "    <tr>\n",
       "      <th>3</th>\n",
       "      <td>建设银行</td>\n",
       "      <td>2012-07-13</td>\n",
       "      <td>19:11:31</td>\n",
       "      <td>夏澜晏</td>\n",
       "      <td>0061759980130631946</td>\n",
       "      <td>4367420061750483920</td>\n",
       "      <td>建行天津塘沽分行储</td>\n",
       "      <td>ATM存款</td>\n",
       "      <td>人民币元</td>\n",
       "      <td>NaN</td>\n",
       "      <td>...</td>\n",
       "      <td>120670446A010000227</td>\n",
       "      <td>NaN</td>\n",
       "      <td>120670446A01</td>\n",
       "      <td>NaN</td>\n",
       "      <td>钞</td>\n",
       "      <td>NaN</td>\n",
       "      <td>NaN</td>\n",
       "      <td>4</td>\n",
       "      <td>120670446A01</td>\n",
       "      <td>120670446</td>\n",
       "    </tr>\n",
       "    <tr>\n",
       "      <th>4</th>\n",
       "      <td>建设银行</td>\n",
       "      <td>2012-07-14</td>\n",
       "      <td>21:02:57</td>\n",
       "      <td>夏澜晏</td>\n",
       "      <td>0061759980130631946</td>\n",
       "      <td>4367420061750483920</td>\n",
       "      <td>建行天津塘沽分行储</td>\n",
       "      <td>ATM取款</td>\n",
       "      <td>人民币元</td>\n",
       "      <td>500.00</td>\n",
       "      <td>...</td>\n",
       "      <td>120670446A010000161</td>\n",
       "      <td>NaN</td>\n",
       "      <td>120670446A01</td>\n",
       "      <td>NaN</td>\n",
       "      <td>钞</td>\n",
       "      <td>NaN</td>\n",
       "      <td>NaN</td>\n",
       "      <td>5</td>\n",
       "      <td>120670446A01</td>\n",
       "      <td>120670446</td>\n",
       "    </tr>\n",
       "    <tr>\n",
       "      <th>...</th>\n",
       "      <td>...</td>\n",
       "      <td>...</td>\n",
       "      <td>...</td>\n",
       "      <td>...</td>\n",
       "      <td>...</td>\n",
       "      <td>...</td>\n",
       "      <td>...</td>\n",
       "      <td>...</td>\n",
       "      <td>...</td>\n",
       "      <td>...</td>\n",
       "      <td>...</td>\n",
       "      <td>...</td>\n",
       "      <td>...</td>\n",
       "      <td>...</td>\n",
       "      <td>...</td>\n",
       "      <td>...</td>\n",
       "      <td>...</td>\n",
       "      <td>...</td>\n",
       "      <td>...</td>\n",
       "      <td>...</td>\n",
       "      <td>...</td>\n",
       "    </tr>\n",
       "    <tr>\n",
       "      <th>1999</th>\n",
       "      <td>建设银行</td>\n",
       "      <td>2011-09-21</td>\n",
       "      <td>02:03:23</td>\n",
       "      <td>夏澜晏</td>\n",
       "      <td>3090439980120237054</td>\n",
       "      <td>6227003090430107012</td>\n",
       "      <td>0.00    0.00000</td>\n",
       "      <td>结息</td>\n",
       "      <td>人民币元</td>\n",
       "      <td>NaN</td>\n",
       "      <td>...</td>\n",
       "      <td>NaN</td>\n",
       "      <td>NaN</td>\n",
       "      <td>440999999001</td>\n",
       "      <td>NaN</td>\n",
       "      <td>钞</td>\n",
       "      <td>NaN</td>\n",
       "      <td>NaN</td>\n",
       "      <td>228</td>\n",
       "      <td>440999999001</td>\n",
       "      <td>NaN</td>\n",
       "    </tr>\n",
       "    <tr>\n",
       "      <th>2000</th>\n",
       "      <td>建设银行</td>\n",
       "      <td>2011-10-28</td>\n",
       "      <td>01:26:27</td>\n",
       "      <td>夏澜晏</td>\n",
       "      <td>3090439980120237054</td>\n",
       "      <td>6227003090430107012</td>\n",
       "      <td>NaN</td>\n",
       "      <td>账户管理费</td>\n",
       "      <td>人民币元</td>\n",
       "      <td>0.92</td>\n",
       "      <td>...</td>\n",
       "      <td>NaN</td>\n",
       "      <td>NaN</td>\n",
       "      <td>440999999001</td>\n",
       "      <td>NaN</td>\n",
       "      <td>钞</td>\n",
       "      <td>NaN</td>\n",
       "      <td>NaN</td>\n",
       "      <td>229</td>\n",
       "      <td>440999999001</td>\n",
       "      <td>NaN</td>\n",
       "    </tr>\n",
       "    <tr>\n",
       "      <th>2001</th>\n",
       "      <td>建设银行</td>\n",
       "      <td>2011-11-09</td>\n",
       "      <td>14:42:32</td>\n",
       "      <td>夏澜晏</td>\n",
       "      <td>3090439980120237054</td>\n",
       "      <td>6227003090430107012</td>\n",
       "      <td>鹤岗解放支行</td>\n",
       "      <td>ATM存款</td>\n",
       "      <td>人民币元</td>\n",
       "      <td>NaN</td>\n",
       "      <td>...</td>\n",
       "      <td>230645051A040000163</td>\n",
       "      <td>NaN</td>\n",
       "      <td>230645051A04</td>\n",
       "      <td>NaN</td>\n",
       "      <td>钞</td>\n",
       "      <td>NaN</td>\n",
       "      <td>NaN</td>\n",
       "      <td>230</td>\n",
       "      <td>230645051A04</td>\n",
       "      <td>230645051</td>\n",
       "    </tr>\n",
       "    <tr>\n",
       "      <th>2002</th>\n",
       "      <td>建设银行</td>\n",
       "      <td>2011-11-09</td>\n",
       "      <td>14:42:32</td>\n",
       "      <td>夏澜晏</td>\n",
       "      <td>3090439980120237054</td>\n",
       "      <td>6227003090430107012</td>\n",
       "      <td>鹤岗解放支行</td>\n",
       "      <td>手续费</td>\n",
       "      <td>人民币元</td>\n",
       "      <td>2.00</td>\n",
       "      <td>...</td>\n",
       "      <td>230645051A040000163</td>\n",
       "      <td>NaN</td>\n",
       "      <td>230645051A04</td>\n",
       "      <td>NaN</td>\n",
       "      <td>钞</td>\n",
       "      <td>NaN</td>\n",
       "      <td>NaN</td>\n",
       "      <td>231</td>\n",
       "      <td>230645051A04</td>\n",
       "      <td>230645051</td>\n",
       "    </tr>\n",
       "    <tr>\n",
       "      <th>2003</th>\n",
       "      <td>建设银行</td>\n",
       "      <td>2011-11-10</td>\n",
       "      <td>09:59:09</td>\n",
       "      <td>夏澜晏</td>\n",
       "      <td>3090439980120237054</td>\n",
       "      <td>6227003090430107012</td>\n",
       "      <td>支付宝</td>\n",
       "      <td>消费</td>\n",
       "      <td>人民币元</td>\n",
       "      <td>198.00</td>\n",
       "      <td>...</td>\n",
       "      <td>330003100280ARFCKNN</td>\n",
       "      <td>NaN</td>\n",
       "      <td>K00000000001</td>\n",
       "      <td>NaN</td>\n",
       "      <td>钞</td>\n",
       "      <td>NaN</td>\n",
       "      <td>NaN</td>\n",
       "      <td>232</td>\n",
       "      <td>K00000000001</td>\n",
       "      <td>330003100</td>\n",
       "    </tr>\n",
       "  </tbody>\n",
       "</table>\n",
       "<p>2004 rows × 33 columns</p>\n",
       "</div>"
      ],
      "text/plain": [
       "        银行          日期        时间   姓名                   账号  \\\n",
       "0     建设银行  2012-07-11  09:57:04  夏澜晏  0061759980130631946   \n",
       "1     建设银行  2012-07-12  17:44:03  夏澜晏  0061759980130631946   \n",
       "2     建设银行  2012-07-12  17:45:06  夏澜晏  0061759980130631946   \n",
       "3     建设银行  2012-07-13  19:11:31  夏澜晏  0061759980130631946   \n",
       "4     建设银行  2012-07-14  21:02:57  夏澜晏  0061759980130631946   \n",
       "...    ...         ...       ...  ...                  ...   \n",
       "1999  建设银行  2011-09-21  02:03:23  夏澜晏  3090439980120237054   \n",
       "2000  建设银行  2011-10-28  01:26:27  夏澜晏  3090439980120237054   \n",
       "2001  建设银行  2011-11-09  14:42:32  夏澜晏  3090439980120237054   \n",
       "2002  建设银行  2011-11-09  14:42:32  夏澜晏  3090439980120237054   \n",
       "2003  建设银行  2011-11-10  09:59:09  夏澜晏  3090439980120237054   \n",
       "\n",
       "                       卡号               备注     摘要    币种    出账金额  ...  \\\n",
       "0     4367420061750483920        建行天津塘沽分行储   现金存入  人民币元     NaN  ...   \n",
       "1     4367420061750483920         工资2012-7    自定义  人民币元     NaN  ...   \n",
       "2     4367420061750483920           个人短信代扣    自定义  人民币元   24.00  ...   \n",
       "3     4367420061750483920        建行天津塘沽分行储  ATM存款  人民币元     NaN  ...   \n",
       "4     4367420061750483920        建行天津塘沽分行储  ATM取款  人民币元  500.00  ...   \n",
       "...                   ...              ...    ...   ...     ...  ...   \n",
       "1999  6227003090430107012  0.00    0.00000     结息  人民币元     NaN  ...   \n",
       "2000  6227003090430107012              NaN  账户管理费  人民币元    0.92  ...   \n",
       "2001  6227003090430107012           鹤岗解放支行  ATM存款  人民币元     NaN  ...   \n",
       "2002  6227003090430107012           鹤岗解放支行    手续费  人民币元    2.00  ...   \n",
       "2003  6227003090430107012              支付宝     消费  人民币元  198.00  ...   \n",
       "\n",
       "                    交易流水号  第三方订单号          交易渠道 自助设备编号 钞汇   册号   笔号 活期存款账户明细号  \\\n",
       "0     1206704460070000017     NaN  120670240092    NaN  钞  NaN  NaN         1   \n",
       "1     120080200D380001753     NaN  120080200D38    NaN  钞  NaN  NaN         2   \n",
       "2     120080200D380002131     NaN  120080200D38    NaN  钞  NaN  NaN         3   \n",
       "3     120670446A010000227     NaN  120670446A01    NaN  钞  NaN  NaN         4   \n",
       "4     120670446A010000161     NaN  120670446A01    NaN  钞  NaN  NaN         5   \n",
       "...                   ...     ...           ...    ... ..  ...  ...       ...   \n",
       "1999                  NaN     NaN  440999999001    NaN  钞  NaN  NaN       228   \n",
       "2000                  NaN     NaN  440999999001    NaN  钞  NaN  NaN       229   \n",
       "2001  230645051A040000163     NaN  230645051A04    NaN  钞  NaN  NaN       230   \n",
       "2002  230645051A040000163     NaN  230645051A04    NaN  钞  NaN  NaN       231   \n",
       "2003  330003100280ARFCKNN     NaN  K00000000001    NaN  钞  NaN  NaN       232   \n",
       "\n",
       "               柜员号      交易机构号  \n",
       "0     120670240092  120670446  \n",
       "1     120080200D38  120080200  \n",
       "2     120080200D38  120080200  \n",
       "3     120670446A01  120670446  \n",
       "4     120670446A01  120670446  \n",
       "...            ...        ...  \n",
       "1999  440999999001        NaN  \n",
       "2000  440999999001        NaN  \n",
       "2001  230645051A04  230645051  \n",
       "2002  230645051A04  230645051  \n",
       "2003  K00000000001  330003100  \n",
       "\n",
       "[2004 rows x 33 columns]"
      ]
     },
     "execution_count": 36,
     "metadata": {},
     "output_type": "execute_result"
    }
   ],
   "source": [
    "from corelibs.process import process_statment_file_general\n",
    "acc_file = pathlib.Path(r\"D:\\gitcodes\\testdata\\建行(于东林、刘德阳等)【已分析】\\1080860401675667712130255_4_1_watermark.xlsx\")\n",
    "process_statment_file_general(acc_file, OUTPUT_DIR_PATH,'建设银行网点', '流水','a', df_acc)"
   ]
  },
  {
   "cell_type": "code",
   "execution_count": 15,
   "id": "b78014d0-1161-454a-ac69-917690c8beb4",
   "metadata": {
    "execution": {
     "iopub.execute_input": "2024-02-01T11:02:04.877867Z",
     "iopub.status.busy": "2024-02-01T11:02:04.876867Z",
     "iopub.status.idle": "2024-02-01T11:02:19.852724Z",
     "shell.execute_reply": "2024-02-01T11:02:19.849723Z",
     "shell.execute_reply.started": "2024-02-01T11:02:04.877867Z"
    },
    "extensions": {
     "jupyter_dashboards": {
      "activeView": "grid_default",
      "views": {
       "grid_default": {
        "col": null,
        "height": 2,
        "hidden": true,
        "row": null,
        "width": 2
       }
      }
     }
    },
    "tags": []
   },
   "outputs": [],
   "source": [
    "import dtale"
   ]
  },
  {
   "cell_type": "code",
   "execution_count": 28,
   "id": "46487239-8adb-4a9e-b586-31f941ee8d4b",
   "metadata": {
    "extensions": {
     "jupyter_dashboards": {
      "activeView": "grid_default",
      "views": {
       "grid_default": {
        "col": null,
        "height": 2,
        "hidden": true,
        "row": null,
        "width": 2
       }
      }
     }
    },
    "tags": []
   },
   "outputs": [
    {
     "data": {
      "text/plain": []
     },
     "execution_count": 28,
     "metadata": {},
     "output_type": "execute_result"
    }
   ],
   "source": [
    "dtale.show(df, open_browser=True)"
   ]
  },
  {
   "cell_type": "markdown",
   "id": "fe32dbaf",
   "metadata": {},
   "source": [
    "## 测试识别文件列表中的文件类型"
   ]
  },
  {
   "cell_type": "code",
   "execution_count": null,
   "id": "16a1dc0c",
   "metadata": {
    "scrolled": true
   },
   "outputs": [],
   "source": [
    "from collections import Counter\n",
    "from corelibs.process import classify_files_by_category\n",
    "\n",
    "base_dir = pathlib.Path(r\"D:\\gitcodes\\testdata\\建行(于东林、刘德阳等)【已分析】\")\n",
    "_file_names = list(base_dir.glob('[!~]*.xlsx')) # 找到目录中所有的excel文件（不含子目录）\n",
    "f,e = classify_files_by_category(_file_names)\n",
    "\n",
    "print(f)\n",
    "len([print(k.name + v) for k, v in e.items()])"
   ]
  },
  {
   "cell_type": "code",
   "execution_count": 9,
   "id": "6b3173db",
   "metadata": {},
   "outputs": [
    {
     "data": {
      "text/plain": [
       "[]"
      ]
     },
     "execution_count": 9,
     "metadata": {},
     "output_type": "execute_result"
    }
   ],
   "source": [
    "base_dir = pathlib.Path(r'D:\\gitcodes\\testdata\\建行(于东林、刘德阳等)【已分析】')\n",
    "list(base_dir.glob('[!~]*.xlsx')) \n"
   ]
  },
  {
   "cell_type": "markdown",
   "id": "4cf4ae13",
   "metadata": {},
   "source": [
    "## 测试从账户信息中充实流水数据\n",
    "（文件夹分析，先分析账户，再分析流水）"
   ]
  },
  {
   "cell_type": "code",
   "execution_count": null,
   "id": "e62a82c6",
   "metadata": {},
   "outputs": [],
   "source": [
    "base_dir = pathlib.Path(r'D:\\gitcodes\\testdata\\建行(于东林、刘德阳等)【已分析】')\n"
   ]
  },
  {
   "cell_type": "markdown",
   "id": "51ead8d4-2236-46b4-9bd4-1091354ddaf2",
   "metadata": {},
   "source": [
    "## 测试分析银行目录"
   ]
  },
  {
   "cell_type": "code",
   "execution_count": null,
   "id": "ef5dded9-ddf5-45b4-b3c3-27ab71948226",
   "metadata": {},
   "outputs": [],
   "source": [
    "from banks.ccb import process_dir_ccb_branch_v2\n",
    "base_dir = pathlib.Path(r\"D:\\gitcodes\\testdata\\建行(于东林、刘德阳等)【已分析】\")\n",
    "process_dir_ccb_branch_v2(base_dir, OUTPUT_DIR_PATH, 's')"
   ]
  },
  {
   "cell_type": "markdown",
   "id": "f4a6a4e7-1a20-4a80-9188-a175e4e8ff01",
   "metadata": {
    "extensions": {
     "jupyter_dashboards": {
      "activeView": "grid_default",
      "views": {
       "grid_default": {
        "col": null,
        "height": 2,
        "hidden": true,
        "row": null,
        "width": 2
       }
      }
     }
    }
   },
   "source": [
    "# 执行"
   ]
  },
  {
   "cell_type": "markdown",
   "id": "eae19d1b-bb5b-4ad4-b469-2b980ec2f73e",
   "metadata": {
    "extensions": {
     "jupyter_dashboards": {
      "activeView": "grid_default",
      "views": {
       "grid_default": {
        "col": null,
        "height": 2,
        "hidden": true,
        "row": null,
        "width": 2
       }
      }
     }
    }
   },
   "source": [
    "## 分析建设银行网点数据目录\n",
    "（如：开发区金融街建行查询数据）"
   ]
  },
  {
   "cell_type": "code",
   "execution_count": 25,
   "id": "cab897d0-05a2-4e14-a3f4-b9639c5baf18",
   "metadata": {
    "extensions": {
     "jupyter_dashboards": {
      "activeView": "grid_default",
      "views": {
       "grid_default": {
        "col": null,
        "height": 2,
        "hidden": true,
        "row": null,
        "width": 2
       }
      }
     }
    },
    "tags": []
   },
   "outputs": [
    {
     "data": {
      "application/vnd.jupyter.widget-view+json": {
       "model_id": "7b06c6156ae3463b900f611d40c38aab",
       "version_major": 2,
       "version_minor": 0
      },
      "text/plain": [
       "分析目录文件:   0%|          | 0/8 [00:00<?, ?it/s]"
      ]
     },
     "metadata": {},
     "output_type": "display_data"
    },
    {
     "name": "stdout",
     "output_type": "stream",
     "text": [
      "1080860401675667712130255_1_1_watermark.xlsx……建设银行网点账户done\n",
      "1080860401675667712130255_2_1_watermark.xlsx……建设银行网点流水done\n",
      "1080860401675667712130255_3_1_watermark.xlsx……建设银行网点账户done\n",
      "1080860401675667712130255_4_1_watermark.xlsx……建设银行网点流水done\n",
      "1080860401675667712130255_5_1_watermark.xlsx……建设银行网点账户done\n",
      "1080860401675667712130255_6_1_watermark.xlsx……建设银行网点流水done\n",
      "1080860401675667712130255_7_1_watermark.xlsx……建设银行网点账户done\n",
      "1080860401675667712130255_8_1_watermark.xlsx……建设银行网点流水done\n",
      "以下为发生错误而跳过的文件：\n"
     ]
    },
    {
     "data": {
      "text/plain": [
       "0"
      ]
     },
     "execution_count": 25,
     "metadata": {},
     "output_type": "execute_result"
    }
   ],
   "source": [
    "from banks.ccb import process_dir_ccb_branch_v1\n",
    "base_dir = pathlib.Path(r\"D:\\gitcodes\\testdata\\建行(于东林、刘德阳等)【已分析】\")\n",
    "err_files = process_dir_ccb_branch_v1(base_dir, OUTPUT_DIR_PATH, 'a')\n",
    "print('以下为发生错误而跳过的文件：')\n",
    "len([print(k.name + v) for k, v in err_files.items()])"
   ]
  },
  {
   "cell_type": "code",
   "execution_count": 17,
   "id": "53b38c28-f565-4856-9aeb-80fcda7166df",
   "metadata": {},
   "outputs": [
    {
     "data": {
      "text/plain": [
       "'D:\\\\gitcodes\\\\testdata\\\\建行(于东林、刘德阳等)【已分析】'"
      ]
     },
     "execution_count": 17,
     "metadata": {},
     "output_type": "execute_result"
    }
   ],
   "source": [
    "base_dir.__str__()"
   ]
  },
  {
   "cell_type": "markdown",
   "id": "e38f6e5b-adc8-499c-95f2-56bf2086b07e",
   "metadata": {
    "extensions": {
     "jupyter_dashboards": {
      "activeView": "grid_default",
      "views": {
       "grid_default": {
        "col": null,
        "height": 2,
        "hidden": true,
        "row": null,
        "width": 2
       }
      }
     }
    }
   },
   "source": [
    "# 杂项"
   ]
  },
  {
   "cell_type": "code",
   "execution_count": 14,
   "id": "e875a81d",
   "metadata": {},
   "outputs": [
    {
     "name": "stdout",
     "output_type": "stream",
     "text": [
      "   a  b   d\n",
      "0  1  1  13\n",
      "1  2  2  14\n",
      "2  1  1  15\n",
      "3  5  5  16\n",
      "   a  b   c\n",
      "0  1  5   9\n",
      "1  2  6  10\n",
      "2  3  7  11\n",
      "3  4  8  12\n"
     ]
    },
    {
     "data": {
      "text/html": [
       "<div>\n",
       "<style scoped>\n",
       "    .dataframe tbody tr th:only-of-type {\n",
       "        vertical-align: middle;\n",
       "    }\n",
       "\n",
       "    .dataframe tbody tr th {\n",
       "        vertical-align: top;\n",
       "    }\n",
       "\n",
       "    .dataframe thead th {\n",
       "        text-align: right;\n",
       "    }\n",
       "</style>\n",
       "<table border=\"1\" class=\"dataframe\">\n",
       "  <thead>\n",
       "    <tr style=\"text-align: right;\">\n",
       "      <th></th>\n",
       "      <th>a</th>\n",
       "      <th>b_x</th>\n",
       "      <th>d</th>\n",
       "      <th>b_y</th>\n",
       "      <th>c</th>\n",
       "    </tr>\n",
       "  </thead>\n",
       "  <tbody>\n",
       "    <tr>\n",
       "      <th>0</th>\n",
       "      <td>1</td>\n",
       "      <td>1</td>\n",
       "      <td>13</td>\n",
       "      <td>5.0</td>\n",
       "      <td>9.0</td>\n",
       "    </tr>\n",
       "    <tr>\n",
       "      <th>1</th>\n",
       "      <td>2</td>\n",
       "      <td>2</td>\n",
       "      <td>14</td>\n",
       "      <td>6.0</td>\n",
       "      <td>10.0</td>\n",
       "    </tr>\n",
       "    <tr>\n",
       "      <th>2</th>\n",
       "      <td>1</td>\n",
       "      <td>1</td>\n",
       "      <td>15</td>\n",
       "      <td>5.0</td>\n",
       "      <td>9.0</td>\n",
       "    </tr>\n",
       "    <tr>\n",
       "      <th>3</th>\n",
       "      <td>5</td>\n",
       "      <td>5</td>\n",
       "      <td>16</td>\n",
       "      <td>NaN</td>\n",
       "      <td>NaN</td>\n",
       "    </tr>\n",
       "  </tbody>\n",
       "</table>\n",
       "</div>"
      ],
      "text/plain": [
       "   a  b_x   d  b_y     c\n",
       "0  1    1  13  5.0   9.0\n",
       "1  2    2  14  6.0  10.0\n",
       "2  1    1  15  5.0   9.0\n",
       "3  5    5  16  NaN   NaN"
      ]
     },
     "execution_count": 14,
     "metadata": {},
     "output_type": "execute_result"
    }
   ],
   "source": [
    "import pandas as pd\n",
    "df2 = pd.DataFrame({'a':[1,2,3,4],'b':[5,6,7,8],'c':[9,10,11,12]})\n",
    "df1 = pd.DataFrame({'a':[1,2,1,5],'b':[1,2,1,5],'d':[13,14,15,16]})\n",
    "print(df1)\n",
    "print(df2)\n",
    "pd.merge(df1,df2,left_on='a',right_on='a', how='left', validate='m:1', copy=False)"
   ]
  },
  {
   "cell_type": "code",
   "execution_count": 23,
   "id": "8494fb46-7a3b-4504-84be-cdb095f16fc6",
   "metadata": {},
   "outputs": [
    {
     "data": {
      "text/html": [
       "<div>\n",
       "<style scoped>\n",
       "    .dataframe tbody tr th:only-of-type {\n",
       "        vertical-align: middle;\n",
       "    }\n",
       "\n",
       "    .dataframe tbody tr th {\n",
       "        vertical-align: top;\n",
       "    }\n",
       "\n",
       "    .dataframe thead th {\n",
       "        text-align: right;\n",
       "    }\n",
       "</style>\n",
       "<table border=\"1\" class=\"dataframe\">\n",
       "  <thead>\n",
       "    <tr style=\"text-align: right;\">\n",
       "      <th></th>\n",
       "      <th>b</th>\n",
       "      <th>c</th>\n",
       "    </tr>\n",
       "  </thead>\n",
       "  <tbody>\n",
       "    <tr>\n",
       "      <th>0</th>\n",
       "      <td>5</td>\n",
       "      <td>9</td>\n",
       "    </tr>\n",
       "    <tr>\n",
       "      <th>1</th>\n",
       "      <td>6</td>\n",
       "      <td>10</td>\n",
       "    </tr>\n",
       "    <tr>\n",
       "      <th>2</th>\n",
       "      <td>7</td>\n",
       "      <td>11</td>\n",
       "    </tr>\n",
       "    <tr>\n",
       "      <th>3</th>\n",
       "      <td>8</td>\n",
       "      <td>12</td>\n",
       "    </tr>\n",
       "  </tbody>\n",
       "</table>\n",
       "</div>"
      ],
      "text/plain": [
       "   b   c\n",
       "0  5   9\n",
       "1  6  10\n",
       "2  7  11\n",
       "3  8  12"
      ]
     },
     "execution_count": 23,
     "metadata": {},
     "output_type": "execute_result"
    }
   ],
   "source": [
    "df2.drop('a',axis=1)"
   ]
  },
  {
   "cell_type": "code",
   "execution_count": null,
   "id": "039b1751-c619-4abc-9fe1-2ce86990f7a3",
   "metadata": {},
   "outputs": [],
   "source": [
    "import pandas as pd\n",
    "pd.read_excel(r\"D:\\gitcodes\\testdata\\建行(于东林、刘德阳等)【已分析】\\1080860401675667712130255_1_1_watermark.xlsx\")"
   ]
  }
 ],
 "metadata": {
  "extensions": {
   "jupyter_dashboards": {
    "activeView": "grid_default",
    "version": 1,
    "views": {
     "grid_default": {
      "cellMargin": 2,
      "defaultCellHeight": 60,
      "maxColumns": 12,
      "name": "grid",
      "type": "grid"
     }
    }
   }
  },
  "kernelspec": {
   "display_name": "Python 3 (ipykernel)",
   "language": "python",
   "name": "python3"
  },
  "language_info": {
   "codemirror_mode": {
    "name": "ipython",
    "version": 3
   },
   "file_extension": ".py",
   "mimetype": "text/x-python",
   "name": "python",
   "nbconvert_exporter": "python",
   "pygments_lexer": "ipython3",
   "version": "3.11.6"
  },
  "toc-autonumbering": true,
  "toc-showcode": false,
  "toc-showmarkdowntxt": false,
  "toc-showtags": false,
  "widgets": {
   "application/vnd.jupyter.widget-state+json": {
    "state": {},
    "version_major": 2,
    "version_minor": 0
   }
  }
 },
 "nbformat": 4,
 "nbformat_minor": 5
}
