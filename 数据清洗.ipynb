{
 "cells": [
  {
   "cell_type": "markdown",
   "id": "9bb29211-2b71-4cf9-bccd-71d98c7742d1",
   "metadata": {},
   "source": [
    "# 导入文件"
   ]
  },
  {
   "cell_type": "code",
   "execution_count": 48,
   "id": "1ecad92f-2217-45d9-8ca5-dd04379f772a",
   "metadata": {
    "execution": {
     "iopub.execute_input": "2023-12-17T02:51:46.106701Z",
     "iopub.status.busy": "2023-12-17T02:51:46.105701Z",
     "iopub.status.idle": "2023-12-17T02:51:46.749737Z",
     "shell.execute_reply": "2023-12-17T02:51:46.749737Z",
     "shell.execute_reply.started": "2023-12-17T02:51:46.106701Z"
    },
    "tags": []
   },
   "outputs": [
    {
     "data": {
      "text/plain": [
       "['Sheet1', 'Sheet2', 'Sheet3']"
      ]
     },
     "execution_count": 48,
     "metadata": {},
     "output_type": "execute_result"
    }
   ],
   "source": [
    "import pandas as pd\n",
    "import pathlib\n",
    "base_path = pathlib.Path(r\"E:\\张楠\\2023赵益华927\\银行\\天津银行\\滨监查询（2023）05217号.xls\")\n",
    "output_dir_path = pathlib.Path(r\"E:\\张楠\\测试\\output\")\n",
    "excel_file = pd.ExcelFile(base_path)\n",
    "excel_file.sheet_names"
   ]
  },
  {
   "cell_type": "code",
   "execution_count": 2,
   "id": "d1e7c85c-fe8e-4cb9-9e9d-4580ad99f335",
   "metadata": {
    "execution": {
     "iopub.execute_input": "2023-12-17T01:18:50.059769Z",
     "iopub.status.busy": "2023-12-17T01:18:50.059769Z",
     "iopub.status.idle": "2023-12-17T01:18:50.121772Z",
     "shell.execute_reply": "2023-12-17T01:18:50.120772Z",
     "shell.execute_reply.started": "2023-12-17T01:18:50.059769Z"
    },
    "tags": []
   },
   "outputs": [],
   "source": [
    "import yaml\n",
    "with open('config.yaml', 'r', encoding='utf-8') as f:\n",
    "    CONF_DATA = yaml.load(f, Loader=yaml.SafeLoader)"
   ]
  },
  {
   "cell_type": "markdown",
   "id": "47285952-2261-43d5-b3c1-3e8e32808517",
   "metadata": {},
   "source": [
    "# 自定义函数及测试"
   ]
  },
  {
   "cell_type": "code",
   "execution_count": 52,
   "id": "1f5d2a53-336a-49f2-9be6-280dffaef912",
   "metadata": {
    "execution": {
     "iopub.execute_input": "2023-12-17T02:52:27.551071Z",
     "iopub.status.busy": "2023-12-17T02:52:27.551071Z",
     "iopub.status.idle": "2023-12-17T02:52:27.575072Z",
     "shell.execute_reply": "2023-12-17T02:52:27.574072Z",
     "shell.execute_reply.started": "2023-12-17T02:52:27.551071Z"
    },
    "tags": []
   },
   "outputs": [],
   "source": [
    "%run corelibs.py"
   ]
  },
  {
   "cell_type": "code",
   "execution_count": 53,
   "id": "452dd77a-1ebb-44de-b9f4-02389530269e",
   "metadata": {
    "execution": {
     "iopub.execute_input": "2023-12-17T02:52:27.938093Z",
     "iopub.status.busy": "2023-12-17T02:52:27.937093Z",
     "iopub.status.idle": "2023-12-17T02:52:28.243111Z",
     "shell.execute_reply": "2023-12-17T02:52:28.242111Z",
     "shell.execute_reply.started": "2023-12-17T02:52:27.937093Z"
    },
    "tags": []
   },
   "outputs": [
    {
     "data": {
      "text/html": [
       "<div>\n",
       "<style scoped>\n",
       "    .dataframe tbody tr th:only-of-type {\n",
       "        vertical-align: middle;\n",
       "    }\n",
       "\n",
       "    .dataframe tbody tr th {\n",
       "        vertical-align: top;\n",
       "    }\n",
       "\n",
       "    .dataframe thead th {\n",
       "        text-align: right;\n",
       "    }\n",
       "</style>\n",
       "<table border=\"1\" class=\"dataframe\">\n",
       "  <thead>\n",
       "    <tr style=\"text-align: right;\">\n",
       "      <th></th>\n",
       "      <th>日期</th>\n",
       "      <th>时间</th>\n",
       "      <th>我方中文名称</th>\n",
       "      <th>我行账号（卡号）</th>\n",
       "      <th>用途（摘要）</th>\n",
       "      <th>币种</th>\n",
       "      <th>交易金额</th>\n",
       "      <th>余额</th>\n",
       "      <th>受理机构名称</th>\n",
       "      <th>对方账号（卡号）</th>\n",
       "      <th>...</th>\n",
       "      <th>网银IP地址</th>\n",
       "      <th>我方银行名称</th>\n",
       "      <th>对方银行机构代码</th>\n",
       "      <th>受理机构代码</th>\n",
       "      <th>借贷标志</th>\n",
       "      <th>身份证号</th>\n",
       "      <th>流水号</th>\n",
       "      <th>交易代码（交易渠道）</th>\n",
       "      <th>代码描述</th>\n",
       "      <th>交易是否成功</th>\n",
       "    </tr>\n",
       "  </thead>\n",
       "  <tbody>\n",
       "    <tr>\n",
       "      <th>0</th>\n",
       "      <td>2015-02-09</td>\n",
       "      <td>00:00:00</td>\n",
       "      <td>楼美良</td>\n",
       "      <td>588001013102880110</td>\n",
       "      <td>批开</td>\n",
       "      <td>CNY</td>\n",
       "      <td>6545.75</td>\n",
       "      <td>6545.75</td>\n",
       "      <td>NaN</td>\n",
       "      <td>NaN</td>\n",
       "      <td>...</td>\n",
       "      <td>NaN</td>\n",
       "      <td>天津银行河东支行</td>\n",
       "      <td>NaN</td>\n",
       "      <td>NaN</td>\n",
       "      <td>贷</td>\n",
       "      <td>330724196610141314</td>\n",
       "      <td>89</td>\n",
       "      <td>NaN</td>\n",
       "      <td>NaN</td>\n",
       "      <td>Y</td>\n",
       "    </tr>\n",
       "    <tr>\n",
       "      <th>1</th>\n",
       "      <td>2015-03-11</td>\n",
       "      <td>00:00:00</td>\n",
       "      <td>楼美良</td>\n",
       "      <td>588001013102880110</td>\n",
       "      <td>工资</td>\n",
       "      <td>CNY</td>\n",
       "      <td>6545.75</td>\n",
       "      <td>13091.50</td>\n",
       "      <td>NaN</td>\n",
       "      <td>NaN</td>\n",
       "      <td>...</td>\n",
       "      <td>NaN</td>\n",
       "      <td>天津银行河东支行</td>\n",
       "      <td>NaN</td>\n",
       "      <td>NaN</td>\n",
       "      <td>贷</td>\n",
       "      <td>330724196610141314</td>\n",
       "      <td>327062</td>\n",
       "      <td>NaN</td>\n",
       "      <td>NaN</td>\n",
       "      <td>Y</td>\n",
       "    </tr>\n",
       "    <tr>\n",
       "      <th>2</th>\n",
       "      <td>2015-03-21</td>\n",
       "      <td>00:00:00</td>\n",
       "      <td>楼美良</td>\n",
       "      <td>588001013102880110</td>\n",
       "      <td>结息</td>\n",
       "      <td>CNY</td>\n",
       "      <td>3.82</td>\n",
       "      <td>13095.32</td>\n",
       "      <td>NaN</td>\n",
       "      <td>NaN</td>\n",
       "      <td>...</td>\n",
       "      <td>NaN</td>\n",
       "      <td>天津银行河东支行</td>\n",
       "      <td>NaN</td>\n",
       "      <td>NaN</td>\n",
       "      <td>贷</td>\n",
       "      <td>330724196610141314</td>\n",
       "      <td>374302</td>\n",
       "      <td>NaN</td>\n",
       "      <td>NaN</td>\n",
       "      <td>Y</td>\n",
       "    </tr>\n",
       "    <tr>\n",
       "      <th>3</th>\n",
       "      <td>2015-03-26</td>\n",
       "      <td>00:00:00</td>\n",
       "      <td>楼美良</td>\n",
       "      <td>588001013102880110</td>\n",
       "      <td>现支</td>\n",
       "      <td>CNY</td>\n",
       "      <td>13000.00</td>\n",
       "      <td>95.32</td>\n",
       "      <td>NaN</td>\n",
       "      <td>NaN</td>\n",
       "      <td>...</td>\n",
       "      <td>NaN</td>\n",
       "      <td>天津银行河东支行</td>\n",
       "      <td>NaN</td>\n",
       "      <td>NaN</td>\n",
       "      <td>借</td>\n",
       "      <td>330724196610141314</td>\n",
       "      <td>150169</td>\n",
       "      <td>NaN</td>\n",
       "      <td>NaN</td>\n",
       "      <td>Y</td>\n",
       "    </tr>\n",
       "    <tr>\n",
       "      <th>4</th>\n",
       "      <td>2015-04-11</td>\n",
       "      <td>00:00:00</td>\n",
       "      <td>楼美良</td>\n",
       "      <td>588001013102880110</td>\n",
       "      <td>工资</td>\n",
       "      <td>CNY</td>\n",
       "      <td>6545.75</td>\n",
       "      <td>6641.07</td>\n",
       "      <td>NaN</td>\n",
       "      <td>NaN</td>\n",
       "      <td>...</td>\n",
       "      <td>NaN</td>\n",
       "      <td>天津银行河东支行</td>\n",
       "      <td>NaN</td>\n",
       "      <td>NaN</td>\n",
       "      <td>贷</td>\n",
       "      <td>330724196610141314</td>\n",
       "      <td>316620</td>\n",
       "      <td>NaN</td>\n",
       "      <td>NaN</td>\n",
       "      <td>Y</td>\n",
       "    </tr>\n",
       "    <tr>\n",
       "      <th>...</th>\n",
       "      <td>...</td>\n",
       "      <td>...</td>\n",
       "      <td>...</td>\n",
       "      <td>...</td>\n",
       "      <td>...</td>\n",
       "      <td>...</td>\n",
       "      <td>...</td>\n",
       "      <td>...</td>\n",
       "      <td>...</td>\n",
       "      <td>...</td>\n",
       "      <td>...</td>\n",
       "      <td>...</td>\n",
       "      <td>...</td>\n",
       "      <td>...</td>\n",
       "      <td>...</td>\n",
       "      <td>...</td>\n",
       "      <td>...</td>\n",
       "      <td>...</td>\n",
       "      <td>...</td>\n",
       "      <td>...</td>\n",
       "      <td>...</td>\n",
       "    </tr>\n",
       "    <tr>\n",
       "      <th>13157</th>\n",
       "      <td>2022-12-21</td>\n",
       "      <td>00:13:32</td>\n",
       "      <td>郑民强</td>\n",
       "      <td>568001013100571312</td>\n",
       "      <td>结息</td>\n",
       "      <td>CNY</td>\n",
       "      <td>.01</td>\n",
       "      <td>13.53</td>\n",
       "      <td>天津银行滨海分行营业部</td>\n",
       "      <td>9568012600400001</td>\n",
       "      <td>...</td>\n",
       "      <td>NaN</td>\n",
       "      <td>天津银行滨海分行营业部</td>\n",
       "      <td>568101</td>\n",
       "      <td>568001</td>\n",
       "      <td>贷</td>\n",
       "      <td>330225197502210312</td>\n",
       "      <td>CBS152212200000021153133</td>\n",
       "      <td>NaN</td>\n",
       "      <td>NaN</td>\n",
       "      <td>N</td>\n",
       "    </tr>\n",
       "    <tr>\n",
       "      <th>13158</th>\n",
       "      <td>2023-03-21</td>\n",
       "      <td>00:15:25</td>\n",
       "      <td>郑民强</td>\n",
       "      <td>568001013100571312</td>\n",
       "      <td>结息</td>\n",
       "      <td>CNY</td>\n",
       "      <td>.01</td>\n",
       "      <td>13.54</td>\n",
       "      <td>天津银行滨海分行营业部</td>\n",
       "      <td>9568012600400001</td>\n",
       "      <td>...</td>\n",
       "      <td>NaN</td>\n",
       "      <td>天津银行滨海分行营业部</td>\n",
       "      <td>568101</td>\n",
       "      <td>568001</td>\n",
       "      <td>贷</td>\n",
       "      <td>330225197502210312</td>\n",
       "      <td>CBS152303200000022410601</td>\n",
       "      <td>NaN</td>\n",
       "      <td>NaN</td>\n",
       "      <td>N</td>\n",
       "    </tr>\n",
       "    <tr>\n",
       "      <th>13159</th>\n",
       "      <td>2023-03-21</td>\n",
       "      <td>00:15:55</td>\n",
       "      <td>郑民强</td>\n",
       "      <td>038001013101684770</td>\n",
       "      <td>结息</td>\n",
       "      <td>CNY</td>\n",
       "      <td>.01</td>\n",
       "      <td>12.00</td>\n",
       "      <td>天津银行开发区支行</td>\n",
       "      <td>9038012600400001</td>\n",
       "      <td>...</td>\n",
       "      <td>NaN</td>\n",
       "      <td>天津银行开发区支行</td>\n",
       "      <td>038101</td>\n",
       "      <td>038001</td>\n",
       "      <td>贷</td>\n",
       "      <td>330225197502210312</td>\n",
       "      <td>CBS152303200000023001578</td>\n",
       "      <td>NaN</td>\n",
       "      <td>NaN</td>\n",
       "      <td>N</td>\n",
       "    </tr>\n",
       "    <tr>\n",
       "      <th>13160</th>\n",
       "      <td>2023-06-21</td>\n",
       "      <td>00:26:51</td>\n",
       "      <td>郑民强</td>\n",
       "      <td>038001013101684770</td>\n",
       "      <td>结息</td>\n",
       "      <td>CNY</td>\n",
       "      <td>.01</td>\n",
       "      <td>12.01</td>\n",
       "      <td>天津银行开发区支行</td>\n",
       "      <td>9038012600400001</td>\n",
       "      <td>...</td>\n",
       "      <td>NaN</td>\n",
       "      <td>天津银行开发区支行</td>\n",
       "      <td>038101</td>\n",
       "      <td>038001</td>\n",
       "      <td>贷</td>\n",
       "      <td>330225197502210312</td>\n",
       "      <td>CBS152306200000024199636</td>\n",
       "      <td>NaN</td>\n",
       "      <td>NaN</td>\n",
       "      <td>N</td>\n",
       "    </tr>\n",
       "    <tr>\n",
       "      <th>13161</th>\n",
       "      <td>2023-06-21</td>\n",
       "      <td>00:28:47</td>\n",
       "      <td>郑民强</td>\n",
       "      <td>568001013100571312</td>\n",
       "      <td>结息</td>\n",
       "      <td>CNY</td>\n",
       "      <td>.01</td>\n",
       "      <td>13.55</td>\n",
       "      <td>天津银行滨海分行营业部</td>\n",
       "      <td>9568012600400001</td>\n",
       "      <td>...</td>\n",
       "      <td>NaN</td>\n",
       "      <td>天津银行滨海分行营业部</td>\n",
       "      <td>568101</td>\n",
       "      <td>568001</td>\n",
       "      <td>贷</td>\n",
       "      <td>330225197502210312</td>\n",
       "      <td>CBS152306200000025907490</td>\n",
       "      <td>NaN</td>\n",
       "      <td>NaN</td>\n",
       "      <td>N</td>\n",
       "    </tr>\n",
       "  </tbody>\n",
       "</table>\n",
       "<p>13162 rows × 22 columns</p>\n",
       "</div>"
      ],
      "text/plain": [
       "               日期        时间 我方中文名称            我行账号（卡号） 用途（摘要）   币种      交易金额  \\\n",
       "0      2015-02-09  00:00:00    楼美良  588001013102880110     批开  CNY   6545.75   \n",
       "1      2015-03-11  00:00:00    楼美良  588001013102880110     工资  CNY   6545.75   \n",
       "2      2015-03-21  00:00:00    楼美良  588001013102880110     结息  CNY      3.82   \n",
       "3      2015-03-26  00:00:00    楼美良  588001013102880110     现支  CNY  13000.00   \n",
       "4      2015-04-11  00:00:00    楼美良  588001013102880110     工资  CNY   6545.75   \n",
       "...           ...       ...    ...                 ...    ...  ...       ...   \n",
       "13157  2022-12-21  00:13:32    郑民强  568001013100571312     结息  CNY       .01   \n",
       "13158  2023-03-21  00:15:25    郑民强  568001013100571312     结息  CNY       .01   \n",
       "13159  2023-03-21  00:15:55    郑民强  038001013101684770     结息  CNY       .01   \n",
       "13160  2023-06-21  00:26:51    郑民强  038001013101684770     结息  CNY       .01   \n",
       "13161  2023-06-21  00:28:47    郑民强  568001013100571312     结息  CNY       .01   \n",
       "\n",
       "             余额       受理机构名称          对方账号（卡号）  ... 网银IP地址       我方银行名称  \\\n",
       "0       6545.75          NaN               NaN  ...    NaN     天津银行河东支行   \n",
       "1      13091.50          NaN               NaN  ...    NaN     天津银行河东支行   \n",
       "2      13095.32          NaN               NaN  ...    NaN     天津银行河东支行   \n",
       "3         95.32          NaN               NaN  ...    NaN     天津银行河东支行   \n",
       "4       6641.07          NaN               NaN  ...    NaN     天津银行河东支行   \n",
       "...         ...          ...               ...  ...    ...          ...   \n",
       "13157     13.53  天津银行滨海分行营业部  9568012600400001  ...    NaN  天津银行滨海分行营业部   \n",
       "13158     13.54  天津银行滨海分行营业部  9568012600400001  ...    NaN  天津银行滨海分行营业部   \n",
       "13159     12.00    天津银行开发区支行  9038012600400001  ...    NaN    天津银行开发区支行   \n",
       "13160     12.01    天津银行开发区支行  9038012600400001  ...    NaN    天津银行开发区支行   \n",
       "13161     13.55  天津银行滨海分行营业部  9568012600400001  ...    NaN  天津银行滨海分行营业部   \n",
       "\n",
       "      对方银行机构代码  受理机构代码 借贷标志                身份证号                       流水号  \\\n",
       "0          NaN     NaN    贷  330724196610141314                        89   \n",
       "1          NaN     NaN    贷  330724196610141314                    327062   \n",
       "2          NaN     NaN    贷  330724196610141314                    374302   \n",
       "3          NaN     NaN    借  330724196610141314                    150169   \n",
       "4          NaN     NaN    贷  330724196610141314                    316620   \n",
       "...        ...     ...  ...                 ...                       ...   \n",
       "13157   568101  568001    贷  330225197502210312  CBS152212200000021153133   \n",
       "13158   568101  568001    贷  330225197502210312  CBS152303200000022410601   \n",
       "13159   038101  038001    贷  330225197502210312  CBS152303200000023001578   \n",
       "13160   038101  038001    贷  330225197502210312  CBS152306200000024199636   \n",
       "13161   568101  568001    贷  330225197502210312  CBS152306200000025907490   \n",
       "\n",
       "      交易代码（交易渠道） 代码描述 交易是否成功  \n",
       "0            NaN  NaN      Y  \n",
       "1            NaN  NaN      Y  \n",
       "2            NaN  NaN      Y  \n",
       "3            NaN  NaN      Y  \n",
       "4            NaN  NaN      Y  \n",
       "...          ...  ...    ...  \n",
       "13157        NaN  NaN      N  \n",
       "13158        NaN  NaN      N  \n",
       "13159        NaN  NaN      N  \n",
       "13160        NaN  NaN      N  \n",
       "13161        NaN  NaN      N  \n",
       "\n",
       "[13162 rows x 22 columns]"
      ]
     },
     "execution_count": 53,
     "metadata": {},
     "output_type": "execute_result"
    }
   ],
   "source": [
    "df = parse_sheet_general(excel_file,0,CONF_DATA['天津银行']['流水'])\n",
    "df"
   ]
  },
  {
   "cell_type": "code",
   "execution_count": 48,
   "id": "4d4dd3c3-1970-422c-be93-c65745a940ac",
   "metadata": {
    "execution": {
     "iopub.execute_input": "2023-12-16T12:34:41.253815Z",
     "iopub.status.busy": "2023-12-16T12:34:41.253815Z",
     "iopub.status.idle": "2023-12-16T12:34:41.304818Z",
     "shell.execute_reply": "2023-12-16T12:34:41.303818Z",
     "shell.execute_reply.started": "2023-12-16T12:34:41.253815Z"
    },
    "tags": []
   },
   "outputs": [],
   "source": [
    "save_accounts(df, output_dir_path, '天津银行')"
   ]
  },
  {
   "cell_type": "code",
   "execution_count": 20,
   "id": "f5b55f3a-9ee9-4a63-823d-fffe61b5483b",
   "metadata": {
    "execution": {
     "iopub.execute_input": "2023-12-17T01:52:30.121310Z",
     "iopub.status.busy": "2023-12-17T01:52:30.119310Z",
     "iopub.status.idle": "2023-12-17T01:52:30.135311Z",
     "shell.execute_reply": "2023-12-17T01:52:30.133311Z",
     "shell.execute_reply.started": "2023-12-17T01:52:30.121310Z"
    }
   },
   "outputs": [
    {
     "data": {
      "text/plain": [
       "False"
      ]
     },
     "execution_count": 20,
     "metadata": {},
     "output_type": "execute_result"
    }
   ],
   "source": [
    "verify_data(df, CONF_DATA['天津银行']['账户']['verify_cols'])"
   ]
  },
  {
   "cell_type": "markdown",
   "id": "f4a6a4e7-1a20-4a80-9188-a175e4e8ff01",
   "metadata": {},
   "source": [
    "# 执行"
   ]
  },
  {
   "cell_type": "code",
   "execution_count": null,
   "id": "6ceebcde-eae2-4acf-9975-54eeeeeb537a",
   "metadata": {
    "scrolled": true,
    "tags": []
   },
   "outputs": [],
   "source": [
    "df = excel_file.parse(sheet_name=0, header=0, skiprows=0, dtype=str)\n",
    "df"
   ]
  },
  {
   "cell_type": "code",
   "execution_count": 50,
   "id": "7ce7fdd4-0a10-45d6-931a-c18c8f015271",
   "metadata": {
    "execution": {
     "iopub.execute_input": "2023-12-17T02:51:53.614130Z",
     "iopub.status.busy": "2023-12-17T02:51:53.614130Z",
     "iopub.status.idle": "2023-12-17T02:51:53.652132Z",
     "shell.execute_reply": "2023-12-17T02:51:53.651132Z",
     "shell.execute_reply.started": "2023-12-17T02:51:53.614130Z"
    },
    "tags": []
   },
   "outputs": [
    {
     "name": "stdout",
     "output_type": "stream",
     "text": [
      "<class 'pandas.core.frame.DataFrame'>\n",
      "RangeIndex: 13162 entries, 0 to 13161\n",
      "Data columns (total 21 columns):\n",
      " #   Column      Non-Null Count  Dtype \n",
      "---  ------      --------------  ----- \n",
      " 0   我行账号（卡号）    13162 non-null  object\n",
      " 1   我方银行名称      13162 non-null  object\n",
      " 2   我方中文名称      13162 non-null  object\n",
      " 3   身份证号        13162 non-null  object\n",
      " 4   交易日期        13162 non-null  object\n",
      " 5   对方账号（卡号）    12376 non-null  object\n",
      " 6   对方中文名称      12369 non-null  object\n",
      " 7   对方银行名称      10565 non-null  object\n",
      " 8   对方银行机构代码    10565 non-null  object\n",
      " 9   流水号         13162 non-null  object\n",
      " 10  借贷标志        13162 non-null  object\n",
      " 11  交易金额        13162 non-null  object\n",
      " 12  币种          13162 non-null  object\n",
      " 13  余额          13162 non-null  object\n",
      " 14  网银IP地址      203 non-null    object\n",
      " 15  交易代码（交易渠道）  8841 non-null   object\n",
      " 16  代码描述        0 non-null      object\n",
      " 17  用途（摘要）      13161 non-null  object\n",
      " 18  受理机构代码      9123 non-null   object\n",
      " 19  受理机构名称      9123 non-null   object\n",
      " 20  交易是否成功      13162 non-null  object\n",
      "dtypes: object(21)\n",
      "memory usage: 2.1+ MB\n"
     ]
    }
   ],
   "source": [
    "df.info()"
   ]
  },
  {
   "cell_type": "markdown",
   "id": "e38f6e5b-adc8-499c-95f2-56bf2086b07e",
   "metadata": {},
   "source": [
    "# 杂项"
   ]
  },
  {
   "cell_type": "code",
   "execution_count": 25,
   "id": "da578217-4a5d-4575-890e-370bfd803e7c",
   "metadata": {
    "execution": {
     "iopub.execute_input": "2023-12-16T12:24:15.776040Z",
     "iopub.status.busy": "2023-12-16T12:24:15.776040Z",
     "iopub.status.idle": "2023-12-16T12:24:15.791041Z",
     "shell.execute_reply": "2023-12-16T12:24:15.790041Z",
     "shell.execute_reply.started": "2023-12-16T12:24:15.776040Z"
    },
    "scrolled": true,
    "tags": []
   },
   "outputs": [
    {
     "data": {
      "text/plain": [
       "WindowsPath('E:/张楠/2023赵益华927/银行/天津银行/滨监查询（2023）05217.xls')"
      ]
     },
     "execution_count": 25,
     "metadata": {},
     "output_type": "execute_result"
    }
   ],
   "source": [
    "base_path"
   ]
  },
  {
   "cell_type": "code",
   "execution_count": 26,
   "id": "da2a30e3-28b2-4628-b598-7906f80155a8",
   "metadata": {
    "execution": {
     "iopub.execute_input": "2023-12-16T12:24:36.791242Z",
     "iopub.status.busy": "2023-12-16T12:24:36.790242Z",
     "iopub.status.idle": "2023-12-16T12:24:36.802242Z",
     "shell.execute_reply": "2023-12-16T12:24:36.800242Z",
     "shell.execute_reply.started": "2023-12-16T12:24:36.791242Z"
    },
    "tags": []
   },
   "outputs": [
    {
     "data": {
      "text/plain": [
       "WindowsPath('E:/张楠/2023赵益华927/银行/天津银行/滨监查询（2023）05217.hahah')"
      ]
     },
     "execution_count": 26,
     "metadata": {},
     "output_type": "execute_result"
    }
   ],
   "source": [
    "base_path.with_suffix('.hahah')"
   ]
  },
  {
   "cell_type": "code",
   "execution_count": null,
   "id": "188cdb65-824f-43b2-b9b8-54e8f70b49ec",
   "metadata": {
    "tags": []
   },
   "outputs": [],
   "source": [
    "CONF_DATA"
   ]
  },
  {
   "cell_type": "code",
   "execution_count": 36,
   "id": "835b2e98-d546-49f2-8f74-e0e8dcc46484",
   "metadata": {
    "execution": {
     "iopub.execute_input": "2023-12-17T02:21:40.573430Z",
     "iopub.status.busy": "2023-12-17T02:21:40.572430Z",
     "iopub.status.idle": "2023-12-17T02:21:40.582431Z",
     "shell.execute_reply": "2023-12-17T02:21:40.581430Z",
     "shell.execute_reply.started": "2023-12-17T02:21:40.573430Z"
    },
    "tags": []
   },
   "outputs": [
    {
     "data": {
      "text/plain": [
       "str"
      ]
     },
     "execution_count": 36,
     "metadata": {},
     "output_type": "execute_result"
    }
   ],
   "source": [
    "type('')"
   ]
  },
  {
   "cell_type": "code",
   "execution_count": null,
   "id": "84a24fc9-8a76-4140-96d3-b86b13c805cd",
   "metadata": {
    "tags": []
   },
   "outputs": [],
   "source": [
    "import dtale as dt\n",
    "dt.show(dd, open_browser=True)"
   ]
  },
  {
   "cell_type": "code",
   "execution_count": null,
   "id": "784fd900-16fa-435b-81ef-d60149e21e2a",
   "metadata": {
    "tags": []
   },
   "outputs": [],
   "source": [
    "df.dtypes"
   ]
  }
 ],
 "metadata": {
  "kernelspec": {
   "display_name": "Python 3",
   "language": "python",
   "name": "python3"
  },
  "language_info": {
   "codemirror_mode": {
    "name": "ipython",
    "version": 3
   },
   "file_extension": ".py",
   "mimetype": "text/x-python",
   "name": "python",
   "nbconvert_exporter": "python",
   "pygments_lexer": "ipython3",
   "version": "3.8.9"
  },
  "toc-autonumbering": true,
  "toc-showcode": false,
  "toc-showmarkdowntxt": false,
  "toc-showtags": false,
  "widgets": {
   "application/vnd.jupyter.widget-state+json": {
    "state": {},
    "version_major": 2,
    "version_minor": 0
   }
  }
 },
 "nbformat": 4,
 "nbformat_minor": 5
}
