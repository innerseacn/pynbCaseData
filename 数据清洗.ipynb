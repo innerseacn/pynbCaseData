{
 "cells": [
  {
   "cell_type": "markdown",
   "id": "9bb29211-2b71-4cf9-bccd-71d98c7742d1",
   "metadata": {
    "extensions": {
     "jupyter_dashboards": {
      "activeView": "grid_default",
      "views": {
       "grid_default": {
        "col": null,
        "height": 2,
        "hidden": true,
        "row": null,
        "width": 2
       }
      }
     }
    }
   },
   "source": [
    "# 加载库函数及导入文件"
   ]
  },
  {
   "cell_type": "code",
   "execution_count": 1,
   "id": "5cb9a494-4ef8-4cbc-949d-d68bf0e617c6",
   "metadata": {},
   "outputs": [
    {
     "data": {
      "text/plain": [
       "PosixPath('J:\\\\银行分析结果')"
      ]
     },
     "execution_count": 1,
     "metadata": {},
     "output_type": "execute_result"
    }
   ],
   "source": [
    "import warnings\n",
    "import pathlib\n",
    "warnings.filterwarnings('ignore', message=\"Workbook contains no default style, apply openpyxl's default\", category=UserWarning)\n",
    "# import pathlib\n",
    "# import pandas as pd\n",
    "OUTPUT_DIR_PATH = pathlib.Path(r\"J:\\银行分析结果\")\n",
    "OUTPUT_DIR_PATH"
   ]
  },
  {
   "cell_type": "markdown",
   "id": "47285952-2261-43d5-b3c1-3e8e32808517",
   "metadata": {
    "extensions": {
     "jupyter_dashboards": {
      "activeView": "grid_default",
      "views": {
       "grid_default": {
        "col": null,
        "height": 2,
        "hidden": true,
        "row": null,
        "width": 2
       }
      }
     }
    }
   },
   "source": [
    "# 测试"
   ]
  },
  {
   "cell_type": "markdown",
   "id": "227befc1-bd9e-4c60-9e0d-8de882c00379",
   "metadata": {
    "extensions": {
     "jupyter_dashboards": {
      "activeView": "grid_default",
      "views": {
       "grid_default": {
        "col": null,
        "height": 2,
        "hidden": true,
        "row": null,
        "width": 2
       }
      }
     }
    }
   },
   "source": [
    "## 提取excel表头和md5值"
   ]
  },
  {
   "cell_type": "code",
   "execution_count": 12,
   "id": "f7943cff-43d2-40ff-ad14-1449a1ebde2e",
   "metadata": {
    "execution": {
     "iopub.execute_input": "2024-01-30T06:22:06.370668Z",
     "iopub.status.busy": "2024-01-30T06:22:06.369668Z",
     "iopub.status.idle": "2024-01-30T06:22:07.328723Z",
     "shell.execute_reply": "2024-01-30T06:22:07.328723Z",
     "shell.execute_reply.started": "2024-01-30T06:22:06.370668Z"
    },
    "extensions": {
     "jupyter_dashboards": {
      "activeView": "grid_default",
      "views": {
       "grid_default": {
        "col": null,
        "height": 2,
        "hidden": true,
        "row": null,
        "width": 2
       }
      }
     }
    },
    "tags": []
   },
   "outputs": [
    {
     "name": "stdout",
     "output_type": "stream",
     "text": [
      "('序号', '客户名称', '账号', '币种', '钞汇', '册号', '笔号', '交易日期', '交易时间', '活期存款账户明细号', '交易卡号', '摘要', '借贷方向', '交易金额', '账户余额', '柜员号', '交易机构号', '交易机构名称', '对方账号', '对方户名', '对方行名', '交易流水号', '交易渠道', '自助设备编号', '扩充备注', 'IP地址', 'MAC地址', '第三方订单号', '商户号', '商户名称')\n",
      "Wall time: 951 ms\n"
     ]
    },
    {
     "name": "stderr",
     "output_type": "stream",
     "text": [
      "D:\\soft\\WPy64-3890\\python-3.8.9.amd64\\lib\\site-packages\\openpyxl\\styles\\stylesheet.py:221: UserWarning: Workbook contains no default style, apply openpyxl's default\n",
      "  warn(\"Workbook contains no default style, apply openpyxl's default\")\n"
     ]
    },
    {
     "data": {
      "text/plain": [
       "'8fa9c0776b857793f91335192398aeba'"
      ]
     },
     "execution_count": 12,
     "metadata": {},
     "output_type": "execute_result"
    }
   ],
   "source": [
    "%%time\n",
    "from hashlib import md5\n",
    "acc_file = pathlib.Path(r\"E:\\张楠\\2023赵益华927\\银行\\建行\\第一批 赵益华等9人\\1080861461690963794022777_16_1_watermark.xlsx\")\n",
    "# acc_file = pathlib.Path(r\"E:\\张楠\\2023赵益华927\\银行\\建行\\建行第二次查询7.13\\1080861701689234045070165_1_1田桂芬.xlsx\")\n",
    "# acc_file = pathlib.Path(r\"E:\\张楠\\2023赵益华927\\银行\\天津银行\\滨监查询（2023）05217号.xls\")\n",
    "# acc_file = pathlib.Path(r\"E:\\张楠\\2023赵益华927\\银行\\天津银行\\滨监查询（2023）05217.xls\")\n",
    "print(a := read_header(acc_file))\n",
    "md5(a.encode()).hexdigest()"
   ]
  },
  {
   "cell_type": "markdown",
   "id": "e80b0e3f-d4da-484c-9a45-a88320f80c56",
   "metadata": {
    "extensions": {
     "jupyter_dashboards": {
      "activeView": "grid_default",
      "views": {
       "grid_default": {
        "col": null,
        "height": 2,
        "hidden": true,
        "row": null,
        "width": 2
       }
      }
     }
    }
   },
   "source": [
    "## 测试yaml配置文件语法，及内部操作指令对象转换"
   ]
  },
  {
   "cell_type": "code",
   "execution_count": 35,
   "id": "64d600ca-579b-4f44-9e8f-585c5722395e",
   "metadata": {
    "extensions": {
     "jupyter_dashboards": {
      "activeView": "grid_default",
      "views": {
       "grid_default": {
        "col": null,
        "height": 2,
        "hidden": true,
        "row": null,
        "width": 2
       }
      }
     }
    },
    "tags": []
   },
   "outputs": [
    {
     "data": {
      "text/plain": [
       "{'output_format': 'excel',\n",
       " 'header_hash': {'6d3d0d1e252f43a000010e19d8b2dd57': ['天津银行', '账户'],\n",
       "  '7509cd85808831c7004c8c78e9267d7c': ['天津银行', '流水'],\n",
       "  '5ff3970075646f3a7fffdef5430539d7': ['建设银行网点', '账户'],\n",
       "  '8fa9c0776b857793f91335192398aeba': ['建设银行网点', '流水']},\n",
       " '天津银行': {'账户': {'银行': '天津银行',\n",
       "   '姓名': {'开户名称': True},\n",
       "   '证件号码': True,\n",
       "   '电话': {'短信捆绑电话': None, '网银电话': None},\n",
       "   '账号': {'客户账号': True},\n",
       "   '开户机构': {'开户机构名称': None},\n",
       "   '销户机构': {'销户机构名称': None},\n",
       "   'cols_new_order': ['银行',\n",
       "    '姓名',\n",
       "    '证件号码',\n",
       "    '电话',\n",
       "    '地址',\n",
       "    '账号',\n",
       "    '卡号',\n",
       "    '余额',\n",
       "    '开户日期',\n",
       "    '开户机构',\n",
       "    '账户状态',\n",
       "    '销户日期',\n",
       "    '销户机构',\n",
       "    '销户机构号',\n",
       "    '所属银行',\n",
       "    '是否开通网易',\n",
       "    'U盾号',\n",
       "    '邮编',\n",
       "    '短信捆绑电话',\n",
       "    '网银电话']},\n",
       "  '流水': {'银行': '天津银行',\n",
       "   '日期': ['date', '交易日期'],\n",
       "   '时间': ['time', '交易日期'],\n",
       "   '姓名': {'我方中文名称': True},\n",
       "   '账号': {'我行账号（卡号）': True},\n",
       "   '摘要': {'用途（摘要）': None},\n",
       "   '出账金额': ['C', '借贷标志', '借', '交易金额'],\n",
       "   '入账金额': ['D', '借贷标志', '贷', '交易金额'],\n",
       "   '余额': 100,\n",
       "   '交易机构': {'受理机构名称': None, '我方银行名称': None},\n",
       "   '对方户名': {'对方中文名称': None},\n",
       "   '对方账号': {'对方账号（卡号）': None},\n",
       "   '对方开户行': {'对方银行名称': None},\n",
       "   'IP地址': {'网银IP地址': None},\n",
       "   '借贷标志': True,\n",
       "   '交易金额': 100,\n",
       "   '交易日期': True,\n",
       "   'cols_new_order': ['银行',\n",
       "    '日期',\n",
       "    '时间',\n",
       "    '姓名',\n",
       "    '账号',\n",
       "    '摘要',\n",
       "    '币种',\n",
       "    '出账金额',\n",
       "    '入账金额',\n",
       "    '余额',\n",
       "    '交易机构',\n",
       "    '对方账号',\n",
       "    '对方户名',\n",
       "    '对方开户行',\n",
       "    'IP地址',\n",
       "    '我方银行名称',\n",
       "    '对方银行机构代码',\n",
       "    '受理机构代码',\n",
       "    '交易日期',\n",
       "    '借贷标志',\n",
       "    '交易金额',\n",
       "    '身份证号',\n",
       "    '流水号',\n",
       "    '交易代码（交易渠道）',\n",
       "    '代码描述',\n",
       "    '交易是否成功']}},\n",
       " '建设银行网点': {'账户': {'银行': '建设银行',\n",
       "   '姓名': {'账户名称': True},\n",
       "   '证件号码': True,\n",
       "   '电话': {'移动电话': None},\n",
       "   '地址': {'居住地址': None, '户籍地址': None},\n",
       "   '账号': {'借记卡主账户账号': None},\n",
       "   '卡号': {'账号': True},\n",
       "   '开户机构': {'开户机构名称': None},\n",
       "   '销户机构': {'销户机构名称': None},\n",
       "   '借记卡主账户账号': ['fill', '借记卡主账户账号', None, '账号'],\n",
       "   'cols_new_order': ['银行',\n",
       "    '姓名',\n",
       "    '证件号码',\n",
       "    '电话',\n",
       "    '地址',\n",
       "    '工作单位',\n",
       "    '账号',\n",
       "    '卡号',\n",
       "    '币种',\n",
       "    '余额',\n",
       "    '开户日期',\n",
       "    '开户机构',\n",
       "    '上次交易日',\n",
       "    '账户状态',\n",
       "    '销户日期',\n",
       "    '销户机构',\n",
       "    '可用余额',\n",
       "    '可冻结金额',\n",
       "    '账户性质',\n",
       "    '资金用途',\n",
       "    '账户类型',\n",
       "    '钞汇',\n",
       "    '存款种类',\n",
       "    '借记卡介质状态',\n",
       "    '借记卡挂失状态',\n",
       "    '固定电话',\n",
       "    '居住地址',\n",
       "    '单位地址',\n",
       "    '户籍地址',\n",
       "    '法人名称',\n",
       "    '法人证件类型',\n",
       "    '法人证件号码',\n",
       "    '结算账户分类代码',\n",
       "    '可售产品编号',\n",
       "    '可售产品名称',\n",
       "    '证件类型',\n",
       "    '客户编号',\n",
       "    '册号',\n",
       "    '笔号',\n",
       "    '开户机构号',\n",
       "    '开户柜员号',\n",
       "    '销户机构号']},\n",
       "  '流水': {'银行': '建设银行',\n",
       "   '日期': ['date', '交易日期'],\n",
       "   '时间': ['time', '交易时间'],\n",
       "   '姓名': {'客户名称': True},\n",
       "   '卡号': {'交易卡号': True},\n",
       "   '备注': {'扩充备注': None},\n",
       "   '出账金额': ['C', '借贷方向', '借', '交易金额'],\n",
       "   '入账金额': ['D', '借贷方向', '贷', '交易金额'],\n",
       "   '余额': {'账户余额': 100},\n",
       "   '交易机构': {'交易机构名称': None},\n",
       "   '对方开户行': {'对方行名': None},\n",
       "   '借贷方向': True,\n",
       "   '交易金额': 100,\n",
       "   '交易日期': True,\n",
       "   '交易时间': True,\n",
       "   'cols_new_order': ['银行',\n",
       "    '日期',\n",
       "    '时间',\n",
       "    '姓名',\n",
       "    '账号',\n",
       "    '卡号',\n",
       "    '备注',\n",
       "    '摘要',\n",
       "    '币种',\n",
       "    '出账金额',\n",
       "    '入账金额',\n",
       "    '余额',\n",
       "    '交易机构',\n",
       "    '对方户名',\n",
       "    '对方账号',\n",
       "    '对方开户行',\n",
       "    'IP地址',\n",
       "    'MAC地址',\n",
       "    '商户名称',\n",
       "    '商户号',\n",
       "    '交易流水号',\n",
       "    '第三方订单号',\n",
       "    '交易渠道',\n",
       "    '自助设备编号',\n",
       "    '钞汇',\n",
       "    '册号',\n",
       "    '笔号',\n",
       "    '活期存款账户明细号',\n",
       "    '借贷方向',\n",
       "    '交易金额',\n",
       "    '柜员号',\n",
       "    '交易机构号']}}}"
      ]
     },
     "execution_count": 35,
     "metadata": {},
     "output_type": "execute_result"
    }
   ],
   "source": [
    "%run corelibs/config.py\n",
    "CONF_DATA"
   ]
  },
  {
   "cell_type": "code",
   "execution_count": 36,
   "id": "8f73d156-b696-4628-98ae-e90102d921d5",
   "metadata": {
    "extensions": {
     "jupyter_dashboards": {
      "activeView": "grid_default",
      "views": {
       "grid_default": {
        "col": null,
        "height": 2,
        "hidden": true,
        "row": null,
        "width": 2
       }
      }
     }
    },
    "tags": []
   },
   "outputs": [
    {
     "name": "stdout",
     "output_type": "stream",
     "text": [
      "None\n",
      "{'银行': '天津银行'}\n",
      "{'我方中文名称': True, '我行账号（卡号）': True, '余额': True, '借贷标志': True, '交易金额': True, '交易日期': True}\n",
      "{'我方中文名称': '姓名', '我行账号（卡号）': '账号', '用途（摘要）': '摘要', '对方中文名称': '对方户名', '对方账号（卡号）': '对方账号', '对方银行名称': '对方开户行', '网银IP地址': 'IP地址'}\n",
      "{'交易机构': ['受理机构名称', '我方银行名称']}\n",
      "{'日期': ['交易日期']}\n",
      "{'时间': ['交易日期']}\n",
      "{'余额': True, '交易金额': True}\n",
      "{'C': '借', 'CD_col': '借贷标志', 'C_col': '出账金额', 'trans_col': '交易金额', 'D': '贷', 'D_col': '入账金额'}\n",
      "{}\n",
      "['银行', '日期', '时间', '姓名', '账号', '摘要', '币种', '出账金额', '入账金额', '余额', '交易机构', '对方账号', '对方户名', '对方开户行', 'IP地址', '我方银行名称', '对方银行机构代码', '受理机构代码', '交易日期', '借贷标志', '交易金额', '身份证号', '流水号', '交易代码（交易渠道）', '代码描述', '交易是否成功']\n"
     ]
    },
    {
     "data": {
      "text/plain": [
       "[None, None, None, None, None, None, None, None, None, None, None]"
      ]
     },
     "execution_count": 36,
     "metadata": {},
     "output_type": "execute_result"
    }
   ],
   "source": [
    "conf_obj = get_conf_obj('天津银行','流水')\n",
    "[print(x) for x in conf_obj]"
   ]
  },
  {
   "cell_type": "code",
   "execution_count": null,
   "id": "1e1d4c20-2af2-47ca-b659-54805c25e5bd",
   "metadata": {},
   "outputs": [],
   "source": [
    "CONF_TPL_CACHE"
   ]
  },
  {
   "cell_type": "markdown",
   "id": "cc1c51f7-05f4-4f18-a59e-7e75057a0e12",
   "metadata": {
    "extensions": {
     "jupyter_dashboards": {
      "activeView": "grid_default",
      "views": {
       "grid_default": {
        "col": null,
        "height": 2,
        "hidden": true,
        "row": null,
        "width": 2
       }
      }
     }
    }
   },
   "source": [
    "##  测试单个账户文件读取及储存"
   ]
  },
  {
   "cell_type": "code",
   "execution_count": 5,
   "id": "8b93da33-e815-4547-93a2-490566f2aa31",
   "metadata": {
    "extensions": {
     "jupyter_dashboards": {
      "activeView": "grid_default",
      "views": {
       "grid_default": {
        "col": null,
        "height": 2,
        "hidden": true,
        "row": null,
        "width": 2
       }
      }
     }
    },
    "scrolled": true,
    "tags": []
   },
   "outputs": [
    {
     "data": {
      "text/plain": [
       "4"
      ]
     },
     "execution_count": 5,
     "metadata": {},
     "output_type": "execute_result"
    }
   ],
   "source": [
    "%run corelibs.py\n",
    "acc_file = pathlib.Path(r\"E:\\张楠\\2023赵益华927\\银行\\建行\\第一批 赵益华等9人\\1080861461690963794022777_15_1时燕.xlsx\")\n",
    "acc_file = pathlib.Path(r\"E:\\张楠\\2023赵益华927\\银行\\天津银行\\滨监查询（2023）05217.xls\")\n",
    "conf_obj = get_conf_obj('天津银行', '账户')\n",
    "df = parse_sheet_general(acc_file, conf_obj)\n",
    "save_accounts(df, OUTPUT_DIR_PATH, '天津银行')"
   ]
  },
  {
   "cell_type": "code",
   "execution_count": 3,
   "id": "46965849-422f-47e0-9234-8195111a4e4c",
   "metadata": {
    "extensions": {
     "jupyter_dashboards": {
      "activeView": "grid_default",
      "views": {
       "grid_default": {
        "col": null,
        "height": 2,
        "hidden": true,
        "row": null,
        "width": 2
       }
      }
     }
    },
    "tags": []
   },
   "outputs": [],
   "source": [
    "import dtale"
   ]
  },
  {
   "cell_type": "code",
   "execution_count": 4,
   "id": "538eec3c-99bd-4437-8016-7172cf3145e7",
   "metadata": {
    "extensions": {
     "jupyter_dashboards": {
      "activeView": "grid_default",
      "views": {
       "grid_default": {
        "col": null,
        "height": 2,
        "hidden": true,
        "row": null,
        "width": 2
       }
      }
     }
    },
    "tags": []
   },
   "outputs": [
    {
     "data": {
      "text/plain": []
     },
     "execution_count": 4,
     "metadata": {},
     "output_type": "execute_result"
    }
   ],
   "source": [
    "dtale.show(df, open_browser=True)"
   ]
  },
  {
   "cell_type": "markdown",
   "id": "e04e09e8-f459-4ef1-8e78-21129befdfc8",
   "metadata": {
    "extensions": {
     "jupyter_dashboards": {
      "activeView": "grid_default",
      "views": {
       "grid_default": {
        "col": null,
        "height": 2,
        "hidden": true,
        "row": null,
        "width": 2
       }
      }
     }
    }
   },
   "source": [
    "## 测试单个流水文件的读取与储存"
   ]
  },
  {
   "cell_type": "code",
   "execution_count": 7,
   "id": "2e69131f-f611-4d93-858c-1cd5cd890949",
   "metadata": {
    "extensions": {
     "jupyter_dashboards": {
      "activeView": "grid_default",
      "views": {
       "grid_default": {
        "col": null,
        "height": 2,
        "hidden": true,
        "row": null,
        "width": 2
       }
      }
     }
    },
    "tags": []
   },
   "outputs": [
    {
     "name": "stderr",
     "output_type": "stream",
     "text": [
      "D:\\soft\\WPy64-31160\\notebooks\\pynbCaseData\\corelibs.py:119: UserWarning: Could not infer format, so each element will be parsed individually, falling back to `dateutil`. To ensure parsing is consistent and as-expected, please specify a format.\n",
      "  df[_k] = pd.to_datetime(df[_v]).dt.time\n"
     ]
    },
    {
     "data": {
      "text/plain": [
       "9999"
      ]
     },
     "execution_count": 7,
     "metadata": {},
     "output_type": "execute_result"
    }
   ],
   "source": [
    "%run corelibs.py\n",
    "acc_file = pathlib.Path(r\"E:\\张楠\\2023赵益华927\\银行\\建行\\第一批 赵益华等9人\\1080861461690963794022777_16_1_watermark.xlsx\")\n",
    "conf_obj = get_conf_obj('建设银行网点', '流水')\n",
    "df = parse_sheet_general(acc_file, conf_obj)\n",
    "grouped = df.groupby('账号')\n",
    "df_list = [x.reset_index(drop=True) for _ , x in grouped]\n",
    "save_statements(df_list, OUTPUT_DIR_PATH, '建设银行网点', '1111111-11')"
   ]
  },
  {
   "cell_type": "code",
   "execution_count": 15,
   "id": "b78014d0-1161-454a-ac69-917690c8beb4",
   "metadata": {
    "execution": {
     "iopub.execute_input": "2024-02-01T11:02:04.877867Z",
     "iopub.status.busy": "2024-02-01T11:02:04.876867Z",
     "iopub.status.idle": "2024-02-01T11:02:19.852724Z",
     "shell.execute_reply": "2024-02-01T11:02:19.849723Z",
     "shell.execute_reply.started": "2024-02-01T11:02:04.877867Z"
    },
    "extensions": {
     "jupyter_dashboards": {
      "activeView": "grid_default",
      "views": {
       "grid_default": {
        "col": null,
        "height": 2,
        "hidden": true,
        "row": null,
        "width": 2
       }
      }
     }
    },
    "tags": []
   },
   "outputs": [],
   "source": [
    "import dtale"
   ]
  },
  {
   "cell_type": "code",
   "execution_count": 28,
   "id": "46487239-8adb-4a9e-b586-31f941ee8d4b",
   "metadata": {
    "extensions": {
     "jupyter_dashboards": {
      "activeView": "grid_default",
      "views": {
       "grid_default": {
        "col": null,
        "height": 2,
        "hidden": true,
        "row": null,
        "width": 2
       }
      }
     }
    },
    "tags": []
   },
   "outputs": [
    {
     "data": {
      "text/plain": []
     },
     "execution_count": 28,
     "metadata": {},
     "output_type": "execute_result"
    }
   ],
   "source": [
    "dtale.show(df, open_browser=True)"
   ]
  },
  {
   "cell_type": "markdown",
   "id": "f4a6a4e7-1a20-4a80-9188-a175e4e8ff01",
   "metadata": {
    "extensions": {
     "jupyter_dashboards": {
      "activeView": "grid_default",
      "views": {
       "grid_default": {
        "col": null,
        "height": 2,
        "hidden": true,
        "row": null,
        "width": 2
       }
      }
     }
    }
   },
   "source": [
    "# 执行"
   ]
  },
  {
   "cell_type": "markdown",
   "id": "eae19d1b-bb5b-4ad4-b469-2b980ec2f73e",
   "metadata": {
    "extensions": {
     "jupyter_dashboards": {
      "activeView": "grid_default",
      "views": {
       "grid_default": {
        "col": null,
        "height": 2,
        "hidden": true,
        "row": null,
        "width": 2
       }
      }
     }
    }
   },
   "source": [
    "## 分析建设银行网点数据目录\n",
    "（如：开发区金融街建行查询数据）"
   ]
  },
  {
   "cell_type": "code",
   "execution_count": 9,
   "id": "cab897d0-05a2-4e14-a3f4-b9639c5baf18",
   "metadata": {
    "extensions": {
     "jupyter_dashboards": {
      "activeView": "grid_default",
      "views": {
       "grid_default": {
        "col": null,
        "height": 2,
        "hidden": true,
        "row": null,
        "width": 2
       }
      }
     }
    },
    "tags": []
   },
   "outputs": [
    {
     "data": {
      "application/vnd.jupyter.widget-view+json": {
       "model_id": "7cf8619fb3004449b493280499bc19f1",
       "version_major": 2,
       "version_minor": 0
      },
      "text/plain": [
       "  0%|          | 0/8 [00:00<?, ?it/s]"
      ]
     },
     "metadata": {},
     "output_type": "display_data"
    },
    {
     "name": "stdout",
     "output_type": "stream",
     "text": [
      "1080860401675667712130255_1_1_watermark.xlsx……建设银行网点账户done\n",
      "1080860401675667712130255_2_1_watermark.xlsx……"
     ]
    },
    {
     "name": "stderr",
     "output_type": "stream",
     "text": [
      "D:\\WPy64-31160\\notebooks\\pynbCaseData\\corelibs\\data.py:23: UserWarning: Could not infer format, so each element will be parsed individually, falling back to `dateutil`. To ensure parsing is consistent and as-expected, please specify a format.\n",
      "  df[_k] = pd.to_datetime(df[_v]).dt.time\n"
     ]
    },
    {
     "name": "stdout",
     "output_type": "stream",
     "text": [
      "建设银行网点流水done\n",
      "1080860401675667712130255_3_1_watermark.xlsx……建设银行网点账户done\n",
      "1080860401675667712130255_4_1_watermark.xlsx……"
     ]
    },
    {
     "name": "stderr",
     "output_type": "stream",
     "text": [
      "D:\\WPy64-31160\\notebooks\\pynbCaseData\\corelibs\\data.py:23: UserWarning: Could not infer format, so each element will be parsed individually, falling back to `dateutil`. To ensure parsing is consistent and as-expected, please specify a format.\n",
      "  df[_k] = pd.to_datetime(df[_v]).dt.time\n"
     ]
    },
    {
     "name": "stdout",
     "output_type": "stream",
     "text": [
      "建设银行网点流水done\n",
      "1080860401675667712130255_5_1_watermark.xlsx……建设银行网点账户done\n",
      "1080860401675667712130255_6_1_watermark.xlsx……"
     ]
    },
    {
     "name": "stderr",
     "output_type": "stream",
     "text": [
      "D:\\WPy64-31160\\notebooks\\pynbCaseData\\corelibs\\data.py:23: UserWarning: Could not infer format, so each element will be parsed individually, falling back to `dateutil`. To ensure parsing is consistent and as-expected, please specify a format.\n",
      "  df[_k] = pd.to_datetime(df[_v]).dt.time\n"
     ]
    },
    {
     "name": "stdout",
     "output_type": "stream",
     "text": [
      "建设银行网点流水done\n",
      "1080860401675667712130255_7_1_watermark.xlsx……建设银行网点账户done\n",
      "1080860401675667712130255_8_1_watermark.xlsx……"
     ]
    },
    {
     "name": "stderr",
     "output_type": "stream",
     "text": [
      "D:\\WPy64-31160\\notebooks\\pynbCaseData\\corelibs\\data.py:23: UserWarning: Could not infer format, so each element will be parsed individually, falling back to `dateutil`. To ensure parsing is consistent and as-expected, please specify a format.\n",
      "  df[_k] = pd.to_datetime(df[_v]).dt.time\n"
     ]
    },
    {
     "name": "stdout",
     "output_type": "stream",
     "text": [
      "建设银行网点流水done\n",
      "以下为发生错误而跳过的文件：\n"
     ]
    },
    {
     "data": {
      "text/plain": [
       "0"
      ]
     },
     "execution_count": 9,
     "metadata": {},
     "output_type": "execute_result"
    }
   ],
   "source": [
    "%run corelibs/banks.py\n",
    "base_dir = pathlib.Path(r\"J:\\杨孟军\\银行\\建行\\建行(于东林、刘德阳等)\")\n",
    "err_files = process_dir_ccb_branch(base_dir, OUTPUT_DIR_PATH, '五室调取')\n",
    "print('以下为发生错误而跳过的文件：')\n",
    "len([print(k.name + v) for k, v in err_files.items()])"
   ]
  },
  {
   "cell_type": "markdown",
   "id": "e38f6e5b-adc8-499c-95f2-56bf2086b07e",
   "metadata": {
    "extensions": {
     "jupyter_dashboards": {
      "activeView": "grid_default",
      "views": {
       "grid_default": {
        "col": null,
        "height": 2,
        "hidden": true,
        "row": null,
        "width": 2
       }
      }
     }
    }
   },
   "source": [
    "# 杂项"
   ]
  },
  {
   "cell_type": "code",
   "execution_count": 48,
   "id": "da578217-4a5d-4575-890e-370bfd803e7c",
   "metadata": {
    "execution": {
     "iopub.execute_input": "2024-01-22T05:27:42.140448Z",
     "iopub.status.busy": "2024-01-22T05:27:42.139448Z",
     "iopub.status.idle": "2024-01-22T05:27:42.163449Z",
     "shell.execute_reply": "2024-01-22T05:27:42.162449Z",
     "shell.execute_reply.started": "2024-01-22T05:27:42.140448Z"
    },
    "extensions": {
     "jupyter_dashboards": {
      "activeView": "grid_default",
      "views": {
       "grid_default": {
        "col": null,
        "height": 2,
        "hidden": true,
        "row": null,
        "width": 2
       }
      }
     }
    },
    "scrolled": true,
    "tags": []
   },
   "outputs": [
    {
     "data": {
      "text/plain": [
       "<function pandas.io.excel._base.read_excel(io, sheet_name=0, header=0, names=None, index_col=None, usecols=None, squeeze=False, dtype=None, engine=None, converters=None, true_values=None, false_values=None, skiprows=None, nrows=None, na_values=None, keep_default_na=True, na_filter=True, verbose=False, parse_dates=False, date_parser=None, thousands=None, comment=None, skipfooter=0, convert_float=True, mangle_dupe_cols=True, storage_options: Union[Dict[str, Any], NoneType] = None)>"
      ]
     },
     "execution_count": 23,
     "metadata": {},
     "output_type": "execute_result"
    }
   ],
   "source": [
    "pd.read_excel"
   ]
  },
  {
   "cell_type": "code",
   "execution_count": 6,
   "id": "da2a30e3-28b2-4628-b598-7906f80155a8",
   "metadata": {
    "execution": {
     "iopub.execute_input": "2024-01-22T11:39:09.944026Z",
     "iopub.status.busy": "2024-01-22T11:39:09.943026Z",
     "iopub.status.idle": "2024-01-22T11:39:09.968027Z",
     "shell.execute_reply": "2024-01-22T11:39:09.965027Z",
     "shell.execute_reply.started": "2024-01-22T11:39:09.944026Z"
    },
    "extensions": {
     "jupyter_dashboards": {
      "activeView": "grid_default",
      "views": {
       "grid_default": {
        "col": null,
        "height": 2,
        "hidden": true,
        "row": null,
        "width": 2
       }
      }
     }
    },
    "tags": []
   },
   "outputs": [
    {
     "data": {
      "text/plain": [
       "3955050809677091182"
      ]
     },
     "execution_count": 24,
     "metadata": {},
     "output_type": "execute_result"
    }
   ],
   "source": [
    "hash(str(['所属银行','证件号码','开户名称','客户账号','卡号','余额','开户日期','开户机构名称','是否开通网易','U盾号','短信捆绑电话','网银电话','地址','邮编','销户日期','销户机构号','销户机构名称','账户状态','我行账号（卡号）','我方银行名称','我方中文名称','身份证号','交易日期','对方账号（卡号）','对方中文名称','对方银行名称','对方银行机构代码','流水号','借贷标志','交易金额','币种','余额','网银IP地址','交易代码（交易渠道）','代码描述','用途（摘要）','受理机构代码','受理机构名称','交易是否成功']))"
   ]
  },
  {
   "cell_type": "code",
   "execution_count": 124,
   "id": "886af4c6-a159-4cc1-9e22-f0c889232c20",
   "metadata": {
    "execution": {
     "iopub.execute_input": "2024-01-13T15:01:59.735713Z",
     "iopub.status.busy": "2024-01-13T15:01:59.733713Z",
     "iopub.status.idle": "2024-01-13T15:01:59.747714Z",
     "shell.execute_reply": "2024-01-13T15:01:59.742714Z",
     "shell.execute_reply.started": "2024-01-13T15:01:59.734713Z"
    },
    "extensions": {
     "jupyter_dashboards": {
      "activeView": "grid_default",
      "views": {
       "grid_default": {
        "col": null,
        "height": 2,
        "hidden": true,
        "row": null,
        "width": 2
       }
      }
     }
    },
    "tags": []
   },
   "outputs": [
    {
     "ename": "TypeError",
     "evalue": "list indices must be integers or slices, not str",
     "output_type": "error",
     "traceback": [
      "\u001b[1;31m---------------------------------------------------------------------------\u001b[0m",
      "\u001b[1;31mTypeError\u001b[0m                                 Traceback (most recent call last)",
      "\u001b[1;32m<ipython-input-25-409b5eb58933>\u001b[0m in \u001b[0;36m<module>\u001b[1;34m\u001b[0m\n\u001b[1;32m----> 1\u001b[1;33m \u001b[0mtype\u001b[0m\u001b[1;33m(\u001b[0m\u001b[0mCONF_DATA\u001b[0m\u001b[1;33m[\u001b[0m\u001b[1;34m'天津银行'\u001b[0m\u001b[1;33m]\u001b[0m\u001b[1;33m[\u001b[0m\u001b[1;34m'流水'\u001b[0m\u001b[1;33m]\u001b[0m\u001b[1;33m[\u001b[0m\u001b[1;34m'时间'\u001b[0m\u001b[1;33m]\u001b[0m\u001b[1;33m[\u001b[0m\u001b[1;34m'交易日期'\u001b[0m\u001b[1;33m]\u001b[0m\u001b[1;33m)\u001b[0m\u001b[1;33m\u001b[0m\u001b[1;33m\u001b[0m\u001b[0m\n\u001b[0m",
      "\u001b[1;31mTypeError\u001b[0m: list indices must be integers or slices, not str"
     ]
    }
   ],
   "source": [
    "type(CONF_DATA['天津银行']['流水']['时间']['交易日期'])"
   ]
  },
  {
   "cell_type": "code",
   "execution_count": null,
   "id": "b38848be-9216-478c-94ba-6a32439c898f",
   "metadata": {
    "extensions": {
     "jupyter_dashboards": {
      "activeView": "grid_default",
      "views": {
       "grid_default": {
        "col": null,
        "height": 2,
        "hidden": true,
        "row": null,
        "width": 2
       }
      }
     }
    },
    "tags": []
   },
   "outputs": [],
   "source": [
    "CONF_DATA['天津银行']['流水']"
   ]
  },
  {
   "cell_type": "code",
   "execution_count": 27,
   "id": "e5f72865-bcd7-467a-953b-1c794bb2b966",
   "metadata": {
    "execution": {
     "iopub.execute_input": "2024-01-17T09:18:33.882740Z",
     "iopub.status.busy": "2024-01-17T09:18:33.881740Z",
     "iopub.status.idle": "2024-01-17T09:18:33.895741Z",
     "shell.execute_reply": "2024-01-17T09:18:33.893741Z",
     "shell.execute_reply.started": "2024-01-17T09:18:33.882740Z"
    },
    "extensions": {
     "jupyter_dashboards": {
      "activeView": "grid_default",
      "views": {
       "grid_default": {
        "col": null,
        "height": 2,
        "hidden": true,
        "row": null,
        "width": 2
       }
      }
     }
    },
    "tags": []
   },
   "outputs": [],
   "source": [
    "print(CONF_DATA.get('哈哈'))"
   ]
  },
  {
   "cell_type": "code",
   "execution_count": 37,
   "id": "3b4f41eb-15a8-4562-a9c5-b2349ae09c22",
   "metadata": {
    "execution": {
     "iopub.execute_input": "2024-01-26T06:09:09.076748Z",
     "iopub.status.busy": "2024-01-26T06:09:09.075748Z",
     "iopub.status.idle": "2024-01-26T06:09:09.085749Z",
     "shell.execute_reply": "2024-01-26T06:09:09.084749Z",
     "shell.execute_reply.started": "2024-01-26T06:09:09.076748Z"
    },
    "extensions": {
     "jupyter_dashboards": {
      "activeView": "grid_default",
      "views": {
       "grid_default": {
        "col": null,
        "height": 2,
        "hidden": true,
        "row": null,
        "width": 2
       }
      }
     }
    },
    "tags": []
   },
   "outputs": [],
   "source": [
    "from itertools import islice\n",
    "a = [3,4,5,6,7,8]\n",
    "b = islice(a,4,5)\n",
    "next(b)"
   ]
  },
  {
   "cell_type": "code",
   "execution_count": 8,
   "id": "adf79b1b-33b3-4612-8093-f483e0912567",
   "metadata": {
    "extensions": {
     "jupyter_dashboards": {
      "activeView": "grid_default",
      "views": {
       "grid_default": {
        "col": null,
        "height": 2,
        "hidden": true,
        "row": null,
        "width": 2
       }
      }
     }
    },
    "tags": []
   },
   "outputs": [
    {
     "data": {
      "text/plain": [
       "Timestamp('2023-01-01 00:00:00')"
      ]
     },
     "execution_count": 8,
     "metadata": {},
     "output_type": "execute_result"
    }
   ],
   "source": [
    "import pandas as pd\n",
    "pd.to_datetime('2023-01-01', format='mixed')"
   ]
  },
  {
   "cell_type": "code",
   "execution_count": 26,
   "id": "91da67c0",
   "metadata": {},
   "outputs": [
    {
     "data": {
      "text/plain": [
       "['__add__',\n",
       " '__class__',\n",
       " '__class_getitem__',\n",
       " '__contains__',\n",
       " '__delattr__',\n",
       " '__dir__',\n",
       " '__doc__',\n",
       " '__eq__',\n",
       " '__format__',\n",
       " '__ge__',\n",
       " '__getattribute__',\n",
       " '__getitem__',\n",
       " '__getnewargs__',\n",
       " '__getstate__',\n",
       " '__gt__',\n",
       " '__hash__',\n",
       " '__init__',\n",
       " '__init_subclass__',\n",
       " '__iter__',\n",
       " '__le__',\n",
       " '__len__',\n",
       " '__lt__',\n",
       " '__match_args__',\n",
       " '__module__',\n",
       " '__mul__',\n",
       " '__ne__',\n",
       " '__new__',\n",
       " '__reduce__',\n",
       " '__reduce_ex__',\n",
       " '__repr__',\n",
       " '__rmul__',\n",
       " '__setattr__',\n",
       " '__sizeof__',\n",
       " '__slots__',\n",
       " '__str__',\n",
       " '__subclasshook__',\n",
       " '_asdict',\n",
       " '_field_defaults',\n",
       " '_fields',\n",
       " '_make',\n",
       " '_replace',\n",
       " 'bank_name',\n",
       " 'cdid',\n",
       " 'col_name_map',\n",
       " 'cols_new_order',\n",
       " 'count',\n",
       " 'date_cols',\n",
       " 'digi_cols',\n",
       " 'fill_cols',\n",
       " 'index',\n",
       " 'merge_2cols',\n",
       " 'new_cols',\n",
       " 'time_cols',\n",
       " 'verify_cols']"
      ]
     },
     "execution_count": 26,
     "metadata": {},
     "output_type": "execute_result"
    }
   ],
   "source": []
  }
 ],
 "metadata": {
  "extensions": {
   "jupyter_dashboards": {
    "activeView": "grid_default",
    "version": 1,
    "views": {
     "grid_default": {
      "cellMargin": 2,
      "defaultCellHeight": 60,
      "maxColumns": 12,
      "name": "grid",
      "type": "grid"
     }
    }
   }
  },
  "kernelspec": {
   "display_name": "Python 3 (ipykernel)",
   "language": "python",
   "name": "python3"
  },
  "language_info": {
   "codemirror_mode": {
    "name": "ipython",
    "version": 3
   },
   "file_extension": ".py",
   "mimetype": "text/x-python",
   "name": "python",
   "nbconvert_exporter": "python",
   "pygments_lexer": "ipython3",
   "version": "3.11.6"
  },
  "toc-autonumbering": true,
  "toc-showcode": false,
  "toc-showmarkdowntxt": false,
  "toc-showtags": false,
  "widgets": {
   "application/vnd.jupyter.widget-state+json": {
    "state": {
     "0297076af77d4764beac47a357783e7a": {
      "model_module": "@jupyter-widgets/controls",
      "model_module_version": "2.0.0",
      "model_name": "HTMLModel",
      "state": {
       "layout": "IPY_MODEL_235fb8afaa7e43d9b7e48aadc13aa986",
       "style": "IPY_MODEL_29893b2e326a4e0988b09fdfdf68eda1",
       "value": "100%"
      }
     },
     "235fb8afaa7e43d9b7e48aadc13aa986": {
      "model_module": "@jupyter-widgets/base",
      "model_module_version": "2.0.0",
      "model_name": "LayoutModel",
      "state": {}
     },
     "25b33c65543845b39294031af1b83844": {
      "model_module": "@jupyter-widgets/base",
      "model_module_version": "2.0.0",
      "model_name": "LayoutModel",
      "state": {}
     },
     "29893b2e326a4e0988b09fdfdf68eda1": {
      "model_module": "@jupyter-widgets/controls",
      "model_module_version": "2.0.0",
      "model_name": "HTMLStyleModel",
      "state": {
       "description_width": "",
       "font_size": null,
       "text_color": null
      }
     },
     "389de52a4fb049fb961a705b9914f6cf": {
      "model_module": "@jupyter-widgets/base",
      "model_module_version": "2.0.0",
      "model_name": "LayoutModel",
      "state": {}
     },
     "4364b0d1dc7643819eaa29002b02dfd3": {
      "model_module": "@jupyter-widgets/controls",
      "model_module_version": "2.0.0",
      "model_name": "HTMLModel",
      "state": {
       "layout": "IPY_MODEL_389de52a4fb049fb961a705b9914f6cf",
       "style": "IPY_MODEL_9b44e4d555ee4ff68ecaca8f98fef4ca",
       "value": " 8/8 [00:07&lt;00:00,  1.29s/it]"
      }
     },
     "58b92cb1fcdb482aa3e73c64ff809dd1": {
      "model_module": "@jupyter-widgets/base",
      "model_module_version": "2.0.0",
      "model_name": "LayoutModel",
      "state": {}
     },
     "652951615d8d48d8aea6757e9385d5eb": {
      "model_module": "@jupyter-widgets/controls",
      "model_module_version": "2.0.0",
      "model_name": "ProgressStyleModel",
      "state": {
       "description_width": ""
      }
     },
     "65f8a85068af49b5883adcbbbef6ae88": {
      "model_module": "@jupyter-widgets/controls",
      "model_module_version": "2.0.0",
      "model_name": "HBoxModel",
      "state": {
       "children": [
        "IPY_MODEL_86597c37dbee4f41a203dcd2f3f61ce6",
        "IPY_MODEL_b678f04e479b473e8465d6f40bbc66e9",
        "IPY_MODEL_e373d917cb9c4dc5a4e91107f919e388"
       ],
       "layout": "IPY_MODEL_58b92cb1fcdb482aa3e73c64ff809dd1"
      }
     },
     "7cf8619fb3004449b493280499bc19f1": {
      "model_module": "@jupyter-widgets/controls",
      "model_module_version": "2.0.0",
      "model_name": "HBoxModel",
      "state": {
       "children": [
        "IPY_MODEL_0297076af77d4764beac47a357783e7a",
        "IPY_MODEL_c769296135ce4606b466ec6ba28ecbc5",
        "IPY_MODEL_4364b0d1dc7643819eaa29002b02dfd3"
       ],
       "layout": "IPY_MODEL_9d5c5652d9c343fbb5c9233cd85e9d3e"
      }
     },
     "86597c37dbee4f41a203dcd2f3f61ce6": {
      "model_module": "@jupyter-widgets/controls",
      "model_module_version": "2.0.0",
      "model_name": "HTMLModel",
      "state": {
       "layout": "IPY_MODEL_25b33c65543845b39294031af1b83844",
       "style": "IPY_MODEL_cb897d377e9e4895a0fdecd964fcb2da",
       "value": "100%"
      }
     },
     "9ac7a86364e443f8a31fe1d0f2d245d1": {
      "model_module": "@jupyter-widgets/controls",
      "model_module_version": "2.0.0",
      "model_name": "HTMLStyleModel",
      "state": {
       "description_width": "",
       "font_size": null,
       "text_color": null
      }
     },
     "9b44e4d555ee4ff68ecaca8f98fef4ca": {
      "model_module": "@jupyter-widgets/controls",
      "model_module_version": "2.0.0",
      "model_name": "HTMLStyleModel",
      "state": {
       "description_width": "",
       "font_size": null,
       "text_color": null
      }
     },
     "9d5c5652d9c343fbb5c9233cd85e9d3e": {
      "model_module": "@jupyter-widgets/base",
      "model_module_version": "2.0.0",
      "model_name": "LayoutModel",
      "state": {}
     },
     "b678f04e479b473e8465d6f40bbc66e9": {
      "model_module": "@jupyter-widgets/controls",
      "model_module_version": "2.0.0",
      "model_name": "FloatProgressModel",
      "state": {
       "bar_style": "success",
       "layout": "IPY_MODEL_b895270c2bb04b12a6f5cf8ed19626b9",
       "max": 8,
       "style": "IPY_MODEL_d4469af962714ed79302aa971caeeb18",
       "value": 8
      }
     },
     "b895270c2bb04b12a6f5cf8ed19626b9": {
      "model_module": "@jupyter-widgets/base",
      "model_module_version": "2.0.0",
      "model_name": "LayoutModel",
      "state": {}
     },
     "c769296135ce4606b466ec6ba28ecbc5": {
      "model_module": "@jupyter-widgets/controls",
      "model_module_version": "2.0.0",
      "model_name": "FloatProgressModel",
      "state": {
       "bar_style": "success",
       "layout": "IPY_MODEL_d0dbf959ac8f4bc59945a4089a56be16",
       "max": 8,
       "style": "IPY_MODEL_652951615d8d48d8aea6757e9385d5eb",
       "value": 8
      }
     },
     "cb897d377e9e4895a0fdecd964fcb2da": {
      "model_module": "@jupyter-widgets/controls",
      "model_module_version": "2.0.0",
      "model_name": "HTMLStyleModel",
      "state": {
       "description_width": "",
       "font_size": null,
       "text_color": null
      }
     },
     "d0dbf959ac8f4bc59945a4089a56be16": {
      "model_module": "@jupyter-widgets/base",
      "model_module_version": "2.0.0",
      "model_name": "LayoutModel",
      "state": {}
     },
     "d4469af962714ed79302aa971caeeb18": {
      "model_module": "@jupyter-widgets/controls",
      "model_module_version": "2.0.0",
      "model_name": "ProgressStyleModel",
      "state": {
       "description_width": ""
      }
     },
     "dc8a3ac2b3e64e108add288f5e3d9d79": {
      "model_module": "@jupyter-widgets/base",
      "model_module_version": "2.0.0",
      "model_name": "LayoutModel",
      "state": {}
     },
     "e373d917cb9c4dc5a4e91107f919e388": {
      "model_module": "@jupyter-widgets/controls",
      "model_module_version": "2.0.0",
      "model_name": "HTMLModel",
      "state": {
       "layout": "IPY_MODEL_dc8a3ac2b3e64e108add288f5e3d9d79",
       "style": "IPY_MODEL_9ac7a86364e443f8a31fe1d0f2d245d1",
       "value": " 8/8 [00:03&lt;00:00,  1.97it/s]"
      }
     }
    },
    "version_major": 2,
    "version_minor": 0
   }
  }
 },
 "nbformat": 4,
 "nbformat_minor": 5
}
