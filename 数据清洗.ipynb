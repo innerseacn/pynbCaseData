{
 "cells": [
  {
   "cell_type": "markdown",
   "id": "9bb29211-2b71-4cf9-bccd-71d98c7742d1",
   "metadata": {},
   "source": [
    "# 导入文件"
   ]
  },
  {
   "cell_type": "code",
   "execution_count": 2,
   "id": "1ecad92f-2217-45d9-8ca5-dd04379f772a",
   "metadata": {
    "execution": {
     "iopub.execute_input": "2023-12-17T06:27:19.137780Z",
     "iopub.status.busy": "2023-12-17T06:27:19.137780Z",
     "iopub.status.idle": "2023-12-17T06:27:19.148780Z",
     "shell.execute_reply": "2023-12-17T06:27:19.148780Z",
     "shell.execute_reply.started": "2023-12-17T06:27:19.137780Z"
    },
    "tags": []
   },
   "outputs": [
    {
     "data": {
      "text/plain": [
       "['Sheet1', 'Sheet2', 'Sheet3']"
      ]
     },
     "execution_count": 2,
     "metadata": {},
     "output_type": "execute_result"
    }
   ],
   "source": [
    "import pandas as pd\n",
    "import pathlib\n",
    "base_path = pathlib.Path(r\"E:\\张楠\\2023赵益华927\\银行\\天津银行\\滨监查询（2023）05217.xls\")\n",
    "output_dir_path = pathlib.Path(r\"E:\\张楠\\测试\\output\")\n",
    "excel_file = pd.ExcelFile(base_path)\n",
    "excel_file.sheet_names"
   ]
  },
  {
   "cell_type": "code",
   "execution_count": 2,
   "id": "d1e7c85c-fe8e-4cb9-9e9d-4580ad99f335",
   "metadata": {
    "execution": {
     "iopub.execute_input": "2023-12-17T01:18:50.059769Z",
     "iopub.status.busy": "2023-12-17T01:18:50.059769Z",
     "iopub.status.idle": "2023-12-17T01:18:50.121772Z",
     "shell.execute_reply": "2023-12-17T01:18:50.120772Z",
     "shell.execute_reply.started": "2023-12-17T01:18:50.059769Z"
    },
    "tags": []
   },
   "outputs": [],
   "source": [
    "import yaml\n",
    "with open('config.yaml', 'r', encoding='utf-8') as f:\n",
    "    CONF_DATA = yaml.load(f, Loader=yaml.SafeLoader)"
   ]
  },
  {
   "cell_type": "markdown",
   "id": "47285952-2261-43d5-b3c1-3e8e32808517",
   "metadata": {},
   "source": [
    "# 自定义函数及测试"
   ]
  },
  {
   "cell_type": "code",
   "execution_count": 31,
   "id": "1f5d2a53-336a-49f2-9be6-280dffaef912",
   "metadata": {
    "execution": {
     "iopub.execute_input": "2023-12-17T06:34:25.371159Z",
     "iopub.status.busy": "2023-12-17T06:34:25.371159Z",
     "iopub.status.idle": "2023-12-17T06:34:25.386160Z",
     "shell.execute_reply": "2023-12-17T06:34:25.386160Z",
     "shell.execute_reply.started": "2023-12-17T06:34:25.371159Z"
    },
    "tags": []
   },
   "outputs": [],
   "source": [
    "%run corelibs.py"
   ]
  },
  {
   "cell_type": "code",
   "execution_count": null,
   "id": "452dd77a-1ebb-44de-b9f4-02389530269e",
   "metadata": {
    "tags": []
   },
   "outputs": [],
   "source": [
    "df = parse_sheet_general(excel_file,0,CONF_DATA['天津银行']['账户'])\n",
    "df"
   ]
  },
  {
   "cell_type": "code",
   "execution_count": 43,
   "id": "4d4dd3c3-1970-422c-be93-c65745a940ac",
   "metadata": {
    "execution": {
     "iopub.execute_input": "2023-12-17T06:35:32.295987Z",
     "iopub.status.busy": "2023-12-17T06:35:32.295987Z",
     "iopub.status.idle": "2023-12-17T06:35:32.374991Z",
     "shell.execute_reply": "2023-12-17T06:35:32.374991Z",
     "shell.execute_reply.started": "2023-12-17T06:35:32.295987Z"
    },
    "scrolled": true,
    "tags": []
   },
   "outputs": [],
   "source": [
    "save_accounts(df, output_dir_path, '天津银行')"
   ]
  },
  {
   "cell_type": "code",
   "execution_count": 20,
   "id": "f5b55f3a-9ee9-4a63-823d-fffe61b5483b",
   "metadata": {
    "execution": {
     "iopub.execute_input": "2023-12-17T01:52:30.121310Z",
     "iopub.status.busy": "2023-12-17T01:52:30.119310Z",
     "iopub.status.idle": "2023-12-17T01:52:30.135311Z",
     "shell.execute_reply": "2023-12-17T01:52:30.133311Z",
     "shell.execute_reply.started": "2023-12-17T01:52:30.121310Z"
    }
   },
   "outputs": [
    {
     "data": {
      "text/plain": [
       "False"
      ]
     },
     "execution_count": 20,
     "metadata": {},
     "output_type": "execute_result"
    }
   ],
   "source": [
    "verify_data(df, CONF_DATA['天津银行']['账户']['verify_cols'])"
   ]
  },
  {
   "cell_type": "markdown",
   "id": "f4a6a4e7-1a20-4a80-9188-a175e4e8ff01",
   "metadata": {},
   "source": [
    "# 执行"
   ]
  },
  {
   "cell_type": "code",
   "execution_count": null,
   "id": "6ceebcde-eae2-4acf-9975-54eeeeeb537a",
   "metadata": {
    "scrolled": true,
    "tags": []
   },
   "outputs": [],
   "source": [
    "df = excel_file.parse(sheet_name=0, header=0, skiprows=0, dtype=str)\n",
    "df"
   ]
  },
  {
   "cell_type": "code",
   "execution_count": null,
   "id": "7ce7fdd4-0a10-45d6-931a-c18c8f015271",
   "metadata": {
    "tags": []
   },
   "outputs": [],
   "source": [
    "df.info()"
   ]
  },
  {
   "cell_type": "markdown",
   "id": "e38f6e5b-adc8-499c-95f2-56bf2086b07e",
   "metadata": {},
   "source": [
    "# 杂项"
   ]
  },
  {
   "cell_type": "code",
   "execution_count": 18,
   "id": "da578217-4a5d-4575-890e-370bfd803e7c",
   "metadata": {
    "execution": {
     "iopub.execute_input": "2023-12-17T06:31:37.828576Z",
     "iopub.status.busy": "2023-12-17T06:31:37.827576Z",
     "iopub.status.idle": "2023-12-17T06:31:37.865578Z",
     "shell.execute_reply": "2023-12-17T06:31:37.859578Z",
     "shell.execute_reply.started": "2023-12-17T06:31:37.828576Z"
    },
    "scrolled": true,
    "tags": []
   },
   "outputs": [
    {
     "data": {
      "text/plain": [
       "WindowsPath('E:/张楠/2023赵益华927/银行/天津银行/滨监查询（2023）05217.xls')"
      ]
     },
     "execution_count": 18,
     "metadata": {},
     "output_type": "execute_result"
    }
   ],
   "source": [
    "base_path"
   ]
  },
  {
   "cell_type": "code",
   "execution_count": 19,
   "id": "da2a30e3-28b2-4628-b598-7906f80155a8",
   "metadata": {
    "execution": {
     "iopub.execute_input": "2023-12-17T06:32:15.454728Z",
     "iopub.status.busy": "2023-12-17T06:32:15.454728Z",
     "iopub.status.idle": "2023-12-17T06:32:15.459728Z",
     "shell.execute_reply": "2023-12-17T06:32:15.459728Z",
     "shell.execute_reply.started": "2023-12-17T06:32:15.454728Z"
    },
    "tags": []
   },
   "outputs": [
    {
     "data": {
      "text/plain": [
       "True"
      ]
     },
     "execution_count": 19,
     "metadata": {},
     "output_type": "execute_result"
    }
   ],
   "source": [
    "base_path.exists()"
   ]
  },
  {
   "cell_type": "code",
   "execution_count": null,
   "id": "188cdb65-824f-43b2-b9b8-54e8f70b49ec",
   "metadata": {
    "tags": []
   },
   "outputs": [],
   "source": [
    "CONF_DATA"
   ]
  },
  {
   "cell_type": "code",
   "execution_count": 36,
   "id": "835b2e98-d546-49f2-8f74-e0e8dcc46484",
   "metadata": {
    "execution": {
     "iopub.execute_input": "2023-12-17T02:21:40.573430Z",
     "iopub.status.busy": "2023-12-17T02:21:40.572430Z",
     "iopub.status.idle": "2023-12-17T02:21:40.582431Z",
     "shell.execute_reply": "2023-12-17T02:21:40.581430Z",
     "shell.execute_reply.started": "2023-12-17T02:21:40.573430Z"
    },
    "tags": []
   },
   "outputs": [
    {
     "data": {
      "text/plain": [
       "str"
      ]
     },
     "execution_count": 36,
     "metadata": {},
     "output_type": "execute_result"
    }
   ],
   "source": [
    "df.concat"
   ]
  },
  {
   "cell_type": "code",
   "execution_count": null,
   "id": "84a24fc9-8a76-4140-96d3-b86b13c805cd",
   "metadata": {
    "tags": []
   },
   "outputs": [],
   "source": [
    "import dtale as dt\n",
    "dt.show(dd, open_browser=True)"
   ]
  },
  {
   "cell_type": "code",
   "execution_count": null,
   "id": "784fd900-16fa-435b-81ef-d60149e21e2a",
   "metadata": {
    "tags": []
   },
   "outputs": [],
   "source": [
    "df.dtypes"
   ]
  }
 ],
 "metadata": {
  "kernelspec": {
   "display_name": "Python 3",
   "language": "python",
   "name": "python3"
  },
  "language_info": {
   "codemirror_mode": {
    "name": "ipython",
    "version": 3
   },
   "file_extension": ".py",
   "mimetype": "text/x-python",
   "name": "python",
   "nbconvert_exporter": "python",
   "pygments_lexer": "ipython3",
   "version": "3.8.9"
  },
  "toc-autonumbering": true,
  "toc-showcode": false,
  "toc-showmarkdowntxt": false,
  "toc-showtags": false,
  "widgets": {
   "application/vnd.jupyter.widget-state+json": {
    "state": {},
    "version_major": 2,
    "version_minor": 0
   }
  }
 },
 "nbformat": 4,
 "nbformat_minor": 5
}
