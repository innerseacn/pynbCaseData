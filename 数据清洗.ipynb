{
 "cells": [
  {
   "cell_type": "markdown",
   "id": "9bb29211-2b71-4cf9-bccd-71d98c7742d1",
   "metadata": {},
   "source": [
    "# 加载库函数及导入文件"
   ]
  },
  {
   "cell_type": "code",
   "execution_count": 96,
   "id": "91c9702d-7a03-4cd0-aa54-51ec596c95d2",
   "metadata": {
    "execution": {
     "iopub.execute_input": "2023-12-30T08:39:17.566202Z",
     "iopub.status.busy": "2023-12-30T08:39:17.566202Z",
     "iopub.status.idle": "2023-12-30T08:39:18.231240Z",
     "shell.execute_reply": "2023-12-30T08:39:18.230240Z",
     "shell.execute_reply.started": "2023-12-30T08:39:17.566202Z"
    },
    "tags": []
   },
   "outputs": [
    {
     "data": {
      "text/plain": [
       "['Sheet1', 'Sheet2', 'Sheet3']"
      ]
     },
     "execution_count": 96,
     "metadata": {},
     "output_type": "execute_result"
    }
   ],
   "source": [
    "import pandas as pd\n",
    "import pathlib\n",
    "base_path = pathlib.Path(r\"E:\\张楠\\2023赵益华927\\银行\\天津银行\\滨监查询（2023）05217号.xls\")\n",
    "output_dir_path = pathlib.Path(r\"E:\\张楠\\测试\\output\")\n",
    "excel_file = pd.ExcelFile(base_path)\n",
    "%run corelibs.py\n",
    "excel_file.sheet_names"
   ]
  },
  {
   "cell_type": "code",
   "execution_count": 9,
   "id": "d1e7c85c-fe8e-4cb9-9e9d-4580ad99f335",
   "metadata": {
    "execution": {
     "iopub.execute_input": "2023-12-30T06:56:06.633101Z",
     "iopub.status.busy": "2023-12-30T06:56:06.632101Z",
     "iopub.status.idle": "2023-12-30T06:56:06.671103Z",
     "shell.execute_reply": "2023-12-30T06:56:06.666103Z",
     "shell.execute_reply.started": "2023-12-30T06:56:06.633101Z"
    },
    "tags": []
   },
   "outputs": [],
   "source": [
    "import yaml\n",
    "with open('config.yaml', 'r', encoding='utf-8') as f:\n",
    "    CONF_DATA = yaml.load(f, Loader=yaml.SafeLoader)"
   ]
  },
  {
   "cell_type": "code",
   "execution_count": null,
   "id": "a31875e9-4cde-4828-a56c-d9e678ce5099",
   "metadata": {
    "tags": []
   },
   "outputs": [],
   "source": [
    "CONF_DATA"
   ]
  },
  {
   "cell_type": "markdown",
   "id": "47285952-2261-43d5-b3c1-3e8e32808517",
   "metadata": {},
   "source": [
    "# 自定义函数及测试"
   ]
  },
  {
   "cell_type": "code",
   "execution_count": 98,
   "id": "452dd77a-1ebb-44de-b9f4-02389530269e",
   "metadata": {
    "execution": {
     "iopub.execute_input": "2023-12-30T08:39:35.829247Z",
     "iopub.status.busy": "2023-12-30T08:39:35.828247Z",
     "iopub.status.idle": "2023-12-30T08:39:36.135264Z",
     "shell.execute_reply": "2023-12-30T08:39:36.134264Z",
     "shell.execute_reply.started": "2023-12-30T08:39:35.829247Z"
    },
    "scrolled": true,
    "tags": []
   },
   "outputs": [
    {
     "name": "stdout",
     "output_type": "stream",
     "text": [
      "<class 'pandas.core.frame.DataFrame'>\n",
      "RangeIndex: 13162 entries, 0 to 13161\n",
      "Data columns (total 25 columns):\n",
      " #   Column      Non-Null Count  Dtype  \n",
      "---  ------      --------------  -----  \n",
      " 0   日期          13162 non-null  object \n",
      " 1   时间          13162 non-null  object \n",
      " 2   姓名          13162 non-null  object \n",
      " 3   账号          13162 non-null  object \n",
      " 4   摘要          13161 non-null  object \n",
      " 5   币种          13162 non-null  object \n",
      " 6   出账金额        547 non-null    float64\n",
      " 7   入账金额        12615 non-null  float64\n",
      " 8   余额          13162 non-null  float64\n",
      " 9   交易机构        9123 non-null   object \n",
      " 10  对方账号        12376 non-null  object \n",
      " 11  对方户名        12369 non-null  object \n",
      " 12  对方开户行       10565 non-null  object \n",
      " 13  IP地址        203 non-null    object \n",
      " 14  我方银行名称      13162 non-null  object \n",
      " 15  对方银行机构代码    10565 non-null  object \n",
      " 16  受理机构代码      9123 non-null   object \n",
      " 17  交易日期        13162 non-null  object \n",
      " 18  借贷标志        13162 non-null  object \n",
      " 19  交易金额        13162 non-null  float64\n",
      " 20  身份证号        13162 non-null  object \n",
      " 21  流水号         13162 non-null  object \n",
      " 22  交易代码（交易渠道）  8841 non-null   object \n",
      " 23  代码描述        0 non-null      object \n",
      " 24  交易是否成功      13162 non-null  object \n",
      "dtypes: float64(4), object(21)\n",
      "memory usage: 2.5+ MB\n"
     ]
    },
    {
     "name": "stderr",
     "output_type": "stream",
     "text": [
      "D:\\soft\\WPy64-3890\\notebooks\\pynbCaseData\\corelibs.py:21: ParserWarning: Both a converter and dtype were specified for column 交易金额 - only the converter will be used\n",
      "  df = excel_file.parse(sheet_name=sheet, header=0, skiprows=0, dtype=str, converters=converters)\n",
      "D:\\soft\\WPy64-3890\\notebooks\\pynbCaseData\\corelibs.py:21: ParserWarning: Both a converter and dtype were specified for column 余额 - only the converter will be used\n",
      "  df = excel_file.parse(sheet_name=sheet, header=0, skiprows=0, dtype=str, converters=converters)\n"
     ]
    }
   ],
   "source": [
    "df = parse_sheet_general(excel_file,0,CONF_DATA['天津银行']['流水'])\n",
    "df.info()"
   ]
  },
  {
   "cell_type": "code",
   "execution_count": 70,
   "id": "4d4dd3c3-1970-422c-be93-c65745a940ac",
   "metadata": {
    "execution": {
     "iopub.execute_input": "2023-12-30T07:55:19.794330Z",
     "iopub.status.busy": "2023-12-30T07:55:19.793330Z",
     "iopub.status.idle": "2023-12-30T07:55:19.854334Z",
     "shell.execute_reply": "2023-12-30T07:55:19.853334Z",
     "shell.execute_reply.started": "2023-12-30T07:55:19.794330Z"
    },
    "scrolled": true,
    "tags": []
   },
   "outputs": [
    {
     "data": {
      "text/plain": [
       "2"
      ]
     },
     "execution_count": 70,
     "metadata": {},
     "output_type": "execute_result"
    }
   ],
   "source": [
    "save_accounts(df, output_dir_path, '天津银行')"
   ]
  },
  {
   "cell_type": "code",
   "execution_count": 100,
   "id": "92fda6d4-086f-4e9e-9de4-67f0f6237807",
   "metadata": {
    "execution": {
     "iopub.execute_input": "2023-12-30T08:40:46.563293Z",
     "iopub.status.busy": "2023-12-30T08:40:46.563293Z",
     "iopub.status.idle": "2023-12-30T08:40:54.175728Z",
     "shell.execute_reply": "2023-12-30T08:40:54.171728Z",
     "shell.execute_reply.started": "2023-12-30T08:40:46.563293Z"
    },
    "tags": []
   },
   "outputs": [
    {
     "name": "stderr",
     "output_type": "stream",
     "text": [
      "100%|██████████████████████████████████████████████████████████████████████████████████| 33/33 [00:07<00:00,  4.36it/s]\n"
     ]
    },
    {
     "data": {
      "text/plain": [
       "13162"
      ]
     },
     "execution_count": 100,
     "metadata": {},
     "output_type": "execute_result"
    }
   ],
   "source": [
    "grouped = df.groupby('账号')\n",
    "df_list = [x.reset_index(drop=True) for _ , x in grouped]\n",
    "save_statements(df_list, output_dir_path, '天津银行',\"hahahahahaaaa\")"
   ]
  },
  {
   "cell_type": "code",
   "execution_count": 20,
   "id": "f5b55f3a-9ee9-4a63-823d-fffe61b5483b",
   "metadata": {
    "execution": {
     "iopub.execute_input": "2023-12-17T01:52:30.121310Z",
     "iopub.status.busy": "2023-12-17T01:52:30.119310Z",
     "iopub.status.idle": "2023-12-17T01:52:30.135311Z",
     "shell.execute_reply": "2023-12-17T01:52:30.133311Z",
     "shell.execute_reply.started": "2023-12-17T01:52:30.121310Z"
    }
   },
   "outputs": [
    {
     "data": {
      "text/plain": [
       "False"
      ]
     },
     "execution_count": 20,
     "metadata": {},
     "output_type": "execute_result"
    }
   ],
   "source": [
    "verify_data(df, CONF_DATA['天津银行']['账户']['verify_cols'])"
   ]
  },
  {
   "cell_type": "code",
   "execution_count": null,
   "id": "5f4d6637-4957-47b4-b37b-8b2269912197",
   "metadata": {
    "tags": []
   },
   "outputs": [],
   "source": [
    "df_list"
   ]
  },
  {
   "cell_type": "code",
   "execution_count": null,
   "id": "29769b03-e8a3-47f6-8cef-83d7ccabde34",
   "metadata": {
    "tags": []
   },
   "outputs": [],
   "source": [
    "open"
   ]
  },
  {
   "cell_type": "markdown",
   "id": "f4a6a4e7-1a20-4a80-9188-a175e4e8ff01",
   "metadata": {},
   "source": [
    "# 执行"
   ]
  },
  {
   "cell_type": "code",
   "execution_count": null,
   "id": "f0868541-8560-4f0c-9ba9-d6c2ff5e43ae",
   "metadata": {
    "tags": []
   },
   "outputs": [],
   "source": [
    "cdid = CONF_DATA['天津银行']['流水']['CDid']\n",
    "_C_crit = df[cdid['CD_col']] == cdid['C']\n",
    "df[cdid['C_col']] = df[cdid['trans_col']][_C_crit]\n",
    "df[cdid['D_col']] = df[cdid['trans_col']][~_C_crit]\n",
    "df"
   ]
  },
  {
   "cell_type": "code",
   "execution_count": null,
   "id": "6ceebcde-eae2-4acf-9975-54eeeeeb537a",
   "metadata": {
    "scrolled": true,
    "tags": []
   },
   "outputs": [],
   "source": [
    "df = excel_file.parse(sheet_name=0, header=0, skiprows=0, nrows=5, dtype=str, converters={'交易金额':float})\n",
    "df.info()"
   ]
  },
  {
   "cell_type": "code",
   "execution_count": 14,
   "id": "7ce7fdd4-0a10-45d6-931a-c18c8f015271",
   "metadata": {
    "execution": {
     "iopub.execute_input": "2023-12-30T06:57:44.081675Z",
     "iopub.status.busy": "2023-12-30T06:57:44.081675Z",
     "iopub.status.idle": "2023-12-30T06:57:44.159679Z",
     "shell.execute_reply": "2023-12-30T06:57:44.159679Z",
     "shell.execute_reply.started": "2023-12-30T06:57:44.081675Z"
    },
    "tags": []
   },
   "outputs": [
    {
     "data": {
      "text/plain": [
       "0        00:00:00\n",
       "1        00:00:00\n",
       "2        00:00:00\n",
       "3        00:00:00\n",
       "4        00:00:00\n",
       "           ...   \n",
       "13157    00:13:32\n",
       "13158    00:15:25\n",
       "13159    00:15:55\n",
       "13160    00:26:51\n",
       "13161    00:28:47\n",
       "Name: 交易日期, Length: 13162, dtype: object"
      ]
     },
     "execution_count": 14,
     "metadata": {},
     "output_type": "execute_result"
    }
   ],
   "source": [
    "pd.to_datetime(df['交易日期']).dt.time"
   ]
  },
  {
   "cell_type": "code",
   "execution_count": 85,
   "id": "5b7c4f3a-3806-48ce-b6a6-d3ab6fe9c761",
   "metadata": {
    "execution": {
     "iopub.execute_input": "2023-12-28T16:00:02.177778Z",
     "iopub.status.busy": "2023-12-28T16:00:02.176778Z",
     "iopub.status.idle": "2023-12-28T16:00:02.200779Z",
     "shell.execute_reply": "2023-12-28T16:00:02.190778Z",
     "shell.execute_reply.started": "2023-12-28T16:00:02.177778Z"
    },
    "tags": []
   },
   "outputs": [
    {
     "data": {
      "text/plain": [
       "{'交易金额': float, '余额': float}"
      ]
     },
     "execution_count": 85,
     "metadata": {},
     "output_type": "execute_result"
    }
   ],
   "source": [
    "converters = {_col:float for _col in CONF_DATA['天津银行']['流水']['amount_cols']}\n",
    "converters"
   ]
  },
  {
   "cell_type": "markdown",
   "id": "e38f6e5b-adc8-499c-95f2-56bf2086b07e",
   "metadata": {},
   "source": [
    "# 杂项"
   ]
  },
  {
   "cell_type": "code",
   "execution_count": 45,
   "id": "da578217-4a5d-4575-890e-370bfd803e7c",
   "metadata": {
    "execution": {
     "iopub.execute_input": "2023-12-30T07:33:57.546990Z",
     "iopub.status.busy": "2023-12-30T07:33:57.545990Z",
     "iopub.status.idle": "2023-12-30T07:33:57.561991Z",
     "shell.execute_reply": "2023-12-30T07:33:57.560991Z",
     "shell.execute_reply.started": "2023-12-30T07:33:57.546990Z"
    },
    "scrolled": true,
    "tags": []
   },
   "outputs": [
    {
     "data": {
      "text/plain": [
       "WindowsPath('E:/张楠/2023赵益华927/银行/天津银行/滨监查询（2023）05217.xls')"
      ]
     },
     "execution_count": 45,
     "metadata": {},
     "output_type": "execute_result"
    }
   ],
   "source": [
    "base_path"
   ]
  },
  {
   "cell_type": "code",
   "execution_count": 93,
   "id": "da2a30e3-28b2-4628-b598-7906f80155a8",
   "metadata": {
    "execution": {
     "iopub.execute_input": "2023-12-30T08:35:13.937268Z",
     "iopub.status.busy": "2023-12-30T08:35:13.936267Z",
     "iopub.status.idle": "2023-12-30T08:35:13.948268Z",
     "shell.execute_reply": "2023-12-30T08:35:13.946268Z",
     "shell.execute_reply.started": "2023-12-30T08:35:13.936267Z"
    },
    "tags": []
   },
   "outputs": [],
   "source": [
    "with open(output_dir_path.joinpath('0查询文号.txt'),'a') as f:\n",
    "    f.write('hahah')"
   ]
  },
  {
   "cell_type": "code",
   "execution_count": 54,
   "id": "dd21d350-1d2c-4fb6-b96b-b2211fdea038",
   "metadata": {
    "execution": {
     "iopub.execute_input": "2023-12-30T07:50:00.279055Z",
     "iopub.status.busy": "2023-12-30T07:50:00.278055Z",
     "iopub.status.idle": "2023-12-30T07:50:00.295056Z",
     "shell.execute_reply": "2023-12-30T07:50:00.294056Z",
     "shell.execute_reply.started": "2023-12-30T07:50:00.279055Z"
    },
    "tags": []
   },
   "outputs": [
    {
     "data": {
      "text/plain": [
       "'hahah_2'"
      ]
     },
     "execution_count": 54,
     "metadata": {},
     "output_type": "execute_result"
    }
   ],
   "source": [
    "'_'.join(['hahah',str (2)])"
   ]
  }
 ],
 "metadata": {
  "kernelspec": {
   "display_name": "Python 3",
   "language": "python",
   "name": "python3"
  },
  "language_info": {
   "codemirror_mode": {
    "name": "ipython",
    "version": 3
   },
   "file_extension": ".py",
   "mimetype": "text/x-python",
   "name": "python",
   "nbconvert_exporter": "python",
   "pygments_lexer": "ipython3",
   "version": "3.8.9"
  },
  "toc-autonumbering": true,
  "toc-showcode": false,
  "toc-showmarkdowntxt": false,
  "toc-showtags": false,
  "widgets": {
   "application/vnd.jupyter.widget-state+json": {
    "state": {},
    "version_major": 2,
    "version_minor": 0
   }
  }
 },
 "nbformat": 4,
 "nbformat_minor": 5
}
