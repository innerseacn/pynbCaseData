{
 "cells": [
  {
   "cell_type": "markdown",
   "id": "9bb29211-2b71-4cf9-bccd-71d98c7742d1",
   "metadata": {
    "extensions": {
     "jupyter_dashboards": {
      "activeView": "grid_default",
      "views": {
       "grid_default": {
        "col": null,
        "height": 2,
        "hidden": true,
        "row": null,
        "width": 2
       }
      }
     }
    }
   },
   "source": [
    "# 加载库函数及导入文件"
   ]
  },
  {
   "cell_type": "code",
   "execution_count": 3,
   "id": "5cb9a494-4ef8-4cbc-949d-d68bf0e617c6",
   "metadata": {},
   "outputs": [
    {
     "ename": "NameError",
     "evalue": "name 'Conf_tpl' is not defined",
     "output_type": "error",
     "traceback": [
      "\u001b[0;31m---------------------------------------------------------------------------\u001b[0m",
      "\u001b[0;31mNameError\u001b[0m                                 Traceback (most recent call last)",
      "File \u001b[0;32m/mnt/d/gitcodes/pynbCaseData/corelibs/corelibs.py:12\u001b[0m\n\u001b[1;32m      6\u001b[0m from hashlib import md5\n\u001b[1;32m      7\u001b[0m from collections import namedtuple\n\u001b[0;32m---> 12\u001b[0m # ===========================================================\n\u001b[1;32m     13\u001b[0m def parse_sheet_general(file_path: pathlib.Path, conf_data: Conf_tpl, sheet=0, header=0) -> pd.DataFrame:\n\u001b[1;32m     14\u001b[0m     \"\"\"分析一般数据sheet：支持sheet中仅含单表，返回dataframe\"\"\"\n",
      "\u001b[0;31mNameError\u001b[0m: name 'Conf_tpl' is not defined"
     ]
    },
    {
     "data": {
      "text/plain": [
       "PosixPath('E:\\\\张楠\\\\测试\\\\output')"
      ]
     },
     "execution_count": 3,
     "metadata": {},
     "output_type": "execute_result"
    }
   ],
   "source": [
    "%run corelibs/config.py\n",
    "%run corelibs/corelibs.py\n",
    "import warnings\n",
    "warnings.filterwarnings('ignore', message=\"Workbook contains no default style, apply openpyxl's default\", category=UserWarning)\n",
    "# import pathlib\n",
    "# import pandas as pd\n",
    "OUTPUT_DIR_PATH = pathlib.Path(r\"E:\\张楠\\测试\\output\")\n",
    "OUTPUT_DIR_PATH"
   ]
  },
  {
   "cell_type": "markdown",
   "id": "47285952-2261-43d5-b3c1-3e8e32808517",
   "metadata": {
    "extensions": {
     "jupyter_dashboards": {
      "activeView": "grid_default",
      "views": {
       "grid_default": {
        "col": null,
        "height": 2,
        "hidden": true,
        "row": null,
        "width": 2
       }
      }
     }
    }
   },
   "source": [
    "# 测试"
   ]
  },
  {
   "cell_type": "markdown",
   "id": "227befc1-bd9e-4c60-9e0d-8de882c00379",
   "metadata": {
    "extensions": {
     "jupyter_dashboards": {
      "activeView": "grid_default",
      "views": {
       "grid_default": {
        "col": null,
        "height": 2,
        "hidden": true,
        "row": null,
        "width": 2
       }
      }
     }
    }
   },
   "source": [
    "## 提取excel表头和md5值"
   ]
  },
  {
   "cell_type": "code",
   "execution_count": 12,
   "id": "f7943cff-43d2-40ff-ad14-1449a1ebde2e",
   "metadata": {
    "execution": {
     "iopub.execute_input": "2024-01-30T06:22:06.370668Z",
     "iopub.status.busy": "2024-01-30T06:22:06.369668Z",
     "iopub.status.idle": "2024-01-30T06:22:07.328723Z",
     "shell.execute_reply": "2024-01-30T06:22:07.328723Z",
     "shell.execute_reply.started": "2024-01-30T06:22:06.370668Z"
    },
    "extensions": {
     "jupyter_dashboards": {
      "activeView": "grid_default",
      "views": {
       "grid_default": {
        "col": null,
        "height": 2,
        "hidden": true,
        "row": null,
        "width": 2
       }
      }
     }
    },
    "tags": []
   },
   "outputs": [
    {
     "name": "stdout",
     "output_type": "stream",
     "text": [
      "('序号', '客户名称', '账号', '币种', '钞汇', '册号', '笔号', '交易日期', '交易时间', '活期存款账户明细号', '交易卡号', '摘要', '借贷方向', '交易金额', '账户余额', '柜员号', '交易机构号', '交易机构名称', '对方账号', '对方户名', '对方行名', '交易流水号', '交易渠道', '自助设备编号', '扩充备注', 'IP地址', 'MAC地址', '第三方订单号', '商户号', '商户名称')\n",
      "Wall time: 951 ms\n"
     ]
    },
    {
     "name": "stderr",
     "output_type": "stream",
     "text": [
      "D:\\soft\\WPy64-3890\\python-3.8.9.amd64\\lib\\site-packages\\openpyxl\\styles\\stylesheet.py:221: UserWarning: Workbook contains no default style, apply openpyxl's default\n",
      "  warn(\"Workbook contains no default style, apply openpyxl's default\")\n"
     ]
    },
    {
     "data": {
      "text/plain": [
       "'8fa9c0776b857793f91335192398aeba'"
      ]
     },
     "execution_count": 12,
     "metadata": {},
     "output_type": "execute_result"
    }
   ],
   "source": [
    "%%time\n",
    "from hashlib import md5\n",
    "acc_file = pathlib.Path(r\"E:\\张楠\\2023赵益华927\\银行\\建行\\第一批 赵益华等9人\\1080861461690963794022777_16_1_watermark.xlsx\")\n",
    "# acc_file = pathlib.Path(r\"E:\\张楠\\2023赵益华927\\银行\\建行\\建行第二次查询7.13\\1080861701689234045070165_1_1田桂芬.xlsx\")\n",
    "# acc_file = pathlib.Path(r\"E:\\张楠\\2023赵益华927\\银行\\天津银行\\滨监查询（2023）05217号.xls\")\n",
    "# acc_file = pathlib.Path(r\"E:\\张楠\\2023赵益华927\\银行\\天津银行\\滨监查询（2023）05217.xls\")\n",
    "print(a := read_header(acc_file))\n",
    "md5(a.encode()).hexdigest()"
   ]
  },
  {
   "cell_type": "markdown",
   "id": "e80b0e3f-d4da-484c-9a45-a88320f80c56",
   "metadata": {
    "extensions": {
     "jupyter_dashboards": {
      "activeView": "grid_default",
      "views": {
       "grid_default": {
        "col": null,
        "height": 2,
        "hidden": true,
        "row": null,
        "width": 2
       }
      }
     }
    }
   },
   "source": [
    "## 测试yaml配置文件语法"
   ]
  },
  {
   "cell_type": "code",
   "execution_count": 18,
   "id": "64d600ca-579b-4f44-9e8f-585c5722395e",
   "metadata": {
    "extensions": {
     "jupyter_dashboards": {
      "activeView": "grid_default",
      "views": {
       "grid_default": {
        "col": null,
        "height": 2,
        "hidden": true,
        "row": null,
        "width": 2
       }
      }
     }
    },
    "tags": []
   },
   "outputs": [],
   "source": [
    "import yaml, pathlib\n",
    "from collections import namedtuple\n",
    "\n",
    "# 加载全局配置文件\n",
    "def load_conf(conf_dir: str) -> dict:\n",
    "    _dir = pathlib.Path(conf_dir)\n",
    "    _result = {}\n",
    "    for _file in _dir.glob('[!#]*.yaml'):\n",
    "        with open(_file, 'r', encoding='utf-8') as f:\n",
    "            _d = yaml.safe_load(f)\n",
    "            _result.update(_d)\n",
    "    return _result\n",
    "\n",
    "CONF_DATA = load_conf('./config.yaml.d')\n"
   ]
  },
  {
   "cell_type": "code",
   "execution_count": null,
   "id": "5e3570bd-0ecb-4ac5-a8de-ae180700eb0d",
   "metadata": {
    "extensions": {
     "jupyter_dashboards": {
      "activeView": "grid_default",
      "views": {
       "grid_default": {
        "col": null,
        "height": 2,
        "hidden": true,
        "row": null,
        "width": 2
       }
      }
     }
    },
    "tags": []
   },
   "outputs": [],
   "source": [
    "CONF_DATA"
   ]
  },
  {
   "cell_type": "markdown",
   "id": "d8fc250a-994c-400c-9257-4df57d019f8d",
   "metadata": {
    "extensions": {
     "jupyter_dashboards": {
      "activeView": "grid_default",
      "views": {
       "grid_default": {
        "col": null,
        "height": 2,
        "hidden": true,
        "row": null,
        "width": 2
       }
      }
     }
    }
   },
   "source": [
    "## 测试配置转换内部操作表示功能"
   ]
  },
  {
   "cell_type": "code",
   "execution_count": null,
   "id": "cc8032ff-8021-4856-a2ee-5dca01608e56",
   "metadata": {
    "extensions": {
     "jupyter_dashboards": {
      "activeView": "grid_default",
      "views": {
       "grid_default": {
        "col": null,
        "height": 2,
        "hidden": true,
        "row": null,
        "width": 2
       }
      }
     }
    },
    "tags": []
   },
   "outputs": [],
   "source": [
    "%run corelibs.py"
   ]
  },
  {
   "cell_type": "code",
   "execution_count": 13,
   "id": "8f73d156-b696-4628-98ae-e90102d921d5",
   "metadata": {
    "extensions": {
     "jupyter_dashboards": {
      "activeView": "grid_default",
      "views": {
       "grid_default": {
        "col": null,
        "height": 2,
        "hidden": true,
        "row": null,
        "width": 2
       }
      }
     }
    },
    "tags": []
   },
   "outputs": [
    {
     "name": "stdout",
     "output_type": "stream",
     "text": [
      "389 ns ± 7 ns per loop (mean ± std. dev. of 7 runs, 1,000,000 loops each)\n"
     ]
    }
   ],
   "source": [
    "%%timeit\n",
    "conf_obj = get_conf_obj('天津银行','账户')"
   ]
  },
  {
   "cell_type": "code",
   "execution_count": null,
   "id": "1ce38e6b-f37e-40fa-b4e7-df08e62f2219",
   "metadata": {
    "extensions": {
     "jupyter_dashboards": {
      "activeView": "grid_default",
      "views": {
       "grid_default": {
        "col": null,
        "height": 2,
        "hidden": true,
        "row": null,
        "width": 2
       }
      }
     }
    },
    "scrolled": true,
    "tags": []
   },
   "outputs": [],
   "source": [
    "conf_obj"
   ]
  },
  {
   "cell_type": "code",
   "execution_count": null,
   "id": "1e1d4c20-2af2-47ca-b659-54805c25e5bd",
   "metadata": {},
   "outputs": [],
   "source": [
    "CONF_TPL_CACHE"
   ]
  },
  {
   "cell_type": "markdown",
   "id": "cc1c51f7-05f4-4f18-a59e-7e75057a0e12",
   "metadata": {
    "extensions": {
     "jupyter_dashboards": {
      "activeView": "grid_default",
      "views": {
       "grid_default": {
        "col": null,
        "height": 2,
        "hidden": true,
        "row": null,
        "width": 2
       }
      }
     }
    }
   },
   "source": [
    "##  测试单个账户文件读取及储存"
   ]
  },
  {
   "cell_type": "code",
   "execution_count": 5,
   "id": "8b93da33-e815-4547-93a2-490566f2aa31",
   "metadata": {
    "extensions": {
     "jupyter_dashboards": {
      "activeView": "grid_default",
      "views": {
       "grid_default": {
        "col": null,
        "height": 2,
        "hidden": true,
        "row": null,
        "width": 2
       }
      }
     }
    },
    "scrolled": true,
    "tags": []
   },
   "outputs": [
    {
     "data": {
      "text/plain": [
       "4"
      ]
     },
     "execution_count": 5,
     "metadata": {},
     "output_type": "execute_result"
    }
   ],
   "source": [
    "%run corelibs.py\n",
    "acc_file = pathlib.Path(r\"E:\\张楠\\2023赵益华927\\银行\\建行\\第一批 赵益华等9人\\1080861461690963794022777_15_1时燕.xlsx\")\n",
    "acc_file = pathlib.Path(r\"E:\\张楠\\2023赵益华927\\银行\\天津银行\\滨监查询（2023）05217.xls\")\n",
    "conf_obj = get_conf_obj('天津银行', '账户')\n",
    "df = parse_sheet_general(acc_file, conf_obj)\n",
    "save_accounts(df, OUTPUT_DIR_PATH, '天津银行')"
   ]
  },
  {
   "cell_type": "code",
   "execution_count": 3,
   "id": "46965849-422f-47e0-9234-8195111a4e4c",
   "metadata": {
    "extensions": {
     "jupyter_dashboards": {
      "activeView": "grid_default",
      "views": {
       "grid_default": {
        "col": null,
        "height": 2,
        "hidden": true,
        "row": null,
        "width": 2
       }
      }
     }
    },
    "tags": []
   },
   "outputs": [],
   "source": [
    "import dtale"
   ]
  },
  {
   "cell_type": "code",
   "execution_count": 4,
   "id": "538eec3c-99bd-4437-8016-7172cf3145e7",
   "metadata": {
    "extensions": {
     "jupyter_dashboards": {
      "activeView": "grid_default",
      "views": {
       "grid_default": {
        "col": null,
        "height": 2,
        "hidden": true,
        "row": null,
        "width": 2
       }
      }
     }
    },
    "tags": []
   },
   "outputs": [
    {
     "data": {
      "text/plain": []
     },
     "execution_count": 4,
     "metadata": {},
     "output_type": "execute_result"
    }
   ],
   "source": [
    "dtale.show(df, open_browser=True)"
   ]
  },
  {
   "cell_type": "markdown",
   "id": "e04e09e8-f459-4ef1-8e78-21129befdfc8",
   "metadata": {
    "extensions": {
     "jupyter_dashboards": {
      "activeView": "grid_default",
      "views": {
       "grid_default": {
        "col": null,
        "height": 2,
        "hidden": true,
        "row": null,
        "width": 2
       }
      }
     }
    }
   },
   "source": [
    "## 测试单个流水文件的读取与储存"
   ]
  },
  {
   "cell_type": "code",
   "execution_count": 7,
   "id": "2e69131f-f611-4d93-858c-1cd5cd890949",
   "metadata": {
    "extensions": {
     "jupyter_dashboards": {
      "activeView": "grid_default",
      "views": {
       "grid_default": {
        "col": null,
        "height": 2,
        "hidden": true,
        "row": null,
        "width": 2
       }
      }
     }
    },
    "tags": []
   },
   "outputs": [
    {
     "name": "stderr",
     "output_type": "stream",
     "text": [
      "D:\\soft\\WPy64-31160\\notebooks\\pynbCaseData\\corelibs.py:119: UserWarning: Could not infer format, so each element will be parsed individually, falling back to `dateutil`. To ensure parsing is consistent and as-expected, please specify a format.\n",
      "  df[_k] = pd.to_datetime(df[_v]).dt.time\n"
     ]
    },
    {
     "data": {
      "text/plain": [
       "9999"
      ]
     },
     "execution_count": 7,
     "metadata": {},
     "output_type": "execute_result"
    }
   ],
   "source": [
    "%run corelibs.py\n",
    "acc_file = pathlib.Path(r\"E:\\张楠\\2023赵益华927\\银行\\建行\\第一批 赵益华等9人\\1080861461690963794022777_16_1_watermark.xlsx\")\n",
    "conf_obj = get_conf_obj('建设银行网点', '流水')\n",
    "df = parse_sheet_general(acc_file, conf_obj)\n",
    "grouped = df.groupby('账号')\n",
    "df_list = [x.reset_index(drop=True) for _ , x in grouped]\n",
    "save_statements(df_list, OUTPUT_DIR_PATH, '建设银行网点', '1111111-11')"
   ]
  },
  {
   "cell_type": "code",
   "execution_count": 15,
   "id": "b78014d0-1161-454a-ac69-917690c8beb4",
   "metadata": {
    "execution": {
     "iopub.execute_input": "2024-02-01T11:02:04.877867Z",
     "iopub.status.busy": "2024-02-01T11:02:04.876867Z",
     "iopub.status.idle": "2024-02-01T11:02:19.852724Z",
     "shell.execute_reply": "2024-02-01T11:02:19.849723Z",
     "shell.execute_reply.started": "2024-02-01T11:02:04.877867Z"
    },
    "extensions": {
     "jupyter_dashboards": {
      "activeView": "grid_default",
      "views": {
       "grid_default": {
        "col": null,
        "height": 2,
        "hidden": true,
        "row": null,
        "width": 2
       }
      }
     }
    },
    "tags": []
   },
   "outputs": [],
   "source": [
    "import dtale"
   ]
  },
  {
   "cell_type": "code",
   "execution_count": 28,
   "id": "46487239-8adb-4a9e-b586-31f941ee8d4b",
   "metadata": {
    "extensions": {
     "jupyter_dashboards": {
      "activeView": "grid_default",
      "views": {
       "grid_default": {
        "col": null,
        "height": 2,
        "hidden": true,
        "row": null,
        "width": 2
       }
      }
     }
    },
    "tags": []
   },
   "outputs": [
    {
     "data": {
      "text/plain": []
     },
     "execution_count": 28,
     "metadata": {},
     "output_type": "execute_result"
    }
   ],
   "source": [
    "dtale.show(df, open_browser=True)"
   ]
  },
  {
   "cell_type": "markdown",
   "id": "f4a6a4e7-1a20-4a80-9188-a175e4e8ff01",
   "metadata": {
    "extensions": {
     "jupyter_dashboards": {
      "activeView": "grid_default",
      "views": {
       "grid_default": {
        "col": null,
        "height": 2,
        "hidden": true,
        "row": null,
        "width": 2
       }
      }
     }
    }
   },
   "source": [
    "# 执行"
   ]
  },
  {
   "cell_type": "markdown",
   "id": "eae19d1b-bb5b-4ad4-b469-2b980ec2f73e",
   "metadata": {
    "extensions": {
     "jupyter_dashboards": {
      "activeView": "grid_default",
      "views": {
       "grid_default": {
        "col": null,
        "height": 2,
        "hidden": true,
        "row": null,
        "width": 2
       }
      }
     }
    }
   },
   "source": [
    "## 分析建设银行网点数据目录\n",
    "（如：开发区金融街建行查询数据）"
   ]
  },
  {
   "cell_type": "code",
   "execution_count": 17,
   "id": "cab897d0-05a2-4e14-a3f4-b9639c5baf18",
   "metadata": {
    "extensions": {
     "jupyter_dashboards": {
      "activeView": "grid_default",
      "views": {
       "grid_default": {
        "col": null,
        "height": 2,
        "hidden": true,
        "row": null,
        "width": 2
       }
      }
     }
    },
    "tags": []
   },
   "outputs": [
    {
     "data": {
      "application/vnd.jupyter.widget-view+json": {
       "model_id": "5489adeb769f45baaa84c96fe5c19b70",
       "version_major": 2,
       "version_minor": 0
      },
      "text/plain": [
       "  0%|          | 0/21 [00:00<?, ?it/s]"
      ]
     },
     "metadata": {},
     "output_type": "display_data"
    },
    {
     "name": "stdout",
     "output_type": "stream",
     "text": [
      "1080861461690963794022777_10_1_watermark.xlsx……"
     ]
    },
    {
     "name": "stderr",
     "output_type": "stream",
     "text": [
      "D:\\soft\\WPy64-31160\\notebooks\\pynbCaseData\\corelibs.py:119: UserWarning: Could not infer format, so each element will be parsed individually, falling back to `dateutil`. To ensure parsing is consistent and as-expected, please specify a format.\n",
      "  df[_k] = pd.to_datetime(df[_v]).dt.time\n"
     ]
    },
    {
     "name": "stdout",
     "output_type": "stream",
     "text": [
      "建设银行网点流水done\n",
      "1080861461690963794022777_11_1权威.xlsx……建设银行网点账户done\n",
      "1080861461690963794022777_12_1_watermark.xlsx……验证未通过，需清洗数据列：交易时间\n",
      "1080861461690963794022777_13_1苏文.xlsx……建设银行网点账户done\n",
      "1080861461690963794022777_14_1_watermark.xlsx……验证未通过，需清洗数据列：交易时间\n",
      "1080861461690963794022777_15_1时燕.xlsx……建设银行网点账户done\n",
      "1080861461690963794022777_161_2_watermark.xlsx……未找到对应配置，跳过\n",
      "1080861461690963794022777_162_3_watermark.xlsx……未找到对应配置，跳过\n",
      "1080861461690963794022777_163_4_watermark.xlsx……未找到对应配置，跳过\n",
      "1080861461690963794022777_16_1_watermark.xlsx……"
     ]
    },
    {
     "name": "stderr",
     "output_type": "stream",
     "text": [
      "D:\\soft\\WPy64-31160\\notebooks\\pynbCaseData\\corelibs.py:119: UserWarning: Could not infer format, so each element will be parsed individually, falling back to `dateutil`. To ensure parsing is consistent and as-expected, please specify a format.\n",
      "  df[_k] = pd.to_datetime(df[_v]).dt.time\n"
     ]
    },
    {
     "name": "stdout",
     "output_type": "stream",
     "text": [
      "建设银行网点流水done\n",
      "1080861461690963794022777_19_1王瑞霞.xlsx……建设银行网点账户done\n",
      "1080861461690963794022777_1_1赵益华.xlsx……建设银行网点账户done\n",
      "1080861461690963794022777_20_1_watermark.xlsx……"
     ]
    },
    {
     "name": "stderr",
     "output_type": "stream",
     "text": [
      "D:\\soft\\WPy64-31160\\notebooks\\pynbCaseData\\corelibs.py:119: UserWarning: Could not infer format, so each element will be parsed individually, falling back to `dateutil`. To ensure parsing is consistent and as-expected, please specify a format.\n",
      "  df[_k] = pd.to_datetime(df[_v]).dt.time\n"
     ]
    },
    {
     "name": "stdout",
     "output_type": "stream",
     "text": [
      "建设银行网点流水done\n",
      "1080861461690963794022777_2_1_watermark.xlsx……验证未通过，需清洗数据列：交易时间\n",
      "1080861461690963794022777_3_1沈鸿飞.xlsx……建设银行网点账户done\n",
      "1080861461690963794022777_4_1_watermark.xlsx……"
     ]
    },
    {
     "name": "stderr",
     "output_type": "stream",
     "text": [
      "D:\\soft\\WPy64-31160\\notebooks\\pynbCaseData\\corelibs.py:119: UserWarning: Could not infer format, so each element will be parsed individually, falling back to `dateutil`. To ensure parsing is consistent and as-expected, please specify a format.\n",
      "  df[_k] = pd.to_datetime(df[_v]).dt.time\n"
     ]
    },
    {
     "name": "stdout",
     "output_type": "stream",
     "text": [
      "建设银行网点流水done\n",
      "1080861461690963794022777_5_1赵凌轩.xlsx……建设银行网点账户done\n",
      "1080861461690963794022777_6_1_watermark.xlsx……建设银行网点流水done\n",
      "1080861461690963794022777_7_1赵子敬.xlsx……"
     ]
    },
    {
     "name": "stderr",
     "output_type": "stream",
     "text": [
      "D:\\soft\\WPy64-31160\\notebooks\\pynbCaseData\\corelibs.py:119: UserWarning: Could not infer format, so each element will be parsed individually, falling back to `dateutil`. To ensure parsing is consistent and as-expected, please specify a format.\n",
      "  df[_k] = pd.to_datetime(df[_v]).dt.time\n"
     ]
    },
    {
     "name": "stdout",
     "output_type": "stream",
     "text": [
      "建设银行网点账户done\n",
      "1080861461690963794022777_8_1_watermark.xlsx……验证未通过，需清洗数据列：借贷方向\n",
      "1080861461690963794022777_9_1陆丽丽.xlsx……建设银行网点账户done\n",
      "以下为发生错误而跳过的文件：\n",
      "1080861461690963794022777_12_1_watermark.xlsx验证未通过，需清洗数据列：交易时间\t\n",
      "1080861461690963794022777_14_1_watermark.xlsx验证未通过，需清洗数据列：交易时间\t\n",
      "1080861461690963794022777_161_2_watermark.xlsx未找到对应配置，跳过\t\n",
      "1080861461690963794022777_162_3_watermark.xlsx未找到对应配置，跳过\t\n",
      "1080861461690963794022777_163_4_watermark.xlsx未找到对应配置，跳过\t\n",
      "1080861461690963794022777_2_1_watermark.xlsx验证未通过，需清洗数据列：交易时间\t\n",
      "1080861461690963794022777_8_1_watermark.xlsx验证未通过，需清洗数据列：借贷方向\t\n"
     ]
    },
    {
     "data": {
      "text/plain": [
       "[None, None, None, None, None, None, None]"
      ]
     },
     "execution_count": 17,
     "metadata": {},
     "output_type": "execute_result"
    }
   ],
   "source": [
    "%run corelibs.py\n",
    "base_dir = pathlib.Path(r\"E:\\张楠\\2023赵益华927\\银行\\建行\\第一批 赵益华等9人\")\n",
    "err_files = process_dir_ccb_branch(base_dir, OUTPUT_DIR_PATH, 'test_ccb_dir')\n",
    "print('以下为发生错误而跳过的文件：')\n",
    "len([print(k.name + v) for k, v in err_files.items()])"
   ]
  },
  {
   "cell_type": "markdown",
   "id": "e38f6e5b-adc8-499c-95f2-56bf2086b07e",
   "metadata": {
    "extensions": {
     "jupyter_dashboards": {
      "activeView": "grid_default",
      "views": {
       "grid_default": {
        "col": null,
        "height": 2,
        "hidden": true,
        "row": null,
        "width": 2
       }
      }
     }
    }
   },
   "source": [
    "# 杂项"
   ]
  },
  {
   "cell_type": "code",
   "execution_count": 48,
   "id": "da578217-4a5d-4575-890e-370bfd803e7c",
   "metadata": {
    "execution": {
     "iopub.execute_input": "2024-01-22T05:27:42.140448Z",
     "iopub.status.busy": "2024-01-22T05:27:42.139448Z",
     "iopub.status.idle": "2024-01-22T05:27:42.163449Z",
     "shell.execute_reply": "2024-01-22T05:27:42.162449Z",
     "shell.execute_reply.started": "2024-01-22T05:27:42.140448Z"
    },
    "extensions": {
     "jupyter_dashboards": {
      "activeView": "grid_default",
      "views": {
       "grid_default": {
        "col": null,
        "height": 2,
        "hidden": true,
        "row": null,
        "width": 2
       }
      }
     }
    },
    "scrolled": true,
    "tags": []
   },
   "outputs": [
    {
     "data": {
      "text/plain": [
       "<function pandas.io.excel._base.read_excel(io, sheet_name=0, header=0, names=None, index_col=None, usecols=None, squeeze=False, dtype=None, engine=None, converters=None, true_values=None, false_values=None, skiprows=None, nrows=None, na_values=None, keep_default_na=True, na_filter=True, verbose=False, parse_dates=False, date_parser=None, thousands=None, comment=None, skipfooter=0, convert_float=True, mangle_dupe_cols=True, storage_options: Union[Dict[str, Any], NoneType] = None)>"
      ]
     },
     "execution_count": 23,
     "metadata": {},
     "output_type": "execute_result"
    }
   ],
   "source": [
    "pd.read_excel"
   ]
  },
  {
   "cell_type": "code",
   "execution_count": 6,
   "id": "da2a30e3-28b2-4628-b598-7906f80155a8",
   "metadata": {
    "execution": {
     "iopub.execute_input": "2024-01-22T11:39:09.944026Z",
     "iopub.status.busy": "2024-01-22T11:39:09.943026Z",
     "iopub.status.idle": "2024-01-22T11:39:09.968027Z",
     "shell.execute_reply": "2024-01-22T11:39:09.965027Z",
     "shell.execute_reply.started": "2024-01-22T11:39:09.944026Z"
    },
    "extensions": {
     "jupyter_dashboards": {
      "activeView": "grid_default",
      "views": {
       "grid_default": {
        "col": null,
        "height": 2,
        "hidden": true,
        "row": null,
        "width": 2
       }
      }
     }
    },
    "tags": []
   },
   "outputs": [
    {
     "data": {
      "text/plain": [
       "3955050809677091182"
      ]
     },
     "execution_count": 24,
     "metadata": {},
     "output_type": "execute_result"
    }
   ],
   "source": [
    "hash(str(['所属银行','证件号码','开户名称','客户账号','卡号','余额','开户日期','开户机构名称','是否开通网易','U盾号','短信捆绑电话','网银电话','地址','邮编','销户日期','销户机构号','销户机构名称','账户状态','我行账号（卡号）','我方银行名称','我方中文名称','身份证号','交易日期','对方账号（卡号）','对方中文名称','对方银行名称','对方银行机构代码','流水号','借贷标志','交易金额','币种','余额','网银IP地址','交易代码（交易渠道）','代码描述','用途（摘要）','受理机构代码','受理机构名称','交易是否成功']))"
   ]
  },
  {
   "cell_type": "code",
   "execution_count": 124,
   "id": "886af4c6-a159-4cc1-9e22-f0c889232c20",
   "metadata": {
    "execution": {
     "iopub.execute_input": "2024-01-13T15:01:59.735713Z",
     "iopub.status.busy": "2024-01-13T15:01:59.733713Z",
     "iopub.status.idle": "2024-01-13T15:01:59.747714Z",
     "shell.execute_reply": "2024-01-13T15:01:59.742714Z",
     "shell.execute_reply.started": "2024-01-13T15:01:59.734713Z"
    },
    "extensions": {
     "jupyter_dashboards": {
      "activeView": "grid_default",
      "views": {
       "grid_default": {
        "col": null,
        "height": 2,
        "hidden": true,
        "row": null,
        "width": 2
       }
      }
     }
    },
    "tags": []
   },
   "outputs": [
    {
     "ename": "TypeError",
     "evalue": "list indices must be integers or slices, not str",
     "output_type": "error",
     "traceback": [
      "\u001b[1;31m---------------------------------------------------------------------------\u001b[0m",
      "\u001b[1;31mTypeError\u001b[0m                                 Traceback (most recent call last)",
      "\u001b[1;32m<ipython-input-25-409b5eb58933>\u001b[0m in \u001b[0;36m<module>\u001b[1;34m\u001b[0m\n\u001b[1;32m----> 1\u001b[1;33m \u001b[0mtype\u001b[0m\u001b[1;33m(\u001b[0m\u001b[0mCONF_DATA\u001b[0m\u001b[1;33m[\u001b[0m\u001b[1;34m'天津银行'\u001b[0m\u001b[1;33m]\u001b[0m\u001b[1;33m[\u001b[0m\u001b[1;34m'流水'\u001b[0m\u001b[1;33m]\u001b[0m\u001b[1;33m[\u001b[0m\u001b[1;34m'时间'\u001b[0m\u001b[1;33m]\u001b[0m\u001b[1;33m[\u001b[0m\u001b[1;34m'交易日期'\u001b[0m\u001b[1;33m]\u001b[0m\u001b[1;33m)\u001b[0m\u001b[1;33m\u001b[0m\u001b[1;33m\u001b[0m\u001b[0m\n\u001b[0m",
      "\u001b[1;31mTypeError\u001b[0m: list indices must be integers or slices, not str"
     ]
    }
   ],
   "source": [
    "type(CONF_DATA['天津银行']['流水']['时间']['交易日期'])"
   ]
  },
  {
   "cell_type": "code",
   "execution_count": null,
   "id": "b38848be-9216-478c-94ba-6a32439c898f",
   "metadata": {
    "extensions": {
     "jupyter_dashboards": {
      "activeView": "grid_default",
      "views": {
       "grid_default": {
        "col": null,
        "height": 2,
        "hidden": true,
        "row": null,
        "width": 2
       }
      }
     }
    },
    "tags": []
   },
   "outputs": [],
   "source": [
    "CONF_DATA['天津银行']['流水']"
   ]
  },
  {
   "cell_type": "code",
   "execution_count": 27,
   "id": "e5f72865-bcd7-467a-953b-1c794bb2b966",
   "metadata": {
    "execution": {
     "iopub.execute_input": "2024-01-17T09:18:33.882740Z",
     "iopub.status.busy": "2024-01-17T09:18:33.881740Z",
     "iopub.status.idle": "2024-01-17T09:18:33.895741Z",
     "shell.execute_reply": "2024-01-17T09:18:33.893741Z",
     "shell.execute_reply.started": "2024-01-17T09:18:33.882740Z"
    },
    "extensions": {
     "jupyter_dashboards": {
      "activeView": "grid_default",
      "views": {
       "grid_default": {
        "col": null,
        "height": 2,
        "hidden": true,
        "row": null,
        "width": 2
       }
      }
     }
    },
    "tags": []
   },
   "outputs": [],
   "source": [
    "print(CONF_DATA.get('哈哈'))"
   ]
  },
  {
   "cell_type": "code",
   "execution_count": 37,
   "id": "3b4f41eb-15a8-4562-a9c5-b2349ae09c22",
   "metadata": {
    "execution": {
     "iopub.execute_input": "2024-01-26T06:09:09.076748Z",
     "iopub.status.busy": "2024-01-26T06:09:09.075748Z",
     "iopub.status.idle": "2024-01-26T06:09:09.085749Z",
     "shell.execute_reply": "2024-01-26T06:09:09.084749Z",
     "shell.execute_reply.started": "2024-01-26T06:09:09.076748Z"
    },
    "extensions": {
     "jupyter_dashboards": {
      "activeView": "grid_default",
      "views": {
       "grid_default": {
        "col": null,
        "height": 2,
        "hidden": true,
        "row": null,
        "width": 2
       }
      }
     }
    },
    "tags": []
   },
   "outputs": [],
   "source": [
    "from itertools import islice\n",
    "a = [3,4,5,6,7,8]\n",
    "b = islice(a,4,5)\n",
    "next(b)"
   ]
  },
  {
   "cell_type": "code",
   "execution_count": null,
   "id": "adf79b1b-33b3-4612-8093-f483e0912567",
   "metadata": {
    "extensions": {
     "jupyter_dashboards": {
      "activeView": "grid_default",
      "views": {
       "grid_default": {
        "col": null,
        "height": 2,
        "hidden": true,
        "row": null,
        "width": 2
       }
      }
     }
    },
    "tags": []
   },
   "outputs": [],
   "source": [
    " list(base_dir.glob('[!~]*.xlsx'))"
   ]
  }
 ],
 "metadata": {
  "extensions": {
   "jupyter_dashboards": {
    "activeView": "grid_default",
    "version": 1,
    "views": {
     "grid_default": {
      "cellMargin": 2,
      "defaultCellHeight": 60,
      "maxColumns": 12,
      "name": "grid",
      "type": "grid"
     }
    }
   }
  },
  "kernelspec": {
   "display_name": "Python 3 (ipykernel)",
   "language": "python",
   "name": "python3"
  },
  "language_info": {
   "codemirror_mode": {
    "name": "ipython",
    "version": 3
   },
   "file_extension": ".py",
   "mimetype": "text/x-python",
   "name": "python",
   "nbconvert_exporter": "python",
   "pygments_lexer": "ipython3",
   "version": "3.11.7"
  },
  "toc-autonumbering": true,
  "toc-showcode": false,
  "toc-showmarkdowntxt": false,
  "toc-showtags": false,
  "widgets": {
   "application/vnd.jupyter.widget-state+json": {
    "state": {
     "0094cd82e4674e8e90e5524c2d236678": {
      "model_module": "@jupyter-widgets/controls",
      "model_module_version": "2.0.0",
      "model_name": "HBoxModel",
      "state": {
       "children": [
        "IPY_MODEL_483190f9ccc34261b5c04cd3a971a2dc",
        "IPY_MODEL_65107c6525e144a4869e8a35d6a70c9f",
        "IPY_MODEL_35d8cd7d616341f4806cf70115cefee0"
       ],
       "layout": "IPY_MODEL_1dddaae2ddd145a1a8ceecb3570f52dc"
      }
     },
     "014db32ac9e84b5fab11398ff24b9139": {
      "model_module": "@jupyter-widgets/controls",
      "model_module_version": "2.0.0",
      "model_name": "FloatProgressModel",
      "state": {
       "bar_style": "success",
       "layout": "IPY_MODEL_dcc17d3596474bbe8a20ec0698158b32",
       "max": 21,
       "style": "IPY_MODEL_0883403fcfe6430c9e33d589c2b79c8b",
       "value": 21
      }
     },
     "014f24ed5e1f4d9a89bf5a88cfb10ea7": {
      "model_module": "@jupyter-widgets/controls",
      "model_module_version": "2.0.0",
      "model_name": "HTMLStyleModel",
      "state": {
       "description_width": "",
       "font_size": null,
       "text_color": null
      }
     },
     "0314c6846e664f7f94e3391e80f32f4e": {
      "model_module": "@jupyter-widgets/controls",
      "model_module_version": "2.0.0",
      "model_name": "ProgressStyleModel",
      "state": {
       "description_width": ""
      }
     },
     "0375a3a4ae4046fd8646068220aacaa4": {
      "model_module": "@jupyter-widgets/base",
      "model_module_version": "2.0.0",
      "model_name": "LayoutModel",
      "state": {}
     },
     "04b1f08214f04f26833f7a44a4c38e82": {
      "model_module": "@jupyter-widgets/base",
      "model_module_version": "2.0.0",
      "model_name": "LayoutModel",
      "state": {}
     },
     "0883403fcfe6430c9e33d589c2b79c8b": {
      "model_module": "@jupyter-widgets/controls",
      "model_module_version": "2.0.0",
      "model_name": "ProgressStyleModel",
      "state": {
       "description_width": ""
      }
     },
     "09435e738deb4a03a07a8f7496f394ff": {
      "model_module": "@jupyter-widgets/controls",
      "model_module_version": "2.0.0",
      "model_name": "HTMLStyleModel",
      "state": {
       "description_width": "",
       "font_size": null,
       "text_color": null
      }
     },
     "09bc23d381ef40698bb7d0471e420b6b": {
      "model_module": "@jupyter-widgets/base",
      "model_module_version": "2.0.0",
      "model_name": "LayoutModel",
      "state": {}
     },
     "0a4fc0889a974a09b2bd7b870a72b256": {
      "model_module": "@jupyter-widgets/base",
      "model_module_version": "2.0.0",
      "model_name": "LayoutModel",
      "state": {}
     },
     "0dca5a2e5f0345b898c7f04885d1aace": {
      "model_module": "@jupyter-widgets/base",
      "model_module_version": "2.0.0",
      "model_name": "LayoutModel",
      "state": {}
     },
     "12cadfcbf7fa42dfb2f700d63960e897": {
      "model_module": "@jupyter-widgets/base",
      "model_module_version": "2.0.0",
      "model_name": "LayoutModel",
      "state": {}
     },
     "1415f7f63ba34e7395288cbae3c96e23": {
      "model_module": "@jupyter-widgets/base",
      "model_module_version": "2.0.0",
      "model_name": "LayoutModel",
      "state": {}
     },
     "1891af0110f846a9a3b643dc9b6170a5": {
      "model_module": "@jupyter-widgets/base",
      "model_module_version": "2.0.0",
      "model_name": "LayoutModel",
      "state": {}
     },
     "1dddaae2ddd145a1a8ceecb3570f52dc": {
      "model_module": "@jupyter-widgets/base",
      "model_module_version": "2.0.0",
      "model_name": "LayoutModel",
      "state": {}
     },
     "23595dc0e4244f5985131a0aa5276a27": {
      "model_module": "@jupyter-widgets/base",
      "model_module_version": "2.0.0",
      "model_name": "LayoutModel",
      "state": {}
     },
     "24a3c39e38e9443d9457c0a9f44e009a": {
      "model_module": "@jupyter-widgets/controls",
      "model_module_version": "2.0.0",
      "model_name": "ProgressStyleModel",
      "state": {
       "description_width": ""
      }
     },
     "25b9663625bc40fba1004743ecac1129": {
      "model_module": "@jupyter-widgets/base",
      "model_module_version": "2.0.0",
      "model_name": "LayoutModel",
      "state": {}
     },
     "25bebbc24881422dbdf6936d4fe96609": {
      "model_module": "@jupyter-widgets/base",
      "model_module_version": "2.0.0",
      "model_name": "LayoutModel",
      "state": {}
     },
     "27ee3cc384e146e6959f8b35d2041f51": {
      "model_module": "@jupyter-widgets/base",
      "model_module_version": "2.0.0",
      "model_name": "LayoutModel",
      "state": {}
     },
     "2a649cf3a61644c8a95eb30638a1d6db": {
      "model_module": "@jupyter-widgets/base",
      "model_module_version": "2.0.0",
      "model_name": "LayoutModel",
      "state": {}
     },
     "2f477ab78b484496bb2c6177efa8fba2": {
      "model_module": "@jupyter-widgets/base",
      "model_module_version": "2.0.0",
      "model_name": "LayoutModel",
      "state": {}
     },
     "307e6f4370fd4fbe9474bdde544e5069": {
      "model_module": "@jupyter-widgets/base",
      "model_module_version": "2.0.0",
      "model_name": "LayoutModel",
      "state": {}
     },
     "322079be830946c0838c50f9e5590437": {
      "model_module": "@jupyter-widgets/base",
      "model_module_version": "2.0.0",
      "model_name": "LayoutModel",
      "state": {}
     },
     "332a29aecad148599746399990161e4a": {
      "model_module": "@jupyter-widgets/base",
      "model_module_version": "2.0.0",
      "model_name": "LayoutModel",
      "state": {}
     },
     "34516f2cdb324e9c96d41ffdd426b397": {
      "model_module": "@jupyter-widgets/controls",
      "model_module_version": "2.0.0",
      "model_name": "HTMLStyleModel",
      "state": {
       "description_width": "",
       "font_size": null,
       "text_color": null
      }
     },
     "34708c23b9504070ae9f39782fe48865": {
      "model_module": "@jupyter-widgets/controls",
      "model_module_version": "2.0.0",
      "model_name": "HBoxModel",
      "state": {
       "children": [
        "IPY_MODEL_c22a55426c3046f1973f5b05369ed1c6",
        "IPY_MODEL_d4b2fbbbd6ec4a258d676393c3fbd11e",
        "IPY_MODEL_9e1a0e479c9d455db4d9343950dbbb5d"
       ],
       "layout": "IPY_MODEL_2f477ab78b484496bb2c6177efa8fba2"
      }
     },
     "350d0bced6ac40b59c4cb64f80c35baf": {
      "model_module": "@jupyter-widgets/controls",
      "model_module_version": "2.0.0",
      "model_name": "FloatProgressModel",
      "state": {
       "bar_style": "success",
       "layout": "IPY_MODEL_8f4f7f45d5ee43d09c6857fe811c3818",
       "max": 21,
       "style": "IPY_MODEL_7c1f7148d6c0491796a91bd61b77225c",
       "value": 21
      }
     },
     "35d8cd7d616341f4806cf70115cefee0": {
      "model_module": "@jupyter-widgets/controls",
      "model_module_version": "2.0.0",
      "model_name": "HTMLModel",
      "state": {
       "layout": "IPY_MODEL_23595dc0e4244f5985131a0aa5276a27",
       "style": "IPY_MODEL_5bfb10b54c5f428d82f18d2204a348a4",
       "value": " 21/21 [00:25&lt;00:00,  2.12it/s]"
      }
     },
     "381b23efc91a4f62897f8dfd8fd0a701": {
      "model_module": "@jupyter-widgets/controls",
      "model_module_version": "2.0.0",
      "model_name": "HTMLModel",
      "state": {
       "layout": "IPY_MODEL_82bed6c30a924b3fac690decf1b07f9c",
       "style": "IPY_MODEL_3f3d18a015f84cd78e0a3283fe72ca4d",
       "value": " 21/21 [00:25&lt;00:00,  2.11it/s]"
      }
     },
     "3adaa1e42fe94127acbfab168d66b1ee": {
      "model_module": "@jupyter-widgets/controls",
      "model_module_version": "2.0.0",
      "model_name": "HTMLModel",
      "state": {
       "layout": "IPY_MODEL_f0ff56e16f4645e59a29f9c8af656297",
       "style": "IPY_MODEL_842510f1b3f141f7bd6851d87df14c9f",
       "value": " 21/21 [00:25&lt;00:00,  2.03it/s]"
      }
     },
     "3d5d8135f9e94ad5a79af1d70ab27227": {
      "model_module": "@jupyter-widgets/controls",
      "model_module_version": "2.0.0",
      "model_name": "FloatProgressModel",
      "state": {
       "bar_style": "danger",
       "layout": "IPY_MODEL_25bebbc24881422dbdf6936d4fe96609",
       "max": 21,
       "style": "IPY_MODEL_86aa2cc5a7e8432bb3cb77c966c18eb5",
       "value": 5
      }
     },
     "3f3d18a015f84cd78e0a3283fe72ca4d": {
      "model_module": "@jupyter-widgets/controls",
      "model_module_version": "2.0.0",
      "model_name": "HTMLStyleModel",
      "state": {
       "description_width": "",
       "font_size": null,
       "text_color": null
      }
     },
     "4154fcd975084273aacde6533f30b43c": {
      "model_module": "@jupyter-widgets/controls",
      "model_module_version": "2.0.0",
      "model_name": "ProgressStyleModel",
      "state": {
       "description_width": ""
      }
     },
     "483190f9ccc34261b5c04cd3a971a2dc": {
      "model_module": "@jupyter-widgets/controls",
      "model_module_version": "2.0.0",
      "model_name": "HTMLModel",
      "state": {
       "layout": "IPY_MODEL_e8fc08d549c149df9c06b5d887c42dda",
       "style": "IPY_MODEL_014f24ed5e1f4d9a89bf5a88cfb10ea7",
       "value": "100%"
      }
     },
     "4bb93751ef0e454ebed6aed77e854412": {
      "model_module": "@jupyter-widgets/base",
      "model_module_version": "2.0.0",
      "model_name": "LayoutModel",
      "state": {}
     },
     "4c24cc3c26a64cc1a8c9b7798d5dd5a9": {
      "model_module": "@jupyter-widgets/controls",
      "model_module_version": "2.0.0",
      "model_name": "ProgressStyleModel",
      "state": {
       "description_width": ""
      }
     },
     "4c9c06aef7254964b06755e989fe1dee": {
      "model_module": "@jupyter-widgets/base",
      "model_module_version": "2.0.0",
      "model_name": "LayoutModel",
      "state": {}
     },
     "4d1d17b84a814a9da79e8c2e90963d33": {
      "model_module": "@jupyter-widgets/base",
      "model_module_version": "2.0.0",
      "model_name": "LayoutModel",
      "state": {}
     },
     "5489adeb769f45baaa84c96fe5c19b70": {
      "model_module": "@jupyter-widgets/controls",
      "model_module_version": "2.0.0",
      "model_name": "HBoxModel",
      "state": {
       "children": [
        "IPY_MODEL_99ca51003a544cb8bc2aa0a78c9f2d7e",
        "IPY_MODEL_99127cdf34f64429b82bf158f380bcf1",
        "IPY_MODEL_617561434f484e908a5d0dee13ecfdce"
       ],
       "layout": "IPY_MODEL_307e6f4370fd4fbe9474bdde544e5069"
      }
     },
     "5593d4ebde6746c392ae9dba9123c370": {
      "model_module": "@jupyter-widgets/base",
      "model_module_version": "2.0.0",
      "model_name": "LayoutModel",
      "state": {}
     },
     "5bfb10b54c5f428d82f18d2204a348a4": {
      "model_module": "@jupyter-widgets/controls",
      "model_module_version": "2.0.0",
      "model_name": "HTMLStyleModel",
      "state": {
       "description_width": "",
       "font_size": null,
       "text_color": null
      }
     },
     "5c944f64abac488e99f9d75fef8e1be2": {
      "model_module": "@jupyter-widgets/controls",
      "model_module_version": "2.0.0",
      "model_name": "HBoxModel",
      "state": {
       "children": [
        "IPY_MODEL_88423dd51b924d73802f3880aca910e7",
        "IPY_MODEL_8d8c35df674b49cd983880714a6a01f9",
        "IPY_MODEL_e8df41ba33614a0c8622ec6b0eb2bfb7"
       ],
       "layout": "IPY_MODEL_739839b3daf84a6abf17b5eee2ddd781"
      }
     },
     "5f7f6ecb8c22492ba4acb7ee54e507b9": {
      "model_module": "@jupyter-widgets/controls",
      "model_module_version": "2.0.0",
      "model_name": "HTMLStyleModel",
      "state": {
       "description_width": "",
       "font_size": null,
       "text_color": null
      }
     },
     "61188b2f5c734a10ac1bad18529eacaa": {
      "model_module": "@jupyter-widgets/controls",
      "model_module_version": "2.0.0",
      "model_name": "HTMLModel",
      "state": {
       "layout": "IPY_MODEL_04b1f08214f04f26833f7a44a4c38e82",
       "style": "IPY_MODEL_d190b7be6a874c878d0068b17bcea0ec",
       "value": " 5/21 [00:05&lt;00:19,  1.22s/it]"
      }
     },
     "617561434f484e908a5d0dee13ecfdce": {
      "model_module": "@jupyter-widgets/controls",
      "model_module_version": "2.0.0",
      "model_name": "HTMLModel",
      "state": {
       "layout": "IPY_MODEL_c041964ebf8b4f399e8965f664bd9dad",
       "style": "IPY_MODEL_bd1e5a39a46a47f0980265c45a53ccf6",
       "value": " 21/21 [00:25&lt;00:00,  2.10it/s]"
      }
     },
     "61f459714a9544798c5a273d3e04628f": {
      "model_module": "@jupyter-widgets/controls",
      "model_module_version": "2.0.0",
      "model_name": "HBoxModel",
      "state": {
       "children": [
        "IPY_MODEL_cb6a5b61cd704564a43a7296361a2429",
        "IPY_MODEL_3d5d8135f9e94ad5a79af1d70ab27227",
        "IPY_MODEL_61188b2f5c734a10ac1bad18529eacaa"
       ],
       "layout": "IPY_MODEL_880f6123c96242f59aa079a52f45b618"
      }
     },
     "65107c6525e144a4869e8a35d6a70c9f": {
      "model_module": "@jupyter-widgets/controls",
      "model_module_version": "2.0.0",
      "model_name": "FloatProgressModel",
      "state": {
       "bar_style": "success",
       "layout": "IPY_MODEL_25b9663625bc40fba1004743ecac1129",
       "max": 21,
       "style": "IPY_MODEL_24a3c39e38e9443d9457c0a9f44e009a",
       "value": 21
      }
     },
     "6a271414cc8d47ab85bc0a59cfbc032f": {
      "model_module": "@jupyter-widgets/controls",
      "model_module_version": "2.0.0",
      "model_name": "HTMLStyleModel",
      "state": {
       "description_width": "",
       "font_size": null,
       "text_color": null
      }
     },
     "6b4b8fd8d61b49f196be520f84cc574a": {
      "model_module": "@jupyter-widgets/controls",
      "model_module_version": "2.0.0",
      "model_name": "ProgressStyleModel",
      "state": {
       "description_width": ""
      }
     },
     "6b758fc089484bf1b6833e70a8e6747f": {
      "model_module": "@jupyter-widgets/base",
      "model_module_version": "2.0.0",
      "model_name": "LayoutModel",
      "state": {}
     },
     "6de9a5a8e1c645e6ac112add40cb948c": {
      "model_module": "@jupyter-widgets/controls",
      "model_module_version": "2.0.0",
      "model_name": "HTMLModel",
      "state": {
       "layout": "IPY_MODEL_1891af0110f846a9a3b643dc9b6170a5",
       "style": "IPY_MODEL_76eb1c304fcb4da49d123ed5d3f482e0",
       "value": " 21/21 [00:25&lt;00:00,  2.12it/s]"
      }
     },
     "6ebe280ba5fc48429c428721a716e605": {
      "model_module": "@jupyter-widgets/controls",
      "model_module_version": "2.0.0",
      "model_name": "HTMLModel",
      "state": {
       "layout": "IPY_MODEL_12cadfcbf7fa42dfb2f700d63960e897",
       "style": "IPY_MODEL_ac4b56cc742e47f59eb8da09823f72b8",
       "value": " 21/21 [00:25&lt;00:00,  2.10it/s]"
      }
     },
     "739839b3daf84a6abf17b5eee2ddd781": {
      "model_module": "@jupyter-widgets/base",
      "model_module_version": "2.0.0",
      "model_name": "LayoutModel",
      "state": {}
     },
     "747012ceab734baeb389fbfc9ec0eebb": {
      "model_module": "@jupyter-widgets/controls",
      "model_module_version": "2.0.0",
      "model_name": "HTMLModel",
      "state": {
       "layout": "IPY_MODEL_ffb19c52a938457b8322aa4dedde3d6b",
       "style": "IPY_MODEL_8a41a87d6ea240f3a571871303a8cc0a",
       "value": "100%"
      }
     },
     "76eb1c304fcb4da49d123ed5d3f482e0": {
      "model_module": "@jupyter-widgets/controls",
      "model_module_version": "2.0.0",
      "model_name": "HTMLStyleModel",
      "state": {
       "description_width": "",
       "font_size": null,
       "text_color": null
      }
     },
     "77a4d522cfd6409fb070703f7d8f27cc": {
      "model_module": "@jupyter-widgets/controls",
      "model_module_version": "2.0.0",
      "model_name": "FloatProgressModel",
      "state": {
       "bar_style": "success",
       "layout": "IPY_MODEL_27ee3cc384e146e6959f8b35d2041f51",
       "max": 21,
       "style": "IPY_MODEL_0314c6846e664f7f94e3391e80f32f4e",
       "value": 21
      }
     },
     "7a98eecd953b41b9808b5cce5a08965f": {
      "model_module": "@jupyter-widgets/controls",
      "model_module_version": "2.0.0",
      "model_name": "HTMLStyleModel",
      "state": {
       "description_width": "",
       "font_size": null,
       "text_color": null
      }
     },
     "7c1f7148d6c0491796a91bd61b77225c": {
      "model_module": "@jupyter-widgets/controls",
      "model_module_version": "2.0.0",
      "model_name": "ProgressStyleModel",
      "state": {
       "description_width": ""
      }
     },
     "8140d6adfe5848dc80dcf50a04bb5d98": {
      "model_module": "@jupyter-widgets/controls",
      "model_module_version": "2.0.0",
      "model_name": "HBoxModel",
      "state": {
       "children": [
        "IPY_MODEL_cea0d9cafb4544f88fc3da79fe3df1af",
        "IPY_MODEL_77a4d522cfd6409fb070703f7d8f27cc",
        "IPY_MODEL_6de9a5a8e1c645e6ac112add40cb948c"
       ],
       "layout": "IPY_MODEL_5593d4ebde6746c392ae9dba9123c370"
      }
     },
     "81909d151b044564ac278e9752e54a07": {
      "model_module": "@jupyter-widgets/controls",
      "model_module_version": "2.0.0",
      "model_name": "HTMLModel",
      "state": {
       "layout": "IPY_MODEL_09bc23d381ef40698bb7d0471e420b6b",
       "style": "IPY_MODEL_6a271414cc8d47ab85bc0a59cfbc032f",
       "value": " 2/21 [00:03&lt;00:05,  3.29it/s]"
      }
     },
     "82bed6c30a924b3fac690decf1b07f9c": {
      "model_module": "@jupyter-widgets/base",
      "model_module_version": "2.0.0",
      "model_name": "LayoutModel",
      "state": {}
     },
     "8315a82f501941ee9bb95f2d062a2f69": {
      "model_module": "@jupyter-widgets/base",
      "model_module_version": "2.0.0",
      "model_name": "LayoutModel",
      "state": {}
     },
     "842510f1b3f141f7bd6851d87df14c9f": {
      "model_module": "@jupyter-widgets/controls",
      "model_module_version": "2.0.0",
      "model_name": "HTMLStyleModel",
      "state": {
       "description_width": "",
       "font_size": null,
       "text_color": null
      }
     },
     "86aa2cc5a7e8432bb3cb77c966c18eb5": {
      "model_module": "@jupyter-widgets/controls",
      "model_module_version": "2.0.0",
      "model_name": "ProgressStyleModel",
      "state": {
       "description_width": ""
      }
     },
     "87ac9da98e52403c95f4f26ff2f47fab": {
      "model_module": "@jupyter-widgets/base",
      "model_module_version": "2.0.0",
      "model_name": "LayoutModel",
      "state": {}
     },
     "880f6123c96242f59aa079a52f45b618": {
      "model_module": "@jupyter-widgets/base",
      "model_module_version": "2.0.0",
      "model_name": "LayoutModel",
      "state": {}
     },
     "88423dd51b924d73802f3880aca910e7": {
      "model_module": "@jupyter-widgets/controls",
      "model_module_version": "2.0.0",
      "model_name": "HTMLModel",
      "state": {
       "layout": "IPY_MODEL_332a29aecad148599746399990161e4a",
       "style": "IPY_MODEL_b073d1b51f6947b0b72501ae527e7ab4",
       "value": "100%"
      }
     },
     "89483d7eecd0451395fa6db3d87e6231": {
      "model_module": "@jupyter-widgets/controls",
      "model_module_version": "2.0.0",
      "model_name": "HBoxModel",
      "state": {
       "children": [
        "IPY_MODEL_9220eb33c83c4885a4884a35055d57fd",
        "IPY_MODEL_ce045237150d4bae853c3f7b3c7a6b35",
        "IPY_MODEL_6ebe280ba5fc48429c428721a716e605"
       ],
       "layout": "IPY_MODEL_87ac9da98e52403c95f4f26ff2f47fab"
      }
     },
     "8a41a87d6ea240f3a571871303a8cc0a": {
      "model_module": "@jupyter-widgets/controls",
      "model_module_version": "2.0.0",
      "model_name": "HTMLStyleModel",
      "state": {
       "description_width": "",
       "font_size": null,
       "text_color": null
      }
     },
     "8b7b4650bc604425bd0151c7013786af": {
      "model_module": "@jupyter-widgets/base",
      "model_module_version": "2.0.0",
      "model_name": "LayoutModel",
      "state": {}
     },
     "8d8c35df674b49cd983880714a6a01f9": {
      "model_module": "@jupyter-widgets/controls",
      "model_module_version": "2.0.0",
      "model_name": "FloatProgressModel",
      "state": {
       "bar_style": "success",
       "layout": "IPY_MODEL_febc5af9e47d48f69508383e74a23cd5",
       "max": 21,
       "style": "IPY_MODEL_ee058ab9e30f4880a4f7238c06839a36",
       "value": 21
      }
     },
     "8f4f7f45d5ee43d09c6857fe811c3818": {
      "model_module": "@jupyter-widgets/base",
      "model_module_version": "2.0.0",
      "model_name": "LayoutModel",
      "state": {}
     },
     "9220eb33c83c4885a4884a35055d57fd": {
      "model_module": "@jupyter-widgets/controls",
      "model_module_version": "2.0.0",
      "model_name": "HTMLModel",
      "state": {
       "layout": "IPY_MODEL_acd6743434cf438ead5f80985d556e1b",
       "style": "IPY_MODEL_5f7f6ecb8c22492ba4acb7ee54e507b9",
       "value": "100%"
      }
     },
     "99127cdf34f64429b82bf158f380bcf1": {
      "model_module": "@jupyter-widgets/controls",
      "model_module_version": "2.0.0",
      "model_name": "FloatProgressModel",
      "state": {
       "bar_style": "success",
       "layout": "IPY_MODEL_4bb93751ef0e454ebed6aed77e854412",
       "max": 21,
       "style": "IPY_MODEL_b2b37c81052d4f89ac9b26b701fe2665",
       "value": 21
      }
     },
     "99ca51003a544cb8bc2aa0a78c9f2d7e": {
      "model_module": "@jupyter-widgets/controls",
      "model_module_version": "2.0.0",
      "model_name": "HTMLModel",
      "state": {
       "layout": "IPY_MODEL_322079be830946c0838c50f9e5590437",
       "style": "IPY_MODEL_09435e738deb4a03a07a8f7496f394ff",
       "value": "100%"
      }
     },
     "9c3f8865848845f68f51d694acb8b54a": {
      "model_module": "@jupyter-widgets/controls",
      "model_module_version": "2.0.0",
      "model_name": "HBoxModel",
      "state": {
       "children": [
        "IPY_MODEL_b965ad79680b47dc83327846c021fbf9",
        "IPY_MODEL_d6b1c851a30743c5bc1c33c6299ab6af",
        "IPY_MODEL_81909d151b044564ac278e9752e54a07"
       ],
       "layout": "IPY_MODEL_8b7b4650bc604425bd0151c7013786af"
      }
     },
     "9cb4e0b5087a4825afe68fdefc4250a3": {
      "model_module": "@jupyter-widgets/base",
      "model_module_version": "2.0.0",
      "model_name": "LayoutModel",
      "state": {}
     },
     "9e1a0e479c9d455db4d9343950dbbb5d": {
      "model_module": "@jupyter-widgets/controls",
      "model_module_version": "2.0.0",
      "model_name": "HTMLModel",
      "state": {
       "layout": "IPY_MODEL_9cb4e0b5087a4825afe68fdefc4250a3",
       "style": "IPY_MODEL_c8154d5d1674467e9f7b3495e758ff2e",
       "value": " 21/21 [00:26&lt;00:00,  2.10it/s]"
      }
     },
     "9ff4f55ab30b45a09d17d0291583ee58": {
      "model_module": "@jupyter-widgets/base",
      "model_module_version": "2.0.0",
      "model_name": "LayoutModel",
      "state": {}
     },
     "a06973741727456891c1e43ef49e47e6": {
      "model_module": "@jupyter-widgets/controls",
      "model_module_version": "2.0.0",
      "model_name": "HBoxModel",
      "state": {
       "children": [
        "IPY_MODEL_f38fecf1acf34622b3ccc31de119e55b",
        "IPY_MODEL_350d0bced6ac40b59c4cb64f80c35baf",
        "IPY_MODEL_3adaa1e42fe94127acbfab168d66b1ee"
       ],
       "layout": "IPY_MODEL_0dca5a2e5f0345b898c7f04885d1aace"
      }
     },
     "a1b4edd68fbc4be093e7de2f0f8ca9f7": {
      "model_module": "@jupyter-widgets/controls",
      "model_module_version": "2.0.0",
      "model_name": "HTMLStyleModel",
      "state": {
       "description_width": "",
       "font_size": null,
       "text_color": null
      }
     },
     "ab6fb616adfd456b933ea17b3e2631b9": {
      "model_module": "@jupyter-widgets/controls",
      "model_module_version": "2.0.0",
      "model_name": "HTMLStyleModel",
      "state": {
       "description_width": "",
       "font_size": null,
       "text_color": null
      }
     },
     "ac4b56cc742e47f59eb8da09823f72b8": {
      "model_module": "@jupyter-widgets/controls",
      "model_module_version": "2.0.0",
      "model_name": "HTMLStyleModel",
      "state": {
       "description_width": "",
       "font_size": null,
       "text_color": null
      }
     },
     "acd6743434cf438ead5f80985d556e1b": {
      "model_module": "@jupyter-widgets/base",
      "model_module_version": "2.0.0",
      "model_name": "LayoutModel",
      "state": {}
     },
     "b073d1b51f6947b0b72501ae527e7ab4": {
      "model_module": "@jupyter-widgets/controls",
      "model_module_version": "2.0.0",
      "model_name": "HTMLStyleModel",
      "state": {
       "description_width": "",
       "font_size": null,
       "text_color": null
      }
     },
     "b2b37c81052d4f89ac9b26b701fe2665": {
      "model_module": "@jupyter-widgets/controls",
      "model_module_version": "2.0.0",
      "model_name": "ProgressStyleModel",
      "state": {
       "description_width": ""
      }
     },
     "b965ad79680b47dc83327846c021fbf9": {
      "model_module": "@jupyter-widgets/controls",
      "model_module_version": "2.0.0",
      "model_name": "HTMLModel",
      "state": {
       "layout": "IPY_MODEL_0a4fc0889a974a09b2bd7b870a72b256",
       "style": "IPY_MODEL_ab6fb616adfd456b933ea17b3e2631b9",
       "value": " 10%"
      }
     },
     "bd1e5a39a46a47f0980265c45a53ccf6": {
      "model_module": "@jupyter-widgets/controls",
      "model_module_version": "2.0.0",
      "model_name": "HTMLStyleModel",
      "state": {
       "description_width": "",
       "font_size": null,
       "text_color": null
      }
     },
     "c041964ebf8b4f399e8965f664bd9dad": {
      "model_module": "@jupyter-widgets/base",
      "model_module_version": "2.0.0",
      "model_name": "LayoutModel",
      "state": {}
     },
     "c22a55426c3046f1973f5b05369ed1c6": {
      "model_module": "@jupyter-widgets/controls",
      "model_module_version": "2.0.0",
      "model_name": "HTMLModel",
      "state": {
       "layout": "IPY_MODEL_f296ab3b243f4af38d59813ee53625ed",
       "style": "IPY_MODEL_ddcd55be1a9b4844b200789555f84da8",
       "value": "100%"
      }
     },
     "c8154d5d1674467e9f7b3495e758ff2e": {
      "model_module": "@jupyter-widgets/controls",
      "model_module_version": "2.0.0",
      "model_name": "HTMLStyleModel",
      "state": {
       "description_width": "",
       "font_size": null,
       "text_color": null
      }
     },
     "cb6a5b61cd704564a43a7296361a2429": {
      "model_module": "@jupyter-widgets/controls",
      "model_module_version": "2.0.0",
      "model_name": "HTMLModel",
      "state": {
       "layout": "IPY_MODEL_4c9c06aef7254964b06755e989fe1dee",
       "style": "IPY_MODEL_a1b4edd68fbc4be093e7de2f0f8ca9f7",
       "value": " 24%"
      }
     },
     "ce045237150d4bae853c3f7b3c7a6b35": {
      "model_module": "@jupyter-widgets/controls",
      "model_module_version": "2.0.0",
      "model_name": "FloatProgressModel",
      "state": {
       "bar_style": "success",
       "layout": "IPY_MODEL_1415f7f63ba34e7395288cbae3c96e23",
       "max": 21,
       "style": "IPY_MODEL_4154fcd975084273aacde6533f30b43c",
       "value": 21
      }
     },
     "cea0d9cafb4544f88fc3da79fe3df1af": {
      "model_module": "@jupyter-widgets/controls",
      "model_module_version": "2.0.0",
      "model_name": "HTMLModel",
      "state": {
       "layout": "IPY_MODEL_9ff4f55ab30b45a09d17d0291583ee58",
       "style": "IPY_MODEL_7a98eecd953b41b9808b5cce5a08965f",
       "value": "100%"
      }
     },
     "d190b7be6a874c878d0068b17bcea0ec": {
      "model_module": "@jupyter-widgets/controls",
      "model_module_version": "2.0.0",
      "model_name": "HTMLStyleModel",
      "state": {
       "description_width": "",
       "font_size": null,
       "text_color": null
      }
     },
     "d4b2fbbbd6ec4a258d676393c3fbd11e": {
      "model_module": "@jupyter-widgets/controls",
      "model_module_version": "2.0.0",
      "model_name": "FloatProgressModel",
      "state": {
       "bar_style": "success",
       "layout": "IPY_MODEL_6b758fc089484bf1b6833e70a8e6747f",
       "max": 21,
       "style": "IPY_MODEL_4c24cc3c26a64cc1a8c9b7798d5dd5a9",
       "value": 21
      }
     },
     "d6b1c851a30743c5bc1c33c6299ab6af": {
      "model_module": "@jupyter-widgets/controls",
      "model_module_version": "2.0.0",
      "model_name": "FloatProgressModel",
      "state": {
       "bar_style": "danger",
       "layout": "IPY_MODEL_0375a3a4ae4046fd8646068220aacaa4",
       "max": 21,
       "style": "IPY_MODEL_6b4b8fd8d61b49f196be520f84cc574a",
       "value": 2
      }
     },
     "dcc17d3596474bbe8a20ec0698158b32": {
      "model_module": "@jupyter-widgets/base",
      "model_module_version": "2.0.0",
      "model_name": "LayoutModel",
      "state": {}
     },
     "ddcd55be1a9b4844b200789555f84da8": {
      "model_module": "@jupyter-widgets/controls",
      "model_module_version": "2.0.0",
      "model_name": "HTMLStyleModel",
      "state": {
       "description_width": "",
       "font_size": null,
       "text_color": null
      }
     },
     "e8df41ba33614a0c8622ec6b0eb2bfb7": {
      "model_module": "@jupyter-widgets/controls",
      "model_module_version": "2.0.0",
      "model_name": "HTMLModel",
      "state": {
       "layout": "IPY_MODEL_8315a82f501941ee9bb95f2d062a2f69",
       "style": "IPY_MODEL_34516f2cdb324e9c96d41ffdd426b397",
       "value": " 21/21 [00:26&lt;00:00,  2.00it/s]"
      }
     },
     "e8fc08d549c149df9c06b5d887c42dda": {
      "model_module": "@jupyter-widgets/base",
      "model_module_version": "2.0.0",
      "model_name": "LayoutModel",
      "state": {}
     },
     "ee058ab9e30f4880a4f7238c06839a36": {
      "model_module": "@jupyter-widgets/controls",
      "model_module_version": "2.0.0",
      "model_name": "ProgressStyleModel",
      "state": {
       "description_width": ""
      }
     },
     "f0ff56e16f4645e59a29f9c8af656297": {
      "model_module": "@jupyter-widgets/base",
      "model_module_version": "2.0.0",
      "model_name": "LayoutModel",
      "state": {}
     },
     "f296ab3b243f4af38d59813ee53625ed": {
      "model_module": "@jupyter-widgets/base",
      "model_module_version": "2.0.0",
      "model_name": "LayoutModel",
      "state": {}
     },
     "f38fecf1acf34622b3ccc31de119e55b": {
      "model_module": "@jupyter-widgets/controls",
      "model_module_version": "2.0.0",
      "model_name": "HTMLModel",
      "state": {
       "layout": "IPY_MODEL_4d1d17b84a814a9da79e8c2e90963d33",
       "style": "IPY_MODEL_f7b590f226c2416f84f77b578b3247a9",
       "value": "100%"
      }
     },
     "f7b590f226c2416f84f77b578b3247a9": {
      "model_module": "@jupyter-widgets/controls",
      "model_module_version": "2.0.0",
      "model_name": "HTMLStyleModel",
      "state": {
       "description_width": "",
       "font_size": null,
       "text_color": null
      }
     },
     "f8570518ae0a4b3b8a546901fb825e19": {
      "model_module": "@jupyter-widgets/controls",
      "model_module_version": "2.0.0",
      "model_name": "HBoxModel",
      "state": {
       "children": [
        "IPY_MODEL_747012ceab734baeb389fbfc9ec0eebb",
        "IPY_MODEL_014db32ac9e84b5fab11398ff24b9139",
        "IPY_MODEL_381b23efc91a4f62897f8dfd8fd0a701"
       ],
       "layout": "IPY_MODEL_2a649cf3a61644c8a95eb30638a1d6db"
      }
     },
     "febc5af9e47d48f69508383e74a23cd5": {
      "model_module": "@jupyter-widgets/base",
      "model_module_version": "2.0.0",
      "model_name": "LayoutModel",
      "state": {}
     },
     "ffb19c52a938457b8322aa4dedde3d6b": {
      "model_module": "@jupyter-widgets/base",
      "model_module_version": "2.0.0",
      "model_name": "LayoutModel",
      "state": {}
     }
    },
    "version_major": 2,
    "version_minor": 0
   }
  }
 },
 "nbformat": 4,
 "nbformat_minor": 5
}
