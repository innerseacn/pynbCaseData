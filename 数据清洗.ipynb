{
 "cells": [
  {
   "cell_type": "markdown",
   "id": "9bb29211-2b71-4cf9-bccd-71d98c7742d1",
   "metadata": {
    "extensions": {
     "jupyter_dashboards": {
      "activeView": "grid_default",
      "views": {
       "grid_default": {
        "col": null,
        "height": 2,
        "hidden": true,
        "row": null,
        "width": 2
       }
      }
     }
    }
   },
   "source": [
    "# 加载库函数及导入文件"
   ]
  },
  {
   "cell_type": "code",
   "execution_count": 44,
   "id": "91c9702d-7a03-4cd0-aa54-51ec596c95d2",
   "metadata": {
    "execution": {
     "iopub.execute_input": "2024-02-01T11:48:52.823472Z",
     "iopub.status.busy": "2024-02-01T11:48:52.823472Z",
     "iopub.status.idle": "2024-02-01T11:48:52.871475Z",
     "shell.execute_reply": "2024-02-01T11:48:52.870475Z",
     "shell.execute_reply.started": "2024-02-01T11:48:52.823472Z"
    },
    "extensions": {
     "jupyter_dashboards": {
      "activeView": "grid_default",
      "views": {
       "grid_default": {
        "col": null,
        "height": 2,
        "hidden": true,
        "row": null,
        "width": 2
       }
      }
     }
    },
    "tags": []
   },
   "outputs": [
    {
     "name": "stdout",
     "output_type": "stream",
     "text": [
      "E:\\张楠\\测试\\output\n"
     ]
    }
   ],
   "source": [
    "%run corelibs.py\n",
    "# import pathlib\n",
    "# import pandas as pd\n",
    "OUTPUT_DIR_PATH = pathlib.Path(r\"E:\\张楠\\测试\\output\")\n",
    "print(output_dir_path)"
   ]
  },
  {
   "cell_type": "markdown",
   "id": "47285952-2261-43d5-b3c1-3e8e32808517",
   "metadata": {
    "extensions": {
     "jupyter_dashboards": {
      "activeView": "grid_default",
      "views": {
       "grid_default": {
        "col": null,
        "height": 2,
        "hidden": true,
        "row": null,
        "width": 2
       }
      }
     }
    }
   },
   "source": [
    "# 测试"
   ]
  },
  {
   "cell_type": "markdown",
   "id": "227befc1-bd9e-4c60-9e0d-8de882c00379",
   "metadata": {
    "extensions": {
     "jupyter_dashboards": {
      "activeView": "grid_default",
      "views": {
       "grid_default": {
        "col": null,
        "height": 2,
        "hidden": true,
        "row": null,
        "width": 2
       }
      }
     }
    }
   },
   "source": [
    "## 提取excel表头和md5值"
   ]
  },
  {
   "cell_type": "code",
   "execution_count": 12,
   "id": "f7943cff-43d2-40ff-ad14-1449a1ebde2e",
   "metadata": {
    "execution": {
     "iopub.execute_input": "2024-01-30T06:22:06.370668Z",
     "iopub.status.busy": "2024-01-30T06:22:06.369668Z",
     "iopub.status.idle": "2024-01-30T06:22:07.328723Z",
     "shell.execute_reply": "2024-01-30T06:22:07.328723Z",
     "shell.execute_reply.started": "2024-01-30T06:22:06.370668Z"
    },
    "extensions": {
     "jupyter_dashboards": {
      "activeView": "grid_default",
      "views": {
       "grid_default": {
        "col": null,
        "height": 2,
        "hidden": true,
        "row": null,
        "width": 2
       }
      }
     }
    },
    "tags": []
   },
   "outputs": [
    {
     "name": "stdout",
     "output_type": "stream",
     "text": [
      "('序号', '客户名称', '账号', '币种', '钞汇', '册号', '笔号', '交易日期', '交易时间', '活期存款账户明细号', '交易卡号', '摘要', '借贷方向', '交易金额', '账户余额', '柜员号', '交易机构号', '交易机构名称', '对方账号', '对方户名', '对方行名', '交易流水号', '交易渠道', '自助设备编号', '扩充备注', 'IP地址', 'MAC地址', '第三方订单号', '商户号', '商户名称')\n",
      "Wall time: 951 ms\n"
     ]
    },
    {
     "name": "stderr",
     "output_type": "stream",
     "text": [
      "D:\\soft\\WPy64-3890\\python-3.8.9.amd64\\lib\\site-packages\\openpyxl\\styles\\stylesheet.py:221: UserWarning: Workbook contains no default style, apply openpyxl's default\n",
      "  warn(\"Workbook contains no default style, apply openpyxl's default\")\n"
     ]
    },
    {
     "data": {
      "text/plain": [
       "'8fa9c0776b857793f91335192398aeba'"
      ]
     },
     "execution_count": 12,
     "metadata": {},
     "output_type": "execute_result"
    }
   ],
   "source": [
    "%%time\n",
    "from hashlib import md5\n",
    "acc_file = pathlib.Path(r\"E:\\张楠\\2023赵益华927\\银行\\建行\\第一批 赵益华等9人\\1080861461690963794022777_16_1_watermark.xlsx\")\n",
    "# acc_file = pathlib.Path(r\"E:\\张楠\\2023赵益华927\\银行\\建行\\建行第二次查询7.13\\1080861701689234045070165_1_1田桂芬.xlsx\")\n",
    "# acc_file = pathlib.Path(r\"E:\\张楠\\2023赵益华927\\银行\\天津银行\\滨监查询（2023）05217号.xls\")\n",
    "# acc_file = pathlib.Path(r\"E:\\张楠\\2023赵益华927\\银行\\天津银行\\滨监查询（2023）05217.xls\")\n",
    "print(a := read_header(acc_file))\n",
    "md5(a.encode()).hexdigest()"
   ]
  },
  {
   "cell_type": "markdown",
   "id": "e80b0e3f-d4da-484c-9a45-a88320f80c56",
   "metadata": {
    "extensions": {
     "jupyter_dashboards": {
      "activeView": "grid_default",
      "views": {
       "grid_default": {
        "col": null,
        "height": 2,
        "hidden": true,
        "row": null,
        "width": 2
       }
      }
     }
    }
   },
   "source": [
    "## 测试yaml配置文件语法"
   ]
  },
  {
   "cell_type": "code",
   "execution_count": 101,
   "id": "64d600ca-579b-4f44-9e8f-585c5722395e",
   "metadata": {
    "execution": {
     "iopub.execute_input": "2024-01-20T12:35:05.011555Z",
     "iopub.status.busy": "2024-01-20T12:35:05.010555Z",
     "iopub.status.idle": "2024-01-20T12:35:05.050557Z",
     "shell.execute_reply": "2024-01-20T12:35:05.049557Z",
     "shell.execute_reply.started": "2024-01-20T12:35:05.011555Z"
    },
    "extensions": {
     "jupyter_dashboards": {
      "activeView": "grid_default",
      "views": {
       "grid_default": {
        "col": null,
        "height": 2,
        "hidden": true,
        "row": null,
        "width": 2
       }
      }
     }
    },
    "tags": []
   },
   "outputs": [],
   "source": [
    "import yaml\n",
    "with open('config.yaml', 'r', encoding='utf-8') as f:\n",
    "    CONF_DATA = yaml.safe_load(f)"
   ]
  },
  {
   "cell_type": "code",
   "execution_count": null,
   "id": "5e3570bd-0ecb-4ac5-a8de-ae180700eb0d",
   "metadata": {
    "extensions": {
     "jupyter_dashboards": {
      "activeView": "grid_default",
      "views": {
       "grid_default": {
        "col": null,
        "height": 2,
        "hidden": true,
        "row": null,
        "width": 2
       }
      }
     }
    },
    "tags": []
   },
   "outputs": [],
   "source": [
    "CONF_DATA"
   ]
  },
  {
   "cell_type": "markdown",
   "id": "d8fc250a-994c-400c-9257-4df57d019f8d",
   "metadata": {
    "extensions": {
     "jupyter_dashboards": {
      "activeView": "grid_default",
      "views": {
       "grid_default": {
        "col": null,
        "height": 2,
        "hidden": true,
        "row": null,
        "width": 2
       }
      }
     }
    }
   },
   "source": [
    "## 测试配置转换内部操作表示功能"
   ]
  },
  {
   "cell_type": "code",
   "execution_count": null,
   "id": "476a9b63-954b-4a42-b068-50965cad2370",
   "metadata": {
    "extensions": {
     "jupyter_dashboards": {
      "activeView": "grid_default",
      "views": {
       "grid_default": {
        "col": null,
        "height": 2,
        "hidden": true,
        "row": null,
        "width": 2
       }
      }
     }
    },
    "tags": []
   },
   "outputs": [],
   "source": [
    "%run corelibs.py\n",
    "conf_obj = creat_conf_obj(CONF_DATA['建设银行网点']['流水'])"
   ]
  },
  {
   "cell_type": "markdown",
   "id": "1364390c-540a-49be-afb4-9ea575886c78",
   "metadata": {
    "extensions": {
     "jupyter_dashboards": {
      "activeView": "grid_default",
      "views": {
       "grid_default": {
        "col": null,
        "height": 2,
        "hidden": true,
        "row": null,
        "width": 2
       }
      }
     }
    },
    "tags": []
   },
   "source": [
    "conf_obj"
   ]
  },
  {
   "cell_type": "markdown",
   "id": "cc1c51f7-05f4-4f18-a59e-7e75057a0e12",
   "metadata": {
    "extensions": {
     "jupyter_dashboards": {
      "activeView": "grid_default",
      "views": {
       "grid_default": {
        "col": null,
        "height": 2,
        "hidden": true,
        "row": null,
        "width": 2
       }
      }
     }
    }
   },
   "source": [
    "##  测试单个账户文件读取及储存"
   ]
  },
  {
   "cell_type": "code",
   "execution_count": 25,
   "id": "8b93da33-e815-4547-93a2-490566f2aa31",
   "metadata": {
    "execution": {
     "iopub.execute_input": "2024-02-01T11:17:30.772825Z",
     "iopub.status.busy": "2024-02-01T11:17:30.770825Z",
     "iopub.status.idle": "2024-02-01T11:17:31.008839Z",
     "shell.execute_reply": "2024-02-01T11:17:31.007839Z",
     "shell.execute_reply.started": "2024-02-01T11:17:30.772825Z"
    },
    "extensions": {
     "jupyter_dashboards": {
      "activeView": "grid_default",
      "views": {
       "grid_default": {
        "col": null,
        "height": 2,
        "hidden": true,
        "row": null,
        "width": 2
       }
      }
     }
    },
    "scrolled": true,
    "tags": []
   },
   "outputs": [],
   "source": [
    "%run corelibs.py\n",
    "acc_file = pathlib.Path(r\"E:\\张楠\\2023赵益华927\\银行\\建行\\第一批 赵益华等9人\\1080861461690963794022777_15_1时燕.xlsx\")\n",
    "df = process_account_file_general(acc_file, OUTPUT_DIR_PATH, '建设银行网点', '账户')"
   ]
  },
  {
   "cell_type": "code",
   "execution_count": null,
   "id": "46965849-422f-47e0-9234-8195111a4e4c",
   "metadata": {
    "execution": {
     "iopub.execute_input": "2024-01-22T04:16:56.998640Z",
     "iopub.status.busy": "2024-01-22T04:16:56.997640Z"
    },
    "extensions": {
     "jupyter_dashboards": {
      "activeView": "grid_default",
      "views": {
       "grid_default": {
        "col": null,
        "height": 2,
        "hidden": true,
        "row": null,
        "width": 2
       }
      }
     }
    },
    "tags": []
   },
   "outputs": [],
   "source": [
    "import dtale"
   ]
  },
  {
   "cell_type": "code",
   "execution_count": 108,
   "id": "538eec3c-99bd-4437-8016-7172cf3145e7",
   "metadata": {
    "execution": {
     "iopub.execute_input": "2024-01-20T12:36:38.056877Z",
     "iopub.status.busy": "2024-01-20T12:36:38.056877Z",
     "iopub.status.idle": "2024-01-20T12:36:39.216943Z",
     "shell.execute_reply": "2024-01-20T12:36:39.215943Z",
     "shell.execute_reply.started": "2024-01-20T12:36:38.056877Z"
    },
    "extensions": {
     "jupyter_dashboards": {
      "activeView": "grid_default",
      "views": {
       "grid_default": {
        "col": null,
        "height": 2,
        "hidden": true,
        "row": null,
        "width": 2
       }
      }
     }
    },
    "tags": []
   },
   "outputs": [
    {
     "data": {
      "text/plain": []
     },
     "execution_count": 17,
     "metadata": {},
     "output_type": "execute_result"
    }
   ],
   "source": [
    "dtale.show(df, open_browser=True)"
   ]
  },
  {
   "cell_type": "markdown",
   "id": "e04e09e8-f459-4ef1-8e78-21129befdfc8",
   "metadata": {
    "extensions": {
     "jupyter_dashboards": {
      "activeView": "grid_default",
      "views": {
       "grid_default": {
        "col": null,
        "height": 2,
        "hidden": true,
        "row": null,
        "width": 2
       }
      }
     }
    }
   },
   "source": [
    "## 测试单个流水文件的读取与储存"
   ]
  },
  {
   "cell_type": "code",
   "execution_count": 39,
   "id": "2e69131f-f611-4d93-858c-1cd5cd890949",
   "metadata": {
    "execution": {
     "iopub.execute_input": "2024-02-01T11:34:44.850971Z",
     "iopub.status.busy": "2024-02-01T11:34:44.849971Z",
     "iopub.status.idle": "2024-02-01T11:34:56.315627Z",
     "shell.execute_reply": "2024-02-01T11:34:56.314627Z",
     "shell.execute_reply.started": "2024-02-01T11:34:44.850971Z"
    },
    "extensions": {
     "jupyter_dashboards": {
      "activeView": "grid_default",
      "views": {
       "grid_default": {
        "col": null,
        "height": 2,
        "hidden": true,
        "row": null,
        "width": 2
       }
      }
     }
    },
    "tags": []
   },
   "outputs": [
    {
     "data": {
      "application/vnd.jupyter.widget-view+json": {
       "model_id": "2c93aea0a3f340f687aeea1f9dbec2a1",
       "version_major": 2,
       "version_minor": 0
      },
      "text/plain": [
       "  0%|          | 0/1 [00:00<?, ?it/s]"
      ]
     },
     "metadata": {},
     "output_type": "display_data"
    }
   ],
   "source": [
    "%run corelibs.py\n",
    "acc_file = pathlib.Path(r\"E:\\张楠\\2023赵益华927\\银行\\建行\\第一批 赵益华等9人\\1080861461690963794022777_16_1_watermark.xlsx\")\n",
    "df = process_statment_file_general(acc_file, OUTPUT_DIR_PATH, '建设银行网点', '流水', '1111111-11')"
   ]
  },
  {
   "cell_type": "code",
   "execution_count": 15,
   "id": "b78014d0-1161-454a-ac69-917690c8beb4",
   "metadata": {
    "execution": {
     "iopub.execute_input": "2024-02-01T11:02:04.877867Z",
     "iopub.status.busy": "2024-02-01T11:02:04.876867Z",
     "iopub.status.idle": "2024-02-01T11:02:19.852724Z",
     "shell.execute_reply": "2024-02-01T11:02:19.849723Z",
     "shell.execute_reply.started": "2024-02-01T11:02:04.877867Z"
    },
    "extensions": {
     "jupyter_dashboards": {
      "activeView": "grid_default",
      "views": {
       "grid_default": {
        "col": null,
        "height": 2,
        "hidden": true,
        "row": null,
        "width": 2
       }
      }
     }
    },
    "tags": []
   },
   "outputs": [],
   "source": [
    "import dtale"
   ]
  },
  {
   "cell_type": "code",
   "execution_count": 16,
   "id": "46487239-8adb-4a9e-b586-31f941ee8d4b",
   "metadata": {
    "execution": {
     "iopub.execute_input": "2024-02-01T11:02:36.830695Z",
     "iopub.status.busy": "2024-02-01T11:02:36.829695Z",
     "iopub.status.idle": "2024-02-01T11:02:39.358839Z",
     "shell.execute_reply": "2024-02-01T11:02:39.351839Z",
     "shell.execute_reply.started": "2024-02-01T11:02:36.829695Z"
    },
    "extensions": {
     "jupyter_dashboards": {
      "activeView": "grid_default",
      "views": {
       "grid_default": {
        "col": null,
        "height": 2,
        "hidden": true,
        "row": null,
        "width": 2
       }
      }
     }
    },
    "tags": []
   },
   "outputs": [
    {
     "data": {
      "text/plain": []
     },
     "execution_count": 16,
     "metadata": {},
     "output_type": "execute_result"
    }
   ],
   "source": [
    "dtale.show(df, open_browser=True)"
   ]
  },
  {
   "cell_type": "markdown",
   "id": "f4a6a4e7-1a20-4a80-9188-a175e4e8ff01",
   "metadata": {
    "extensions": {
     "jupyter_dashboards": {
      "activeView": "grid_default",
      "views": {
       "grid_default": {
        "col": null,
        "height": 2,
        "hidden": true,
        "row": null,
        "width": 2
       }
      }
     }
    }
   },
   "source": [
    "# 执行"
   ]
  },
  {
   "cell_type": "markdown",
   "id": "eae19d1b-bb5b-4ad4-b469-2b980ec2f73e",
   "metadata": {
    "extensions": {
     "jupyter_dashboards": {
      "activeView": "grid_default",
      "views": {
       "grid_default": {
        "col": null,
        "height": 2,
        "hidden": true,
        "row": null,
        "width": 2
       }
      }
     }
    }
   },
   "source": [
    "## 分析建设银行网点数据目录\n",
    "（如：开发区金融街建行查询数据）"
   ]
  },
  {
   "cell_type": "code",
   "execution_count": 43,
   "id": "cab897d0-05a2-4e14-a3f4-b9639c5baf18",
   "metadata": {
    "execution": {
     "iopub.execute_input": "2024-02-01T11:44:42.511155Z",
     "iopub.status.busy": "2024-02-01T11:44:42.510155Z",
     "iopub.status.idle": "2024-02-01T11:44:46.045357Z",
     "shell.execute_reply": "2024-02-01T11:44:46.044357Z",
     "shell.execute_reply.started": "2024-02-01T11:44:42.511155Z"
    },
    "extensions": {
     "jupyter_dashboards": {
      "activeView": "grid_default",
      "views": {
       "grid_default": {
        "col": null,
        "height": 2,
        "hidden": true,
        "row": null,
        "width": 2
       }
      }
     }
    },
    "tags": []
   },
   "outputs": [
    {
     "data": {
      "application/vnd.jupyter.widget-view+json": {
       "model_id": "9af2a55443bb4c69ae0ea49ba7210383",
       "version_major": 2,
       "version_minor": 0
      },
      "text/plain": [
       "  0%|          | 0/21 [00:00<?, ?it/s]"
      ]
     },
     "metadata": {},
     "output_type": "display_data"
    },
    {
     "name": "stdout",
     "output_type": "stream",
     "text": [
      "　　　1080861461690963794022777_10_1_watermark.xlsx……"
     ]
    },
    {
     "data": {
      "application/vnd.jupyter.widget-view+json": {
       "model_id": "cf03353e97294bc184894fd6ad947e89",
       "version_major": 2,
       "version_minor": 0
      },
      "text/plain": [
       "  0%|          | 0/1 [00:00<?, ?it/s]"
      ]
     },
     "metadata": {},
     "output_type": "display_data"
    },
    {
     "name": "stdout",
     "output_type": "stream",
     "text": [
      "建设银行网点流水done\n",
      "　　　1080861461690963794022777_11_1权威.xlsx……建设银行网点账户done\n",
      "　　　1080861461690963794022777_12_1_watermark.xlsx……"
     ]
    },
    {
     "ename": "Exception",
     "evalue": "验证未通过，需清洗数据列：交易时间",
     "output_type": "error",
     "traceback": [
      "\u001b[1;31m---------------------------------------------------------------------------\u001b[0m",
      "\u001b[1;31mException\u001b[0m                                 Traceback (most recent call last)",
      "\u001b[1;32m<ipython-input-43-ee7ade6724b5>\u001b[0m in \u001b[0;36m<module>\u001b[1;34m\u001b[0m\n\u001b[0;32m     37\u001b[0m         \u001b[1;32mraise\u001b[0m \u001b[0mException\u001b[0m\u001b[1;33m(\u001b[0m\u001b[1;34m\"传入的路径不是目录，请传入目录路径，或使用单文件分析\"\u001b[0m\u001b[1;33m)\u001b[0m\u001b[1;33m\u001b[0m\u001b[1;33m\u001b[0m\u001b[0m\n\u001b[0;32m     38\u001b[0m \u001b[1;33m\u001b[0m\u001b[0m\n\u001b[1;32m---> 39\u001b[1;33m \u001b[0mprocess_dir_ccb_branch\u001b[0m\u001b[1;33m(\u001b[0m\u001b[0mbase_dir\u001b[0m\u001b[1;33m,\u001b[0m \u001b[0mOUTPUT_DIR_PATH\u001b[0m\u001b[1;33m,\u001b[0m \u001b[1;34m'test_ccb_dir'\u001b[0m\u001b[1;33m)\u001b[0m\u001b[1;33m\u001b[0m\u001b[1;33m\u001b[0m\u001b[0m\n\u001b[0m",
      "\u001b[1;32m<ipython-input-43-ee7ade6724b5>\u001b[0m in \u001b[0;36mprocess_dir_ccb_branch\u001b[1;34m(dir_path, output_dir, doc_No)\u001b[0m\n\u001b[0;32m     33\u001b[0m         \u001b[1;32mif\u001b[0m \u001b[0m_c\u001b[0m \u001b[1;33m>\u001b[0m \u001b[1;36m1\u001b[0m\u001b[1;33m:\u001b[0m\u001b[1;33m\u001b[0m\u001b[1;33m\u001b[0m\u001b[0m\n\u001b[0;32m     34\u001b[0m             \u001b[1;32mraise\u001b[0m \u001b[0mException\u001b[0m\u001b[1;33m(\u001b[0m\u001b[1;34mf'目录中包含分开保存的同账户流水文件，需要手动合并，文件名第二字段为{_d}'\u001b[0m\u001b[1;33m)\u001b[0m\u001b[1;33m\u001b[0m\u001b[1;33m\u001b[0m\u001b[0m\n\u001b[1;32m---> 35\u001b[1;33m         \u001b[0mprint\u001b[0m\u001b[1;33m(\u001b[0m\u001b[1;34mf'结果：共处理{_process_files_general(_file_names, output_dir, doc_No)}个文件'\u001b[0m\u001b[1;33m)\u001b[0m\u001b[1;33m\u001b[0m\u001b[1;33m\u001b[0m\u001b[0m\n\u001b[0m\u001b[0;32m     36\u001b[0m     \u001b[1;32melse\u001b[0m\u001b[1;33m:\u001b[0m\u001b[1;33m\u001b[0m\u001b[1;33m\u001b[0m\u001b[0m\n\u001b[0;32m     37\u001b[0m         \u001b[1;32mraise\u001b[0m \u001b[0mException\u001b[0m\u001b[1;33m(\u001b[0m\u001b[1;34m\"传入的路径不是目录，请传入目录路径，或使用单文件分析\"\u001b[0m\u001b[1;33m)\u001b[0m\u001b[1;33m\u001b[0m\u001b[1;33m\u001b[0m\u001b[0m\n",
      "\u001b[1;32m<ipython-input-43-ee7ade6724b5>\u001b[0m in \u001b[0;36m_process_files_general\u001b[1;34m(files_list, output_dir, doc_No)\u001b[0m\n\u001b[0;32m     18\u001b[0m             \u001b[1;32melif\u001b[0m \u001b[0m_conf_name\u001b[0m\u001b[1;33m[\u001b[0m\u001b[1;36m1\u001b[0m\u001b[1;33m]\u001b[0m \u001b[1;33m==\u001b[0m \u001b[1;34m'流水'\u001b[0m\u001b[1;33m:\u001b[0m\u001b[1;33m\u001b[0m\u001b[1;33m\u001b[0m\u001b[0m\n\u001b[0;32m     19\u001b[0m                 \u001b[0mprint\u001b[0m\u001b[1;33m(\u001b[0m\u001b[1;34mf'　　　{_file.name}……'\u001b[0m\u001b[1;33m,\u001b[0m \u001b[0mend\u001b[0m\u001b[1;33m=\u001b[0m\u001b[1;34m''\u001b[0m\u001b[1;33m)\u001b[0m\u001b[1;33m\u001b[0m\u001b[1;33m\u001b[0m\u001b[0m\n\u001b[1;32m---> 20\u001b[1;33m                 \u001b[0mprocess_statment_file_general\u001b[0m\u001b[1;33m(\u001b[0m\u001b[0m_file\u001b[0m\u001b[1;33m,\u001b[0m \u001b[0moutput_dir\u001b[0m\u001b[1;33m,\u001b[0m \u001b[0m_conf_name\u001b[0m\u001b[1;33m[\u001b[0m\u001b[1;36m0\u001b[0m\u001b[1;33m]\u001b[0m\u001b[1;33m,\u001b[0m \u001b[1;34m'流水'\u001b[0m\u001b[1;33m,\u001b[0m \u001b[0mdoc_No\u001b[0m\u001b[1;33m)\u001b[0m\u001b[1;33m\u001b[0m\u001b[1;33m\u001b[0m\u001b[0m\n\u001b[0m\u001b[0;32m     21\u001b[0m                 \u001b[0mprint\u001b[0m\u001b[1;33m(\u001b[0m\u001b[1;34mf'{\"\".join(_conf_name)}done'\u001b[0m\u001b[1;33m)\u001b[0m\u001b[1;33m\u001b[0m\u001b[1;33m\u001b[0m\u001b[0m\n\u001b[0;32m     22\u001b[0m             \u001b[1;32melse\u001b[0m\u001b[1;33m:\u001b[0m\u001b[1;33m\u001b[0m\u001b[1;33m\u001b[0m\u001b[0m\n",
      "\u001b[1;32mD:\\soft\\WPy64-3890\\notebooks\\pynbCaseData\\corelibs.py\u001b[0m in \u001b[0;36mprocess_statment_file_general\u001b[1;34m(file, output_dir, conf_lv1, conf_lv2, doc_No)\u001b[0m\n\u001b[0;32m    271\u001b[0m     \u001b[0m_conf_data\u001b[0m \u001b[1;33m=\u001b[0m \u001b[0mCONF_DATA\u001b[0m\u001b[1;33m[\u001b[0m\u001b[0mconf_lv1\u001b[0m\u001b[1;33m]\u001b[0m\u001b[1;33m[\u001b[0m\u001b[0mconf_lv2\u001b[0m\u001b[1;33m]\u001b[0m\u001b[1;33m\u001b[0m\u001b[1;33m\u001b[0m\u001b[0m\n\u001b[0;32m    272\u001b[0m     \u001b[0m_conf_obj\u001b[0m \u001b[1;33m=\u001b[0m \u001b[0mcreat_conf_obj\u001b[0m\u001b[1;33m(\u001b[0m\u001b[0m_conf_data\u001b[0m\u001b[1;33m)\u001b[0m\u001b[1;33m\u001b[0m\u001b[1;33m\u001b[0m\u001b[0m\n\u001b[1;32m--> 273\u001b[1;33m     \u001b[0m_df\u001b[0m \u001b[1;33m=\u001b[0m \u001b[0mparse_sheet_general\u001b[0m\u001b[1;33m(\u001b[0m\u001b[0mfile\u001b[0m\u001b[1;33m,\u001b[0m \u001b[0m_conf_obj\u001b[0m\u001b[1;33m)\u001b[0m\u001b[1;33m\u001b[0m\u001b[1;33m\u001b[0m\u001b[0m\n\u001b[0m\u001b[0;32m    274\u001b[0m     \u001b[0m_grouped\u001b[0m \u001b[1;33m=\u001b[0m \u001b[0m_df\u001b[0m\u001b[1;33m.\u001b[0m\u001b[0mgroupby\u001b[0m\u001b[1;33m(\u001b[0m\u001b[1;34m'账号'\u001b[0m\u001b[1;33m)\u001b[0m\u001b[1;33m\u001b[0m\u001b[1;33m\u001b[0m\u001b[0m\n\u001b[0;32m    275\u001b[0m     \u001b[0m_df_list\u001b[0m \u001b[1;33m=\u001b[0m \u001b[1;33m[\u001b[0m\u001b[0mx\u001b[0m\u001b[1;33m.\u001b[0m\u001b[0mreset_index\u001b[0m\u001b[1;33m(\u001b[0m\u001b[0mdrop\u001b[0m\u001b[1;33m=\u001b[0m\u001b[1;32mTrue\u001b[0m\u001b[1;33m)\u001b[0m \u001b[1;32mfor\u001b[0m \u001b[0m_\u001b[0m \u001b[1;33m,\u001b[0m \u001b[0mx\u001b[0m \u001b[1;32min\u001b[0m \u001b[0m_grouped\u001b[0m\u001b[1;33m]\u001b[0m\u001b[1;33m\u001b[0m\u001b[1;33m\u001b[0m\u001b[0m\n",
      "\u001b[1;32mD:\\soft\\WPy64-3890\\notebooks\\pynbCaseData\\corelibs.py\u001b[0m in \u001b[0;36mparse_sheet_general\u001b[1;34m(file_path, conf_data, sheet, header)\u001b[0m\n\u001b[0;32m     96\u001b[0m     \u001b[1;31m# 列数据处理\u001b[0m\u001b[1;33m\u001b[0m\u001b[1;33m\u001b[0m\u001b[1;33m\u001b[0m\u001b[0m\n\u001b[0;32m     97\u001b[0m     \u001b[1;32mif\u001b[0m \u001b[1;33m(\u001b[0m\u001b[0m_col\u001b[0m \u001b[1;33m:=\u001b[0m \u001b[0mverify_data\u001b[0m\u001b[1;33m(\u001b[0m\u001b[0mdf\u001b[0m\u001b[1;33m,\u001b[0m \u001b[0mconf_data\u001b[0m\u001b[1;33m.\u001b[0m\u001b[0mverify_cols\u001b[0m\u001b[1;33m)\u001b[0m\u001b[1;33m)\u001b[0m \u001b[1;33m!=\u001b[0m \u001b[1;36m0\u001b[0m\u001b[1;33m:\u001b[0m \u001b[1;31m# 执行数据检查\u001b[0m\u001b[1;33m\u001b[0m\u001b[1;33m\u001b[0m\u001b[0m\n\u001b[1;32m---> 98\u001b[1;33m         \u001b[1;32mraise\u001b[0m \u001b[0mException\u001b[0m\u001b[1;33m(\u001b[0m\u001b[1;34mf\"验证未通过，需清洗数据列：{_col}\"\u001b[0m\u001b[1;33m)\u001b[0m \u001b[1;31m# todo: 临时措施\u001b[0m\u001b[1;33m\u001b[0m\u001b[1;33m\u001b[0m\u001b[0m\n\u001b[0m\u001b[0;32m     99\u001b[0m     \u001b[1;32mfor\u001b[0m \u001b[0m_k\u001b[0m\u001b[1;33m,\u001b[0m \u001b[0m_v\u001b[0m \u001b[1;32min\u001b[0m \u001b[0mconf_data\u001b[0m\u001b[1;33m.\u001b[0m\u001b[0mnew_cols\u001b[0m\u001b[1;33m.\u001b[0m\u001b[0mitems\u001b[0m\u001b[1;33m(\u001b[0m\u001b[1;33m)\u001b[0m\u001b[1;33m:\u001b[0m \u001b[1;31m# 执行新列赋值\u001b[0m\u001b[1;33m\u001b[0m\u001b[1;33m\u001b[0m\u001b[0m\n\u001b[0;32m    100\u001b[0m         \u001b[0mdf\u001b[0m\u001b[1;33m[\u001b[0m\u001b[0m_k\u001b[0m\u001b[1;33m]\u001b[0m \u001b[1;33m=\u001b[0m \u001b[0m_v\u001b[0m\u001b[1;33m\u001b[0m\u001b[1;33m\u001b[0m\u001b[0m\n",
      "\u001b[1;31mException\u001b[0m: 验证未通过，需清洗数据列：交易时间"
     ]
    }
   ],
   "source": [
    "%run corelibs.py\n",
    "from collections import Counter\n",
    "from hashlib import md5\n",
    "from tqdm.notebook import tqdm as tqnb\n",
    "\n",
    "base_dir = pathlib.Path(r\"E:\\张楠\\2023赵益华927\\银行\\建行\\第一批 赵益华等9人\")\n",
    "\n",
    "def _process_files_general(files_list: list, output_dir: pathlib.Path, doc_No: str=None) -> int:\n",
    "        for _file in tqnb(files_list):\n",
    "            _header = read_header(_file).encode() # 读取每个文件的表头\n",
    "            _conf_name = HEADER_HASH.get(md5(_header).hexdigest()) # 根据表头md5值找到相应的配置\n",
    "            if _conf_name is None:\n",
    "                print(f'警告：{_file.name}未找到对应配置，跳过')\n",
    "                continue\n",
    "            elif _conf_name[1] == '账户':\n",
    "                print(f'　　　{_file.name}……', end='')\n",
    "                process_account_file_general(_file, output_dir, _conf_name[0], '账户')\n",
    "                print(f'{\"\".join(_conf_name)}done')\n",
    "            elif _conf_name[1] == '流水':\n",
    "                print(f'　　　{_file.name}……', end='')\n",
    "                process_statment_file_general(_file, output_dir, _conf_name[0], '流水', doc_No)\n",
    "                print(f'{\"\".join(_conf_name)}done')\n",
    "            else:\n",
    "                 raise Exception(\"header_hash配置有误\") \n",
    "        return len(files_list)\n",
    "\n",
    "def process_dir_ccb_branch(dir_path: pathlib.Path, output_dir: pathlib.Path, doc_No: str=None) -> None:\n",
    "    \"\"\"\"\"\"\n",
    "    # 分析是否存在因为超过9999条而分文件保存的流水文件\n",
    "    if dir_path.is_dir():\n",
    "        _file_names = list(dir_path.glob('[!~]*.xlsx')) # 找到目录中所有的excel文件（不含子目录）\n",
    "         # 检查是否存在超过9999条的数据（文件名第二字段的数字一样）\n",
    "        _d, _c = Counter(map(lambda x: x.name.split('_')[1], _file_names)).most_common(1)[0]\n",
    "        if _c > 1: \n",
    "            raise Exception(f'目录中包含分开保存的同账户流水文件，需要手动合并，文件名第二字段为{_d}')\n",
    "        print(f'结果：共处理{_process_files_general(_file_names, output_dir, doc_No)}个文件')\n",
    "    else:\n",
    "        raise Exception(\"传入的路径不是目录，请传入目录路径，或使用单文件分析\") \n",
    "\n",
    "process_dir_ccb_branch(base_dir, OUTPUT_DIR_PATH, 'test_ccb_dir')"
   ]
  },
  {
   "cell_type": "markdown",
   "id": "e38f6e5b-adc8-499c-95f2-56bf2086b07e",
   "metadata": {
    "extensions": {
     "jupyter_dashboards": {
      "activeView": "grid_default",
      "views": {
       "grid_default": {
        "col": null,
        "height": 2,
        "hidden": true,
        "row": null,
        "width": 2
       }
      }
     }
    }
   },
   "source": [
    "# 杂项"
   ]
  },
  {
   "cell_type": "code",
   "execution_count": 48,
   "id": "da578217-4a5d-4575-890e-370bfd803e7c",
   "metadata": {
    "execution": {
     "iopub.execute_input": "2024-01-22T05:27:42.140448Z",
     "iopub.status.busy": "2024-01-22T05:27:42.139448Z",
     "iopub.status.idle": "2024-01-22T05:27:42.163449Z",
     "shell.execute_reply": "2024-01-22T05:27:42.162449Z",
     "shell.execute_reply.started": "2024-01-22T05:27:42.140448Z"
    },
    "extensions": {
     "jupyter_dashboards": {
      "activeView": "grid_default",
      "views": {
       "grid_default": {
        "col": null,
        "height": 2,
        "hidden": true,
        "row": null,
        "width": 2
       }
      }
     }
    },
    "scrolled": true,
    "tags": []
   },
   "outputs": [
    {
     "data": {
      "text/plain": [
       "<function pandas.io.excel._base.read_excel(io, sheet_name=0, header=0, names=None, index_col=None, usecols=None, squeeze=False, dtype=None, engine=None, converters=None, true_values=None, false_values=None, skiprows=None, nrows=None, na_values=None, keep_default_na=True, na_filter=True, verbose=False, parse_dates=False, date_parser=None, thousands=None, comment=None, skipfooter=0, convert_float=True, mangle_dupe_cols=True, storage_options: Union[Dict[str, Any], NoneType] = None)>"
      ]
     },
     "execution_count": 23,
     "metadata": {},
     "output_type": "execute_result"
    }
   ],
   "source": [
    "pd.read_excel"
   ]
  },
  {
   "cell_type": "code",
   "execution_count": 6,
   "id": "da2a30e3-28b2-4628-b598-7906f80155a8",
   "metadata": {
    "execution": {
     "iopub.execute_input": "2024-01-22T11:39:09.944026Z",
     "iopub.status.busy": "2024-01-22T11:39:09.943026Z",
     "iopub.status.idle": "2024-01-22T11:39:09.968027Z",
     "shell.execute_reply": "2024-01-22T11:39:09.965027Z",
     "shell.execute_reply.started": "2024-01-22T11:39:09.944026Z"
    },
    "extensions": {
     "jupyter_dashboards": {
      "activeView": "grid_default",
      "views": {
       "grid_default": {
        "col": null,
        "height": 2,
        "hidden": true,
        "row": null,
        "width": 2
       }
      }
     }
    },
    "tags": []
   },
   "outputs": [
    {
     "data": {
      "text/plain": [
       "3955050809677091182"
      ]
     },
     "execution_count": 24,
     "metadata": {},
     "output_type": "execute_result"
    }
   ],
   "source": [
    "hash(str(['所属银行','证件号码','开户名称','客户账号','卡号','余额','开户日期','开户机构名称','是否开通网易','U盾号','短信捆绑电话','网银电话','地址','邮编','销户日期','销户机构号','销户机构名称','账户状态','我行账号（卡号）','我方银行名称','我方中文名称','身份证号','交易日期','对方账号（卡号）','对方中文名称','对方银行名称','对方银行机构代码','流水号','借贷标志','交易金额','币种','余额','网银IP地址','交易代码（交易渠道）','代码描述','用途（摘要）','受理机构代码','受理机构名称','交易是否成功']))"
   ]
  },
  {
   "cell_type": "code",
   "execution_count": 124,
   "id": "886af4c6-a159-4cc1-9e22-f0c889232c20",
   "metadata": {
    "execution": {
     "iopub.execute_input": "2024-01-13T15:01:59.735713Z",
     "iopub.status.busy": "2024-01-13T15:01:59.733713Z",
     "iopub.status.idle": "2024-01-13T15:01:59.747714Z",
     "shell.execute_reply": "2024-01-13T15:01:59.742714Z",
     "shell.execute_reply.started": "2024-01-13T15:01:59.734713Z"
    },
    "extensions": {
     "jupyter_dashboards": {
      "activeView": "grid_default",
      "views": {
       "grid_default": {
        "col": null,
        "height": 2,
        "hidden": true,
        "row": null,
        "width": 2
       }
      }
     }
    },
    "tags": []
   },
   "outputs": [
    {
     "ename": "TypeError",
     "evalue": "list indices must be integers or slices, not str",
     "output_type": "error",
     "traceback": [
      "\u001b[1;31m---------------------------------------------------------------------------\u001b[0m",
      "\u001b[1;31mTypeError\u001b[0m                                 Traceback (most recent call last)",
      "\u001b[1;32m<ipython-input-25-409b5eb58933>\u001b[0m in \u001b[0;36m<module>\u001b[1;34m\u001b[0m\n\u001b[1;32m----> 1\u001b[1;33m \u001b[0mtype\u001b[0m\u001b[1;33m(\u001b[0m\u001b[0mCONF_DATA\u001b[0m\u001b[1;33m[\u001b[0m\u001b[1;34m'天津银行'\u001b[0m\u001b[1;33m]\u001b[0m\u001b[1;33m[\u001b[0m\u001b[1;34m'流水'\u001b[0m\u001b[1;33m]\u001b[0m\u001b[1;33m[\u001b[0m\u001b[1;34m'时间'\u001b[0m\u001b[1;33m]\u001b[0m\u001b[1;33m[\u001b[0m\u001b[1;34m'交易日期'\u001b[0m\u001b[1;33m]\u001b[0m\u001b[1;33m)\u001b[0m\u001b[1;33m\u001b[0m\u001b[1;33m\u001b[0m\u001b[0m\n\u001b[0m",
      "\u001b[1;31mTypeError\u001b[0m: list indices must be integers or slices, not str"
     ]
    }
   ],
   "source": [
    "type(CONF_DATA['天津银行']['流水']['时间']['交易日期'])"
   ]
  },
  {
   "cell_type": "code",
   "execution_count": null,
   "id": "b38848be-9216-478c-94ba-6a32439c898f",
   "metadata": {
    "extensions": {
     "jupyter_dashboards": {
      "activeView": "grid_default",
      "views": {
       "grid_default": {
        "col": null,
        "height": 2,
        "hidden": true,
        "row": null,
        "width": 2
       }
      }
     }
    },
    "tags": []
   },
   "outputs": [],
   "source": [
    "CONF_DATA['天津银行']['流水']"
   ]
  },
  {
   "cell_type": "code",
   "execution_count": 27,
   "id": "e5f72865-bcd7-467a-953b-1c794bb2b966",
   "metadata": {
    "execution": {
     "iopub.execute_input": "2024-01-17T09:18:33.882740Z",
     "iopub.status.busy": "2024-01-17T09:18:33.881740Z",
     "iopub.status.idle": "2024-01-17T09:18:33.895741Z",
     "shell.execute_reply": "2024-01-17T09:18:33.893741Z",
     "shell.execute_reply.started": "2024-01-17T09:18:33.882740Z"
    },
    "extensions": {
     "jupyter_dashboards": {
      "activeView": "grid_default",
      "views": {
       "grid_default": {
        "col": null,
        "height": 2,
        "hidden": true,
        "row": null,
        "width": 2
       }
      }
     }
    },
    "tags": []
   },
   "outputs": [],
   "source": [
    "print(CONF_DATA.get('哈哈'))"
   ]
  },
  {
   "cell_type": "code",
   "execution_count": 37,
   "id": "3b4f41eb-15a8-4562-a9c5-b2349ae09c22",
   "metadata": {
    "execution": {
     "iopub.execute_input": "2024-01-26T06:09:09.076748Z",
     "iopub.status.busy": "2024-01-26T06:09:09.075748Z",
     "iopub.status.idle": "2024-01-26T06:09:09.085749Z",
     "shell.execute_reply": "2024-01-26T06:09:09.084749Z",
     "shell.execute_reply.started": "2024-01-26T06:09:09.076748Z"
    },
    "extensions": {
     "jupyter_dashboards": {
      "activeView": "grid_default",
      "views": {
       "grid_default": {
        "col": null,
        "height": 2,
        "hidden": true,
        "row": null,
        "width": 2
       }
      }
     }
    },
    "tags": []
   },
   "outputs": [],
   "source": [
    "from itertools import islice\n",
    "a = [3,4,5,6,7,8]\n",
    "b = islice(a,4,5)\n",
    "next(b)"
   ]
  },
  {
   "cell_type": "code",
   "execution_count": 34,
   "id": "adf79b1b-33b3-4612-8093-f483e0912567",
   "metadata": {
    "execution": {
     "iopub.execute_input": "2024-01-30T04:04:46.479373Z",
     "iopub.status.busy": "2024-01-30T04:04:46.478373Z",
     "iopub.status.idle": "2024-01-30T04:04:46.485374Z",
     "shell.execute_reply": "2024-01-30T04:04:46.485374Z",
     "shell.execute_reply.started": "2024-01-30T04:04:46.479373Z"
    },
    "extensions": {
     "jupyter_dashboards": {
      "activeView": "grid_default",
      "views": {
       "grid_default": {
        "col": null,
        "height": 2,
        "hidden": true,
        "row": null,
        "width": 2
       }
      }
     }
    },
    "tags": []
   },
   "outputs": [
    {
     "data": {
      "text/plain": [
       "[WindowsPath('E:/张楠/2023赵益华927/银行/建行/第一批 赵益华等9人/1080861461690963794022777_10_1_watermark.xlsx'),\n",
       " WindowsPath('E:/张楠/2023赵益华927/银行/建行/第一批 赵益华等9人/1080861461690963794022777_11_1权威.xlsx'),\n",
       " WindowsPath('E:/张楠/2023赵益华927/银行/建行/第一批 赵益华等9人/1080861461690963794022777_12_1_watermark.xlsx'),\n",
       " WindowsPath('E:/张楠/2023赵益华927/银行/建行/第一批 赵益华等9人/1080861461690963794022777_13_1苏文.xlsx'),\n",
       " WindowsPath('E:/张楠/2023赵益华927/银行/建行/第一批 赵益华等9人/1080861461690963794022777_14_1_watermark.xlsx'),\n",
       " WindowsPath('E:/张楠/2023赵益华927/银行/建行/第一批 赵益华等9人/1080861461690963794022777_15_1时燕.xlsx'),\n",
       " WindowsPath('E:/张楠/2023赵益华927/银行/建行/第一批 赵益华等9人/1080861461690963794022777_161_2_watermark.xlsx'),\n",
       " WindowsPath('E:/张楠/2023赵益华927/银行/建行/第一批 赵益华等9人/1080861461690963794022777_162_3_watermark.xlsx'),\n",
       " WindowsPath('E:/张楠/2023赵益华927/银行/建行/第一批 赵益华等9人/1080861461690963794022777_163_4_watermark.xlsx'),\n",
       " WindowsPath('E:/张楠/2023赵益华927/银行/建行/第一批 赵益华等9人/1080861461690963794022777_16_1_watermark.xlsx'),\n",
       " WindowsPath('E:/张楠/2023赵益华927/银行/建行/第一批 赵益华等9人/1080861461690963794022777_19_1王瑞霞.xlsx'),\n",
       " WindowsPath('E:/张楠/2023赵益华927/银行/建行/第一批 赵益华等9人/1080861461690963794022777_1_1赵益华.xlsx'),\n",
       " WindowsPath('E:/张楠/2023赵益华927/银行/建行/第一批 赵益华等9人/1080861461690963794022777_20_1_watermark.xlsx'),\n",
       " WindowsPath('E:/张楠/2023赵益华927/银行/建行/第一批 赵益华等9人/1080861461690963794022777_2_1_watermark.xlsx'),\n",
       " WindowsPath('E:/张楠/2023赵益华927/银行/建行/第一批 赵益华等9人/1080861461690963794022777_3_1沈鸿飞.xlsx'),\n",
       " WindowsPath('E:/张楠/2023赵益华927/银行/建行/第一批 赵益华等9人/1080861461690963794022777_4_1_watermark.xlsx'),\n",
       " WindowsPath('E:/张楠/2023赵益华927/银行/建行/第一批 赵益华等9人/1080861461690963794022777_5_1赵凌轩.xlsx'),\n",
       " WindowsPath('E:/张楠/2023赵益华927/银行/建行/第一批 赵益华等9人/1080861461690963794022777_6_1_watermark.xlsx'),\n",
       " WindowsPath('E:/张楠/2023赵益华927/银行/建行/第一批 赵益华等9人/1080861461690963794022777_7_1赵子敬.xlsx'),\n",
       " WindowsPath('E:/张楠/2023赵益华927/银行/建行/第一批 赵益华等9人/1080861461690963794022777_8_1_watermark.xlsx'),\n",
       " WindowsPath('E:/张楠/2023赵益华927/银行/建行/第一批 赵益华等9人/1080861461690963794022777_9_1陆丽丽.xlsx')]"
      ]
     },
     "execution_count": 34,
     "metadata": {},
     "output_type": "execute_result"
    }
   ],
   "source": [
    " list(base_dir.glob('[!~]*.xlsx'))"
   ]
  }
 ],
 "metadata": {
  "extensions": {
   "jupyter_dashboards": {
    "activeView": "grid_default",
    "version": 1,
    "views": {
     "grid_default": {
      "cellMargin": 2,
      "defaultCellHeight": 60,
      "maxColumns": 12,
      "name": "grid",
      "type": "grid"
     }
    }
   }
  },
  "kernelspec": {
   "display_name": "Python 3",
   "language": "python",
   "name": "python3"
  },
  "language_info": {
   "codemirror_mode": {
    "name": "ipython",
    "version": 3
   },
   "file_extension": ".py",
   "mimetype": "text/x-python",
   "name": "python",
   "nbconvert_exporter": "python",
   "pygments_lexer": "ipython3",
   "version": "3.8.9"
  },
  "toc-autonumbering": true,
  "toc-showcode": false,
  "toc-showmarkdowntxt": false,
  "toc-showtags": false,
  "widgets": {
   "application/vnd.jupyter.widget-state+json": {
    "state": {
     "01bb9cc0a2a4434bb0c944c6195733eb": {
      "model_module": "@jupyter-widgets/controls",
      "model_module_version": "1.5.0",
      "model_name": "HTMLModel",
      "state": {
       "layout": "IPY_MODEL_b396d89afe014a57984a098c78e10240",
       "style": "IPY_MODEL_920c90a978af454889f16963120206fb",
       "value": "100%"
      }
     },
     "02240527617542a6a8f4512f3b0b4489": {
      "model_module": "@jupyter-widgets/base",
      "model_module_version": "1.2.0",
      "model_name": "LayoutModel",
      "state": {}
     },
     "0b9089099b2f48e1b78718545f4957ca": {
      "model_module": "@jupyter-widgets/controls",
      "model_module_version": "1.5.0",
      "model_name": "FloatProgressModel",
      "state": {
       "bar_style": "success",
       "layout": "IPY_MODEL_a061e51243a8441398653b0b1e0136d9",
       "max": 1,
       "style": "IPY_MODEL_750e2940140c4d3aab08614fb74b6e04",
       "value": 1
      }
     },
     "10fc1681451f423f8ed9e4d3f466a24e": {
      "model_module": "@jupyter-widgets/controls",
      "model_module_version": "1.5.0",
      "model_name": "HTMLModel",
      "state": {
       "layout": "IPY_MODEL_eb7811f7b2494468906190625327bbfb",
       "style": "IPY_MODEL_422f4eb948fb4487b118744205d9104c",
       "value": " 2/21 [00:03&lt;00:06,  2.92it/s]"
      }
     },
     "15b8e264208042e8acfbea5573ca688e": {
      "model_module": "@jupyter-widgets/controls",
      "model_module_version": "1.5.0",
      "model_name": "HTMLModel",
      "state": {
       "layout": "IPY_MODEL_3b879066ee9244019a1cfc72e35e7630",
       "style": "IPY_MODEL_7ca1d0ec0f974d3480c0aa48606aa73f",
       "value": " 1/1 [00:05&lt;00:00,  5.73s/it]"
      }
     },
     "1ec3aeb6894d4ee2a6a1fae6a9090243": {
      "model_module": "@jupyter-widgets/controls",
      "model_module_version": "1.5.0",
      "model_name": "ProgressStyleModel",
      "state": {
       "description_width": ""
      }
     },
     "24d3bfdf26504c048f5771873e8a79c6": {
      "model_module": "@jupyter-widgets/controls",
      "model_module_version": "1.5.0",
      "model_name": "DescriptionStyleModel",
      "state": {
       "description_width": ""
      }
     },
     "283c70b01333403188c5442ad60ba629": {
      "model_module": "@jupyter-widgets/controls",
      "model_module_version": "1.5.0",
      "model_name": "HTMLModel",
      "state": {
       "layout": "IPY_MODEL_02240527617542a6a8f4512f3b0b4489",
       "style": "IPY_MODEL_5f7c9a59235645c09444782bd1895a03",
       "value": " 10%"
      }
     },
     "2889750f9940423ead57071f97dbcfef": {
      "model_module": "@jupyter-widgets/controls",
      "model_module_version": "1.5.0",
      "model_name": "DescriptionStyleModel",
      "state": {
       "description_width": ""
      }
     },
     "2c93aea0a3f340f687aeea1f9dbec2a1": {
      "model_module": "@jupyter-widgets/controls",
      "model_module_version": "1.5.0",
      "model_name": "HBoxModel",
      "state": {
       "children": [
        "IPY_MODEL_336577977d1e417eaf514311a1d8472d",
        "IPY_MODEL_3ac0770af0644961b846039defb569de",
        "IPY_MODEL_5a747750d18b446fb1e1cbe4a6c3a321"
       ],
       "layout": "IPY_MODEL_c95edb12c2b045a0aec683cc97fe8542"
      }
     },
     "336577977d1e417eaf514311a1d8472d": {
      "model_module": "@jupyter-widgets/controls",
      "model_module_version": "1.5.0",
      "model_name": "HTMLModel",
      "state": {
       "layout": "IPY_MODEL_d9c5cde79c9940ddbc0ac66e7ca5da2d",
       "style": "IPY_MODEL_24d3bfdf26504c048f5771873e8a79c6",
       "value": "100%"
      }
     },
     "34e621944ba7452987e88eed8a10636d": {
      "model_module": "@jupyter-widgets/base",
      "model_module_version": "1.2.0",
      "model_name": "LayoutModel",
      "state": {}
     },
     "37d01c40f3084b2592ef75911586096e": {
      "model_module": "@jupyter-widgets/base",
      "model_module_version": "1.2.0",
      "model_name": "LayoutModel",
      "state": {}
     },
     "398dca462f004edca3be04e2c8b424f8": {
      "model_module": "@jupyter-widgets/controls",
      "model_module_version": "1.5.0",
      "model_name": "ProgressStyleModel",
      "state": {
       "description_width": ""
      }
     },
     "3a001bc788c144358101b2f75e1c31c3": {
      "model_module": "@jupyter-widgets/base",
      "model_module_version": "1.2.0",
      "model_name": "LayoutModel",
      "state": {}
     },
     "3ac0770af0644961b846039defb569de": {
      "model_module": "@jupyter-widgets/controls",
      "model_module_version": "1.5.0",
      "model_name": "FloatProgressModel",
      "state": {
       "bar_style": "success",
       "layout": "IPY_MODEL_cedc2ada9571488d81b92971ddbda9be",
       "max": 1,
       "style": "IPY_MODEL_398dca462f004edca3be04e2c8b424f8",
       "value": 1
      }
     },
     "3b879066ee9244019a1cfc72e35e7630": {
      "model_module": "@jupyter-widgets/base",
      "model_module_version": "1.2.0",
      "model_name": "LayoutModel",
      "state": {}
     },
     "3e138013733141ce93d457d558946523": {
      "model_module": "@jupyter-widgets/base",
      "model_module_version": "1.2.0",
      "model_name": "LayoutModel",
      "state": {}
     },
     "422f4eb948fb4487b118744205d9104c": {
      "model_module": "@jupyter-widgets/controls",
      "model_module_version": "1.5.0",
      "model_name": "DescriptionStyleModel",
      "state": {
       "description_width": ""
      }
     },
     "4e8f26b73e8d431a93c423390c0ed086": {
      "model_module": "@jupyter-widgets/base",
      "model_module_version": "1.2.0",
      "model_name": "LayoutModel",
      "state": {}
     },
     "512cee831fe9491da35977704807bab5": {
      "model_module": "@jupyter-widgets/controls",
      "model_module_version": "1.5.0",
      "model_name": "HBoxModel",
      "state": {
       "children": [
        "IPY_MODEL_520e7d9fc7fb44398e4700493505c0c5",
        "IPY_MODEL_0b9089099b2f48e1b78718545f4957ca",
        "IPY_MODEL_e4fb8bf9ff214d9fb5c98820b546b18c"
       ],
       "layout": "IPY_MODEL_ac169ade742845b5ba57072ceca17ccc"
      }
     },
     "520e7d9fc7fb44398e4700493505c0c5": {
      "model_module": "@jupyter-widgets/controls",
      "model_module_version": "1.5.0",
      "model_name": "HTMLModel",
      "state": {
       "layout": "IPY_MODEL_89c11e2e0a0548bfb273d3c363176ce9",
       "style": "IPY_MODEL_f852247f77c8414bb27f256b5edf446e",
       "value": "100%"
      }
     },
     "5a747750d18b446fb1e1cbe4a6c3a321": {
      "model_module": "@jupyter-widgets/controls",
      "model_module_version": "1.5.0",
      "model_name": "HTMLModel",
      "state": {
       "layout": "IPY_MODEL_e98480e9e2874b3b88edc5b6386adee5",
       "style": "IPY_MODEL_cdea3214a3ec4c40a44300d4a084ba36",
       "value": " 1/1 [00:05&lt;00:00,  5.50s/it]"
      }
     },
     "5f7c9a59235645c09444782bd1895a03": {
      "model_module": "@jupyter-widgets/controls",
      "model_module_version": "1.5.0",
      "model_name": "DescriptionStyleModel",
      "state": {
       "description_width": ""
      }
     },
     "65571bd1d5c246b9a80a00dfe64aa516": {
      "model_module": "@jupyter-widgets/controls",
      "model_module_version": "1.5.0",
      "model_name": "ProgressStyleModel",
      "state": {
       "description_width": ""
      }
     },
     "66bc4fc12ab84443be51c6fbc383eb68": {
      "model_module": "@jupyter-widgets/controls",
      "model_module_version": "1.5.0",
      "model_name": "DescriptionStyleModel",
      "state": {
       "description_width": ""
      }
     },
     "6c196ba1fb0547c48b401fd35120c85d": {
      "model_module": "@jupyter-widgets/base",
      "model_module_version": "1.2.0",
      "model_name": "LayoutModel",
      "state": {}
     },
     "733acc81dbed45b999f90d6b1fee3428": {
      "model_module": "@jupyter-widgets/controls",
      "model_module_version": "1.5.0",
      "model_name": "HTMLModel",
      "state": {
       "layout": "IPY_MODEL_a96ecff1698d4c7aa74634cefd904318",
       "style": "IPY_MODEL_2889750f9940423ead57071f97dbcfef",
       "value": " 1/1 [00:00&lt;00:00,  5.99it/s]"
      }
     },
     "750e2940140c4d3aab08614fb74b6e04": {
      "model_module": "@jupyter-widgets/controls",
      "model_module_version": "1.5.0",
      "model_name": "ProgressStyleModel",
      "state": {
       "description_width": ""
      }
     },
     "7ca1d0ec0f974d3480c0aa48606aa73f": {
      "model_module": "@jupyter-widgets/controls",
      "model_module_version": "1.5.0",
      "model_name": "DescriptionStyleModel",
      "state": {
       "description_width": ""
      }
     },
     "86e1cfe1d4fb43a199567a8a6b04fd2c": {
      "model_module": "@jupyter-widgets/controls",
      "model_module_version": "1.5.0",
      "model_name": "ProgressStyleModel",
      "state": {
       "description_width": ""
      }
     },
     "87090435f13946f38f0eaef4a68e91fd": {
      "model_module": "@jupyter-widgets/controls",
      "model_module_version": "1.5.0",
      "model_name": "HBoxModel",
      "state": {
       "children": [
        "IPY_MODEL_f37c3790901d4917b4f4528075a19b12",
        "IPY_MODEL_ca9d216e77e2447b8a9e8f3dd3b1be3c",
        "IPY_MODEL_15b8e264208042e8acfbea5573ca688e"
       ],
       "layout": "IPY_MODEL_6c196ba1fb0547c48b401fd35120c85d"
      }
     },
     "89c11e2e0a0548bfb273d3c363176ce9": {
      "model_module": "@jupyter-widgets/base",
      "model_module_version": "1.2.0",
      "model_name": "LayoutModel",
      "state": {}
     },
     "8ffb34c2b5c94746be5aba2ba9fdd1d0": {
      "model_module": "@jupyter-widgets/controls",
      "model_module_version": "1.5.0",
      "model_name": "FloatProgressModel",
      "state": {
       "bar_style": "danger",
       "layout": "IPY_MODEL_f4676fd4789b42478b19b40b3bad1dc7",
       "max": 21,
       "style": "IPY_MODEL_1ec3aeb6894d4ee2a6a1fae6a9090243",
       "value": 2
      }
     },
     "920c90a978af454889f16963120206fb": {
      "model_module": "@jupyter-widgets/controls",
      "model_module_version": "1.5.0",
      "model_name": "DescriptionStyleModel",
      "state": {
       "description_width": ""
      }
     },
     "94c6f224acd14f349360e031519e14f1": {
      "model_module": "@jupyter-widgets/controls",
      "model_module_version": "1.5.0",
      "model_name": "FloatProgressModel",
      "state": {
       "bar_style": "success",
       "layout": "IPY_MODEL_34e621944ba7452987e88eed8a10636d",
       "max": 1,
       "style": "IPY_MODEL_86e1cfe1d4fb43a199567a8a6b04fd2c",
       "value": 1
      }
     },
     "9af2a55443bb4c69ae0ea49ba7210383": {
      "model_module": "@jupyter-widgets/controls",
      "model_module_version": "1.5.0",
      "model_name": "HBoxModel",
      "state": {
       "children": [
        "IPY_MODEL_9b18b548b21b47779d448f2f81ed0809",
        "IPY_MODEL_d36340e565a147b2bea3cb6c4d4276b4",
        "IPY_MODEL_e4b6d900f57646969b0547473a6ffc47"
       ],
       "layout": "IPY_MODEL_d365990c55404f21885ad817cb0d4c8d"
      }
     },
     "9b18b548b21b47779d448f2f81ed0809": {
      "model_module": "@jupyter-widgets/controls",
      "model_module_version": "1.5.0",
      "model_name": "HTMLModel",
      "state": {
       "layout": "IPY_MODEL_f6862b1327ad46d2b8a59fef45e7fc32",
       "style": "IPY_MODEL_a3f7b1ec8cc34122850c341eaca1d8f8",
       "value": " 10%"
      }
     },
     "a061e51243a8441398653b0b1e0136d9": {
      "model_module": "@jupyter-widgets/base",
      "model_module_version": "1.2.0",
      "model_name": "LayoutModel",
      "state": {}
     },
     "a3f7b1ec8cc34122850c341eaca1d8f8": {
      "model_module": "@jupyter-widgets/controls",
      "model_module_version": "1.5.0",
      "model_name": "DescriptionStyleModel",
      "state": {
       "description_width": ""
      }
     },
     "a96ecff1698d4c7aa74634cefd904318": {
      "model_module": "@jupyter-widgets/base",
      "model_module_version": "1.2.0",
      "model_name": "LayoutModel",
      "state": {}
     },
     "ac169ade742845b5ba57072ceca17ccc": {
      "model_module": "@jupyter-widgets/base",
      "model_module_version": "1.2.0",
      "model_name": "LayoutModel",
      "state": {}
     },
     "adea02f5654542f08f2abce25bc513f5": {
      "model_module": "@jupyter-widgets/base",
      "model_module_version": "1.2.0",
      "model_name": "LayoutModel",
      "state": {}
     },
     "b396d89afe014a57984a098c78e10240": {
      "model_module": "@jupyter-widgets/base",
      "model_module_version": "1.2.0",
      "model_name": "LayoutModel",
      "state": {}
     },
     "bf41601431044fdfab3e301e88bf6b5b": {
      "model_module": "@jupyter-widgets/controls",
      "model_module_version": "1.5.0",
      "model_name": "DescriptionStyleModel",
      "state": {
       "description_width": ""
      }
     },
     "c67ab94d659e4687959418734c2fb88b": {
      "model_module": "@jupyter-widgets/controls",
      "model_module_version": "1.5.0",
      "model_name": "ProgressStyleModel",
      "state": {
       "description_width": ""
      }
     },
     "c95edb12c2b045a0aec683cc97fe8542": {
      "model_module": "@jupyter-widgets/base",
      "model_module_version": "1.2.0",
      "model_name": "LayoutModel",
      "state": {}
     },
     "ca9d216e77e2447b8a9e8f3dd3b1be3c": {
      "model_module": "@jupyter-widgets/controls",
      "model_module_version": "1.5.0",
      "model_name": "FloatProgressModel",
      "state": {
       "bar_style": "success",
       "layout": "IPY_MODEL_adea02f5654542f08f2abce25bc513f5",
       "max": 1,
       "style": "IPY_MODEL_c67ab94d659e4687959418734c2fb88b",
       "value": 1
      }
     },
     "cc3b69e700ff41af8b0262d9c9a47282": {
      "model_module": "@jupyter-widgets/base",
      "model_module_version": "1.2.0",
      "model_name": "LayoutModel",
      "state": {}
     },
     "cdea3214a3ec4c40a44300d4a084ba36": {
      "model_module": "@jupyter-widgets/controls",
      "model_module_version": "1.5.0",
      "model_name": "DescriptionStyleModel",
      "state": {
       "description_width": ""
      }
     },
     "cedc2ada9571488d81b92971ddbda9be": {
      "model_module": "@jupyter-widgets/base",
      "model_module_version": "1.2.0",
      "model_name": "LayoutModel",
      "state": {}
     },
     "cf03353e97294bc184894fd6ad947e89": {
      "model_module": "@jupyter-widgets/controls",
      "model_module_version": "1.5.0",
      "model_name": "HBoxModel",
      "state": {
       "children": [
        "IPY_MODEL_01bb9cc0a2a4434bb0c944c6195733eb",
        "IPY_MODEL_94c6f224acd14f349360e031519e14f1",
        "IPY_MODEL_733acc81dbed45b999f90d6b1fee3428"
       ],
       "layout": "IPY_MODEL_4e8f26b73e8d431a93c423390c0ed086"
      }
     },
     "d36340e565a147b2bea3cb6c4d4276b4": {
      "model_module": "@jupyter-widgets/controls",
      "model_module_version": "1.5.0",
      "model_name": "FloatProgressModel",
      "state": {
       "bar_style": "danger",
       "layout": "IPY_MODEL_37d01c40f3084b2592ef75911586096e",
       "max": 21,
       "style": "IPY_MODEL_65571bd1d5c246b9a80a00dfe64aa516",
       "value": 2
      }
     },
     "d365990c55404f21885ad817cb0d4c8d": {
      "model_module": "@jupyter-widgets/base",
      "model_module_version": "1.2.0",
      "model_name": "LayoutModel",
      "state": {}
     },
     "d9c5cde79c9940ddbc0ac66e7ca5da2d": {
      "model_module": "@jupyter-widgets/base",
      "model_module_version": "1.2.0",
      "model_name": "LayoutModel",
      "state": {}
     },
     "e4b6d900f57646969b0547473a6ffc47": {
      "model_module": "@jupyter-widgets/controls",
      "model_module_version": "1.5.0",
      "model_name": "HTMLModel",
      "state": {
       "layout": "IPY_MODEL_cc3b69e700ff41af8b0262d9c9a47282",
       "style": "IPY_MODEL_fdb3b9865b3344009983f0be16ec2ddc",
       "value": " 2/21 [00:03&lt;00:06,  2.93it/s]"
      }
     },
     "e4fb8bf9ff214d9fb5c98820b546b18c": {
      "model_module": "@jupyter-widgets/controls",
      "model_module_version": "1.5.0",
      "model_name": "HTMLModel",
      "state": {
       "layout": "IPY_MODEL_3e138013733141ce93d457d558946523",
       "style": "IPY_MODEL_bf41601431044fdfab3e301e88bf6b5b",
       "value": " 1/1 [00:00&lt;00:00,  6.41it/s]"
      }
     },
     "e68b1a3fda1f4fb9a3e120bfdb7f79b4": {
      "model_module": "@jupyter-widgets/controls",
      "model_module_version": "1.5.0",
      "model_name": "HBoxModel",
      "state": {
       "children": [
        "IPY_MODEL_283c70b01333403188c5442ad60ba629",
        "IPY_MODEL_8ffb34c2b5c94746be5aba2ba9fdd1d0",
        "IPY_MODEL_10fc1681451f423f8ed9e4d3f466a24e"
       ],
       "layout": "IPY_MODEL_f9d334a42f97449baa641b4d88533f40"
      }
     },
     "e98480e9e2874b3b88edc5b6386adee5": {
      "model_module": "@jupyter-widgets/base",
      "model_module_version": "1.2.0",
      "model_name": "LayoutModel",
      "state": {}
     },
     "eb7811f7b2494468906190625327bbfb": {
      "model_module": "@jupyter-widgets/base",
      "model_module_version": "1.2.0",
      "model_name": "LayoutModel",
      "state": {}
     },
     "f37c3790901d4917b4f4528075a19b12": {
      "model_module": "@jupyter-widgets/controls",
      "model_module_version": "1.5.0",
      "model_name": "HTMLModel",
      "state": {
       "layout": "IPY_MODEL_3a001bc788c144358101b2f75e1c31c3",
       "style": "IPY_MODEL_66bc4fc12ab84443be51c6fbc383eb68",
       "value": "100%"
      }
     },
     "f4676fd4789b42478b19b40b3bad1dc7": {
      "model_module": "@jupyter-widgets/base",
      "model_module_version": "1.2.0",
      "model_name": "LayoutModel",
      "state": {}
     },
     "f6862b1327ad46d2b8a59fef45e7fc32": {
      "model_module": "@jupyter-widgets/base",
      "model_module_version": "1.2.0",
      "model_name": "LayoutModel",
      "state": {}
     },
     "f852247f77c8414bb27f256b5edf446e": {
      "model_module": "@jupyter-widgets/controls",
      "model_module_version": "1.5.0",
      "model_name": "DescriptionStyleModel",
      "state": {
       "description_width": ""
      }
     },
     "f9d334a42f97449baa641b4d88533f40": {
      "model_module": "@jupyter-widgets/base",
      "model_module_version": "1.2.0",
      "model_name": "LayoutModel",
      "state": {}
     },
     "fdb3b9865b3344009983f0be16ec2ddc": {
      "model_module": "@jupyter-widgets/controls",
      "model_module_version": "1.5.0",
      "model_name": "DescriptionStyleModel",
      "state": {
       "description_width": ""
      }
     }
    },
    "version_major": 2,
    "version_minor": 0
   }
  }
 },
 "nbformat": 4,
 "nbformat_minor": 5
}
