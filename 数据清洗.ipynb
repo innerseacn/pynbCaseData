{
 "cells": [
  {
   "cell_type": "markdown",
   "id": "9bb29211-2b71-4cf9-bccd-71d98c7742d1",
   "metadata": {},
   "source": [
    "# 导入文件"
   ]
  },
  {
   "cell_type": "code",
   "execution_count": 4,
   "id": "1ecad92f-2217-45d9-8ca5-dd04379f772a",
   "metadata": {
    "execution": {
     "iopub.execute_input": "2023-12-11T09:12:48.409095Z",
     "iopub.status.busy": "2023-12-11T09:12:48.407095Z",
     "iopub.status.idle": "2023-12-11T09:12:48.495100Z",
     "shell.execute_reply": "2023-12-11T09:12:48.495100Z",
     "shell.execute_reply.started": "2023-12-11T09:12:48.409095Z"
    },
    "tags": []
   },
   "outputs": [
    {
     "data": {
      "text/plain": [
       "['Sheet1', 'Sheet2', 'Sheet3']"
      ]
     },
     "execution_count": 4,
     "metadata": {},
     "output_type": "execute_result"
    }
   ],
   "source": [
    "import pandas as pd\n",
    "import pathlib\n",
    "base_path = pathlib.Path(r\"E:\\张楠\\2023赵益华927\\银行\\天津银行\\滨监查询（2023）05217.xls\")\n",
    "excel_file = pd.ExcelFile(base_path)\n",
    "excel_file.sheet_names"
   ]
  },
  {
   "cell_type": "markdown",
   "id": "47285952-2261-43d5-b3c1-3e8e32808517",
   "metadata": {},
   "source": [
    "# 自定义函数"
   ]
  },
  {
   "cell_type": "code",
   "execution_count": 31,
   "id": "1f5d2a53-336a-49f2-9be6-280dffaef912",
   "metadata": {
    "execution": {
     "iopub.execute_input": "2023-12-12T02:16:09.598781Z",
     "iopub.status.busy": "2023-12-12T02:16:09.597781Z",
     "iopub.status.idle": "2023-12-12T02:16:09.639784Z",
     "shell.execute_reply": "2023-12-12T02:16:09.636784Z",
     "shell.execute_reply.started": "2023-12-12T02:16:09.598781Z"
    },
    "tags": []
   },
   "outputs": [
    {
     "ename": "NameError",
     "evalue": "name 'account_col' is not defined",
     "output_type": "error",
     "traceback": [
      "\u001b[1;31m---------------------------------------------------------------------------\u001b[0m",
      "\u001b[1;31mNameError\u001b[0m                                 Traceback (most recent call last)",
      "\u001b[1;32m<ipython-input-31-3e7d73c13dec>\u001b[0m in \u001b[0;36m<module>\u001b[1;34m\u001b[0m\n\u001b[0;32m      1\u001b[0m \u001b[0mget_ipython\u001b[0m\u001b[1;33m(\u001b[0m\u001b[1;33m)\u001b[0m\u001b[1;33m.\u001b[0m\u001b[0mrun_line_magic\u001b[0m\u001b[1;33m(\u001b[0m\u001b[1;34m'run'\u001b[0m\u001b[1;33m,\u001b[0m \u001b[1;34m'corelibs.py'\u001b[0m\u001b[1;33m)\u001b[0m\u001b[1;33m\u001b[0m\u001b[1;33m\u001b[0m\u001b[0m\n\u001b[1;32m----> 2\u001b[1;33m \u001b[0mparse_1sheet_1table_Naccount\u001b[0m\u001b[1;33m(\u001b[0m\u001b[0mexcel_file\u001b[0m\u001b[1;33m,\u001b[0m\u001b[1;34m'天津银行'\u001b[0m\u001b[1;33m)\u001b[0m\u001b[1;33m\u001b[0m\u001b[1;33m\u001b[0m\u001b[0m\n\u001b[0m",
      "\u001b[1;32mD:\\soft\\WPy64-3890\\notebooks\\pynbCaseData\\corelibs.py\u001b[0m in \u001b[0;36mparse_1sheet_1table_Naccount\u001b[1;34m(excel_file, bank_name, account_or_deposit)\u001b[0m\n\u001b[0;32m     23\u001b[0m     \u001b[0mdf\u001b[0m \u001b[1;33m=\u001b[0m \u001b[0mexcel_file\u001b[0m\u001b[1;33m.\u001b[0m\u001b[0mparse\u001b[0m\u001b[1;33m(\u001b[0m\u001b[0msheet_name\u001b[0m\u001b[1;33m=\u001b[0m\u001b[1;36m0\u001b[0m\u001b[1;33m,\u001b[0m \u001b[0mheader\u001b[0m\u001b[1;33m=\u001b[0m\u001b[1;36m0\u001b[0m\u001b[1;33m,\u001b[0m \u001b[0mskiprows\u001b[0m\u001b[1;33m=\u001b[0m\u001b[1;36m0\u001b[0m\u001b[1;33m,\u001b[0m \u001b[0mdtype\u001b[0m\u001b[1;33m=\u001b[0m\u001b[0mstr\u001b[0m\u001b[1;33m)\u001b[0m \u001b[1;31m# 读取sheet内容\u001b[0m\u001b[1;33m\u001b[0m\u001b[1;33m\u001b[0m\u001b[0m\n\u001b[0;32m     24\u001b[0m     \u001b[1;32mif\u001b[0m \u001b[0mverify_data\u001b[0m\u001b[1;33m(\u001b[0m\u001b[0mdf\u001b[0m\u001b[1;33m,\u001b[0m \u001b[0mBANK_CONF\u001b[0m\u001b[1;33m[\u001b[0m\u001b[0mbank_name\u001b[0m\u001b[1;33m]\u001b[0m\u001b[1;33m[\u001b[0m\u001b[0maccount_or_deposit\u001b[0m\u001b[1;33m]\u001b[0m\u001b[1;33m[\u001b[0m\u001b[1;34m'needed_cols'\u001b[0m\u001b[1;33m]\u001b[0m\u001b[1;33m)\u001b[0m\u001b[1;33m:\u001b[0m  \u001b[1;31m# 验证数据完整性\u001b[0m\u001b[1;33m\u001b[0m\u001b[1;33m\u001b[0m\u001b[0m\n\u001b[1;32m---> 25\u001b[1;33m         \u001b[0mgrouped\u001b[0m \u001b[1;33m=\u001b[0m \u001b[0mdf\u001b[0m\u001b[1;33m.\u001b[0m\u001b[0mgroupby\u001b[0m\u001b[1;33m(\u001b[0m\u001b[0maccount_col\u001b[0m\u001b[1;33m)\u001b[0m \u001b[1;31m#按账号将数据分组\u001b[0m\u001b[1;33m\u001b[0m\u001b[1;33m\u001b[0m\u001b[0m\n\u001b[0m\u001b[0;32m     26\u001b[0m         \u001b[1;32mreturn\u001b[0m \u001b[1;33m[\u001b[0m\u001b[0mgrouped\u001b[0m\u001b[1;33m.\u001b[0m\u001b[0mget_group\u001b[0m\u001b[1;33m(\u001b[0m\u001b[0mx\u001b[0m\u001b[1;33m)\u001b[0m \u001b[1;32mfor\u001b[0m \u001b[0mx\u001b[0m \u001b[1;32min\u001b[0m \u001b[0mgrouped\u001b[0m\u001b[1;33m.\u001b[0m\u001b[0mgroups\u001b[0m\u001b[1;33m]\u001b[0m \u001b[1;31m#返回分组后的列表\u001b[0m\u001b[1;33m\u001b[0m\u001b[1;33m\u001b[0m\u001b[0m\n\u001b[0;32m     27\u001b[0m     \u001b[1;32mreturn\u001b[0m \u001b[1;32mNone\u001b[0m \u001b[1;31m#数据验证未通过返回空，由外部程序进行处理\u001b[0m\u001b[1;33m\u001b[0m\u001b[1;33m\u001b[0m\u001b[0m\n",
      "\u001b[1;31mNameError\u001b[0m: name 'account_col' is not defined"
     ]
    }
   ],
   "source": [
    "%run corelibs.py\n",
    "parse_1sheet_1table_Naccount(excel_file,'天津银行')"
   ]
  },
  {
   "cell_type": "code",
   "execution_count": 25,
   "id": "e13a1320-e574-4520-949d-62671e18df4d",
   "metadata": {
    "execution": {
     "iopub.execute_input": "2023-12-12T01:46:06.140630Z",
     "iopub.status.busy": "2023-12-12T01:46:06.140630Z",
     "iopub.status.idle": "2023-12-12T01:46:06.154630Z",
     "shell.execute_reply": "2023-12-12T01:46:06.153630Z",
     "shell.execute_reply.started": "2023-12-12T01:46:06.140630Z"
    },
    "tags": []
   },
   "outputs": [
    {
     "data": {
      "text/plain": [
       "{'bank_conf': {'天津银行': {'account': {'id': ['所属银行',\n",
       "     '证件号码',\n",
       "     '开户名称',\n",
       "     '客户账号',\n",
       "     '卡号',\n",
       "     '余额',\n",
       "     '开户日期',\n",
       "     '开户机构名称',\n",
       "     '是否开通网易',\n",
       "     'U盾号',\n",
       "     '短信捆绑电话',\n",
       "     '网银电话',\n",
       "     '地址',\n",
       "     '邮编',\n",
       "     '销户日期',\n",
       "     '销户机构号',\n",
       "     '销户机构名称',\n",
       "     '账户状态'],\n",
       "    'needed_cols': [],\n",
       "    'parse_func': 'parse_1sheet_1table_1account'},\n",
       "   'deposit': {'id': ['我行账号（卡号）',\n",
       "     '我方银行名称',\n",
       "     '我方中文名称',\n",
       "     '身份证号',\n",
       "     '交易日期',\n",
       "     '对方账号（卡号）',\n",
       "     '对方中文名称',\n",
       "     '对方银行名称',\n",
       "     '对方银行机构代码',\n",
       "     '流水号',\n",
       "     '借贷标志',\n",
       "     '交易金额',\n",
       "     '币种',\n",
       "     '余额',\n",
       "     '网银IP地址',\n",
       "     '交易代码（交易渠道）',\n",
       "     '代码描述',\n",
       "     '用途（摘要）',\n",
       "     '受理机构代码',\n",
       "     '受理机构名称',\n",
       "     '交易是否成功'],\n",
       "    'fixed_id': None,\n",
       "    'needed_cols': [],\n",
       "    'parse_func': 'parse_1sheet_1table_Naccount'}}}}"
      ]
     },
     "execution_count": 25,
     "metadata": {},
     "output_type": "execute_result"
    }
   ],
   "source": [
    "CONF_DATA"
   ]
  },
  {
   "cell_type": "markdown",
   "id": "f4a6a4e7-1a20-4a80-9188-a175e4e8ff01",
   "metadata": {},
   "source": [
    "# 执行"
   ]
  },
  {
   "cell_type": "code",
   "execution_count": 5,
   "id": "07621679-4aa9-4390-976a-dfbf5eb8e995",
   "metadata": {
    "execution": {
     "iopub.execute_input": "2023-12-11T09:12:52.779345Z",
     "iopub.status.busy": "2023-12-11T09:12:52.778345Z",
     "iopub.status.idle": "2023-12-11T09:12:52.808347Z",
     "shell.execute_reply": "2023-12-11T09:12:52.807347Z",
     "shell.execute_reply.started": "2023-12-11T09:12:52.779345Z"
    },
    "tags": []
   },
   "outputs": [
    {
     "data": {
      "text/plain": [
       "Index(['所属银行', '证件号码', '开户名称', '客户账号', '卡号', '余额', '开户日期', '开户机构名称', '是否开通网易',\n",
       "       'U盾号', '短信捆绑电话', '网银电话', '地址', '邮编', '销户日期', '销户机构号', '销户机构名称', '账户状态'],\n",
       "      dtype='object')"
      ]
     },
     "execution_count": 5,
     "metadata": {},
     "output_type": "execute_result"
    }
   ],
   "source": [
    "dd = excel_file.parse(sheet_name=0)\n",
    "dd.columns"
   ]
  },
  {
   "cell_type": "code",
   "execution_count": 19,
   "id": "0ce60144-d74f-4928-95a0-6b638e7c7c16",
   "metadata": {
    "execution": {
     "iopub.execute_input": "2023-12-11T11:52:55.619596Z",
     "iopub.status.busy": "2023-12-11T11:52:55.618596Z",
     "iopub.status.idle": "2023-12-11T11:52:55.641598Z",
     "shell.execute_reply": "2023-12-11T11:52:55.640597Z",
     "shell.execute_reply.started": "2023-12-11T11:52:55.619596Z"
    },
    "tags": []
   },
   "outputs": [
    {
     "data": {
      "text/plain": [
       "{'bank_conf': {'天津银行': {'account': {'id': ['所属银行',\n",
       "     '证件号码',\n",
       "     '开户名称',\n",
       "     '客户账号',\n",
       "     '卡号',\n",
       "     '余额',\n",
       "     '开户日期',\n",
       "     '开户机构名称',\n",
       "     '是否开通网易',\n",
       "     'U盾号',\n",
       "     '短信捆绑电话',\n",
       "     '网银电话',\n",
       "     '地址',\n",
       "     '邮编',\n",
       "     '销户日期',\n",
       "     '销户机构号',\n",
       "     '销户机构名称',\n",
       "     '账户状态'],\n",
       "    'needed_cols': [],\n",
       "    'parse_func': 'parse_1sheet_1table_1account'},\n",
       "   'deposit': {'id': ['我行账号（卡号）',\n",
       "     '我方银行名称',\n",
       "     '我方中文名称',\n",
       "     '身份证号',\n",
       "     '交易日期',\n",
       "     '对方账号（卡号）',\n",
       "     '对方中文名称',\n",
       "     '对方银行名称',\n",
       "     '对方银行机构代码',\n",
       "     '流水号',\n",
       "     '借贷标志',\n",
       "     '交易金额',\n",
       "     '币种',\n",
       "     '余额',\n",
       "     '网银IP地址',\n",
       "     '交易代码（交易渠道）',\n",
       "     '代码描述',\n",
       "     '用途（摘要）',\n",
       "     '受理机构代码',\n",
       "     '受理机构名称',\n",
       "     '交易是否成功'],\n",
       "    'fixed_id': None,\n",
       "    'needed_cols': [],\n",
       "    'parse_func': 'parse_1sheet_1table_Naccount'}}}}"
      ]
     },
     "execution_count": 19,
     "metadata": {},
     "output_type": "execute_result"
    }
   ],
   "source": [
    "with open('config.json', 'r', encoding='utf-8') as f:\n",
    "      CONF_DATA = json.load(f)\n",
    "CONF_DATA"
   ]
  }
 ],
 "metadata": {
  "kernelspec": {
   "display_name": "Python 3",
   "language": "python",
   "name": "python3"
  },
  "language_info": {
   "codemirror_mode": {
    "name": "ipython",
    "version": 3
   },
   "file_extension": ".py",
   "mimetype": "text/x-python",
   "name": "python",
   "nbconvert_exporter": "python",
   "pygments_lexer": "ipython3",
   "version": "3.8.9"
  },
  "toc-autonumbering": true,
  "toc-showcode": false,
  "toc-showmarkdowntxt": false,
  "toc-showtags": false,
  "widgets": {
   "application/vnd.jupyter.widget-state+json": {
    "state": {},
    "version_major": 2,
    "version_minor": 0
   }
  }
 },
 "nbformat": 4,
 "nbformat_minor": 5
}
