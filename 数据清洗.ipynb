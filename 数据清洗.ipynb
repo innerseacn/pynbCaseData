{
 "cells": [
  {
   "cell_type": "markdown",
   "id": "9bb29211-2b71-4cf9-bccd-71d98c7742d1",
   "metadata": {},
   "source": [
    "# 加载库函数及导入文件"
   ]
  },
  {
   "cell_type": "code",
   "execution_count": 55,
   "id": "91c9702d-7a03-4cd0-aa54-51ec596c95d2",
   "metadata": {
    "execution": {
     "iopub.execute_input": "2024-01-13T13:28:41.887535Z",
     "iopub.status.busy": "2024-01-13T13:28:41.886535Z",
     "iopub.status.idle": "2024-01-13T13:28:41.916536Z",
     "shell.execute_reply": "2024-01-13T13:28:41.916536Z",
     "shell.execute_reply.started": "2024-01-13T13:28:41.887535Z"
    },
    "tags": []
   },
   "outputs": [
    {
     "name": "stdout",
     "output_type": "stream",
     "text": [
      "E:\\张楠\\2023赵益华927\\银行\\建行\\第一批 赵益华等9人\n",
      "E:\\张楠\\2023赵益华927\\银行\\天津银行\\滨监查询（2023）05217.xls\n",
      "E:\\张楠\\测试\\output\n"
     ]
    }
   ],
   "source": [
    "import pandas as pd\n",
    "import pathlib\n",
    "base_path = pathlib.Path(r\"E:\\张楠\\2023赵益华927\\银行\\建行\\第一批 赵益华等9人\")\n",
    "acc_file = pathlib.Path(r\"E:\\张楠\\2023赵益华927\\银行\\建行\\第一批 赵益华等9人\\1080861461690963794022777_1_1赵益华.xlsx\")\n",
    "acc_file = pathlib.Path(r\"E:\\张楠\\2023赵益华927\\银行\\天津银行\\滨监查询（2023）05217号.xls\")\n",
    "acc_file = pathlib.Path(r\"E:\\张楠\\2023赵益华927\\银行\\天津银行\\滨监查询（2023）05217.xls\")\n",
    "output_dir_path = pathlib.Path(r\"E:\\张楠\\测试\\output\")\n",
    "%run corelibs.py\n",
    "print(base_path)\n",
    "print(acc_file)\n",
    "print(output_dir_path)"
   ]
  },
  {
   "cell_type": "code",
   "execution_count": 21,
   "id": "d1e7c85c-fe8e-4cb9-9e9d-4580ad99f335",
   "metadata": {
    "execution": {
     "iopub.execute_input": "2024-01-13T12:40:37.733571Z",
     "iopub.status.busy": "2024-01-13T12:40:37.731570Z",
     "iopub.status.idle": "2024-01-13T12:40:37.766572Z",
     "shell.execute_reply": "2024-01-13T12:40:37.765572Z",
     "shell.execute_reply.started": "2024-01-13T12:40:37.732571Z"
    },
    "tags": []
   },
   "outputs": [],
   "source": [
    "import yaml\n",
    "with open('config.yaml', 'r', encoding='utf-8') as f:\n",
    "    CONF_DATA = yaml.load(f, Loader=yaml.SafeLoader)"
   ]
  },
  {
   "cell_type": "code",
   "execution_count": null,
   "id": "a31875e9-4cde-4828-a56c-d9e678ce5099",
   "metadata": {
    "tags": []
   },
   "outputs": [],
   "source": [
    "CONF_DATA['天津银行']['账户']"
   ]
  },
  {
   "cell_type": "markdown",
   "id": "47285952-2261-43d5-b3c1-3e8e32808517",
   "metadata": {},
   "source": [
    "# 测试"
   ]
  },
  {
   "cell_type": "code",
   "execution_count": null,
   "id": "e62e0853-b739-4859-8f5f-7616f410f657",
   "metadata": {},
   "outputs": [],
   "source": [
    "if base_path.is_dir():\n",
    "    for  _p in base_path.rglob('*.xlsx'):\n",
    "        print(_p)"
   ]
  },
  {
   "cell_type": "markdown",
   "id": "cc1c51f7-05f4-4f18-a59e-7e75057a0e12",
   "metadata": {},
   "source": [
    "##  测试单个账户文件读取及储存"
   ]
  },
  {
   "cell_type": "code",
   "execution_count": 56,
   "id": "b728cc67-8dd6-4f6f-86ca-85b5d4c5915f",
   "metadata": {
    "execution": {
     "iopub.execute_input": "2024-01-13T13:28:45.415737Z",
     "iopub.status.busy": "2024-01-13T13:28:45.414736Z",
     "iopub.status.idle": "2024-01-13T13:28:45.450739Z",
     "shell.execute_reply": "2024-01-13T13:28:45.448738Z",
     "shell.execute_reply.started": "2024-01-13T13:28:45.415737Z"
    },
    "scrolled": true,
    "tags": []
   },
   "outputs": [],
   "source": [
    "acc_file = pathlib.Path(r\"E:\\张楠\\2023赵益华927\\银行\\天津银行\\滨监查询（2023）05217.xls\")\n",
    "df = parse_sheet_general(acc_file,0,CONF_DATA['天津银行']['账户'])"
   ]
  },
  {
   "cell_type": "code",
   "execution_count": null,
   "id": "06bc365d-25d7-45cb-9b75-f7061edc4e99",
   "metadata": {
    "scrolled": true,
    "tags": []
   },
   "outputs": [],
   "source": [
    "df.info()"
   ]
  },
  {
   "cell_type": "code",
   "execution_count": null,
   "id": "b5c32d9b-1e73-4ca4-b90f-c09398bdc156",
   "metadata": {
    "tags": []
   },
   "outputs": [],
   "source": [
    "df"
   ]
  },
  {
   "cell_type": "code",
   "execution_count": 59,
   "id": "4d4dd3c3-1970-422c-be93-c65745a940ac",
   "metadata": {
    "execution": {
     "iopub.execute_input": "2024-01-13T13:29:07.925024Z",
     "iopub.status.busy": "2024-01-13T13:29:07.923024Z",
     "iopub.status.idle": "2024-01-13T13:29:08.002028Z",
     "shell.execute_reply": "2024-01-13T13:29:08.001028Z",
     "shell.execute_reply.started": "2024-01-13T13:29:07.925024Z"
    },
    "scrolled": true,
    "tags": []
   },
   "outputs": [
    {
     "data": {
      "text/plain": [
       "4"
      ]
     },
     "execution_count": 59,
     "metadata": {},
     "output_type": "execute_result"
    }
   ],
   "source": [
    "save_accounts(df, output_dir_path, '天津银行')"
   ]
  },
  {
   "cell_type": "markdown",
   "id": "e04e09e8-f459-4ef1-8e78-21129befdfc8",
   "metadata": {},
   "source": [
    "## 测试单个流水文件的读取与储存"
   ]
  },
  {
   "cell_type": "code",
   "execution_count": 9,
   "id": "92fda6d4-086f-4e9e-9de4-67f0f6237807",
   "metadata": {
    "execution": {
     "iopub.execute_input": "2024-01-04T10:10:08.571656Z",
     "iopub.status.busy": "2024-01-04T10:10:08.570656Z",
     "iopub.status.idle": "2024-01-04T10:10:15.615059Z",
     "shell.execute_reply": "2024-01-04T10:10:15.615059Z",
     "shell.execute_reply.started": "2024-01-04T10:10:08.571656Z"
    },
    "tags": []
   },
   "outputs": [
    {
     "name": "stderr",
     "output_type": "stream",
     "text": [
      "100%|██████████████████████████████████████████████████████████████████████████████████| 33/33 [00:07<00:00,  4.71it/s]\n"
     ]
    },
    {
     "data": {
      "text/plain": [
       "13162"
      ]
     },
     "execution_count": 9,
     "metadata": {},
     "output_type": "execute_result"
    }
   ],
   "source": [
    "grouped = df.groupby('账号')\n",
    "df_list = [x.reset_index(drop=True) for _ , x in grouped]\n",
    "save_statements(df_list, output_dir_path, '天津银行',\"津滨查询(2023)138号\")"
   ]
  },
  {
   "cell_type": "code",
   "execution_count": 20,
   "id": "f5b55f3a-9ee9-4a63-823d-fffe61b5483b",
   "metadata": {
    "execution": {
     "iopub.execute_input": "2023-12-17T01:52:30.121310Z",
     "iopub.status.busy": "2023-12-17T01:52:30.119310Z",
     "iopub.status.idle": "2023-12-17T01:52:30.135311Z",
     "shell.execute_reply": "2023-12-17T01:52:30.133311Z",
     "shell.execute_reply.started": "2023-12-17T01:52:30.121310Z"
    }
   },
   "outputs": [
    {
     "data": {
      "text/plain": [
       "False"
      ]
     },
     "execution_count": 20,
     "metadata": {},
     "output_type": "execute_result"
    }
   ],
   "source": [
    "verify_data(df, CONF_DATA['天津银行']['账户']['verify_cols'])"
   ]
  },
  {
   "cell_type": "code",
   "execution_count": null,
   "id": "5f4d6637-4957-47b4-b37b-8b2269912197",
   "metadata": {
    "tags": []
   },
   "outputs": [],
   "source": [
    "df_list"
   ]
  },
  {
   "cell_type": "code",
   "execution_count": null,
   "id": "29769b03-e8a3-47f6-8cef-83d7ccabde34",
   "metadata": {
    "tags": []
   },
   "outputs": [],
   "source": [
    "pd.read_excel"
   ]
  },
  {
   "cell_type": "markdown",
   "id": "f4a6a4e7-1a20-4a80-9188-a175e4e8ff01",
   "metadata": {},
   "source": [
    "# 执行"
   ]
  },
  {
   "cell_type": "code",
   "execution_count": null,
   "id": "6ceebcde-eae2-4acf-9975-54eeeeeb537a",
   "metadata": {
    "scrolled": true,
    "tags": []
   },
   "outputs": [],
   "source": [
    "df = excel_file.parse(sheet_name=0, header=0, skiprows=0, nrows=5, dtype=str, converters={'交易金额':float})\n",
    "df.info()"
   ]
  },
  {
   "cell_type": "code",
   "execution_count": null,
   "id": "7ce7fdd4-0a10-45d6-931a-c18c8f015271",
   "metadata": {
    "tags": []
   },
   "outputs": [],
   "source": [
    "pd.to_datetime(df['交易日期']).dt.time"
   ]
  },
  {
   "cell_type": "code",
   "execution_count": 85,
   "id": "5b7c4f3a-3806-48ce-b6a6-d3ab6fe9c761",
   "metadata": {
    "execution": {
     "iopub.execute_input": "2023-12-28T16:00:02.177778Z",
     "iopub.status.busy": "2023-12-28T16:00:02.176778Z",
     "iopub.status.idle": "2023-12-28T16:00:02.200779Z",
     "shell.execute_reply": "2023-12-28T16:00:02.190778Z",
     "shell.execute_reply.started": "2023-12-28T16:00:02.177778Z"
    },
    "tags": []
   },
   "outputs": [
    {
     "data": {
      "text/plain": [
       "{'交易金额': float, '余额': float}"
      ]
     },
     "execution_count": 85,
     "metadata": {},
     "output_type": "execute_result"
    }
   ],
   "source": [
    "converters = {_col:float for _col in CONF_DATA['天津银行']['流水']['amount_cols']}\n",
    "converters"
   ]
  },
  {
   "cell_type": "markdown",
   "id": "e38f6e5b-adc8-499c-95f2-56bf2086b07e",
   "metadata": {},
   "source": [
    "# 杂项"
   ]
  },
  {
   "cell_type": "code",
   "execution_count": 45,
   "id": "da578217-4a5d-4575-890e-370bfd803e7c",
   "metadata": {
    "execution": {
     "iopub.execute_input": "2023-12-30T07:33:57.546990Z",
     "iopub.status.busy": "2023-12-30T07:33:57.545990Z",
     "iopub.status.idle": "2023-12-30T07:33:57.561991Z",
     "shell.execute_reply": "2023-12-30T07:33:57.560991Z",
     "shell.execute_reply.started": "2023-12-30T07:33:57.546990Z"
    },
    "scrolled": true,
    "tags": []
   },
   "outputs": [
    {
     "data": {
      "text/plain": [
       "WindowsPath('E:/张楠/2023赵益华927/银行/天津银行/滨监查询（2023）05217.xls')"
      ]
     },
     "execution_count": 45,
     "metadata": {},
     "output_type": "execute_result"
    }
   ],
   "source": [
    "base_path"
   ]
  },
  {
   "cell_type": "code",
   "execution_count": 37,
   "id": "da2a30e3-28b2-4628-b598-7906f80155a8",
   "metadata": {
    "execution": {
     "iopub.execute_input": "2024-01-13T12:59:51.544565Z",
     "iopub.status.busy": "2024-01-13T12:59:51.542565Z",
     "iopub.status.idle": "2024-01-13T12:59:51.552565Z",
     "shell.execute_reply": "2024-01-13T12:59:51.551565Z",
     "shell.execute_reply.started": "2024-01-13T12:59:51.543565Z"
    },
    "tags": []
   },
   "outputs": [
    {
     "data": {
      "text/plain": [
       "1"
      ]
     },
     "execution_count": 37,
     "metadata": {},
     "output_type": "execute_result"
    }
   ],
   "source": [
    "a = {1:2}\n",
    "next(iter(a))"
   ]
  },
  {
   "cell_type": "code",
   "execution_count": 38,
   "id": "dd21d350-1d2c-4fb6-b96b-b2211fdea038",
   "metadata": {
    "execution": {
     "iopub.execute_input": "2024-01-13T13:00:16.007964Z",
     "iopub.status.busy": "2024-01-13T13:00:16.006964Z",
     "iopub.status.idle": "2024-01-13T13:00:16.029965Z",
     "shell.execute_reply": "2024-01-13T13:00:16.024965Z",
     "shell.execute_reply.started": "2024-01-13T13:00:16.007964Z"
    },
    "tags": []
   },
   "outputs": [
    {
     "name": "stdout",
     "output_type": "stream",
     "text": [
      "{'银行': '天津银行'}\n",
      "{'开户名称': True, '证件号码': True}\n",
      "{'开户名称': '姓名', '客户账号': '账号', '开户机构名称': '开户机构', '销户机构名称': '销户机构'}\n",
      "{'电话': ['短信捆绑电话', '网银电话']}\n"
     ]
    }
   ],
   "source": [
    "_new_cols = {} # 构造需要填充统一内容的列字典，通常是新列\n",
    "_verify_cols = {} # 构造需要进行数据检查的列字典，（v1）版本只检查空值\n",
    "_col_name_map = {} # 构造需要改名的列字典\n",
    "_merge_2cols = {} # 构造需要合并的列字典\n",
    "\n",
    "#根据配置信息生成列处理逻辑\n",
    "for _key, _val in CONF_DATA['天津银行']['账户'].items(): # 读取配置中的列名（key）和列配置（val）\n",
    "    if isinstance(_val, str): # 如果列配置为str，则本列全部内容为该字符串，通常是全新的列\n",
    "        _new_cols[_key] = _val\n",
    "    elif isinstance(_val, bool) and _val: # 如果列配置为bool且为True，代表本列需要数据检查\n",
    "        _verify_cols[_key] = True # （v1）版本只检查空值，此处恒为True\n",
    "    elif isinstance(_val, dict): # 如果列配置为dict，则分情况讨论\n",
    "        for __k, __v in _val.items(): # 首先检查所有字典值，将为True的加入数据检查中\n",
    "            if __v:\n",
    "                 _verify_cols[__k] = True\n",
    "        if len(_val) == 1: # 当字典中只有一项时，代表本列需要改名\n",
    "            _col_name_map[next(iter(_val))] = _key\n",
    "        elif len(_val) > 1: # 当字典中有两项或更多时，代表本列需要合并多个原始列（目前仅支持两个）\n",
    "            _merge_2cols[_key] = list(_val.keys())\n",
    "        else:\n",
    "            raise Exception(f\"字典类型长度错误，检查配置列：{_key}\") \n",
    "    elif isinstance(_val, list): # \n",
    "        if _key != 'cols_new_order':\n",
    "            raise Exception(f\"只有cols_new_order可以配置为list类型，检查配置列：{_key}\")                 \n",
    "    else:\n",
    "        raise Exception(f\"配置内容类型不支持，检查配置列：{_key}\") \n",
    "\n",
    "\n",
    "print(_new_cols)\n",
    "print(_verify_cols)\n",
    "print(_col_name_map)\n",
    "print(_merge_2cols)\n"
   ]
  }
 ],
 "metadata": {
  "kernelspec": {
   "display_name": "Python 3",
   "language": "python",
   "name": "python3"
  },
  "language_info": {
   "codemirror_mode": {
    "name": "ipython",
    "version": 3
   },
   "file_extension": ".py",
   "mimetype": "text/x-python",
   "name": "python",
   "nbconvert_exporter": "python",
   "pygments_lexer": "ipython3",
   "version": "3.8.9"
  },
  "toc-autonumbering": true,
  "toc-showcode": false,
  "toc-showmarkdowntxt": false,
  "toc-showtags": false,
  "widgets": {
   "application/vnd.jupyter.widget-state+json": {
    "state": {},
    "version_major": 2,
    "version_minor": 0
   }
  }
 },
 "nbformat": 4,
 "nbformat_minor": 5
}
