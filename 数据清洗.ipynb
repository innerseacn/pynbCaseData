{
 "cells": [
  {
   "cell_type": "markdown",
   "id": "9bb29211-2b71-4cf9-bccd-71d98c7742d1",
   "metadata": {},
   "source": [
    "# 导入文件"
   ]
  },
  {
   "cell_type": "code",
   "execution_count": 36,
   "id": "1ecad92f-2217-45d9-8ca5-dd04379f772a",
   "metadata": {
    "execution": {
     "iopub.execute_input": "2023-12-12T11:05:58.354091Z",
     "iopub.status.busy": "2023-12-12T11:05:58.353091Z",
     "iopub.status.idle": "2023-12-12T11:05:58.377092Z",
     "shell.execute_reply": "2023-12-12T11:05:58.376092Z",
     "shell.execute_reply.started": "2023-12-12T11:05:58.354091Z"
    },
    "tags": []
   },
   "outputs": [
    {
     "data": {
      "text/plain": [
       "['Sheet1', 'Sheet2', 'Sheet3']"
      ]
     },
     "execution_count": 36,
     "metadata": {},
     "output_type": "execute_result"
    }
   ],
   "source": [
    "import pandas as pd\n",
    "import pathlib\n",
    "base_path = pathlib.Path(r\"E:\\张楠\\2023赵益华927\\银行\\天津银行\\滨监查询（2023）05217.xls\")\n",
    "excel_file = pd.ExcelFile(base_path)\n",
    "excel_file.sheet_names"
   ]
  },
  {
   "cell_type": "code",
   "execution_count": 58,
   "id": "0ce60144-d74f-4928-95a0-6b638e7c7c16",
   "metadata": {
    "execution": {
     "iopub.execute_input": "2023-12-12T11:31:41.788370Z",
     "iopub.status.busy": "2023-12-12T11:31:41.788370Z",
     "iopub.status.idle": "2023-12-12T11:31:41.803371Z",
     "shell.execute_reply": "2023-12-12T11:31:41.802371Z",
     "shell.execute_reply.started": "2023-12-12T11:31:41.788370Z"
    },
    "tags": []
   },
   "outputs": [],
   "source": [
    "import json\n",
    "with open('config.json', 'r', encoding='utf-8') as f:\n",
    "    CONF_DATA = json.load(f)\n",
    "    BANK_CONF = CONF_DATA['bank_conf']"
   ]
  },
  {
   "cell_type": "markdown",
   "id": "47285952-2261-43d5-b3c1-3e8e32808517",
   "metadata": {},
   "source": [
    "# 自定义函数"
   ]
  },
  {
   "cell_type": "code",
   "execution_count": 59,
   "id": "1f5d2a53-336a-49f2-9be6-280dffaef912",
   "metadata": {
    "execution": {
     "iopub.execute_input": "2023-12-12T11:31:43.717480Z",
     "iopub.status.busy": "2023-12-12T11:31:43.716480Z",
     "iopub.status.idle": "2023-12-12T11:31:43.735481Z",
     "shell.execute_reply": "2023-12-12T11:31:43.734481Z",
     "shell.execute_reply.started": "2023-12-12T11:31:43.717480Z"
    },
    "tags": []
   },
   "outputs": [],
   "source": [
    "%run corelibs.py"
   ]
  },
  {
   "cell_type": "markdown",
   "id": "f4a6a4e7-1a20-4a80-9188-a175e4e8ff01",
   "metadata": {},
   "source": [
    "# 执行"
   ]
  },
  {
   "cell_type": "code",
   "execution_count": 60,
   "id": "6ceebcde-eae2-4acf-9975-54eeeeeb537a",
   "metadata": {
    "execution": {
     "iopub.execute_input": "2023-12-12T11:32:02.263541Z",
     "iopub.status.busy": "2023-12-12T11:32:02.262541Z",
     "iopub.status.idle": "2023-12-12T11:32:02.318544Z",
     "shell.execute_reply": "2023-12-12T11:32:02.316544Z",
     "shell.execute_reply.started": "2023-12-12T11:32:02.263541Z"
    },
    "tags": []
   },
   "outputs": [
    {
     "data": {
      "text/html": [
       "<div>\n",
       "<style scoped>\n",
       "    .dataframe tbody tr th:only-of-type {\n",
       "        vertical-align: middle;\n",
       "    }\n",
       "\n",
       "    .dataframe tbody tr th {\n",
       "        vertical-align: top;\n",
       "    }\n",
       "\n",
       "    .dataframe thead th {\n",
       "        text-align: right;\n",
       "    }\n",
       "</style>\n",
       "<table border=\"1\" class=\"dataframe\">\n",
       "  <thead>\n",
       "    <tr style=\"text-align: right;\">\n",
       "      <th></th>\n",
       "      <th>开户名称</th>\n",
       "      <th>证件号码</th>\n",
       "      <th>电话</th>\n",
       "      <th>地址</th>\n",
       "      <th>客户账号</th>\n",
       "      <th>卡号</th>\n",
       "      <th>余额</th>\n",
       "      <th>开户日期</th>\n",
       "      <th>开户机构名称</th>\n",
       "      <th>账户状态</th>\n",
       "      <th>销户日期</th>\n",
       "      <th>销户机构名称</th>\n",
       "      <th>销户机构号</th>\n",
       "      <th>所属银行</th>\n",
       "      <th>是否开通网易</th>\n",
       "      <th>U盾号</th>\n",
       "      <th>邮编</th>\n",
       "      <th>短信捆绑电话</th>\n",
       "      <th>网银电话</th>\n",
       "    </tr>\n",
       "  </thead>\n",
       "  <tbody>\n",
       "    <tr>\n",
       "      <th>0</th>\n",
       "      <td>崔家旭</td>\n",
       "      <td>130629198408220017</td>\n",
       "      <td>t1</td>\n",
       "      <td></td>\n",
       "      <td>568001013102950620</td>\n",
       "      <td>623574256821695403</td>\n",
       "      <td>0.00</td>\n",
       "      <td>2016-06-30 00:00:00</td>\n",
       "      <td>天津银行滨海分行营业部</td>\n",
       "      <td>H-待激活</td>\n",
       "      <td></td>\n",
       "      <td></td>\n",
       "      <td></td>\n",
       "      <td>天津银行滨海分行营业部</td>\n",
       "      <td></td>\n",
       "      <td></td>\n",
       "      <td></td>\n",
       "      <td>t1</td>\n",
       "      <td></td>\n",
       "    </tr>\n",
       "    <tr>\n",
       "      <th>1</th>\n",
       "      <td>张凯</td>\n",
       "      <td>120102197301301710</td>\n",
       "      <td>t2</td>\n",
       "      <td></td>\n",
       "      <td>572001013103502425</td>\n",
       "      <td>623574257220661392</td>\n",
       "      <td>0.00</td>\n",
       "      <td>2014-12-09 00:00:00</td>\n",
       "      <td>天津银行第五中心支行营业部</td>\n",
       "      <td>A-活动</td>\n",
       "      <td></td>\n",
       "      <td></td>\n",
       "      <td></td>\n",
       "      <td>天津银行第五中心支行营业部</td>\n",
       "      <td></td>\n",
       "      <td></td>\n",
       "      <td></td>\n",
       "      <td></td>\n",
       "      <td>t2</td>\n",
       "    </tr>\n",
       "    <tr>\n",
       "      <th>2</th>\n",
       "      <td></td>\n",
       "      <td></td>\n",
       "      <td>1</td>\n",
       "      <td></td>\n",
       "      <td></td>\n",
       "      <td></td>\n",
       "      <td></td>\n",
       "      <td></td>\n",
       "      <td></td>\n",
       "      <td></td>\n",
       "      <td></td>\n",
       "      <td></td>\n",
       "      <td></td>\n",
       "      <td></td>\n",
       "      <td></td>\n",
       "      <td></td>\n",
       "      <td></td>\n",
       "      <td>1</td>\n",
       "      <td>1</td>\n",
       "    </tr>\n",
       "    <tr>\n",
       "      <th>3</th>\n",
       "      <td></td>\n",
       "      <td></td>\n",
       "      <td>111222</td>\n",
       "      <td></td>\n",
       "      <td></td>\n",
       "      <td></td>\n",
       "      <td></td>\n",
       "      <td></td>\n",
       "      <td></td>\n",
       "      <td></td>\n",
       "      <td></td>\n",
       "      <td></td>\n",
       "      <td></td>\n",
       "      <td></td>\n",
       "      <td></td>\n",
       "      <td></td>\n",
       "      <td></td>\n",
       "      <td>111</td>\n",
       "      <td>222</td>\n",
       "    </tr>\n",
       "  </tbody>\n",
       "</table>\n",
       "</div>"
      ],
      "text/plain": [
       "  开户名称                证件号码      电话 地址                客户账号                  卡号  \\\n",
       "0  崔家旭  130629198408220017      t1     568001013102950620  623574256821695403   \n",
       "1   张凯  120102197301301710      t2     572001013103502425  623574257220661392   \n",
       "2                                1                                              \n",
       "3                           111222                                              \n",
       "\n",
       "     余额                 开户日期         开户机构名称   账户状态 销户日期 销户机构名称 销户机构号  \\\n",
       "0  0.00  2016-06-30 00:00:00    天津银行滨海分行营业部  H-待激活                     \n",
       "1  0.00  2014-12-09 00:00:00  天津银行第五中心支行营业部   A-活动                     \n",
       "2                                                                      \n",
       "3                                                                      \n",
       "\n",
       "            所属银行 是否开通网易 U盾号 邮编 短信捆绑电话 网银电话  \n",
       "0    天津银行滨海分行营业部                   t1       \n",
       "1  天津银行第五中心支行营业部                        t2  \n",
       "2                                   1    1  \n",
       "3                                 111  222  "
      ]
     },
     "execution_count": 60,
     "metadata": {},
     "output_type": "execute_result"
    }
   ],
   "source": [
    "_local_bank_conf = BANK_CONF['天津银行账户'] #缓存本地配置\n",
    "df = excel_file.parse(sheet_name=0, header=0, skiprows=0, dtype=str, keep_default_na='')\n",
    "if 'merged_2cols' in _local_bank_conf:\n",
    "    for _key, _value_list in _local_bank_conf['merged_2cols'].items():\n",
    "        merge_2cols(df, _key, _value_list[0], _value_list[1])\n",
    "df = df.reindex(columns=_local_bank_conf['cols_new_order'])\n",
    "df"
   ]
  },
  {
   "cell_type": "markdown",
   "id": "e38f6e5b-adc8-499c-95f2-56bf2086b07e",
   "metadata": {},
   "source": [
    "# 杂项"
   ]
  },
  {
   "cell_type": "code",
   "execution_count": 38,
   "id": "f9a04ae0-0ae4-4b6a-a84f-4c86d2663f4f",
   "metadata": {
    "execution": {
     "iopub.execute_input": "2023-12-12T11:06:17.755200Z",
     "iopub.status.busy": "2023-12-12T11:06:17.754200Z",
     "iopub.status.idle": "2023-12-12T11:06:17.773201Z",
     "shell.execute_reply": "2023-12-12T11:06:17.772201Z",
     "shell.execute_reply.started": "2023-12-12T11:06:17.755200Z"
    },
    "tags": []
   },
   "outputs": [
    {
     "data": {
      "text/html": [
       "<div>\n",
       "<style scoped>\n",
       "    .dataframe tbody tr th:only-of-type {\n",
       "        vertical-align: middle;\n",
       "    }\n",
       "\n",
       "    .dataframe tbody tr th {\n",
       "        vertical-align: top;\n",
       "    }\n",
       "\n",
       "    .dataframe thead th {\n",
       "        text-align: right;\n",
       "    }\n",
       "</style>\n",
       "<table border=\"1\" class=\"dataframe\">\n",
       "  <thead>\n",
       "    <tr style=\"text-align: right;\">\n",
       "      <th></th>\n",
       "      <th>短信捆绑电话</th>\n",
       "      <th>网银电话</th>\n",
       "    </tr>\n",
       "  </thead>\n",
       "  <tbody>\n",
       "    <tr>\n",
       "      <th>0</th>\n",
       "      <td>t1</td>\n",
       "      <td></td>\n",
       "    </tr>\n",
       "    <tr>\n",
       "      <th>1</th>\n",
       "      <td></td>\n",
       "      <td>t2</td>\n",
       "    </tr>\n",
       "    <tr>\n",
       "      <th>2</th>\n",
       "      <td>1</td>\n",
       "      <td>1</td>\n",
       "    </tr>\n",
       "    <tr>\n",
       "      <th>3</th>\n",
       "      <td>111</td>\n",
       "      <td>222</td>\n",
       "    </tr>\n",
       "  </tbody>\n",
       "</table>\n",
       "</div>"
      ],
      "text/plain": [
       "  短信捆绑电话 网银电话\n",
       "0     t1     \n",
       "1          t2\n",
       "2      1    1\n",
       "3    111  222"
      ]
     },
     "execution_count": 38,
     "metadata": {},
     "output_type": "execute_result"
    }
   ],
   "source": [
    "yy=df[['短信捆绑电话', '网银电话']].copy()\n",
    "a = yy['短信捆绑电话'] == yy['网银电话']\n",
    "yy"
   ]
  },
  {
   "cell_type": "code",
   "execution_count": 39,
   "id": "b59267a4-e48a-47f6-af73-4c0f732f335e",
   "metadata": {
    "execution": {
     "iopub.execute_input": "2023-12-12T11:06:19.880322Z",
     "iopub.status.busy": "2023-12-12T11:06:19.880322Z",
     "iopub.status.idle": "2023-12-12T11:06:19.906323Z",
     "shell.execute_reply": "2023-12-12T11:06:19.905323Z",
     "shell.execute_reply.started": "2023-12-12T11:06:19.880322Z"
    },
    "tags": []
   },
   "outputs": [
    {
     "data": {
      "text/html": [
       "<div>\n",
       "<style scoped>\n",
       "    .dataframe tbody tr th:only-of-type {\n",
       "        vertical-align: middle;\n",
       "    }\n",
       "\n",
       "    .dataframe tbody tr th {\n",
       "        vertical-align: top;\n",
       "    }\n",
       "\n",
       "    .dataframe thead th {\n",
       "        text-align: right;\n",
       "    }\n",
       "</style>\n",
       "<table border=\"1\" class=\"dataframe\">\n",
       "  <thead>\n",
       "    <tr style=\"text-align: right;\">\n",
       "      <th></th>\n",
       "      <th>短信捆绑电话</th>\n",
       "      <th>网银电话</th>\n",
       "    </tr>\n",
       "  </thead>\n",
       "  <tbody>\n",
       "    <tr>\n",
       "      <th>0</th>\n",
       "      <td>t1</td>\n",
       "      <td></td>\n",
       "    </tr>\n",
       "    <tr>\n",
       "      <th>1</th>\n",
       "      <td>t2</td>\n",
       "      <td>t2</td>\n",
       "    </tr>\n",
       "    <tr>\n",
       "      <th>2</th>\n",
       "      <td>1</td>\n",
       "      <td>1</td>\n",
       "    </tr>\n",
       "    <tr>\n",
       "      <th>3</th>\n",
       "      <td>111222</td>\n",
       "      <td>222</td>\n",
       "    </tr>\n",
       "  </tbody>\n",
       "</table>\n",
       "</div>"
      ],
      "text/plain": [
       "   短信捆绑电话 网银电话\n",
       "0      t1     \n",
       "1      t2   t2\n",
       "2       1    1\n",
       "3  111222  222"
      ]
     },
     "execution_count": 39,
     "metadata": {},
     "output_type": "execute_result"
    }
   ],
   "source": [
    "yy['短信捆绑电话'] = yy['短信捆绑电话']+yy['网银电话']\n",
    "yy['短信捆绑电话'][a] = yy['网银电话']\n",
    "yy"
   ]
  },
  {
   "cell_type": "code",
   "execution_count": 33,
   "id": "8cd6c3eb-451a-4372-8424-a2c80f974d02",
   "metadata": {
    "execution": {
     "iopub.execute_input": "2023-12-12T10:53:46.817249Z",
     "iopub.status.busy": "2023-12-12T10:53:46.816249Z",
     "iopub.status.idle": "2023-12-12T10:53:46.830250Z",
     "shell.execute_reply": "2023-12-12T10:53:46.829250Z",
     "shell.execute_reply.started": "2023-12-12T10:53:46.817249Z"
    },
    "tags": []
   },
   "outputs": [
    {
     "data": {
      "text/plain": [
       "0      t11\n",
       "1    t2t11\n",
       "2     1t11\n",
       "Name: 网银电话, dtype: object"
      ]
     },
     "execution_count": 33,
     "metadata": {},
     "output_type": "execute_result"
    }
   ],
   "source": [
    "sum(yy['短信捆绑电话'], yy['网银电话'])"
   ]
  },
  {
   "cell_type": "code",
   "execution_count": null,
   "id": "84a24fc9-8a76-4140-96d3-b86b13c805cd",
   "metadata": {
    "tags": []
   },
   "outputs": [],
   "source": [
    "import dtale as dt\n",
    "dt.show(dd, open_browser=True)"
   ]
  },
  {
   "cell_type": "code",
   "execution_count": 14,
   "id": "784fd900-16fa-435b-81ef-d60149e21e2a",
   "metadata": {
    "execution": {
     "iopub.execute_input": "2023-12-12T10:34:33.534285Z",
     "iopub.status.busy": "2023-12-12T10:34:33.533285Z",
     "iopub.status.idle": "2023-12-12T10:34:33.553286Z",
     "shell.execute_reply": "2023-12-12T10:34:33.551286Z",
     "shell.execute_reply.started": "2023-12-12T10:34:33.534285Z"
    },
    "tags": []
   },
   "outputs": [
    {
     "data": {
      "text/plain": [
       "所属银行      object\n",
       "证件号码      object\n",
       "开户名称      object\n",
       "客户账号      object\n",
       "卡号        object\n",
       "余额        object\n",
       "开户日期      object\n",
       "开户机构名称    object\n",
       "是否开通网易    object\n",
       "U盾号       object\n",
       "短信捆绑电话    object\n",
       "网银电话      object\n",
       "地址        object\n",
       "邮编        object\n",
       "销户日期      object\n",
       "销户机构号     object\n",
       "销户机构名称    object\n",
       "账户状态      object\n",
       "dtype: object"
      ]
     },
     "execution_count": 14,
     "metadata": {},
     "output_type": "execute_result"
    }
   ],
   "source": [
    "df.dtypes"
   ]
  }
 ],
 "metadata": {
  "kernelspec": {
   "display_name": "Python 3",
   "language": "python",
   "name": "python3"
  },
  "language_info": {
   "codemirror_mode": {
    "name": "ipython",
    "version": 3
   },
   "file_extension": ".py",
   "mimetype": "text/x-python",
   "name": "python",
   "nbconvert_exporter": "python",
   "pygments_lexer": "ipython3",
   "version": "3.8.9"
  },
  "toc-autonumbering": true,
  "toc-showcode": false,
  "toc-showmarkdowntxt": false,
  "toc-showtags": false,
  "widgets": {
   "application/vnd.jupyter.widget-state+json": {
    "state": {},
    "version_major": 2,
    "version_minor": 0
   }
  }
 },
 "nbformat": 4,
 "nbformat_minor": 5
}
