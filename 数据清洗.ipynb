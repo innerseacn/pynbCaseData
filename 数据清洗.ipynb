{
 "cells": [
  {
   "cell_type": "markdown",
   "id": "9bb29211-2b71-4cf9-bccd-71d98c7742d1",
   "metadata": {},
   "source": [
    "# 加载库函数及导入文件"
   ]
  },
  {
   "cell_type": "code",
   "execution_count": 14,
   "id": "91c9702d-7a03-4cd0-aa54-51ec596c95d2",
   "metadata": {
    "execution": {
     "iopub.execute_input": "2024-01-18T04:46:39.500081Z",
     "iopub.status.busy": "2024-01-18T04:46:39.500081Z",
     "iopub.status.idle": "2024-01-18T04:46:39.540084Z",
     "shell.execute_reply": "2024-01-18T04:46:39.538084Z",
     "shell.execute_reply.started": "2024-01-18T04:46:39.500081Z"
    },
    "tags": []
   },
   "outputs": [
    {
     "name": "stdout",
     "output_type": "stream",
     "text": [
      "E:\\张楠\\2023赵益华927\\银行\\建行\\第一批 赵益华等9人\n",
      "E:\\张楠\\2023赵益华927\\银行\\天津银行\\滨监查询（2023）05217号.xls\n",
      "E:\\张楠\\测试\\output\n"
     ]
    }
   ],
   "source": [
    "%run corelibs.py\n",
    "base_path = pathlib.Path(r\"E:\\张楠\\2023赵益华927\\银行\\建行\\第一批 赵益华等9人\")\n",
    "acc_file = pathlib.Path(r\"E:\\张楠\\2023赵益华927\\银行\\建行\\第一批 赵益华等9人\\1080861461690963794022777_1_1赵益华.xlsx\")\n",
    "acc_file = pathlib.Path(r\"E:\\张楠\\2023赵益华927\\银行\\天津银行\\滨监查询（2023）05217号.xls\")\n",
    "# acc_file = pathlib.Path(r\"E:\\张楠\\2023赵益华927\\银行\\天津银行\\滨监查询（2023）05217.xls\")\n",
    "output_dir_path = pathlib.Path(r\"E:\\张楠\\测试\\output\")\n",
    "print(base_path)\n",
    "print(acc_file)\n",
    "print(output_dir_path)"
   ]
  },
  {
   "cell_type": "markdown",
   "id": "47285952-2261-43d5-b3c1-3e8e32808517",
   "metadata": {},
   "source": [
    "# 测试"
   ]
  },
  {
   "cell_type": "code",
   "execution_count": 3,
   "id": "476a9b63-954b-4a42-b068-50965cad2370",
   "metadata": {
    "execution": {
     "iopub.execute_input": "2024-01-18T04:38:56.277587Z",
     "iopub.status.busy": "2024-01-18T04:38:56.276587Z",
     "iopub.status.idle": "2024-01-18T04:38:56.292588Z",
     "shell.execute_reply": "2024-01-18T04:38:56.291587Z",
     "shell.execute_reply.started": "2024-01-18T04:38:56.277587Z"
    },
    "tags": []
   },
   "outputs": [],
   "source": [
    "conf_obj = creat_conf_obj(CONF_DATA['天津银行']['账户'])"
   ]
  },
  {
   "cell_type": "code",
   "execution_count": null,
   "id": "e62e0853-b739-4859-8f5f-7616f410f657",
   "metadata": {},
   "outputs": [],
   "source": [
    "if base_path.is_dir():\n",
    "    for  _p in base_path.rglob('*.xlsx'):\n",
    "        print(_p)"
   ]
  },
  {
   "cell_type": "markdown",
   "id": "cc1c51f7-05f4-4f18-a59e-7e75057a0e12",
   "metadata": {},
   "source": [
    "##  测试单个账户文件读取及储存"
   ]
  },
  {
   "cell_type": "code",
   "execution_count": 16,
   "id": "b728cc67-8dd6-4f6f-86ca-85b5d4c5915f",
   "metadata": {
    "execution": {
     "iopub.execute_input": "2024-01-18T04:46:44.764383Z",
     "iopub.status.busy": "2024-01-18T04:46:44.762382Z",
     "iopub.status.idle": "2024-01-18T04:46:44.787384Z",
     "shell.execute_reply": "2024-01-18T04:46:44.786384Z",
     "shell.execute_reply.started": "2024-01-18T04:46:44.763383Z"
    },
    "scrolled": true,
    "tags": []
   },
   "outputs": [],
   "source": [
    "acc_file = pathlib.Path(r\"E:\\张楠\\2023赵益华927\\银行\\天津银行\\滨监查询（2023）05217.xls\")\n",
    "conf_obj = creat_conf_obj(CONF_DATA['天津银行']['账户'])\n",
    "df = parse_sheet_general(acc_file,0,conf_obj)"
   ]
  },
  {
   "cell_type": "code",
   "execution_count": null,
   "id": "06bc365d-25d7-45cb-9b75-f7061edc4e99",
   "metadata": {
    "scrolled": true,
    "tags": []
   },
   "outputs": [],
   "source": [
    "df.info()"
   ]
  },
  {
   "cell_type": "code",
   "execution_count": null,
   "id": "b5c32d9b-1e73-4ca4-b90f-c09398bdc156",
   "metadata": {
    "tags": []
   },
   "outputs": [],
   "source": [
    "df"
   ]
  },
  {
   "cell_type": "code",
   "execution_count": 59,
   "id": "4d4dd3c3-1970-422c-be93-c65745a940ac",
   "metadata": {
    "execution": {
     "iopub.execute_input": "2024-01-13T13:29:07.925024Z",
     "iopub.status.busy": "2024-01-13T13:29:07.923024Z",
     "iopub.status.idle": "2024-01-13T13:29:08.002028Z",
     "shell.execute_reply": "2024-01-13T13:29:08.001028Z",
     "shell.execute_reply.started": "2024-01-13T13:29:07.925024Z"
    },
    "scrolled": true,
    "tags": []
   },
   "outputs": [
    {
     "data": {
      "text/plain": [
       "4"
      ]
     },
     "execution_count": 59,
     "metadata": {},
     "output_type": "execute_result"
    }
   ],
   "source": [
    "save_accounts(df, output_dir_path, '天津银行')"
   ]
  },
  {
   "cell_type": "markdown",
   "id": "e04e09e8-f459-4ef1-8e78-21129befdfc8",
   "metadata": {},
   "source": [
    "## 测试单个流水文件的读取与储存"
   ]
  },
  {
   "cell_type": "code",
   "execution_count": 19,
   "id": "2e69131f-f611-4d93-858c-1cd5cd890949",
   "metadata": {
    "execution": {
     "iopub.execute_input": "2024-01-18T04:49:41.260478Z",
     "iopub.status.busy": "2024-01-18T04:49:41.260478Z",
     "iopub.status.idle": "2024-01-18T04:49:42.587553Z",
     "shell.execute_reply": "2024-01-18T04:49:42.586553Z",
     "shell.execute_reply.started": "2024-01-18T04:49:41.260478Z"
    },
    "tags": []
   },
   "outputs": [],
   "source": [
    "acc_file = pathlib.Path(r\"E:\\张楠\\2023赵益华927\\银行\\天津银行\\滨监查询（2023）05217号.xls\")\n",
    "conf_obj = creat_conf_obj(CONF_DATA['天津银行']['流水'])\n",
    "df = parse_sheet_general(acc_file,0,conf_obj)"
   ]
  },
  {
   "cell_type": "code",
   "execution_count": null,
   "id": "100173f7-827a-4e5f-962b-be86b6a92e2c",
   "metadata": {
    "scrolled": true,
    "tags": []
   },
   "outputs": [],
   "source": [
    "df.info()"
   ]
  },
  {
   "cell_type": "code",
   "execution_count": null,
   "id": "f3cb352f-dc5a-42c4-98ff-67a51d376385",
   "metadata": {
    "tags": []
   },
   "outputs": [],
   "source": [
    "df"
   ]
  },
  {
   "cell_type": "code",
   "execution_count": 22,
   "id": "ce9d7bf8-3c8a-4224-92ba-c1e540cc8210",
   "metadata": {
    "execution": {
     "iopub.execute_input": "2024-01-18T04:50:47.756281Z",
     "iopub.status.busy": "2024-01-18T04:50:47.754281Z",
     "iopub.status.idle": "2024-01-18T04:50:55.751738Z",
     "shell.execute_reply": "2024-01-18T04:50:55.751738Z",
     "shell.execute_reply.started": "2024-01-18T04:50:47.756281Z"
    },
    "tags": []
   },
   "outputs": [
    {
     "name": "stderr",
     "output_type": "stream",
     "text": [
      "100%|██████████████████████████████████████████████████████████████████████████████████| 33/33 [00:07<00:00,  4.29it/s]\n"
     ]
    },
    {
     "data": {
      "text/plain": [
       "13162"
      ]
     },
     "execution_count": 22,
     "metadata": {},
     "output_type": "execute_result"
    }
   ],
   "source": [
    "grouped = df.groupby('账号')\n",
    "df_list = [x.reset_index(drop=True) for _ , x in grouped]\n",
    "save_statements(df_list, output_dir_path, '天津银行',\"津滨查询(2023)138号\")"
   ]
  },
  {
   "cell_type": "markdown",
   "id": "f4a6a4e7-1a20-4a80-9188-a175e4e8ff01",
   "metadata": {},
   "source": [
    "# 执行"
   ]
  },
  {
   "cell_type": "code",
   "execution_count": null,
   "id": "6ceebcde-eae2-4acf-9975-54eeeeeb537a",
   "metadata": {
    "scrolled": true,
    "tags": []
   },
   "outputs": [],
   "source": [
    "df = excel_file.parse(sheet_name=0, header=0, skiprows=0, nrows=5, dtype=str, converters={'交易金额':float})\n",
    "df.info()"
   ]
  },
  {
   "cell_type": "code",
   "execution_count": null,
   "id": "7ce7fdd4-0a10-45d6-931a-c18c8f015271",
   "metadata": {
    "tags": []
   },
   "outputs": [],
   "source": [
    "pd.to_datetime(df['交易日期']).dt.time"
   ]
  },
  {
   "cell_type": "code",
   "execution_count": 85,
   "id": "5b7c4f3a-3806-48ce-b6a6-d3ab6fe9c761",
   "metadata": {
    "execution": {
     "iopub.execute_input": "2023-12-28T16:00:02.177778Z",
     "iopub.status.busy": "2023-12-28T16:00:02.176778Z",
     "iopub.status.idle": "2023-12-28T16:00:02.200779Z",
     "shell.execute_reply": "2023-12-28T16:00:02.190778Z",
     "shell.execute_reply.started": "2023-12-28T16:00:02.177778Z"
    },
    "tags": []
   },
   "outputs": [
    {
     "data": {
      "text/plain": [
       "{'交易金额': float, '余额': float}"
      ]
     },
     "execution_count": 85,
     "metadata": {},
     "output_type": "execute_result"
    }
   ],
   "source": [
    "converters = {_col:float for _col in CONF_DATA['天津银行']['流水']['amount_cols']}\n",
    "converters"
   ]
  },
  {
   "cell_type": "markdown",
   "id": "e38f6e5b-adc8-499c-95f2-56bf2086b07e",
   "metadata": {},
   "source": [
    "# 杂项"
   ]
  },
  {
   "cell_type": "code",
   "execution_count": 45,
   "id": "da578217-4a5d-4575-890e-370bfd803e7c",
   "metadata": {
    "execution": {
     "iopub.execute_input": "2023-12-30T07:33:57.546990Z",
     "iopub.status.busy": "2023-12-30T07:33:57.545990Z",
     "iopub.status.idle": "2023-12-30T07:33:57.561991Z",
     "shell.execute_reply": "2023-12-30T07:33:57.560991Z",
     "shell.execute_reply.started": "2023-12-30T07:33:57.546990Z"
    },
    "scrolled": true,
    "tags": []
   },
   "outputs": [
    {
     "data": {
      "text/plain": [
       "WindowsPath('E:/张楠/2023赵益华927/银行/天津银行/滨监查询（2023）05217.xls')"
      ]
     },
     "execution_count": 45,
     "metadata": {},
     "output_type": "execute_result"
    }
   ],
   "source": [
    "base_path"
   ]
  },
  {
   "cell_type": "code",
   "execution_count": 28,
   "id": "da2a30e3-28b2-4628-b598-7906f80155a8",
   "metadata": {
    "execution": {
     "iopub.execute_input": "2024-01-17T01:28:45.160086Z",
     "iopub.status.busy": "2024-01-17T01:28:45.160086Z",
     "iopub.status.idle": "2024-01-17T01:28:45.167086Z",
     "shell.execute_reply": "2024-01-17T01:28:45.166086Z",
     "shell.execute_reply.started": "2024-01-17T01:28:45.160086Z"
    },
    "tags": []
   },
   "outputs": [
    {
     "data": {
      "text/plain": [
       "False"
      ]
     },
     "execution_count": 28,
     "metadata": {},
     "output_type": "execute_result"
    }
   ],
   "source": [
    "type([100]) == int"
   ]
  },
  {
   "cell_type": "code",
   "execution_count": 10,
   "id": "8794d7d9-72d1-40f3-827e-81a53c5173d4",
   "metadata": {
    "execution": {
     "iopub.execute_input": "2024-01-17T06:02:53.080205Z",
     "iopub.status.busy": "2024-01-17T06:02:53.080205Z",
     "iopub.status.idle": "2024-01-17T06:02:53.096206Z",
     "shell.execute_reply": "2024-01-17T06:02:53.096206Z",
     "shell.execute_reply.started": "2024-01-17T06:02:53.080205Z"
    },
    "tags": []
   },
   "outputs": [],
   "source": [
    "import yaml\n",
    "with open('config.yaml', 'r', encoding='utf-8') as f:\n",
    "    CONF_DATA = yaml.safe_load(f)"
   ]
  },
  {
   "cell_type": "code",
   "execution_count": 124,
   "id": "886af4c6-a159-4cc1-9e22-f0c889232c20",
   "metadata": {
    "execution": {
     "iopub.execute_input": "2024-01-13T15:01:59.735713Z",
     "iopub.status.busy": "2024-01-13T15:01:59.733713Z",
     "iopub.status.idle": "2024-01-13T15:01:59.747714Z",
     "shell.execute_reply": "2024-01-13T15:01:59.742714Z",
     "shell.execute_reply.started": "2024-01-13T15:01:59.734713Z"
    },
    "tags": []
   },
   "outputs": [
    {
     "data": {
      "text/plain": [
       "int"
      ]
     },
     "execution_count": 124,
     "metadata": {},
     "output_type": "execute_result"
    }
   ],
   "source": [
    "type(CONF_DATA['天津银行']['流水']['时间']['交易日期'])"
   ]
  },
  {
   "cell_type": "code",
   "execution_count": null,
   "id": "b38848be-9216-478c-94ba-6a32439c898f",
   "metadata": {
    "tags": []
   },
   "outputs": [],
   "source": [
    "CONF_DATA['天津银行']['流水']"
   ]
  },
  {
   "cell_type": "code",
   "execution_count": 27,
   "id": "e5f72865-bcd7-467a-953b-1c794bb2b966",
   "metadata": {
    "execution": {
     "iopub.execute_input": "2024-01-17T09:18:33.882740Z",
     "iopub.status.busy": "2024-01-17T09:18:33.881740Z",
     "iopub.status.idle": "2024-01-17T09:18:33.895741Z",
     "shell.execute_reply": "2024-01-17T09:18:33.893741Z",
     "shell.execute_reply.started": "2024-01-17T09:18:33.882740Z"
    },
    "tags": []
   },
   "outputs": [
    {
     "name": "stdout",
     "output_type": "stream",
     "text": [
      "None\n"
     ]
    }
   ],
   "source": [
    "print(CONF_DATA.get('哈哈'))"
   ]
  }
 ],
 "metadata": {
  "kernelspec": {
   "display_name": "Python 3",
   "language": "python",
   "name": "python3"
  },
  "language_info": {
   "codemirror_mode": {
    "name": "ipython",
    "version": 3
   },
   "file_extension": ".py",
   "mimetype": "text/x-python",
   "name": "python",
   "nbconvert_exporter": "python",
   "pygments_lexer": "ipython3",
   "version": "3.8.9"
  },
  "toc-autonumbering": true,
  "toc-showcode": false,
  "toc-showmarkdowntxt": false,
  "toc-showtags": false,
  "widgets": {
   "application/vnd.jupyter.widget-state+json": {
    "state": {},
    "version_major": 2,
    "version_minor": 0
   }
  }
 },
 "nbformat": 4,
 "nbformat_minor": 5
}
